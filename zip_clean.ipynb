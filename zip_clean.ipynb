{
 "cells": [
  {
   "cell_type": "markdown",
   "metadata": {},
   "source": [
    "# Zip and Clean up"
   ]
  },
  {
   "cell_type": "markdown",
   "metadata": {},
   "source": [
    "---"
   ]
  },
  {
   "cell_type": "markdown",
   "metadata": {},
   "source": [
    "__Archive Jupyter / Anaconda Directory__"
   ]
  },
  {
   "cell_type": "code",
   "execution_count": 2,
   "metadata": {},
   "outputs": [
    {
     "name": "stdout",
     "output_type": "stream",
     "text": [
      "  adding: 02_jupyter_anaconda/ (stored 0%)\n",
      "  adding: 02_jupyter_anaconda/2_Seminar_Outline.ipynb (deflated 69%)\n",
      "  adding: 02_jupyter_anaconda/.ipynb_checkpoints/ (stored 0%)\n",
      "  adding: 02_jupyter_anaconda/.ipynb_checkpoints/2_Seminar_Outline-checkpoint.ipynb (deflated 69%)\n",
      "  adding: 02_jupyter_anaconda/notebooks/ (stored 0%)\n",
      "  adding: 02_jupyter_anaconda/notebooks/Papers/ (stored 0%)\n",
      "  adding: 02_jupyter_anaconda/notebooks/Papers/TechBlog-Jupyter powers bioinformatics, again- Naturejobs Blog.pdf (deflated 23%)\n",
      "  adding: 02_jupyter_anaconda/notebooks/Papers/schloss-2014-notebook.pdf (deflated 11%)\n",
      "  adding: 02_jupyter_anaconda/notebooks/Papers/schloss-2014-notebook.ipynb (deflated 77%)\n",
      "  adding: 02_jupyter_anaconda/notebooks/Papers/Project Jupyter - Perez - Granger.pdf (deflated 3%)\n",
      "  adding: 02_jupyter_anaconda/notebooks/Papers/Shen-Nature-IPython.pdf (deflated 2%)\n",
      "  adding: 02_jupyter_anaconda/notebooks/Papers/notebooks_nature.pdf (deflated 2%)\n",
      "  adding: 02_jupyter_anaconda/notebooks/images/ (stored 0%)\n",
      "  adding: 02_jupyter_anaconda/notebooks/images/jupyter-logo.png (stored 0%)\n",
      "  adding: 02_jupyter_anaconda/notebooks/images/ANACONDANAVIGATOR-MOCKUP-02.png (deflated 15%)\n",
      "  adding: 02_jupyter_anaconda/notebooks/images/github-dashboard.png (deflated 11%)\n",
      "  adding: 02_jupyter_anaconda/notebooks/images/github-sharing-notebook-preview.png (deflated 24%)\n",
      "  adding: 02_jupyter_anaconda/notebooks/images/logo-dark.png (deflated 47%)\n",
      "  adding: 02_jupyter_anaconda/notebooks/images/Screen Shot 2018-08-13 at 9.20.09 PM.png (deflated 14%)\n",
      "  adding: 02_jupyter_anaconda/notebooks/images/github-new-repository.png (deflated 21%)\n",
      "  adding: 02_jupyter_anaconda/notebooks/images/jupyter.svg (deflated 67%)\n",
      "  adding: 02_jupyter_anaconda/notebooks/images/Screen Shot 2018-08-12 at 2.48.01 PM.png (deflated 0%)\n",
      "  adding: 02_jupyter_anaconda/notebooks/images/anaconda-new-notebook.png (deflated 22%)\n",
      "  adding: 02_jupyter_anaconda/notebooks/images/jupyterlab_notebook.png (deflated 12%)\n",
      "  adding: 02_jupyter_anaconda/notebooks/images/github-new-user-sign-up.png (deflated 16%)\n",
      "  adding: 02_jupyter_anaconda/notebooks/images/populate_file.png (deflated 12%)\n",
      "  adding: 02_jupyter_anaconda/notebooks/images/packman2-main-view-labeled.png (deflated 3%)\n",
      "  adding: 02_jupyter_anaconda/notebooks/images/github-email-was-verified.png (deflated 6%)\n",
      "  adding: 02_jupyter_anaconda/notebooks/images/dashboard_files_tab_btns.png (deflated 3%)\n",
      "  adding: 02_jupyter_anaconda/notebooks/images/Screen Shot 2018-08-12 at 1.30.19 PM.png (deflated 2%)\n",
      "  adding: 02_jupyter_anaconda/notebooks/images/jupyterlab_file1.png (deflated 10%)\n",
      "  adding: 02_jupyter_anaconda/notebooks/images/giy077fig1.jpg (deflated 20%)\n",
      "  adding: 02_jupyter_anaconda/notebooks/images/Screen Shot 2018-08-12 at 3.51.07 PM.png (deflated 14%)\n",
      "  adding: 02_jupyter_anaconda/notebooks/images/jupyter-notebook-header.png (deflated 12%)\n",
      "  adding: 02_jupyter_anaconda/notebooks/images/niaid_logo.png (deflated 3%)\n",
      "  adding: 02_jupyter_anaconda/notebooks/images/Canopy-Package-Manager-Pandas.png (deflated 0%)\n",
      "  adding: 02_jupyter_anaconda/notebooks/images/github-verify-email-address.png (deflated 18%)\n",
      "  adding: 02_jupyter_anaconda/notebooks/images/jupyterlab.png (deflated 8%)\n",
      "  adding: 02_jupyter_anaconda/notebooks/images/anaconda-enrironments.png (deflated 23%)\n",
      "  adding: 02_jupyter_anaconda/notebooks/images/github-homepage-new-user.png (deflated 17%)\n",
      "  adding: 02_jupyter_anaconda/notebooks/images/binder_gui.png (deflated 16%)\n",
      "  adding: 02_jupyter_anaconda/notebooks/images/Conda-DistributionDiagram-01.png (deflated 7%)\n",
      "  adding: 02_jupyter_anaconda/notebooks/images/main-logo.svg (deflated 66%)\n",
      "  adding: 02_jupyter_anaconda/notebooks/images/dashboard_running_tab.png (deflated 12%)\n",
      "  adding: 02_jupyter_anaconda/notebooks/images/github-new-repository-homepage.png (deflated 21%)\n",
      "  adding: 02_jupyter_anaconda/notebooks/images/github-file-added-not-committed.png (deflated 22%)\n",
      "  adding: 02_jupyter_anaconda/notebooks/images/jupyter.png (deflated 45%)\n",
      "  adding: 02_jupyter_anaconda/notebooks/images/jupyterlab_open_tabs.png (deflated 25%)\n",
      "  adding: 02_jupyter_anaconda/notebooks/images/anaconda-logo.png (deflated 47%)\n",
      "  adding: 02_jupyter_anaconda/notebooks/images/jupyterlab_notebook_actions.png (deflated 5%)\n",
      "  adding: 02_jupyter_anaconda/notebooks/images/Screen Shot 2018-08-12 at 2.27.54 PM.png (deflated 22%)\n",
      "  adding: 02_jupyter_anaconda/notebooks/images/jupyterlab_taba.png (deflated 11%)\n",
      "  adding: 02_jupyter_anaconda/notebooks/images/jupyterlab_pallet.png (deflated 14%)\n",
      "  adding: 02_jupyter_anaconda/notebooks/images/navigator-home-1-6.png (deflated 14%)\n",
      "  adding: 02_jupyter_anaconda/notebooks/images/edit_mode.png (deflated 11%)\n",
      "  adding: 02_jupyter_anaconda/notebooks/images/github-welcome-step-3.png (deflated 21%)\n",
      "  adding: 02_jupyter_anaconda/notebooks/images/jupyter-github.png (deflated 9%)\n",
      "  adding: 02_jupyter_anaconda/notebooks/images/ioython-vs-jupyter.png (deflated 5%)\n",
      "  adding: 02_jupyter_anaconda/notebooks/images/github-new-repository-sharing-github.png (deflated 21%)\n",
      "  adding: 02_jupyter_anaconda/notebooks/images/github-welcome-step-2.png (deflated 16%)\n",
      "  adding: 02_jupyter_anaconda/notebooks/images/anaconda.png (deflated 8%)\n",
      "  adding: 02_jupyter_anaconda/notebooks/images/tryjupyter_file.png (deflated 25%)\n",
      "  adding: 02_jupyter_anaconda/notebooks/images/Canopy-Analysis-Desktop.png (deflated 0%)\n",
      "  adding: 02_jupyter_anaconda/notebooks/images/github-new-file-added.png (deflated 21%)\n",
      "  adding: 02_jupyter_anaconda/notebooks/images/jupyter-data-science-google-trends.png (deflated 24%)\n",
      "  adding: 02_jupyter_anaconda/notebooks/images/menubar_toolbar.png (deflated 10%)\n",
      "  adding: 02_jupyter_anaconda/notebooks/images/jupyterlab_run.png (deflated 11%)\n",
      "  adding: 02_jupyter_anaconda/notebooks/images/dashboard_files_tab.png (deflated 23%)\n",
      "  adding: 02_jupyter_anaconda/notebooks/images/anaconda-running.png (deflated 19%)\n",
      "  adding: 02_jupyter_anaconda/notebooks/images/anaconda-dashboard.png (deflated 33%)\n",
      "  adding: 02_jupyter_anaconda/notebooks/images/conda_logo.svg (deflated 70%)\n",
      "  adding: 02_jupyter_anaconda/notebooks/images/notebook-2011.png (deflated 1%)\n",
      "  adding: 02_jupyter_anaconda/notebooks/images/jupyterlab_edit.png (deflated 9%)\n",
      "  adding: 02_jupyter_anaconda/notebooks/images/github-sharing-file-upload.png (deflated 23%)\n",
      "  adding: 02_jupyter_anaconda/notebooks/images/Shen-Nature-IPython.pdf (deflated 2%)\n",
      "  adding: 02_jupyter_anaconda/notebooks/images/DataScienceLibraries-01.png (deflated 3%)\n",
      "  adding: 02_jupyter_anaconda/notebooks/images/github-add-commit-message.png (deflated 22%)\n",
      "  adding: 02_jupyter_anaconda/notebooks/images/anaconda-navigator-apps-1.png (deflated 10%)\n",
      "  adding: 02_jupyter_anaconda/notebooks/images/github-select-a-file.png (deflated 15%)\n",
      "  adding: 02_jupyter_anaconda/notebooks/images/binder_link.png (deflated 17%)\n",
      "  adding: 02_jupyter_anaconda/notebooks/images/click_new_file.png (deflated 11%)\n",
      "  adding: 02_jupyter_anaconda/notebooks/images/anaconda-navigator-apps-2.png (deflated 10%)\n",
      "  adding: 02_jupyter_anaconda/notebooks/images/anaconda-navigator.png (deflated 20%)\n",
      "  adding: 02_jupyter_anaconda/notebooks/images/jupyterlab_home1.png (deflated 17%)\n",
      "  adding: 02_jupyter_anaconda/notebooks/images/jupyterlab_setings.png (deflated 11%)\n",
      "  adding: 02_jupyter_anaconda/notebooks/images/dashboard_files_tab_new.png (deflated 10%)\n",
      "  adding: 02_jupyter_anaconda/notebooks/images/trynb.png (deflated 16%)\n",
      "  adding: 02_jupyter_anaconda/notebooks/images/command_mode.png (deflated 12%)\n",
      "  adding: 02_jupyter_anaconda/notebooks/images/jupyterlab_running.png (deflated 23%)\n",
      "  adding: 02_jupyter_anaconda/notebooks/images/nbconvert_arch.png (deflated 1%)\n",
      "  adding: 02_jupyter_anaconda/notebooks/images/jupyterlab_actions_menus.png (deflated 6%)\n",
      "  adding: 02_jupyter_anaconda/notebooks/images/github-new-user-with-repository.png (deflated 8%)\n",
      "  adding: 02_jupyter_anaconda/notebooks/images/jupyterlab_kernel.png (deflated 11%)\n",
      "  adding: 02_jupyter_anaconda/notebooks/images/Anaconda-Distribution-Diagram.png (deflated 7%)\n",
      "  adding: 02_jupyter_anaconda/notebooks/images/IPy_header.png (deflated 1%)\n",
      "  adding: 02_jupyter_anaconda/notebooks/images/notebook_components.png (deflated 3%)\n",
      "  adding: 02_jupyter_anaconda/notebooks/images/ipython-2001.png (deflated 2%)\n",
      "  adding: 02_jupyter_anaconda/notebooks/images/github-new-repository-clone.png (deflated 14%)\n",
      "  adding: 02_jupyter_anaconda/notebooks/images/jupyterlab_view.png (deflated 9%)\n",
      "  adding: 02_jupyter_anaconda/notebooks/images/dashboard_files_tab_run.png (deflated 24%)\n",
      "  adding: 02_jupyter_anaconda/notebooks/0-Intro/ (stored 0%)\n",
      "  adding: 02_jupyter_anaconda/notebooks/0-Intro/0_Jupyter_training.ipynb (deflated 25%)\n",
      "  adding: 02_jupyter_anaconda/notebooks/0-Intro/0_Jupyter_training.slides.html (deflated 83%)\n",
      "  adding: 02_jupyter_anaconda/notebooks/9-html-export/ (stored 0%)\n",
      "  adding: 02_jupyter_anaconda/notebooks/9-html-export/4-1-Demos.html (deflated 84%)\n",
      "  adding: 02_jupyter_anaconda/notebooks/9-html-export/99-Export.ipynb (deflated 84%)\n",
      "  adding: 02_jupyter_anaconda/notebooks/9-html-export/2-9-1-Jupyter-sharing.html (deflated 84%)\n",
      "  adding: 02_jupyter_anaconda/notebooks/9-html-export/2-7-Jupyter-command-line.html (deflated 84%)\n",
      "  adding: 02_jupyter_anaconda/notebooks/9-html-export/2-8-Jupyter-magics.html (deflated 83%)\n",
      "  adding: 02_jupyter_anaconda/notebooks/9-html-export/0_Jupyter_Training.html (deflated 83%)\n",
      "  adding: 02_jupyter_anaconda/notebooks/9-html-export/2-3-Jupyter-notebook-basics.html (deflated 84%)\n",
      "  adding: 02_jupyter_anaconda/notebooks/9-html-export/2-5-Jupyter-code-python.html (deflated 83%)\n",
      "  adding: 02_jupyter_anaconda/notebooks/9-html-export/2-6-Jupyter-code-r.html (deflated 84%)\n",
      "  adding: 02_jupyter_anaconda/notebooks/9-html-export/1-2-Anaconda-Installation.html (deflated 84%)\n",
      "  adding: 02_jupyter_anaconda/notebooks/9-html-export/2-9-2-Jupyter-sharing-github.html (deflated 83%)\n",
      "  adding: 02_jupyter_anaconda/notebooks/9-html-export/3-1-install-bioconda.html (deflated 83%)\n",
      "  adding: 02_jupyter_anaconda/notebooks/9-html-export/2-4-Jupyter-markdown.html (deflated 83%)\n",
      "  adding: 02_jupyter_anaconda/notebooks/9-html-export/2-1-Jupyter-ecosystem.html (deflated 83%)\n",
      "  adding: 02_jupyter_anaconda/notebooks/9-html-export/2-2-Jupyter-architecture.html (deflated 83%)\n",
      "  adding: 02_jupyter_anaconda/notebooks/9-html-export/2-9-3-Intro_to_binder.html (deflated 83%)\n",
      "  adding: 02_jupyter_anaconda/notebooks/9-html-export/3-2-variant-calling-workflow.html (deflated 84%)\n",
      "  adding: 02_jupyter_anaconda/notebooks/9-html-export/4-2-Additional-resources.html (deflated 83%)\n",
      "  adding: 02_jupyter_anaconda/notebooks/9-html-export/1-1-Anaconda-Overview.html (deflated 83%)\n",
      "  adding: 02_jupyter_anaconda/notebooks/3-Build-Bioinfo-Workflow/ (stored 0%)\n",
      "  adding: 02_jupyter_anaconda/notebooks/3-Build-Bioinfo-Workflow/yeast.fasta (deflated 69%)\n",
      "  adding: 02_jupyter_anaconda/notebooks/3-Build-Bioinfo-Workflow/3-1-install-bioconda.ipynb (deflated 36%)\n",
      "  adding: 02_jupyter_anaconda/notebooks/3-Build-Bioinfo-Workflow/y2.fastq (deflated 72%)\n",
      "  adding: 02_jupyter_anaconda/notebooks/3-Build-Bioinfo-Workflow/3-2-variant-calling-workflow.ipynb (deflated 74%)\n",
      "  adding: 02_jupyter_anaconda/notebooks/3-Build-Bioinfo-Workflow/y1.fastq (deflated 73%)\n",
      "  adding: 02_jupyter_anaconda/notebooks/1-Anaconda/ (stored 0%)\n",
      "  adding: 02_jupyter_anaconda/notebooks/1-Anaconda/1-2-Anaconda-Installation.ipynb (deflated 68%)\n",
      "  adding: 02_jupyter_anaconda/notebooks/1-Anaconda/1-1-Anaconda-Overview.ipynb (deflated 35%)\n",
      "  adding: 02_jupyter_anaconda/notebooks/2-Jupyter/ (stored 0%)\n",
      "  adding: 02_jupyter_anaconda/notebooks/2-Jupyter/2-8-jupyter-magics.ipynb (deflated 77%)\n",
      "  adding: 02_jupyter_anaconda/notebooks/2-Jupyter/2-6-jupyter-code-r.ipynb (deflated 80%)\n",
      "  adding: 02_jupyter_anaconda/notebooks/2-Jupyter/2-7-jupyter-command-line.ipynb (deflated 71%)\n",
      "  adding: 02_jupyter_anaconda/notebooks/2-Jupyter/2-1-jupyter-ecosystem.slides.html (deflated 83%)\n",
      "  adding: 02_jupyter_anaconda/notebooks/2-Jupyter/2-9-jupyter-sharing/ (stored 0%)\n",
      "  adding: 02_jupyter_anaconda/notebooks/2-Jupyter/2-9-jupyter-sharing/hello_world_binder.ipynb (deflated 58%)\n",
      "  adding: 02_jupyter_anaconda/notebooks/2-Jupyter/2-9-jupyter-sharing/2-9-3-Intro_to_binder.ipynb (deflated 74%)\n",
      "  adding: 02_jupyter_anaconda/notebooks/2-Jupyter/2-9-jupyter-sharing/2-9-2-Jupyter-sharing-github.ipynb (deflated 74%)\n",
      "  adding: 02_jupyter_anaconda/notebooks/2-Jupyter/2-9-jupyter-sharing/2-9-1-Jupyter-sharing.ipynb (deflated 62%)\n",
      "  adding: 02_jupyter_anaconda/notebooks/2-Jupyter/2-9-jupyter-sharing/plot-gapminder.ipynb (deflated 29%)\n",
      "  adding: 02_jupyter_anaconda/notebooks/2-Jupyter/2-4-jupyter-markdown.ipynb (deflated 77%)\n",
      "  adding: 02_jupyter_anaconda/notebooks/2-Jupyter/2-3-jupyter-notebook-basics.ipynb (deflated 73%)\n",
      "  adding: 02_jupyter_anaconda/notebooks/2-Jupyter/2-2-jupyter-architecture.ipynb (deflated 32%)\n",
      "  adding: 02_jupyter_anaconda/notebooks/2-Jupyter/foo.py (stored 0%)\n",
      "  adding: 02_jupyter_anaconda/notebooks/2-Jupyter/2-5-jupyter-code-python.ipynb (deflated 73%)\n",
      "  adding: 02_jupyter_anaconda/notebooks/2-Jupyter/2-1-Jupyter-ecosystem.ipynb (deflated 26%)\n",
      "  adding: 02_jupyter_anaconda/notebooks/depricated/ (stored 0%)\n",
      "  adding: 02_jupyter_anaconda/notebooks/depricated/04_Cell Magics.ipynb (deflated 36%)\n",
      "  adding: 02_jupyter_anaconda/notebooks/depricated/02_intro_jupyter_notebooks.ipynb (deflated 76%)\n",
      "  adding: 02_jupyter_anaconda/notebooks/depricated/01_installation_python_anaconda.ipynb (deflated 74%)\n",
      "  adding: 02_jupyter_anaconda/notebooks/depricated/03_Working With Markdown Cells.ipynb (deflated 71%)\n",
      "  adding: 02_jupyter_anaconda/notebooks/4-Last-things/ (stored 0%)\n",
      "  adding: 02_jupyter_anaconda/notebooks/4-Last-things/4-1-Demos.ipynb (deflated 68%)\n",
      "  adding: 02_jupyter_anaconda/notebooks/4-Last-things/4-2-Additional-resources.ipynb (deflated 60%)\n"
     ]
    }
   ],
   "source": [
    "!zip -r ./zip_archives/02_jupyter_anaconda.zip ./02_jupyter_anaconda"
   ]
  },
  {
   "cell_type": "markdown",
   "metadata": {},
   "source": [
    "---"
   ]
  },
  {
   "cell_type": "markdown",
   "metadata": {},
   "source": [
    "__Archive Introduction to Programming Directory__"
   ]
  },
  {
   "cell_type": "code",
   "execution_count": 3,
   "metadata": {},
   "outputs": [
    {
     "name": "stdout",
     "output_type": "stream",
     "text": [
      "  adding: 03_intro_programming/ (stored 0%)\n",
      "  adding: 03_intro_programming/01_Concepts in Programming (for Biologists).pptx (deflated 36%)\n",
      "  adding: 03_intro_programming/.DS_Store (deflated 94%)\n",
      "  adding: 03_intro_programming/01_Concepts in Programming (for Biologists)_v2.pptx (deflated 35%)\n",
      "  adding: 03_intro_programming/02_Advanced Concepts in Computer Science.pptx (deflated 63%)\n",
      "  adding: 03_intro_programming/Concepts in Programming.ipynb (deflated 76%)\n",
      "  adding: 03_intro_programming/.ipynb_checkpoints/ (stored 0%)\n",
      "  adding: 03_intro_programming/.ipynb_checkpoints/Concepts in Programming-checkpoint.ipynb (deflated 76%)\n",
      "  adding: 03_intro_programming/.ipynb_checkpoints/Programming Example-checkpoint.ipynb (deflated 76%)\n",
      "  adding: 03_intro_programming/Programming Example.ipynb (deflated 76%)\n",
      "  adding: 03_intro_programming/01_Concepts in Programming (for Biologists)_v1.pptx (deflated 35%)\n",
      "  adding: 03_intro_programming/02_Advanced Concepts.pptx (deflated 63%)\n",
      "  adding: 03_intro_programming/gapminder.csv (deflated 66%)\n",
      "  adding: 03_intro_programming/extras/ (stored 0%)\n",
      "  adding: 03_intro_programming/extras/Screen Shot 2019-10-09 at 11.28.16 AM.png (deflated 11%)\n",
      "  adding: 03_intro_programming/extras/git-flow-updated.png (deflated 11%)\n",
      "  adding: 03_intro_programming/extras/debugging_flowchart.png (deflated 1%)\n",
      "  adding: 03_intro_programming/extras/Screen Shot 2019-10-09 at 11.30.48 AM.png (deflated 6%)\n",
      "  adding: 03_intro_programming/extras/Want to Make It as a Biologist? Better Learn to Code | WIRED.pdf (deflated 6%)\n",
      "  adding: 03_intro_programming/extras/Screen Shot 2019-10-09 at 11.27.24 AM.png (deflated 2%)\n"
     ]
    }
   ],
   "source": [
    "!zip -r ./zip_archives/03_intro_programming.zip ./03_intro_programming"
   ]
  },
  {
   "cell_type": "markdown",
   "metadata": {},
   "source": [
    "---"
   ]
  },
  {
   "cell_type": "markdown",
   "metadata": {},
   "source": [
    "__Archive Python Programming Directory__"
   ]
  },
  {
   "cell_type": "code",
   "execution_count": 4,
   "metadata": {},
   "outputs": [
    {
     "name": "stdout",
     "output_type": "stream",
     "text": [
      "  adding: 04_python_programming/ (stored 0%)\n",
      "  adding: 04_python_programming/.DS_Store (deflated 97%)\n",
      "  adding: 04_python_programming/02_how_to_run_python_code.ipynb (deflated 71%)\n",
      "  adding: 04_python_programming/99_learn_python3_in_y_minutes.ipynb (deflated 72%)\n",
      "  adding: 04_python_programming/images/ (stored 0%)\n",
      "  adding: 04_python_programming/images/python_scientific_stack_2017.pptx (deflated 3%)\n",
      "  adding: 04_python_programming/images/scientific_python_stack_2017.png (deflated 1%)\n",
      "  adding: 04_python_programming/images/biopython_logo_m.png (deflated 3%)\n",
      "  adding: 04_python_programming/images/scientific-python-2017.jpg (deflated 1%)\n",
      "  adding: 04_python_programming/images/scientific-python-28-638.jpg (deflated 1%)\n",
      "  adding: 04_python_programming/images/state_of_the_stack_2015.png (deflated 1%)\n",
      "  adding: 04_python_programming/Resources/ (stored 0%)\n",
      "  adding: 04_python_programming/Resources/02-Intro to Python Programming.ipynb (deflated 80%)\n",
      "  adding: 04_python_programming/Resources/Python Tutorial.pdf (deflated 20%)\n",
      "  adding: 04_python_programming/Resources/Python eBooks.txt (deflated 38%)\n",
      "  adding: 04_python_programming/Resources/learn_python3_in_y_min.md (deflated 65%)\n",
      "  adding: 04_python_programming/01_why_python.ipynb (deflated 72%)\n",
      "  adding: 04_python_programming/00_install_python.txt (deflated 36%)\n",
      "  adding: 04_python_programming/.ipynb_checkpoints/ (stored 0%)\n",
      "  adding: 04_python_programming/.ipynb_checkpoints/03_intro_python_programming_2019-checkpoint.ipynb (deflated 78%)\n",
      "  adding: 04_python_programming/.ipynb_checkpoints/03_intro_python_programming-checkpoint.ipynb (deflated 80%)\n",
      "  adding: 04_python_programming/.ipynb_checkpoints/01_why_python-checkpoint.ipynb (deflated 72%)\n",
      "  adding: 04_python_programming/.ipynb_checkpoints/02_how_to_run_python_code-checkpoint.ipynb (deflated 71%)\n",
      "  adding: 04_python_programming/03_intro_python_programming_2019.ipynb (deflated 78%)\n",
      "  adding: 04_python_programming/conda-cheatsheet.pdf (deflated 48%)\n"
     ]
    }
   ],
   "source": [
    "!zip -r ./zip_archives/04_python_programming.zip ./04_python_programming"
   ]
  },
  {
   "cell_type": "markdown",
   "metadata": {},
   "source": [
    "---"
   ]
  },
  {
   "cell_type": "markdown",
   "metadata": {},
   "source": [
    "__Archive Python Data Analysis Directory__"
   ]
  },
  {
   "cell_type": "code",
   "execution_count": 6,
   "metadata": {},
   "outputs": [
    {
     "name": "stdout",
     "output_type": "stream",
     "text": [
      "updating: 05_python_data_analysis/ (stored 0%)\n",
      "updating: 05_python_data_analysis/3-Data-Wrangling-with-Pandas.ipynb (deflated 78%)\n",
      "updating: 05_python_data_analysis/.DS_Store (deflated 97%)\n",
      "updating: 05_python_data_analysis/1-Introduction-to-Pandas.ipynb (deflated 78%)\n",
      "updating: 05_python_data_analysis/0-Why-numpy.ipynb (deflated 40%)\n",
      "updating: 05_python_data_analysis/additional_material/ (stored 0%)\n",
      "updating: 05_python_data_analysis/additional_material/pandas.ipynb (deflated 85%)\n",
      "updating: 05_python_data_analysis/.ipynb_checkpoints/ (stored 0%)\n",
      "updating: 05_python_data_analysis/.ipynb_checkpoints/3-Data-Wrangling-with-Pandas-checkpoint.ipynb (deflated 78%)\n",
      "updating: 05_python_data_analysis/.ipynb_checkpoints/2-Pandas-Fundamentals-checkpoint.ipynb (deflated 79%)\n",
      "updating: 05_python_data_analysis/.ipynb_checkpoints/1-Introduction-to-Pandas-checkpoint.ipynb (deflated 78%)\n",
      "updating: 05_python_data_analysis/2-Pandas-Fundamentals.ipynb (deflated 79%)\n",
      "updating: 05_python_data_analysis/data/ (stored 0%)\n",
      "updating: 05_python_data_analysis/data/titanic.xls (deflated 71%)\n",
      "updating: 05_python_data_analysis/data/microbiome/ (stored 0%)\n",
      "updating: 05_python_data_analysis/data/microbiome/metadata.xls (deflated 67%)\n",
      "updating: 05_python_data_analysis/data/microbiome/MID6.xls (deflated 81%)\n",
      "updating: 05_python_data_analysis/data/microbiome/MID7.xls (deflated 82%)\n",
      "updating: 05_python_data_analysis/data/microbiome/MID5.xls (deflated 83%)\n",
      "updating: 05_python_data_analysis/data/microbiome/MID4.xls (deflated 80%)\n",
      "updating: 05_python_data_analysis/data/microbiome/MID1.xls (deflated 82%)\n",
      "updating: 05_python_data_analysis/data/microbiome/MID3.xls (deflated 82%)\n",
      "updating: 05_python_data_analysis/data/microbiome/MID2.xls (deflated 81%)\n",
      "updating: 05_python_data_analysis/data/microbiome/MID9.xls (deflated 81%)\n",
      "updating: 05_python_data_analysis/data/microbiome/MID8.xls (deflated 81%)\n",
      "updating: 05_python_data_analysis/data/AIS/ (stored 0%)\n",
      "updating: 05_python_data_analysis/data/AIS/vessel_information.csv (deflated 81%)\n",
      "updating: 05_python_data_analysis/data/AIS/transit_segments.csv (deflated 73%)\n",
      "updating: 05_python_data_analysis/data/microbiome.csv (deflated 66%)\n",
      "updating: 05_python_data_analysis/data/baseball.csv (deflated 70%)\n",
      "updating: 05_python_data_analysis/data/microbiome_missing.csv (deflated 66%)\n",
      "updating: 05_python_data_analysis/data/cdystonia.csv (deflated 78%)\n",
      "updating: 05_python_data_analysis/data/test_scores.csv (deflated 79%)\n",
      "updating: 05_python_data_analysis/data/measles.csv (deflated 87%)\n",
      "updating: 05_python_data_analysis/data/titanic.html (deflated 87%)\n"
     ]
    }
   ],
   "source": [
    "!zip -r ./zip_archives/05_python_data_analysis.zip ./05_python_data_analysis/"
   ]
  },
  {
   "cell_type": "code",
   "execution_count": null,
   "metadata": {},
   "outputs": [],
   "source": []
  }
 ],
 "metadata": {
  "kernelspec": {
   "display_name": "Python 3",
   "language": "python",
   "name": "python3"
  },
  "language_info": {
   "codemirror_mode": {
    "name": "ipython",
    "version": 3
   },
   "file_extension": ".py",
   "mimetype": "text/x-python",
   "name": "python",
   "nbconvert_exporter": "python",
   "pygments_lexer": "ipython3",
   "version": "3.7.4"
  }
 },
 "nbformat": 4,
 "nbformat_minor": 4
}
