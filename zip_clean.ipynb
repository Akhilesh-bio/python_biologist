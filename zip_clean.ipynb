{
 "cells": [
  {
   "cell_type": "markdown",
   "metadata": {},
   "source": [
    "# Clean up Notebooks and Zip (before uploading to GitHub)"
   ]
  },
  {
   "cell_type": "markdown",
   "metadata": {},
   "source": [
    "---"
   ]
  },
  {
   "cell_type": "code",
   "execution_count": null,
   "metadata": {},
   "outputs": [],
   "source": [
    "#pip install clean_ipynb"
   ]
  },
  {
   "cell_type": "markdown",
   "metadata": {},
   "source": [
    "---"
   ]
  },
  {
   "cell_type": "code",
   "execution_count": null,
   "metadata": {},
   "outputs": [],
   "source": [
    "# %%bash\n",
    "# find . -name \"*.ipynb\" -exec clean_ipynb {} \\;"
   ]
  },
  {
   "cell_type": "markdown",
   "metadata": {},
   "source": [
    "---"
   ]
  },
  {
   "cell_type": "markdown",
   "metadata": {},
   "source": [
    "## Archive A. Directories"
   ]
  },
  {
   "cell_type": "code",
   "execution_count": 1,
   "metadata": {},
   "outputs": [
    {
     "name": "stdout",
     "output_type": "stream",
     "text": [
      "updating: 02_jupyter_anaconda/ (stored 0%)\n",
      "updating: 02_jupyter_anaconda/2_Seminar_Outline.ipynb (deflated 68%)\n",
      "updating: 02_jupyter_anaconda/notebooks/ (stored 0%)\n",
      "updating: 02_jupyter_anaconda/notebooks/Papers/ (stored 0%)\n",
      "updating: 02_jupyter_anaconda/notebooks/Papers/TechBlog-Jupyter powers bioinformatics, again- Naturejobs Blog.pdf (deflated 23%)\n",
      "updating: 02_jupyter_anaconda/notebooks/Papers/schloss-2014-notebook.pdf (deflated 11%)\n",
      "updating: 02_jupyter_anaconda/notebooks/Papers/schloss-2014-notebook.ipynb (deflated 77%)\n",
      "updating: 02_jupyter_anaconda/notebooks/Papers/Project Jupyter - Perez - Granger.pdf (deflated 3%)\n",
      "updating: 02_jupyter_anaconda/notebooks/Papers/Shen-Nature-IPython.pdf (deflated 2%)\n",
      "updating: 02_jupyter_anaconda/notebooks/Papers/notebooks_nature.pdf (deflated 2%)\n",
      "updating: 02_jupyter_anaconda/notebooks/images/ (stored 0%)\n",
      "updating: 02_jupyter_anaconda/notebooks/images/jupyter-logo.png (stored 0%)\n",
      "updating: 02_jupyter_anaconda/notebooks/images/ANACONDANAVIGATOR-MOCKUP-02.png (deflated 15%)\n",
      "updating: 02_jupyter_anaconda/notebooks/images/github-dashboard.png (deflated 11%)\n",
      "updating: 02_jupyter_anaconda/notebooks/images/github-sharing-notebook-preview.png (deflated 24%)\n",
      "updating: 02_jupyter_anaconda/notebooks/images/logo-dark.png (deflated 47%)\n",
      "updating: 02_jupyter_anaconda/notebooks/images/Screen Shot 2018-08-13 at 9.20.09 PM.png (deflated 14%)\n",
      "updating: 02_jupyter_anaconda/notebooks/images/github-new-repository.png (deflated 21%)\n",
      "updating: 02_jupyter_anaconda/notebooks/images/jupyter.svg (deflated 67%)\n",
      "updating: 02_jupyter_anaconda/notebooks/images/Screen Shot 2018-08-12 at 2.48.01 PM.png (deflated 0%)\n",
      "updating: 02_jupyter_anaconda/notebooks/images/anaconda-new-notebook.png (deflated 22%)\n",
      "updating: 02_jupyter_anaconda/notebooks/images/jupyterlab_notebook.png (deflated 12%)\n",
      "updating: 02_jupyter_anaconda/notebooks/images/github-new-user-sign-up.png (deflated 16%)\n",
      "updating: 02_jupyter_anaconda/notebooks/images/populate_file.png (deflated 12%)\n",
      "updating: 02_jupyter_anaconda/notebooks/images/packman2-main-view-labeled.png (deflated 3%)\n",
      "updating: 02_jupyter_anaconda/notebooks/images/github-email-was-verified.png (deflated 6%)\n",
      "updating: 02_jupyter_anaconda/notebooks/images/dashboard_files_tab_btns.png (deflated 3%)\n",
      "updating: 02_jupyter_anaconda/notebooks/images/Screen Shot 2018-08-12 at 1.30.19 PM.png (deflated 2%)\n",
      "updating: 02_jupyter_anaconda/notebooks/images/jupyterlab_file1.png (deflated 10%)\n",
      "updating: 02_jupyter_anaconda/notebooks/images/giy077fig1.jpg (deflated 20%)\n",
      "updating: 02_jupyter_anaconda/notebooks/images/Screen Shot 2018-08-12 at 3.51.07 PM.png (deflated 14%)\n",
      "updating: 02_jupyter_anaconda/notebooks/images/jupyter-notebook-header.png (deflated 12%)\n",
      "updating: 02_jupyter_anaconda/notebooks/images/niaid_logo.png (deflated 3%)\n",
      "updating: 02_jupyter_anaconda/notebooks/images/Canopy-Package-Manager-Pandas.png (deflated 0%)\n",
      "updating: 02_jupyter_anaconda/notebooks/images/github-verify-email-address.png (deflated 18%)\n",
      "updating: 02_jupyter_anaconda/notebooks/images/jupyterlab.png (deflated 8%)\n",
      "updating: 02_jupyter_anaconda/notebooks/images/anaconda-enrironments.png (deflated 23%)\n",
      "updating: 02_jupyter_anaconda/notebooks/images/github-homepage-new-user.png (deflated 17%)\n",
      "updating: 02_jupyter_anaconda/notebooks/images/binder_gui.png (deflated 16%)\n",
      "updating: 02_jupyter_anaconda/notebooks/images/Conda-DistributionDiagram-01.png (deflated 7%)\n",
      "updating: 02_jupyter_anaconda/notebooks/images/main-logo.svg (deflated 66%)\n",
      "updating: 02_jupyter_anaconda/notebooks/images/dashboard_running_tab.png (deflated 12%)\n",
      "updating: 02_jupyter_anaconda/notebooks/images/github-new-repository-homepage.png (deflated 21%)\n",
      "updating: 02_jupyter_anaconda/notebooks/images/github-file-added-not-committed.png (deflated 22%)\n",
      "updating: 02_jupyter_anaconda/notebooks/images/jupyter.png (deflated 45%)\n",
      "updating: 02_jupyter_anaconda/notebooks/images/jupyterlab_open_tabs.png (deflated 25%)\n",
      "updating: 02_jupyter_anaconda/notebooks/images/anaconda-logo.png (deflated 47%)\n",
      "updating: 02_jupyter_anaconda/notebooks/images/jupyterlab_notebook_actions.png (deflated 5%)\n",
      "updating: 02_jupyter_anaconda/notebooks/images/Screen Shot 2018-08-12 at 2.27.54 PM.png (deflated 22%)\n",
      "updating: 02_jupyter_anaconda/notebooks/images/jupyterlab_taba.png (deflated 11%)\n",
      "updating: 02_jupyter_anaconda/notebooks/images/jupyterlab_pallet.png (deflated 14%)\n",
      "updating: 02_jupyter_anaconda/notebooks/images/navigator-home-1-6.png (deflated 14%)\n",
      "updating: 02_jupyter_anaconda/notebooks/images/edit_mode.png (deflated 11%)\n",
      "updating: 02_jupyter_anaconda/notebooks/images/github-welcome-step-3.png (deflated 21%)\n",
      "updating: 02_jupyter_anaconda/notebooks/images/jupyter-github.png (deflated 9%)\n",
      "updating: 02_jupyter_anaconda/notebooks/images/ioython-vs-jupyter.png (deflated 5%)\n",
      "updating: 02_jupyter_anaconda/notebooks/images/github-new-repository-sharing-github.png (deflated 21%)\n",
      "updating: 02_jupyter_anaconda/notebooks/images/github-welcome-step-2.png (deflated 16%)\n",
      "updating: 02_jupyter_anaconda/notebooks/images/anaconda.png (deflated 8%)\n",
      "updating: 02_jupyter_anaconda/notebooks/images/tryjupyter_file.png (deflated 25%)\n",
      "updating: 02_jupyter_anaconda/notebooks/images/Canopy-Analysis-Desktop.png (deflated 0%)\n",
      "updating: 02_jupyter_anaconda/notebooks/images/github-new-file-added.png (deflated 21%)\n",
      "updating: 02_jupyter_anaconda/notebooks/images/jupyter-data-science-google-trends.png (deflated 24%)\n",
      "updating: 02_jupyter_anaconda/notebooks/images/menubar_toolbar.png (deflated 10%)\n",
      "updating: 02_jupyter_anaconda/notebooks/images/jupyterlab_run.png (deflated 11%)\n",
      "updating: 02_jupyter_anaconda/notebooks/images/dashboard_files_tab.png (deflated 23%)\n",
      "updating: 02_jupyter_anaconda/notebooks/images/anaconda-running.png (deflated 19%)\n",
      "updating: 02_jupyter_anaconda/notebooks/images/anaconda-dashboard.png (deflated 33%)\n",
      "updating: 02_jupyter_anaconda/notebooks/images/conda_logo.svg (deflated 70%)\n",
      "updating: 02_jupyter_anaconda/notebooks/images/notebook-2011.png (deflated 1%)\n",
      "updating: 02_jupyter_anaconda/notebooks/images/jupyterlab_edit.png (deflated 9%)\n",
      "updating: 02_jupyter_anaconda/notebooks/images/github-sharing-file-upload.png (deflated 23%)\n",
      "updating: 02_jupyter_anaconda/notebooks/images/Shen-Nature-IPython.pdf (deflated 2%)\n",
      "updating: 02_jupyter_anaconda/notebooks/images/DataScienceLibraries-01.png (deflated 3%)\n",
      "updating: 02_jupyter_anaconda/notebooks/images/github-add-commit-message.png (deflated 22%)\n",
      "updating: 02_jupyter_anaconda/notebooks/images/anaconda-navigator-apps-1.png (deflated 10%)\n",
      "updating: 02_jupyter_anaconda/notebooks/images/github-select-a-file.png (deflated 15%)\n",
      "updating: 02_jupyter_anaconda/notebooks/images/binder_link.png (deflated 17%)\n",
      "updating: 02_jupyter_anaconda/notebooks/images/click_new_file.png (deflated 11%)\n",
      "updating: 02_jupyter_anaconda/notebooks/images/anaconda-navigator-apps-2.png (deflated 10%)\n",
      "updating: 02_jupyter_anaconda/notebooks/images/anaconda-navigator.png (deflated 20%)\n",
      "updating: 02_jupyter_anaconda/notebooks/images/jupyterlab_home1.png (deflated 17%)\n",
      "updating: 02_jupyter_anaconda/notebooks/images/jupyterlab_setings.png (deflated 11%)\n",
      "updating: 02_jupyter_anaconda/notebooks/images/dashboard_files_tab_new.png (deflated 10%)\n",
      "updating: 02_jupyter_anaconda/notebooks/images/trynb.png (deflated 16%)\n",
      "updating: 02_jupyter_anaconda/notebooks/images/command_mode.png (deflated 12%)\n",
      "updating: 02_jupyter_anaconda/notebooks/images/jupyterlab_running.png (deflated 23%)\n",
      "updating: 02_jupyter_anaconda/notebooks/images/nbconvert_arch.png (deflated 1%)\n",
      "updating: 02_jupyter_anaconda/notebooks/images/jupyterlab_actions_menus.png (deflated 6%)\n",
      "updating: 02_jupyter_anaconda/notebooks/images/github-new-user-with-repository.png (deflated 8%)\n",
      "updating: 02_jupyter_anaconda/notebooks/images/jupyterlab_kernel.png (deflated 11%)\n",
      "updating: 02_jupyter_anaconda/notebooks/images/Anaconda-Distribution-Diagram.png (deflated 7%)\n",
      "updating: 02_jupyter_anaconda/notebooks/images/IPy_header.png (deflated 1%)\n",
      "updating: 02_jupyter_anaconda/notebooks/images/notebook_components.png (deflated 3%)\n",
      "updating: 02_jupyter_anaconda/notebooks/images/ipython-2001.png (deflated 2%)\n",
      "updating: 02_jupyter_anaconda/notebooks/images/github-new-repository-clone.png (deflated 14%)\n",
      "updating: 02_jupyter_anaconda/notebooks/images/jupyterlab_view.png (deflated 9%)\n",
      "updating: 02_jupyter_anaconda/notebooks/images/dashboard_files_tab_run.png (deflated 24%)\n",
      "updating: 02_jupyter_anaconda/notebooks/0-Intro/ (stored 0%)\n",
      "updating: 02_jupyter_anaconda/notebooks/0-Intro/0_Jupyter_training.ipynb (deflated 25%)\n",
      "updating: 02_jupyter_anaconda/notebooks/0-Intro/0_Jupyter_training.slides.html (deflated 44%)\n",
      "updating: 02_jupyter_anaconda/notebooks/9-html-export/ (stored 0%)\n",
      "updating: 02_jupyter_anaconda/notebooks/9-html-export/4-1-Demos.html (deflated 84%)\n",
      "updating: 02_jupyter_anaconda/notebooks/9-html-export/99-Export.ipynb (deflated 84%)\n",
      "updating: 02_jupyter_anaconda/notebooks/9-html-export/2-9-1-Jupyter-sharing.html (deflated 84%)\n",
      "updating: 02_jupyter_anaconda/notebooks/9-html-export/2-7-Jupyter-command-line.html (deflated 84%)\n",
      "updating: 02_jupyter_anaconda/notebooks/9-html-export/2-8-Jupyter-magics.html (deflated 83%)\n",
      "updating: 02_jupyter_anaconda/notebooks/9-html-export/0_Jupyter_Training.html (deflated 83%)\n",
      "updating: 02_jupyter_anaconda/notebooks/9-html-export/2-3-Jupyter-notebook-basics.html (deflated 84%)\n",
      "updating: 02_jupyter_anaconda/notebooks/9-html-export/2-5-Jupyter-code-python.html (deflated 83%)\n",
      "updating: 02_jupyter_anaconda/notebooks/9-html-export/2-6-Jupyter-code-r.html (deflated 84%)\n",
      "updating: 02_jupyter_anaconda/notebooks/9-html-export/1-2-Anaconda-Installation.html (deflated 84%)\n",
      "updating: 02_jupyter_anaconda/notebooks/9-html-export/2-9-2-Jupyter-sharing-github.html (deflated 83%)\n",
      "updating: 02_jupyter_anaconda/notebooks/9-html-export/3-1-install-bioconda.html (deflated 83%)\n",
      "updating: 02_jupyter_anaconda/notebooks/9-html-export/2-4-Jupyter-markdown.html (deflated 83%)\n",
      "updating: 02_jupyter_anaconda/notebooks/9-html-export/2-1-Jupyter-ecosystem.html (deflated 83%)\n",
      "updating: 02_jupyter_anaconda/notebooks/9-html-export/2-2-Jupyter-architecture.html (deflated 83%)\n",
      "updating: 02_jupyter_anaconda/notebooks/9-html-export/2-9-3-Intro_to_binder.html (deflated 83%)\n",
      "updating: 02_jupyter_anaconda/notebooks/9-html-export/3-2-variant-calling-workflow.html (deflated 84%)\n",
      "updating: 02_jupyter_anaconda/notebooks/9-html-export/4-2-Additional-resources.html (deflated 83%)\n",
      "updating: 02_jupyter_anaconda/notebooks/9-html-export/1-1-Anaconda-Overview.html (deflated 83%)\n",
      "updating: 02_jupyter_anaconda/notebooks/3-Build-Bioinfo-Workflow/ (stored 0%)\n",
      "updating: 02_jupyter_anaconda/notebooks/3-Build-Bioinfo-Workflow/yeast.fasta (deflated 69%)\n",
      "updating: 02_jupyter_anaconda/notebooks/3-Build-Bioinfo-Workflow/3-1-install-bioconda.ipynb (deflated 36%)\n",
      "updating: 02_jupyter_anaconda/notebooks/3-Build-Bioinfo-Workflow/y2.fastq (deflated 72%)\n",
      "updating: 02_jupyter_anaconda/notebooks/3-Build-Bioinfo-Workflow/3-2-variant-calling-workflow.ipynb (deflated 74%)\n",
      "updating: 02_jupyter_anaconda/notebooks/3-Build-Bioinfo-Workflow/y1.fastq (deflated 73%)\n",
      "updating: 02_jupyter_anaconda/notebooks/1-Anaconda/ (stored 0%)\n",
      "updating: 02_jupyter_anaconda/notebooks/1-Anaconda/1-2-Anaconda-Installation.ipynb (deflated 68%)\n",
      "updating: 02_jupyter_anaconda/notebooks/1-Anaconda/1-1-Anaconda-Overview.ipynb (deflated 35%)\n",
      "updating: 02_jupyter_anaconda/notebooks/2-Jupyter/ (stored 0%)\n",
      "updating: 02_jupyter_anaconda/notebooks/2-Jupyter/2-8-jupyter-magics.ipynb (deflated 77%)\n",
      "updating: 02_jupyter_anaconda/notebooks/2-Jupyter/2-6-jupyter-code-r.ipynb (deflated 80%)\n",
      "updating: 02_jupyter_anaconda/notebooks/2-Jupyter/2-7-jupyter-command-line.ipynb (deflated 71%)\n",
      "updating: 02_jupyter_anaconda/notebooks/2-Jupyter/2-1-jupyter-ecosystem.slides.html (deflated 83%)\n",
      "updating: 02_jupyter_anaconda/notebooks/2-Jupyter/2-9-jupyter-sharing/ (stored 0%)\n",
      "updating: 02_jupyter_anaconda/notebooks/2-Jupyter/2-9-jupyter-sharing/hello_world_binder.ipynb (deflated 58%)\n",
      "updating: 02_jupyter_anaconda/notebooks/2-Jupyter/2-9-jupyter-sharing/2-9-3-Intro_to_binder.ipynb (deflated 74%)\n",
      "updating: 02_jupyter_anaconda/notebooks/2-Jupyter/2-9-jupyter-sharing/2-9-2-Jupyter-sharing-github.ipynb (deflated 74%)\n",
      "updating: 02_jupyter_anaconda/notebooks/2-Jupyter/2-9-jupyter-sharing/2-9-1-Jupyter-sharing.ipynb (deflated 62%)\n",
      "updating: 02_jupyter_anaconda/notebooks/2-Jupyter/2-9-jupyter-sharing/plot-gapminder.ipynb (deflated 29%)\n",
      "updating: 02_jupyter_anaconda/notebooks/2-Jupyter/2-4-jupyter-markdown.ipynb (deflated 77%)\n",
      "updating: 02_jupyter_anaconda/notebooks/2-Jupyter/2-3-jupyter-notebook-basics.ipynb (deflated 73%)\n",
      "updating: 02_jupyter_anaconda/notebooks/2-Jupyter/2-2-jupyter-architecture.ipynb (deflated 32%)\n",
      "updating: 02_jupyter_anaconda/notebooks/2-Jupyter/foo.py (stored 0%)\n",
      "updating: 02_jupyter_anaconda/notebooks/2-Jupyter/2-5-jupyter-code-python.ipynb (deflated 73%)\n",
      "updating: 02_jupyter_anaconda/notebooks/2-Jupyter/2-1-Jupyter-ecosystem.ipynb (deflated 26%)\n",
      "updating: 02_jupyter_anaconda/notebooks/depricated/ (stored 0%)\n",
      "updating: 02_jupyter_anaconda/notebooks/depricated/04_Cell Magics.ipynb (deflated 36%)\n",
      "updating: 02_jupyter_anaconda/notebooks/depricated/02_intro_jupyter_notebooks.ipynb (deflated 76%)\n",
      "updating: 02_jupyter_anaconda/notebooks/depricated/01_installation_python_anaconda.ipynb (deflated 74%)\n",
      "updating: 02_jupyter_anaconda/notebooks/depricated/03_Working With Markdown Cells.ipynb (deflated 71%)\n",
      "updating: 02_jupyter_anaconda/notebooks/4-Last-things/ (stored 0%)\n",
      "updating: 02_jupyter_anaconda/notebooks/4-Last-things/4-1-Demos.ipynb (deflated 68%)\n",
      "updating: 02_jupyter_anaconda/notebooks/4-Last-things/4-2-Additional-resources.ipynb (deflated 60%)\n",
      "updating: 02_jupyter_anaconda/notebooks/Papers/schloss-2014-notebook.cleaned.ipynb (deflated 77%)\n",
      "  adding: 02_jupyter_anaconda/notebooks/images/labpreview.png (deflated 2%)\n"
     ]
    }
   ],
   "source": [
    "!zip -r ./zip_archives/02_jupyter_anaconda.zip ./02_jupyter_anaconda -x \"*/.*\""
   ]
  },
  {
   "cell_type": "markdown",
   "metadata": {},
   "source": [
    "---"
   ]
  },
  {
   "cell_type": "code",
   "execution_count": null,
   "metadata": {},
   "outputs": [],
   "source": [
    "!zip -r ./zip_archives/03_intro_programming.zip ./03_intro_programming -x \"*/.*\""
   ]
  },
  {
   "cell_type": "markdown",
   "metadata": {},
   "source": [
    "---"
   ]
  },
  {
   "cell_type": "code",
   "execution_count": null,
   "metadata": {},
   "outputs": [],
   "source": [
    "!zip -r ./zip_archives/04_python_programming.zip ./04_python_programming -x \"*/.*\""
   ]
  },
  {
   "cell_type": "markdown",
   "metadata": {},
   "source": [
    "---"
   ]
  },
  {
   "cell_type": "code",
   "execution_count": null,
   "metadata": {},
   "outputs": [],
   "source": [
    "!zip -r ./zip_archives/05_python_data_analysis.zip ./05_python_data_analysis/ -x \"*/.*\""
   ]
  },
  {
   "cell_type": "markdown",
   "metadata": {},
   "source": [
    "---"
   ]
  },
  {
   "cell_type": "code",
   "execution_count": null,
   "metadata": {},
   "outputs": [],
   "source": [
    "!zip -r ./zip_archives/06_data_vis_python.zip ./06_data_vis_python/ -x \"*/.*\""
   ]
  },
  {
   "cell_type": "markdown",
   "metadata": {},
   "source": [
    "---"
   ]
  },
  {
   "cell_type": "code",
   "execution_count": null,
   "metadata": {},
   "outputs": [],
   "source": [
    "!zip -r ./zip_archives/07_intermediate_python.zip ./07_intermediate_python/ -x \"*/.*\""
   ]
  },
  {
   "cell_type": "markdown",
   "metadata": {},
   "source": [
    "---"
   ]
  },
  {
   "cell_type": "code",
   "execution_count": null,
   "metadata": {},
   "outputs": [],
   "source": [
    "!zip -r ./zip_archives/08_bioinfo_python.zip ./08_bioinfo_python/ -x \"*/.*\""
   ]
  },
  {
   "cell_type": "code",
   "execution_count": null,
   "metadata": {},
   "outputs": [],
   "source": [
    "!zip -r ./zip_archives/09_python_workflows.zip ./09_python_workflows/ -x \\*.snakemake\\* -x \"*/.*\""
   ]
  },
  {
   "cell_type": "code",
   "execution_count": null,
   "metadata": {},
   "outputs": [],
   "source": [
    "!zip -r ./zip_archives/10_databases.zip ./10_databases/ -x \"*/.*\""
   ]
  },
  {
   "cell_type": "code",
   "execution_count": null,
   "metadata": {},
   "outputs": [],
   "source": [
    "!zip -r ./zip_archives/11_scikit-learn.zip ./11_scikit-learn/ -x \\datasets\\* -x \"*/.*\""
   ]
  },
  {
   "cell_type": "code",
   "execution_count": null,
   "metadata": {},
   "outputs": [],
   "source": []
  }
 ],
 "metadata": {
  "kernelspec": {
   "display_name": "Python 3",
   "language": "python",
   "name": "python3"
  },
  "language_info": {
   "codemirror_mode": {
    "name": "ipython",
    "version": 3
   },
   "file_extension": ".py",
   "mimetype": "text/x-python",
   "name": "python",
   "nbconvert_exporter": "python",
   "pygments_lexer": "ipython3",
   "version": "3.7.6"
  }
 },
 "nbformat": 4,
 "nbformat_minor": 4
}
