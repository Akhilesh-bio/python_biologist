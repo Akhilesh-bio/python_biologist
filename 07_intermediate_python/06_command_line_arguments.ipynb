{
 "cells": [
  {
   "cell_type": "markdown",
   "metadata": {},
   "source": [
    "# Intermediate Python"
   ]
  },
  {
   "cell_type": "markdown",
   "metadata": {},
   "source": [
    "---"
   ]
  },
  {
   "cell_type": "markdown",
   "metadata": {},
   "source": [
    "## Command line Arguments"
   ]
  },
  {
   "cell_type": "markdown",
   "metadata": {},
   "source": [
    "# argparse\n",
    "\n",
    "* * *\n",
    "\n",
    "  \n",
    "\n",
    "bogotobogo.com\n",
    "\n",
    "* * *\n",
    "\n",
    "## What is argparse?\n",
    "\n",
    "What is argparse?\n",
    "\n",
    "\"The argparse module makes it easy to write user-friendly command-line interfaces. The program defines what arguments it requires, and argparse will figure out how to parse those out of **sys.argv**. The argparse module also automatically generates help and usage messages and issues errors when users give the program invalid arguments.\" - from [argparse - Parser for command-line options, arguments and sub-commands](https://docs.python.org/2/library/argparse.html)\n",
    "\n",
    "The following description is from [The argparse module is now part of the Python standard library!](https://code.google.com/p/argparse/)\n",
    "\n",
    "The argparse module provides an easy, declarative interface for creating command line tools, which knows how to:\n",
    "\n",
    "1. parse the arguments and flags from sys.argv\n",
    "2. convert arg strings into objects for your program\n",
    "3. format and print informative help messages\n",
    "\n",
    "and much more...\n",
    "\n",
    "The argparse module improves on the standard library optparse module in a number of ways including:\n",
    "\n",
    "1. handling positional arguments\n",
    "2. supporting sub-commands\n",
    "3. allowing alternative option prefixes like + and /\n",
    "4. handling zero-or-more and one-or-more style arguments\n",
    "5. producing more informative usage messages\n",
    "6. providing a much simpler interface for custom types and actions\n",
    "  \n",
    "  \n",
    "\n",
    "A simple sample\n",
    "\n",
    "Let's look at our first sample of using argparse:\n",
    "\n",
    "# arg.py"
   ]
  },
  {
   "cell_type": "code",
   "execution_count": null,
   "metadata": {},
   "outputs": [],
   "source": [
    "%%writefile arg.py\n",
    "import argparse\n",
    "import sys\n",
    "\n",
    "def check_arg(args=None):\n",
    "    parser = argparse.ArgumentParser(description='Script to learn basic argparse')\n",
    "    parser.add_argument('-H', '--host',\n",
    "                        help='host ip',\n",
    "                        required='True',\n",
    "                        default='localhost')\n",
    "    parser.add_argument('-p', '--port',\n",
    "                        help='port of the web server',\n",
    "                        default='8080')\n",
    "    parser.add_argument('-u', '--user',\n",
    "                        help='user name',\n",
    "                        default='root')\n",
    "\n",
    "    results = parser.parse_args(args)\n",
    "    return (results.host,\n",
    "            results.port,\n",
    "            results.user)\n",
    "\n",
    "if __name__ == '__main__':\n",
    "    h, p, u = check_arg(sys.argv[1:])\n",
    "    print('h =',h)\n",
    "    print('p =',p)\n",
    "    print('u =',u)"
   ]
  },
  {
   "cell_type": "markdown",
   "metadata": {},
   "source": [
    "If we run it:"
   ]
  },
  {
   "cell_type": "code",
   "execution_count": null,
   "metadata": {},
   "outputs": [],
   "source": [
    "!python arg.py -H 192.17.23.5"
   ]
  },
  {
   "cell_type": "markdown",
   "metadata": {},
   "source": [
    "Note that the 'host' arg is set as 'required'. So, if we run the code without feeding host ip, we'll get an error like this:"
   ]
  },
  {
   "cell_type": "code",
   "execution_count": null,
   "metadata": {},
   "outputs": [],
   "source": [
    "!python arg.py"
   ]
  },
  {
   "cell_type": "markdown",
   "metadata": {},
   "source": [
    "Help option\n",
    "\n",
    "Also, we need to look at how the help works:"
   ]
  },
  {
   "cell_type": "code",
   "execution_count": null,
   "metadata": {},
   "outputs": [],
   "source": [
    "!python arg.py -h"
   ]
  },
  {
   "cell_type": "markdown",
   "metadata": {},
   "source": [
    "Script to learn basic argparse\n",
    "\n",
    "    optional arguments:\n",
    "        -h, --help            show this help message and exit\n",
    "        -H HOST, --host HOST  host ip\n",
    "        -p PORT, --port PORT  port of the web server\n",
    "        -u USER, --user USER  user name\n",
    "\n",
    "Notice that we used **-H** for host-ip mandatory option instead of lower case 'h' because it is reserved for 'help.\n",
    "\n",
    "  \n",
    "  \n",
    "  "
   ]
  },
  {
   "cell_type": "markdown",
   "metadata": {},
   "source": [
    "Integer input\n",
    "\n",
    "Another sample code:\n",
    "\n",
    "# arg.py"
   ]
  },
  {
   "cell_type": "code",
   "execution_count": null,
   "metadata": {},
   "outputs": [],
   "source": [
    "%%writefile arg2.py\n",
    "import argparse\n",
    "import sys\n",
    "\n",
    "def int_args(args=None):\n",
    "    parser = argparse.ArgumentParser(description='Processing integers.')\n",
    "    parser.add_argument('integers',\n",
    "                        metavar='N',\n",
    "                        type=int,\n",
    "                        nargs='+',\n",
    "                        help='integer args')\n",
    "    return parser.parse_args()\n",
    "\n",
    "if __name__ == '__main__':\n",
    "    print(int_args(sys.argv[1:]))"
   ]
  },
  {
   "cell_type": "markdown",
   "metadata": {},
   "source": [
    "Just to see how it works, let's request 'help':"
   ]
  },
  {
   "cell_type": "code",
   "execution_count": null,
   "metadata": {},
   "outputs": [],
   "source": [
    "!python arg2.py -h"
   ]
  },
  {
   "cell_type": "markdown",
   "metadata": {},
   "source": [
    "### Processing integers.\n",
    "\n",
    "positional arguments:\n",
    "  N           integer args\n",
    "\n",
    "optional arguments:\n",
    "  -h, --help  show this help message and exit\n",
    "\n",
    "We need to check the **add_argument()** method in **ArgumentParser.add_argument()**:\n",
    "\n",
    "ArgumentParser.add_argument(name or flags...[, action][, nargs][, const][, default][, type][, choices][, required][, help][, metavar][, dest])\n",
    "\n",
    "1. **name or flags** - Either a name or a list of option strings, e.g. foo or -f, --foo.\n",
    "2. **action** - The basic type of action to be taken when this argument is encountered at the command line.\n",
    "3. **nargs** - The number of command-line arguments that should be consumed.\n",
    "4. **const** - A constant value required by some action and nargs selections.\n",
    "5. **default** - The value produced if the argument is absent from the command line.\n",
    "6. **type** - The type to which the command-line argument should be converted.\n",
    "7. **choices** - A container of the allowable values for the argument.\n",
    "8. **required** - Whether or not the command-line option may be omitted (optionals only).\n",
    "9. **help** - A brief description of what the argument does.\n",
    "10. **metavar** - A name for the argument in usage messages.\n",
    "11. **dest** - The name of the attribute to be added to the object returned by parse_args().\n",
    "  \n",
    "\n",
    "Now, it's time to run the code:"
   ]
  },
  {
   "cell_type": "code",
   "execution_count": null,
   "metadata": {},
   "outputs": [],
   "source": [
    "!python arg2.py 1 2 3 4 5"
   ]
  },
  {
   "cell_type": "markdown",
   "metadata": {},
   "source": [
    "The '+' in nargs='+', just like '*', makes all command-line args present to be gathered into a list. \n",
    "\n",
    "If we provide a wrong type arg such as a float type, we'll get an error:"
   ]
  },
  {
   "cell_type": "code",
   "execution_count": null,
   "metadata": {},
   "outputs": [],
   "source": [
    "!python arg2.py 1.9999 2 3 4 5"
   ]
  },
  {
   "cell_type": "markdown",
   "metadata": {},
   "source": [
    "---\n",
    "\n",
    "## A full example"
   ]
  },
  {
   "cell_type": "code",
   "execution_count": null,
   "metadata": {},
   "outputs": [],
   "source": [
    "%%writefile args3.py\n",
    "import json\n",
    "import requests\n",
    "import time\n",
    "import calendar\n",
    "import argparse\n",
    "import sys\n",
    "import operator\n",
    "\n",
    "DAYS = ['Sunday', 'Monday', 'Tuesday', 'Wednesday', 'Thursday', 'Friday', 'Saturday']\n",
    "WEEK_IN_SECOND = 604800\n",
    "\n",
    "def count_commits(repo, weeks, sort):\n",
    "\n",
    "    # Get commit activity via Github REST API v3 with Python's requests module\n",
    "    r = requests.get('https://api.github.com/repos/%s/stats/commit_activity' % repo)\n",
    "\n",
    "    repos = json.loads(r.content)\n",
    "    # sample : [{'days': [0, 0, 0, 0, 0, 0, 0], 'total': 0, 'week': 1511053200}, ... ]\n",
    "\n",
    "    # calculate time cut in weeks\n",
    "    current_epoctime = calendar.timegm(time.gmtime())\n",
    "    week_cut = current_epoctime-(weeks)*WEEK_IN_SECOND\n",
    "\n",
    "    # initialize commits for the days of a week\n",
    "    commits = [0]*7\n",
    "    # loop through commits week by week. Cut by input 'weeks'\n",
    "    for r in repos:\n",
    "       if r['week'] >= week_cut:\n",
    "           for i,d in enumerate(r['days']):\n",
    "               commits[i] += d\n",
    "\n",
    "    # average commits per week\n",
    "    commits = [c/weeks for c in commits]\n",
    "\n",
    "    # construct dictionary from the two list : zip(DAYS, commits)\n",
    "    # then, sort it (default: descending)\n",
    "    days_commits = dict(zip(DAYS, commits))\n",
    "    days_commits = sorted(days_commits.items(), key = operator.itemgetter(1), reverse = (sort == 'dsc'))\n",
    "    # sample :  days_commits =  [('Wednesday', 75.95), ('Thursday', 73.7), ... ]\n",
    "\n",
    "    print('\\n--- Commits (average) ---')\n",
    "    for item in days_commits:\n",
    "        print('%s %.1f' %(item[0],item[1]))\n",
    "\n",
    "    print('\\n--- The most commits ---')\n",
    "    if sort == 'dsc':\n",
    "        index = 0  # top\n",
    "    else:\n",
    "        index = 6  # bottom\n",
    "    print('%s %.1f' %(days_commits[index][0],days_commits[index][1]))\n",
    "\n",
    "# setup args including default values and input error handling\n",
    "def check_arg(args=None):\n",
    "    parser = argparse.ArgumentParser(description='Github API - stats of commits')\n",
    "    #parser.add_argument('repo', metavar='repository name', type=str, help='user/repo')\n",
    "    parser.add_argument('-r', nargs='?', default='kubernetes/kubernetes')\n",
    "    parser.add_argument('-w', nargs='?', default='52')\n",
    "    parser.add_argument('-s', nargs='?', default='dsc')\n",
    "    results = parser.parse_args(args)\n",
    "    return (results.r, results.w, results.s)\n",
    "\n",
    "# MAIN\n",
    "if __name__ == '__main__':\n",
    "\n",
    "    '''\n",
    "    Count Github commits via 'stats/commit_activity' - using REST API v3\n",
    "    Usage :  python ask_ki.py -r kubernetes/kubernetes -w=36 -s=dsc\n",
    "    (note) All args are optional: '-r', '-w', and '-s'\n",
    "    '''\n",
    "\n",
    "    r, w, s = check_arg(sys.argv[1:])\n",
    "    print('Inputs: repo=%s weeks=%s sort=%s' %(r,w,s))\n",
    "\n",
    "    # call github api\n",
    "    count_commits(repo=r, weeks=int(w), sort=s)"
   ]
  },
  {
   "cell_type": "code",
   "execution_count": null,
   "metadata": {},
   "outputs": [],
   "source": [
    "%run args3.py"
   ]
  },
  {
   "cell_type": "markdown",
   "metadata": {},
   "source": [
    "---\n",
    "\n",
    "Wrap\n",
    "\n",
    "Now you’ve seen the basics of `argparse`. You’ve seen how to get positional and optional arguments into your programs from the command line. You’ve also seen how to set default optional arguments. If you want to go deeper, check out the [official docs](https://docs.python.org/3/library/argparse.html).\n",
    "\n",
    " I should mention that there are a number of packages available to add command line arguments to your program. Some of the most popular are:\n",
    "\n",
    "*   [click](https://click.palletsprojects.com/en/7.x/)\n",
    "*   [fire](https://github.com/google/python-fire)\n",
    "*   [docopt](https://github.com/docopt/docopt)\n"
   ]
  },
  {
   "cell_type": "markdown",
   "metadata": {},
   "source": [
    "Python script template with argparse in it: https://gist.github.com/burkesquires/2bab01406597312a2ef0cc74128df89f"
   ]
  },
  {
   "cell_type": "markdown",
   "metadata": {},
   "source": [
    "You can also check out [python fire](https://github.com/google/python-fire) from Google that generates CLI"
   ]
  }
 ],
 "metadata": {
  "kernelspec": {
   "display_name": "Python 3",
   "language": "python",
   "name": "python3"
  },
  "language_info": {
   "codemirror_mode": {
    "name": "ipython",
    "version": 3
   },
   "file_extension": ".py",
   "mimetype": "text/x-python",
   "name": "python",
   "nbconvert_exporter": "python",
   "pygments_lexer": "ipython3",
   "version": "3.7.4"
  }
 },
 "nbformat": 4,
 "nbformat_minor": 4
}
