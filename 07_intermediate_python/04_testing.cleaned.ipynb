{
 "cells": [
  {
   "cell_type": "markdown",
   "metadata": {},
   "source": [
    "# Intermediate Python"
   ],
   "execution_count": null,
   "outputs": []
  },
  {
   "cell_type": "markdown",
   "metadata": {},
   "source": [
    "## Testing\n",
    "\n",
    "Strive for 100% code coverage, but don't get obsess over the coverage score.\n",
    "\n",
    "### General testing guidelines\n",
    "\n",
    "- Use long, descriptive names. This often obviates the need for doctrings in test methods.\n",
    "- Tests should be isolated. Don't interact with a real database or network. Use a separate test database that gets torn down or use mock objects.\n",
    "- Prefer [factories](https://github.com/rbarrois/factory_boy) to fixtures.\n",
    "- Never let incomplete tests pass, else you run the risk of forgetting about them. Instead, add a placeholder like `assert False, \"TODO: finish me\"`."
   ],
   "execution_count": null,
   "outputs": []
  },
  {
   "cell_type": "markdown",
   "metadata": {},
   "source": [
    "### Unit Tests\n",
    "\n",
    "- Focus on one tiny bit of functionality.\n",
    "- Should be fast, but a slow test is better than no test.\n",
    "- It often makes sense to have one testcase class for a single class or model.\n",
    "\n",
    "```python\n",
    "import unittest\n",
    "import factories\n",
    "\n",
    "class PersonTest(unittest.TestCase):\n",
    "    def setUp(self):\n",
    "        self.person = factories.PersonFactory()\n",
    "\n",
    "    def test_has_age_in_dog_years(self):\n",
    "        self.assertEqual(self.person.dog_years, self.person.age / 7)\n",
    "```"
   ],
   "execution_count": null,
   "outputs": []
  },
  {
   "cell_type": "markdown",
   "metadata": {},
   "source": [
    "### Functional Tests\n",
    "\n",
    "Functional tests are higher level tests that are closer to how an end-user would interact with your application. They are typically used for web and GUI applications.\n",
    "\n",
    "- Write tests as scenarios. Testcase and test method names should read like a scenario description.\n",
    "- Use comments to write out stories, *before writing the test code*.\n",
    "\n",
    "```python\n",
    "import unittest\n",
    "\n",
    "class TestAUser(unittest.TestCase):\n",
    "\n",
    "    def test_can_write_a_blog_post(self):\n",
    "        # Goes to the her dashboard\n",
    "        ...\n",
    "        # Clicks \"New Post\"\n",
    "        ...\n",
    "        # Fills out the post form\n",
    "        ...\n",
    "        # Clicks \"Submit\"\n",
    "        ...\n",
    "        # Can see the new post\n",
    "        ...\n",
    "```\n",
    "\n",
    "Notice how the testcase and test method read together like \"Test A User can write a blog post\"."
   ],
   "execution_count": null,
   "outputs": []
  },
  {
   "cell_type": "code",
   "execution_count": null,
   "metadata": {},
   "outputs": [],
   "source": [
    "%%writefile unnecessary_math.py\n",
    "\"\"\"\n",
    "Module showing how doctests can be included with source code\n",
    "Each '>>>' line is run as if in a python shell, and counts as a test.\n",
    "The next line, if not '>>>' is the expected output of the previous line.\n",
    "If anything doesn't match exactly (including trailing spaces), the test fails.\n",
    "\"\"\"\n",
    "\n",
    "\n",
    "def multiply(a, b):\n",
    "    \"\"\"\n",
    "    >>> multiply(4, 3)\n",
    "    12\n",
    "    >>> multiply('a', 3)\n",
    "    'aaa'\n",
    "    \"\"\"\n",
    "    return a * b"
   ]
  },
  {
   "cell_type": "code",
   "execution_count": null,
   "metadata": {},
   "outputs": [],
   "source": [
    "%%writefile test_um_pytest.py\n",
    "from unnecessary_math import multiply\n",
    "\n",
    "\n",
    "def test_numbers_3_4():\n",
    "    assert multiply(3, 4) == 12\n",
    "\n",
    "\n",
    "def test_strings_a_3():\n",
    "    assert multiply(\"a\", 3) == \"aaa\""
   ]
  },
  {
   "cell_type": "code",
   "execution_count": null,
   "metadata": {},
   "outputs": [],
   "source": [
    "%%writefile test_um_pytest.py\n",
    "import unittest\n",
    "\n",
    "from unnecessary_math import multiply\n",
    "\n",
    "\n",
    "class TestUM(unittest.TestCase):\n",
    "    def test_numbers_3_4(self):\n",
    "        self.assertEqual(multiply(3, 4), 12)"
   ]
  },
  {
   "cell_type": "markdown",
   "metadata": {},
   "source": [
    "Test unnecessary_math with pytest\n",
    "\n",
    "    To run tests : py.test             test_um_pytest.py\n",
    "              or : python -m pytest    test_um_pytest.py\n",
    "\n",
    "    Verobse (-v) : py.test -v          test_um_pytest.py\n",
    "              or : python -m pytest -v test_um_pytest.py"
   ],
   "execution_count": null,
   "outputs": []
  },
  {
   "cell_type": "code",
   "execution_count": null,
   "metadata": {},
   "outputs": [],
   "source": [
    "!py.test test_um_pytest.py"
   ]
  },
  {
   "cell_type": "code",
   "execution_count": null,
   "metadata": {},
   "outputs": [],
   "source": [
    "!py.test -v test_um_pytest.py"
   ]
  },
  {
   "cell_type": "markdown",
   "metadata": {},
   "source": [
    "---"
   ],
   "execution_count": null,
   "outputs": []
  },
  {
   "cell_type": "markdown",
   "metadata": {},
   "source": [
    "### Test driven development (TDD)\n",
    "\n",
    "- Start with writing the most basic test for the beginning of your project. For example: loading a file.\n",
    "- Run the test and confirm that it fails.\n",
    "- Write just enough code to pass your test\n",
    "- Confirm that the test passes\n",
    "- Write another test for the next small piece of your project or code\n",
    "- Write just enough to pass the test\n",
    "- Repeat until your code is done"
   ],
   "execution_count": null,
   "outputs": []
  }
 ],
 "metadata": {
  "kernelspec": {
   "display_name": "Python 3",
   "language": "python",
   "name": "python3"
  },
  "language_info": {
   "codemirror_mode": {
    "name": "ipython",
    "version": 3
   },
   "file_extension": ".py",
   "mimetype": "text/x-python",
   "name": "python",
   "nbconvert_exporter": "python",
   "pygments_lexer": "ipython3",
   "version": "3.7.4"
  }
 },
 "nbformat": 4,
 "nbformat_minor": 4
}
