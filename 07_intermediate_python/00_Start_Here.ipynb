{
 "cells": [
  {
   "cell_type": "markdown",
   "metadata": {},
   "source": [
    "# Intermediate Python"
   ]
  },
  {
   "cell_type": "markdown",
   "metadata": {},
   "source": [
    "Learning Objectives:\n",
    "- Learn some advanced features of python\n",
    "- Explain when to use each advanced funtion"
   ]
  },
  {
   "cell_type": "markdown",
   "metadata": {},
   "source": [
    "---"
   ]
  },
  {
   "cell_type": "markdown",
   "metadata": {},
   "source": [
    "Topics\n",
    "- [Packages, modules, environments](01_package.ipynb)\n",
    "- [Documentation](03_documentation.ipynb)\n",
    "- [Testing](04_testing.ipynb)\n",
    "- [Logging](05_logging.ipynb)\n",
    "- [Command line arguments](06_command_line_arguments.ipynb)\n",
    "- [Object Oriented Programming](07_oop.ipynb)\n",
    "- [Decorators](08_decorators.ipynb)\n",
    "- [Standard library](09_standard_library.ipynb)\n",
    "- [Best Practices](02_best_practices.ipynb)\n",
    "- [\"Perfect\" project setup](10_perfect_setup.ipynb)\n",
    "\n",
    "also:\n",
    "- Cython\n",
    "- Python patterns"
   ]
  },
  {
   "cell_type": "markdown",
   "metadata": {},
   "source": [
    "---"
   ]
  },
  {
   "cell_type": "markdown",
   "metadata": {},
   "source": [
    "# Resources:"
   ]
  },
  {
   "cell_type": "markdown",
   "metadata": {},
   "source": [
    "- [Python 3 Reference card](https://dzone.com/refcardz/core-python)\n",
    "- [Awesome python](http://awesome-python.com)\n",
    "- https://pythontips.com/2013/09/01/best-python-resources/\n",
    "- http://book.pythontips.com/en/latest/ (intermediate python)\n",
    "- http://www.codeconquest.com/blog/the-50-best-websites-to-learn-python/\n",
    "- http://book.pythontips.com/en/latest/#\n",
    "\n",
    "Intermediate and advanced Python Resources:\n",
    "- https://jeffknupp.com/blog/2014/06/18/improve-your-python-python-classes-and-object-oriented-programming/\n",
    "- https://gist.github.com/kalefranz/94370b293f8c1a693b278f64381faf07\n",
    "- http://www.codeconquest.com/blog/the-50-best-websites-to-learn-python/\n",
    "- http://intermediatepythonista.com\n",
    "- http://www.shahmoradi.org/ECL2017S/lecture/11-python-advanced-decorator-class\n",
    "- http://www.davekuhlman.org/python_201.html\n",
    "- https://uoftcoders.github.io/studyGroup/lessons/python/intermediate/lesson/\n",
    "- https://www.quora.com/What-are-the-advanced-topics-in-python\n",
    "- https://stackabuse.com/object-oriented-programming-in-python/\n",
    "- https://jeffknupp.com/blog/2018/10/11/write-better-python-functions/\n",
    "- https://www.tutorialspoint.com/python/python_classes_objects.htm"
   ]
  },
  {
   "cell_type": "markdown",
   "metadata": {},
   "source": [
    "---"
   ]
  },
  {
   "cell_type": "markdown",
   "metadata": {},
   "source": [
    "Clean up by deleting the python files"
   ]
  },
  {
   "cell_type": "code",
   "execution_count": null,
   "metadata": {},
   "outputs": [],
   "source": [
    "rm *.py"
   ]
  },
  {
   "cell_type": "code",
   "execution_count": null,
   "metadata": {},
   "outputs": [],
   "source": []
  }
 ],
 "metadata": {
  "kernelspec": {
   "display_name": "Python 3",
   "language": "python",
   "name": "python3"
  },
  "language_info": {
   "codemirror_mode": {
    "name": "ipython",
    "version": 3
   },
   "file_extension": ".py",
   "mimetype": "text/x-python",
   "name": "python",
   "nbconvert_exporter": "python",
   "pygments_lexer": "ipython3",
   "version": "3.7.4"
  }
 },
 "nbformat": 4,
 "nbformat_minor": 4
}
