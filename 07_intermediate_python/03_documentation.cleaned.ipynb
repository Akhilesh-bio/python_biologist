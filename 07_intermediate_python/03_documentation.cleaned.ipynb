{
 "cells": [
  {
   "cell_type": "markdown",
   "execution_count": null,
   "metadata": {},
   "outputs": [],
   "source": [
    "# Intermediate Python"
   ]
  },
  {
   "cell_type": "markdown",
   "execution_count": null,
   "metadata": {},
   "outputs": [],
   "source": [
    "---"
   ]
  },
  {
   "cell_type": "markdown",
   "execution_count": null,
   "metadata": {},
   "outputs": [],
   "source": [
    "## Documentation\n",
    "\n",
    "Follow [PEP 257][]'s docstring guidelines. [reStructured Text](http://docutils.sourceforge.net/docs/user/rst/quickref.html) and [Sphinx](http://sphinx-doc.org/) can help to enforce these standards.\n",
    "\n",
    "Use one-line docstrings for obvious functions.\n",
    "\n",
    "```python\n",
    "\"\"\"Return the pathname of ``foo``.\"\"\"\n",
    "```\n",
    "\n",
    "Multiline docstrings should include\n",
    "\n",
    "- Summary line\n",
    "- Use case, if appropriate\n",
    "- Args\n",
    "- Return type and semantics, unless ``None`` is returned\n",
    "\n",
    "```python\n",
    "\"\"\"Train a model to classify Foos and Bars.\n",
    "\n",
    "Usage::\n",
    "\n",
    "    >>> import klassify\n",
    "    >>> data = [(\"green\", \"foo\"), (\"orange\", \"bar\")]\n",
    "    >>> classifier = klassify.train(data)\n",
    "\n",
    ":param train_data: A list of tuples of the form ``(color, label)``.\n",
    ":rtype: A :class:`Classifier <Classifier>`\n",
    "\"\"\"\n",
    "```\n",
    "\n",
    "Notes\n",
    "\n",
    "- Use action words (\"Return\") rather than descriptions (\"Returns\").\n",
    "- Document `__init__` methods in the docstring for the class.\n",
    "\n",
    "```python\n",
    "class Person(object):\n",
    "    \"\"\"A simple representation of a human being.\n",
    "\n",
    "    :param name: A string, the person's name.\n",
    "    :param age: An int, the person's age.\n",
    "    \"\"\"\n",
    "    def __init__(self, name, age):\n",
    "        self.name = name\n",
    "        self.age = age\n",
    "```"
   ]
  },
  {
   "cell_type": "markdown",
   "execution_count": null,
   "metadata": {},
   "outputs": [],
   "source": [
    "### Docstrings\n",
    "\n",
    "[Source](http://www.pythonforbeginners.com/basics/python-docstrings)\n",
    "\n",
    "Python documentation strings (or docstrings) provide a convenient way of associating documentation with Python modules, functions, classes, and methods. \n",
    "\n",
    "An object's docsting is defined by including a string constant as the first statement in the object's definition. \n",
    "\n",
    "It's specified in source code that is used, like a comment, to document a specific segment of code.\n",
    "\n",
    "Unlike conventional source code comments the __docstring should describe what the function does, not how__.\n",
    "\n",
    "All functions should have a docstring. This allows the program to inspect these comments at run time, for instance as an interactive help system, or as metadata. Docstrings can be accessed by the __doc__ attribute on objects."
   ]
  },
  {
   "cell_type": "markdown",
   "execution_count": null,
   "metadata": {},
   "outputs": [],
   "source": [
    "What should a Docstring look like?\n",
    "- The doc string line should begin with a capital letter and end with a period. \n",
    "- The first line should be a short description.\n",
    "- Don't write the name of the object. \n",
    "- If there are more lines in the documentation string, the second line should be blank, visually separating the summary from the rest of the description. \n",
    "- The following lines should be one or more paragraphs describing the object’s\n",
    "calling conventions, its side effects, etc."
   ]
  },
  {
   "cell_type": "code",
   "execution_count": null,
   "metadata": {},
   "outputs": [],
   "source": [
    "%%writefile my_module.py\n",
    "def my_function():\n",
    "    \"\"\"\n",
    "    Do nothing, but document it.\n",
    "\n",
    "    No, really, it doesn't do anything.\n",
    "    \"\"\"\n",
    "    pass"
   ]
  },
  {
   "cell_type": "markdown",
   "execution_count": null,
   "metadata": {},
   "outputs": [],
   "source": [
    "Let's see how this would look like when we print it"
   ]
  },
  {
   "cell_type": "code",
   "execution_count": null,
   "metadata": {},
   "outputs": [],
   "source": [
    "from my_module import my_function\n",
    "\n",
    "my_function.__doc__"
   ]
  },
  {
   "cell_type": "code",
   "execution_count": null,
   "metadata": {},
   "outputs": [],
   "source": [
    "my_function?"
   ]
  },
  {
   "cell_type": "code",
   "execution_count": null,
   "metadata": {},
   "outputs": [],
   "source": [
    "import my_module\n",
    "\n",
    "help(my_module)"
   ]
  },
  {
   "cell_type": "markdown",
   "execution_count": null,
   "metadata": {},
   "outputs": [],
   "source": [
    "__OYO__:\n",
    "\n",
    "You can use [__sphinx__](http://www.sphinx-doc.org/en/stable/) to generate documentation based upon docstrings."
   ]
  }
 ],
 "metadata": {
  "kernelspec": {
   "display_name": "Python 3",
   "language": "python",
   "name": "python3"
  },
  "language_info": {
   "codemirror_mode": {
    "name": "ipython",
    "version": 3
   },
   "file_extension": ".py",
   "mimetype": "text/x-python",
   "name": "python",
   "nbconvert_exporter": "python",
   "pygments_lexer": "ipython3",
   "version": "3.7.4"
  }
 },
 "nbformat": 4,
 "nbformat_minor": 4
}
