{
 "cells": [
  {
   "cell_type": "markdown",
   "metadata": {},
   "source": [
    "# Intermediate Python"
   ]
  },
  {
   "cell_type": "markdown",
   "metadata": {},
   "source": [
    "Learning Objectives:\n",
    "- Learn some advanced features of python\n",
    "- Explain when to use each advanced funtion"
   ]
  },
  {
   "cell_type": "markdown",
   "metadata": {},
   "source": [
    "---"
   ]
  },
  {
   "cell_type": "markdown",
   "metadata": {},
   "source": [
    "Topics\n",
    "- Packages and installation\n",
    "- Importing modules\n",
    "- Environments\n",
    "- Documentation\n",
    "- Testing\n",
    "- Logging\n",
    "- Command line arguments\n",
    "- Object Oriented Programming\n",
    "- Generators\n",
    "- Decorators\n",
    "- Best Practices"
   ]
  },
  {
   "cell_type": "markdown",
   "metadata": {},
   "source": [
    "---"
   ]
  },
  {
   "cell_type": "markdown",
   "metadata": {},
   "source": [
    "## Packages"
   ]
  },
  {
   "cell_type": "markdown",
   "metadata": {},
   "source": [
    "[PyPI](https://pypi.python.org/pypi) has ~123,358+ package in it!"
   ]
  },
  {
   "cell_type": "markdown",
   "metadata": {},
   "source": [
    "### Package installation with Anaconda Navigator\n",
    "\n",
    "You can use the Anaconda Navigator GUI to install packages.\n",
    "\n",
    "__Guided demo__"
   ]
  },
  {
   "cell_type": "markdown",
   "metadata": {},
   "source": [
    "### Package installation with Conda\n",
    "\n",
    "Many packages in conda, but not all\n",
    "\n",
    "    conda update conda\n",
    "    conda install biopython\n",
    "\n",
    "(Note there is also bioconda for install bioinfomatics programs. We will see more in a future seminar.)"
   ]
  },
  {
   "cell_type": "markdown",
   "metadata": {},
   "source": [
    "### Package installation with pip\n",
    "\n",
    "To install the latest version of “SomeProject”:\n",
    "\n",
    "    pip install 'SomeProject'\n",
    "\n",
    "To install a specific version:\n",
    "\n",
    "    pip install 'SomeProject==1.4'\n",
    "\n",
    "To install greater than or equal to one version and less than another:\n",
    "\n",
    "    pip install 'SomeProject>=1,<2'\n",
    "\n",
    "    pip install --upgrade SomeProject\n",
    "\n",
    "NOTE: You can also install directly from a juyter notebook but need to use the `-y` option to respond to the \"yes\" to install."
   ]
  },
  {
   "cell_type": "markdown",
   "metadata": {},
   "source": [
    "#### Installing from VCS\n",
    "\n",
    "Install a project from VCS in “editable” mode. For a full breakdown of the syntax, see pip’s section on VCS Support.\n",
    "\n",
    "    pip install -e git+https://git.repo/some_pkg.git#egg=SomeProject          # from git\n",
    "    pip install -e hg+https://hg.repo/some_pkg.git#egg=SomeProject            # from mercurial\n",
    "    pip install -e svn+svn://svn.repo/some_pkg/trunk/#egg=SomeProject         # from svn\n",
    "    pip install -e git+https://git.repo/some_pkg.git@feature#egg=SomeProject  # from a branch\n",
    "\n",
    "\n",
    "requirements.py\n",
    "\n",
    "    pip install -r requirements.txt\n",
    "\n",
    "More information: https://packaging.python.org/installing/"
   ]
  },
  {
   "cell_type": "markdown",
   "metadata": {},
   "source": [
    "---"
   ]
  },
  {
   "cell_type": "markdown",
   "metadata": {},
   "source": [
    "## Importing Modules"
   ]
  },
  {
   "cell_type": "markdown",
   "metadata": {},
   "source": [
    "[Source](https://www.blog.pythonlibrary.org/2016/03/01/python-101-all-about-imports/)\n",
    "\n",
    "\n",
    "Utilizing modules or packages in python is a two-step process.\n",
    "\n",
    "1. They must be installed on the computer you want to use them with; this only has to be done once but occasional updates are necessary\n",
    "1. You must import a module or package into your script once for each script you write.\n",
    "\n",
    "We will see some advice on importing in the PEP8 guidelines. PyCharm also assists users with organizing imports. \n",
    "\n",
    "\n",
    "A regular import, and quite possibly the most popular goes like this:\n",
    "\n",
    "```python\n",
    "import sys\n",
    "```\n",
    "    \n",
    "All you need to do is use the word “import” and then specify what module or package you want to actually import. The nice thing about import though is that it can also import multiple package at once:\n",
    "\n",
    "```python\n",
    "import os, sys, time\n",
    "```\n",
    "\n",
    "While this is a space-saver, it’s goes against the [Python Style Guide’s recommendations](https://www.python.org/dev/peps/pep-0008/#imports) of putting each import on its own line.\n",
    "\n",
    "Sometimes when you import a module, you want to rename it. Python supports this quite easily:\n",
    "\n",
    "```python\n",
    "import sys as system\n",
    "print(system.platform)\n",
    "```\n",
    "\n",
    "This piece of code simply renames our import to “system”. We can call all of the modules methods the same way before, but with the new name. There are also certain submodules that have to be imported using dot notation:\n",
    "\n",
    "```python\n",
    "import urllib.error\n",
    "```\n",
    "\n",
    "You won’t see these very often, but they’re good to know about."
   ]
  },
  {
   "cell_type": "markdown",
   "metadata": {},
   "source": [
    "## Environment"
   ]
  },
  {
   "cell_type": "markdown",
   "metadata": {},
   "source": [
    "We will use the Anaconda Navigator to create and run a new environment.\n",
    "\n",
    "Manage envronments in anaconda\n",
    "\n",
    "How to start a new Jupyter notebook in an environment"
   ]
  },
  {
   "cell_type": "markdown",
   "metadata": {},
   "source": [
    "__DEMO__"
   ]
  },
  {
   "cell_type": "markdown",
   "metadata": {},
   "source": [
    "__On Your Own (OYO)__\n",
    "\n",
    "python2 vs python3 and the six package\n",
    "\n",
    "http://book.pythontips.com/en/latest/targeting_python_2_3.html"
   ]
  },
  {
   "cell_type": "markdown",
   "metadata": {},
   "source": [
    "## Documentation"
   ]
  },
  {
   "cell_type": "markdown",
   "metadata": {},
   "source": [
    "### Docstrings\n",
    "\n",
    "[Source](http://www.pythonforbeginners.com/basics/python-docstrings)\n",
    "\n",
    "Python documentation strings (or docstrings) provide a convenient way of associating documentation with Python modules, functions, classes, and methods. \n",
    "\n",
    "An object's docsting is defined by including a string constant as the first statement in the object's definition. \n",
    "\n",
    "It's specified in source code that is used, like a comment, to document a specific segment of code.\n",
    "\n",
    "Unlike conventional source code comments the __docstring should describe what the function does, not how__.\n",
    "\n",
    "All functions should have a docstring. This allows the program to inspect these comments at run time, for instance as an interactive help system, or as metadata. Docstrings can be accessed by the __doc__ attribute on objects."
   ]
  },
  {
   "cell_type": "markdown",
   "metadata": {},
   "source": [
    "What should a Docstring look like?\n",
    "- The doc string line should begin with a capital letter and end with a period. \n",
    "- The first line should be a short description.\n",
    "- Don't write the name of the object. \n",
    "- If there are more lines in the documentation string, the second line should be blank, visually separating the summary from the rest of the description. \n",
    "- The following lines should be one or more paragraphs describing the object’s\n",
    "calling conventions, its side effects, etc."
   ]
  },
  {
   "cell_type": "code",
   "execution_count": null,
   "metadata": {},
   "outputs": [],
   "source": [
    "%%writefile my_module.py\n",
    "def my_function():\n",
    "    \"\"\"\n",
    "    Do nothing, but document it.\n",
    "\n",
    "    No, really, it doesn't do anything.\n",
    "    \"\"\"\n",
    "    pass"
   ]
  },
  {
   "cell_type": "code",
   "execution_count": null,
   "metadata": {},
   "outputs": [],
   "source": []
  },
  {
   "cell_type": "markdown",
   "metadata": {},
   "source": [
    "Let's see how this would look like when we print it"
   ]
  },
  {
   "cell_type": "code",
   "execution_count": null,
   "metadata": {},
   "outputs": [],
   "source": [
    "from my_module import my_function\n",
    "my_function.__doc__"
   ]
  },
  {
   "cell_type": "code",
   "execution_count": null,
   "metadata": {},
   "outputs": [],
   "source": []
  },
  {
   "cell_type": "code",
   "execution_count": null,
   "metadata": {},
   "outputs": [],
   "source": [
    "my_function?"
   ]
  },
  {
   "cell_type": "code",
   "execution_count": null,
   "metadata": {},
   "outputs": [],
   "source": []
  },
  {
   "cell_type": "code",
   "execution_count": null,
   "metadata": {},
   "outputs": [],
   "source": [
    "import my_module\n",
    "\n",
    "help(my_module)"
   ]
  },
  {
   "cell_type": "code",
   "execution_count": null,
   "metadata": {},
   "outputs": [],
   "source": []
  },
  {
   "cell_type": "markdown",
   "metadata": {
    "collapsed": true
   },
   "source": [
    "__OYO__:\n",
    "\n",
    "You can use [__sphinx__](http://www.sphinx-doc.org/en/stable/) to generate documentation based upon docstrings."
   ]
  },
  {
   "cell_type": "markdown",
   "metadata": {},
   "source": [
    "## Testing"
   ]
  },
  {
   "cell_type": "code",
   "execution_count": null,
   "metadata": {},
   "outputs": [],
   "source": [
    "%%writefile unnecessary_math.py\n",
    "\n",
    "\"\"\"\n",
    "Module showing how doctests can be included with source code\n",
    "Each '>>>' line is run as if in a python shell, and counts as a test.\n",
    "The next line, if not '>>>' is the expected output of the previous line.\n",
    "If anything doesn't match exactly (including trailing spaces), the test fails.\n",
    "\"\"\"\n",
    " \n",
    "def multiply(a, b):\n",
    "    \"\"\"\n",
    "    >>> multiply(4, 3)\n",
    "    12\n",
    "    >>> multiply('a', 3)\n",
    "    'aaa'\n",
    "    \"\"\"\n",
    "    return a * b"
   ]
  },
  {
   "cell_type": "code",
   "execution_count": null,
   "metadata": {},
   "outputs": [],
   "source": []
  },
  {
   "cell_type": "code",
   "execution_count": null,
   "metadata": {},
   "outputs": [],
   "source": [
    "%%writefile test_um_pytest.py\n",
    "from unnecessary_math import multiply\n",
    " \n",
    "def test_numbers_3_4():\n",
    "    assert multiply(3,4) == 12\n",
    "\n",
    "def test_strings_a_3():\n",
    "    assert multiply('a',3) == 'aaa' \n",
    " "
   ]
  },
  {
   "cell_type": "code",
   "execution_count": null,
   "metadata": {},
   "outputs": [],
   "source": []
  },
  {
   "cell_type": "code",
   "execution_count": null,
   "metadata": {},
   "outputs": [],
   "source": [
    "%%writefile test_um_pytest.py\n",
    "import unittest\n",
    "from unnecessary_math import multiply\n",
    "\n",
    "class TestUM(unittest.TestCase):\n",
    "    def test_numbers_3_4(self):\n",
    "        self.assertEqual( multiply(3,4), 12)"
   ]
  },
  {
   "cell_type": "code",
   "execution_count": null,
   "metadata": {},
   "outputs": [],
   "source": []
  },
  {
   "cell_type": "markdown",
   "metadata": {},
   "source": [
    "Test unnecessary_math with pytest\n",
    "\n",
    "    To run tests : py.test             test_um_pytest.py\n",
    "              or : python -m pytest    test_um_pytest.py\n",
    "\n",
    "    Verobse (-v) : py.test -v          test_um_pytest.py\n",
    "              or : python -m pytest -v test_um_pytest.py"
   ]
  },
  {
   "cell_type": "code",
   "execution_count": null,
   "metadata": {},
   "outputs": [],
   "source": [
    "!py.test test_um_pytest.py"
   ]
  },
  {
   "cell_type": "code",
   "execution_count": null,
   "metadata": {},
   "outputs": [],
   "source": []
  },
  {
   "cell_type": "code",
   "execution_count": null,
   "metadata": {},
   "outputs": [],
   "source": [
    "!py.test -v test_um_pytest.py"
   ]
  },
  {
   "cell_type": "code",
   "execution_count": null,
   "metadata": {},
   "outputs": [],
   "source": []
  },
  {
   "cell_type": "markdown",
   "metadata": {
    "collapsed": true
   },
   "source": [
    "### Test driven development (TDD)\n",
    "\n",
    "- Start with writing the most basic test for the beginning of your project. For example: loading a file.\n",
    "- Run the test and confirm that it fails.\n",
    "- Write just enough code to pass your test\n",
    "- Confirm that the test passes\n",
    "- Write another test for the next small piece of your project or code\n",
    "- Write just enough to pass the test\n",
    "- Repeat until your code is done"
   ]
  },
  {
   "cell_type": "markdown",
   "metadata": {},
   "source": [
    "## Logging"
   ]
  },
  {
   "cell_type": "markdown",
   "metadata": {},
   "source": [
    "Basic logging example:"
   ]
  },
  {
   "cell_type": "code",
   "execution_count": null,
   "metadata": {},
   "outputs": [],
   "source": [
    "import logging\n",
    "\n",
    "logging.basicConfig(filename='example.log',level=logging.DEBUG)\n",
    "logging.debug('This message should go to the log file')\n",
    "logging.info('So should this')\n",
    "logging.warning('And this, too')"
   ]
  },
  {
   "cell_type": "code",
   "execution_count": null,
   "metadata": {},
   "outputs": [],
   "source": []
  },
  {
   "cell_type": "markdown",
   "metadata": {},
   "source": [
    "Logging across multiple source code files or modules:"
   ]
  },
  {
   "cell_type": "code",
   "execution_count": null,
   "metadata": {},
   "outputs": [],
   "source": [
    "%%writefile mylib.py\n",
    "import logging\n",
    "\n",
    "def do_something():\n",
    "    logging.info('Doing something')\n",
    "    print(\"hello\")\n",
    "    "
   ]
  },
  {
   "cell_type": "code",
   "execution_count": null,
   "metadata": {},
   "outputs": [],
   "source": []
  },
  {
   "cell_type": "code",
   "execution_count": null,
   "metadata": {},
   "outputs": [],
   "source": [
    "# myapp.py\n",
    "import logging\n",
    "import mylib\n",
    "\n",
    "def main():\n",
    "    logging.basicConfig(filename='myapp.log', level=logging.INFO)\n",
    "    logging.info('Started')\n",
    "    mylib.do_something()\n",
    "    logging.info('Finished')\n",
    "\n",
    "if __name__ == '__main__':\n",
    "    main()"
   ]
  },
  {
   "cell_type": "code",
   "execution_count": null,
   "metadata": {},
   "outputs": [],
   "source": []
  },
  {
   "cell_type": "markdown",
   "metadata": {
    "collapsed": true
   },
   "source": [
    "For more: https://awesome-python.com/#logging"
   ]
  },
  {
   "cell_type": "markdown",
   "metadata": {},
   "source": [
    "## Command line Arguments"
   ]
  },
  {
   "cell_type": "markdown",
   "metadata": {
    "collapsed": true
   },
   "source": [
    "    import argparse\n",
    "\n",
    "    parser = argparse.ArgumentParser()\n",
    "    parser.parse_args()"
   ]
  },
  {
   "cell_type": "code",
   "execution_count": null,
   "metadata": {},
   "outputs": [],
   "source": [
    "#!~/anaconda/bin python\n",
    "\n",
    "# import modules used here -- sys is a very standard one\n",
    "import sys, argparse, logging\n",
    "\n",
    "# Gather our code in a main() function\n",
    "def main(args, loglevel):\n",
    "    logging.basicConfig(format=\"%(levelname)s: %(message)s\", level=loglevel)\n",
    "  \n",
    "    # TODO Replace this with your actual code.\n",
    "    print(\"Hello there.\")\n",
    "    logging.info(\"You passed an argument.\")\n",
    "    logging.debug(\"Your Argument: %s\" % args.argument)\n",
    " \n",
    "# Standard boilerplate to call the main() function to begin the program.\n",
    "if __name__ == '__main__':\n",
    "    parser = argparse.ArgumentParser(description = \"Does a thing to some stuff.\",\n",
    "                                     epilog = \"As an alternative to the commandline, \\\n",
    "                                     params can be placed in a file, one per line, and \n",
    "                                     specified on the commandline like '%(prog)s @params.conf'.\",\n",
    "                                     fromfile_prefix_chars = '@' )\n",
    "    # TODO Specify your real parameters here.\n",
    "    parser.add_argument(\"argument\",\n",
    "                        help = \"pass ARG to the program\",\n",
    "                        metavar = \"ARG\")\n",
    "    parser.add_argument(\"-v\",\n",
    "                        \"--verbose\",\n",
    "                        help=\"increase output verbosity\",\n",
    "                        action=\"store_true\")\n",
    "    args = parser.parse_args()\n",
    "  \n",
    "    # Setup logging\n",
    "    if args.verbose:\n",
    "        loglevel = logging.DEBUG\n",
    "    else:\n",
    "        loglevel = logging.INFO\n",
    "  \n",
    "main(args, loglevel)"
   ]
  },
  {
   "cell_type": "markdown",
   "metadata": {},
   "source": [
    "Python script template with argparse in it: https://gist.github.com/burkesquires/2bab01406597312a2ef0cc74128df89f"
   ]
  },
  {
   "cell_type": "markdown",
   "metadata": {},
   "source": [
    "You can also check out [python fire](https://github.com/google/python-fire) from Google that generates CLI"
   ]
  },
  {
   "cell_type": "markdown",
   "metadata": {},
   "source": [
    "---"
   ]
  },
  {
   "cell_type": "markdown",
   "metadata": {},
   "source": [
    "## Object Oriented Programming"
   ]
  },
  {
   "cell_type": "markdown",
   "metadata": {},
   "source": [
    "[Source](https://www2.unil.ch/phylo/teaching/python/lecture3.pdf)\n",
    "\n",
    "Object-oriented programming: a programming paradigm based on the concept of “objects”, which are data structures containing data (or attributes) and methods (or procedures).\n",
    "\n",
    "### Objects in python\n",
    "\n",
    "We have already used objects.\n",
    "\n",
    "n = 12 # n is an object of type integer\n",
    "s = ’ACAGATC’ # s is an object of type string\n",
    "l = [12, ’A’, 21121, ’ACCAT’] # ls is an object of type list\n",
    "\n",
    "These objects\n",
    "\n",
    "- contain data (the number 12, the string ’ACAGCTC’, . . .)\n",
    "- can be modified/manipulated\n",
    "\n",
    "        s.count(’A’) \n",
    "        s.lower() \n",
    "        l.append(’121’) \n",
    "   \n",
    "    \n",
    "### Extending data types\n",
    "\n",
    "Python standard data types\n",
    "\n",
    "For most simple programs, we can usually survive well with standard Python data types. This includes\n",
    "- numbers, strings\n",
    "- tuples, lists, sets, dictionaries\n",
    "\n",
    "__Defining your own data types__\n",
    "\n",
    "It might be useful though to create your own data types: objects built to your own specifications and organised in the way convenient to you.\n",
    "This is done through an object definitions known as classes.\n",
    "                        \n",
    "#### Class vs object\n",
    "\n",
    "Implementation vs instantiation\n",
    "\n",
    "The class is the definition of a particular kind of object in terms of its component features and how it is constructed or implemented in the code.\n",
    "The object is a specific instance of the thing which has been made according to the class definition. Everything that exists in Python is an object.\n",
    "\n",
    "\n",
    "#### Classes vs functions\n",
    "\n",
    "Functions _do_ specific things, classes _are_ specific things that can also _do_ speficic things.\n",
    "\n",
    "Classes can have methods, which are functions that are associated with a particular class, and do things associated with the thing that the class is - but if all you want is to do something, a function is all you need.\n",
    "\n",
    "\n",
    "#### OOP in Python\n",
    "\n",
    "Common principle of OOP is that a class definition\n",
    "- makes available certain functionality\n",
    "-   hides internal information about how a specific class is implemented\n",
    "\n",
    "This is called encapsulation and information hiding.\n",
    "\n",
    "Python is however quite permissive and you can access any element of an object if you know how to do that.\n",
    "                        "
   ]
  },
  {
   "cell_type": "markdown",
   "metadata": {},
   "source": [
    "### An example\n",
    "\n",
    "__A sequence object__\n",
    "\n",
    "We need to store data:\n",
    "\n",
    "- species name\n",
    "- sequence in DNA and amino-acid   protein name\n",
    "- length of the sequences\n",
    "- percentage of GC\n",
    "- ...\n",
    "\n",
    "We need to be able to manipulate the data using methods:\n",
    "- add/remove nucleotide or amino-acid (and update the other data dependent on it)\n",
    "- translate DNA to amino-acid and inversely\n",
    "- print the sequence in various ways\n",
    "- calculate some characteristics\n",
    "- ...\n",
    "                      \n",
    "          "
   ]
  },
  {
   "cell_type": "markdown",
   "metadata": {},
   "source": [
    "### Class definition\n",
    "\n",
    "    class Sequence:\n",
    "        # some statements\n",
    "        \n",
    "        \n",
    "- common practice to save each class into their specific files. Use then the from Sequence import Sequence"
   ]
  },
  {
   "cell_type": "markdown",
   "metadata": {},
   "source": [
    "### Inheritance\n",
    "\n",
    "    class MultipleSeqAl(Sequence):\n",
    "        # some statements\n",
    "\n",
    "- inheriting methods from a superclass\n",
    "- classes can have more than one superclass\n",
    "                        "
   ]
  },
  {
   "cell_type": "markdown",
   "metadata": {},
   "source": [
    "### Class functions\n",
    "\n",
    "Providing object capabilities\n",
    "\n",
    "- functions are defined within the construction of a class\n",
    "- defined in the same way as ordinary functions (indented within the class code block)\n",
    "- accessed from the variable representing the object via ’dot’ syntax \n",
    "\n",
    "        name = mySequence.getName()\n",
    "\n",
    "- getName() knows which Sequence object to use when fetching the name\n",
    "\n",
    "first argument is special: it is the object called from (self)"
   ]
  },
  {
   "cell_type": "code",
   "execution_count": null,
   "metadata": {},
   "outputs": [],
   "source": [
    "class Sequence:\n",
    "    \n",
    "    def getName(self):\n",
    "        return(self.name)\n",
    "    \n",
    "    def getCapitalisedName(self): \n",
    "        name = self.getName()\n",
    "        if name:\n",
    "            return(name.capitalize())\n",
    "        else:\n",
    "            return(name)"
   ]
  },
  {
   "cell_type": "markdown",
   "metadata": {},
   "source": [
    "Remarks on functions\n",
    "\n",
    "__Order of functions__\n",
    "\n",
    "- order of functions does not matter\n",
    "- if function definition appears more than once, the last instead replaces the previous one\n",
    "\n",
    "        class MultipleSeqAl(Sequence): \n",
    "            def getMSA(self):\n",
    "                # function implementation\n",
    "\n",
    "            def getSequenceIdentity(self): \n",
    "                # function implementation\n",
    "\n",
    "Using subclasses\n",
    "- call specific functions as ususal msa.getMultipleSeqAl()\n",
    "- can also call msa.getName() from Sequence directly because of inheritance\n",
    "- however, .getMSA() cannot be accessed from an object Sequence"
   ]
  },
  {
   "cell_type": "markdown",
   "metadata": {},
   "source": [
    "__Object attributes__\n",
    "- Variables tied to the object\n",
    "- attributes hold information useful for the object and its functions\n",
    "- e.g. associate a variable storing sequence name in Sequence objects\n",
    "\n",
    "__Class attributes__\n",
    "- specific to a particular object\n",
    "- defined inside class functions\n",
    "- use the self keyword to access it\n",
    "\n",
    "__Object attributes__\n",
    "- available to all instances of a class\n",
    "- defined outside all function blocks\n",
    "- usually used for variable that do not change   accessed directly using the variable name\n",
    "- bare function names are also class attributes"
   ]
  },
  {
   "cell_type": "markdown",
   "metadata": {},
   "source": [
    "__Examples of class attributes__"
   ]
  },
  {
   "cell_type": "markdown",
   "metadata": {},
   "source": [
    "#### Object life cycle\n",
    "\n",
    "__Birth, life and death__\n",
    "- creation of object handled in a special function called constructor\n",
    "- removal is handled by a function called destructor\n",
    "- Python has automatic garbage collection, usually no need to define a destructor\n",
    "\n",
    "__Class constructor__\n",
    "- called whenever the corresponding object is created\n",
    "- use a special name: __init__\n",
    "- first argument is the object itself (i.e. self)\n",
    "- any other arguments you need to create the object\n",
    "- good idea to introduce a key to uniquely identifies objects of a given class\n",
    "                        "
   ]
  },
  {
   "cell_type": "markdown",
   "metadata": {},
   "source": [
    "When to create attributes\n",
    "- attributes can be created in any class function (or directly on the object)\n",
    "- convention to create most of them in the constructor either directly or through the call to a function\n",
    "- set it to None if it cannot be set at object creation \n",
    "- constructor are inherited by subclasses\n",
    "                      "
   ]
  },
  {
   "cell_type": "code",
   "execution_count": null,
   "metadata": {},
   "outputs": [],
   "source": [
    "class Sequence:\n",
    "    \n",
    "     # A class attribute. It is shared by all instances of this class\n",
    "    sequence_type = \"sequence\"\n",
    "\n",
    "    # Basic initializer, this is called when this class is instantiated.\n",
    "    # Note that the double leading and trailing underscores denote objects\n",
    "    # or attributes that are used by python but that live in user-controlled\n",
    "    # namespaces. Methods(or objects or attributes) like: __init__, __str__,\n",
    "    # __repr__ etc. are called magic methods (or sometimes called dunder methods)\n",
    "    # You should not invent such names on your own.\n",
    "    \n",
    "    def __init__(self, string):\n",
    "        \n",
    "        # Assign the argument (string) to the instance's seq attribute\n",
    "        self.seq = string\n",
    "\n",
    "        # Initialize property\n",
    "        self.length = len(self.seq)\n",
    "\n",
    "        # Initialize property\n",
    "        self.source = \"\"\n",
    "\n",
    "\n",
    "    # A class method is shared among all instances\n",
    "    # They are called with the calling class as the first argument\n",
    "    @classmethod\n",
    "    def get_seq(cls):\n",
    "        return cls.seq\n",
    "\n",
    "    # A property is just like a getter.\n",
    "    # It turns the method len() into an read-only attribute of the same name.\n",
    "    @property\n",
    "    def lenth(self):\n",
    "        return self._length\n",
    "\n",
    "    # A property is just like a getter.\n",
    "    # It turns the method len() into an read-only attribute of the same name.\n",
    "    @property\n",
    "    def source(self):\n",
    "        return self._source\n",
    "\n",
    "    # This allows the property to be set\n",
    "    @source.setter\n",
    "    def source(self, source):\n",
    "        self._source = source"
   ]
  },
  {
   "cell_type": "code",
   "execution_count": null,
   "metadata": {},
   "outputs": [],
   "source": [
    "# Instantiate a class\n",
    "seq1 = Sequence(\"atcg\")\n",
    "seq1.source = \"NIH\"\n",
    "\n",
    "seq2 = Sequence(\"ttaggg\")\n",
    "seq2.source = \"UTSW\" \n",
    "\n",
    "# seq1 and seq2 are instances of type Sequence, or in other words: they are Sequence objects\n",
    "\n",
    "# Call our class method\n",
    "print(seq1.source)\n",
    "print(seq1.seq)\n",
    "print(seq2.source)\n",
    "print(seq2.seq)"
   ]
  },
  {
   "cell_type": "markdown",
   "metadata": {},
   "source": [
    "## Multiple Inheritance"
   ]
  },
  {
   "cell_type": "code",
   "execution_count": null,
   "metadata": {},
   "outputs": [],
   "source": [
    "# Another class definition\n",
    "class DNA_Sequence(Sequence):\n",
    "\n",
    "    sequence_type = \"DNA\"\n",
    "\n",
    "    def __init__(self, seq, gc_percentage=0.0):\n",
    "        self.gc = gc_percentage\n",
    "        self.adapter = False\n",
    "        super().__init__(seq)\n",
    "\n",
    "    # And its own method as well\n",
    "    def get_gc(self):\n",
    "        return self.gc"
   ]
  },
  {
   "cell_type": "code",
   "execution_count": null,
   "metadata": {},
   "outputs": [],
   "source": [
    "dna = DNA_Sequence('atgc', 0.5)\n",
    "dna.source = \"NIH\"\n",
    "\n",
    "print(dna.get_gc())\n",
    "print(dna.source)"
   ]
  },
  {
   "cell_type": "markdown",
   "metadata": {},
   "source": [
    "To take advantage of modularization by file you could place the classes above in their own files,\n",
    "\n",
    "say, sequence.py and dna_sequence.py\n",
    "\n",
    "to import functions from other files use the following format\n",
    "\n",
    "    from \"filename-without-extension\" import \"function-or-class\"\n",
    "\n",
    "    # dna_sequence.py\n",
    "    from sequence import Sequence"
   ]
  },
  {
   "cell_type": "markdown",
   "metadata": {
    "collapsed": true
   },
   "source": [
    "#### Advantages and Disadvantages of Object-Oriented Programming (OOP)\n",
    "[Source](https://www.saylor.org/site/wp-content/uploads/2013/02/CS101-2.1.2-AdvantagesDisadvantagesOfOOP-FINAL.pdf)\n",
    "\n",
    "Some of the advantages of object-oriented programming include:\n",
    "1. Improved software-development productivity: modularity, extensibility, and reusability\n",
    "2. Improved software maintainability\n",
    "3. Faster development: Reuse enables faster development\n",
    "4. Lower cost of development: Reuse of software also lowers the cost of development\n",
    "5. Higher-quality software: More time for verification \n",
    "\n",
    "\n",
    "Disadvantages of object-oriented programming include:\n",
    "1. Steep learning curve\n",
    "2. Larger program size: OOP typically involve more lines of code than procedural programs\n",
    "3. Slower programs\n",
    "4. Not suitable for all types of problems: There are problems that lend themselves well to functional-programming style, logic-programming style, or procedure-based programming style, and applying object-oriented programming in those situations will not result in efficient programs.  "
   ]
  },
  {
   "cell_type": "markdown",
   "metadata": {},
   "source": [
    "## Decorators"
   ]
  },
  {
   "cell_type": "markdown",
   "metadata": {},
   "source": [
    "[Source](http://book.pythontips.com/en/latest/decorators.html)\n",
    "\n",
    "Decorators are functions which modify the functionality of another function.\n",
    "\n",
    "Decorators let you execute code before and after a function."
   ]
  },
  {
   "cell_type": "code",
   "execution_count": null,
   "metadata": {},
   "outputs": [],
   "source": [
    "from functools import wraps\n",
    "\n",
    "def logit(func):\n",
    "    @wraps(func)\n",
    "    def with_logging(*args, **kwargs):\n",
    "        print(func.__name__ + \" was called\")\n",
    "        return func(*args, **kwargs)\n",
    "    return with_logging\n",
    "\n",
    "@logit\n",
    "def addition_func(x):\n",
    "   \"\"\"Do some math.\"\"\"\n",
    "   return x + x"
   ]
  },
  {
   "cell_type": "code",
   "execution_count": null,
   "metadata": {},
   "outputs": [],
   "source": [
    "result = addition_func(4)\n",
    "# Output: addition_func was called"
   ]
  },
  {
   "cell_type": "markdown",
   "metadata": {
    "collapsed": true
   },
   "source": [
    "For more info: http://book.pythontips.com/en/latest/decorators.html"
   ]
  },
  {
   "cell_type": "markdown",
   "metadata": {
    "collapsed": true
   },
   "source": [
    "## Python Standard Library\n",
    "\n",
    "    datetime\n",
    "    - Enables python to work natively with dates and times\n",
    "\n",
    "    glob\n",
    "    - Enables python to return a list of files with the given extension.\n",
    "\n",
    "    itertools\n",
    "    - Advanced functions operating on lists and iterable objects.\n",
    "\n",
    "    multiprocessing\n",
    "    - Enable python to run multiple processes\n",
    "\n",
    "    os\n",
    "    - The functions that the OS module provides allows you to interface with the underlying operating system that Python is running on. (Windows, Mac or Linux) (http://www.pythonforbeginners.com/os/python-system-administration) \n",
    "\n",
    "    shutil\n",
    "    - High-level file (shell) operations\n",
    "\n",
    "    subprocess\n",
    "    - Enables python to run command line statements; like using \"!\" in Jupyter notebook"
   ]
  },
  {
   "cell_type": "markdown",
   "metadata": {},
   "source": [
    "---"
   ]
  },
  {
   "cell_type": "markdown",
   "metadata": {},
   "source": [
    "# Advanced DNA class\n",
    "\n",
    "Source: http://www.mularoni.com/python_course/advanced.html"
   ]
  },
  {
   "cell_type": "code",
   "execution_count": null,
   "metadata": {},
   "outputs": [],
   "source": [
    "%%writefile DNA_class.py\n",
    "class DNA:\n",
    "    \n",
    "    \"\"\"Class representing DNA as a string sequence.\"\"\" \n",
    "\n",
    "    basecomplement = {'a': 't', 'c': 'g', 't': 'a', 'g': 'c'} \n",
    "\n",
    "    standard = { 'ttt': 'F', 'tct': 'S', 'tat': 'Y', 'tgt': 'C',\n",
    "                 'ttc': 'F', 'tcc': 'S', 'tac': 'Y', 'tgc': 'C',\n",
    "                 'tta': 'L', 'tca': 'S', 'taa': '*', 'tca': '*',\n",
    "                 'ttg': 'L', 'tcg': 'S', 'tag': '*', 'tcg': 'W',\n",
    "\n",
    "                 'ctt': 'L', 'cct': 'P', 'cat': 'H', 'cgt': 'R',\n",
    "                 'ctc': 'L', 'ccc': 'P', 'cac': 'H', 'cgc': 'R',\n",
    "                 'cta': 'L', 'cca': 'P', 'caa': 'Q', 'cga': 'R',\n",
    "                 'ctg': 'L', 'ccg': 'P', 'cag': 'Q', 'cgg': 'R',\n",
    "\n",
    "                 'att': 'I', 'act': 'T', 'aat': 'N', 'agt': 'S',\n",
    "                 'atc': 'I', 'acc': 'T', 'aac': 'N', 'agc': 'S',\n",
    "                 'ata': 'I', 'aca': 'T', 'aaa': 'K', 'aga': 'R',\n",
    "                 'atg': 'M', 'acg': 'T', 'aag': 'K', 'agg': 'R',\n",
    "\n",
    "                 'gtt': 'V', 'gct': 'A', 'gat': 'D', 'ggt': 'G',\n",
    "                 'gtc': 'V', 'gcc': 'A', 'gac': 'D', 'ggc': 'G',\n",
    "                 'gta': 'V', 'gca': 'A', 'gaa': 'E', 'gga': 'G',\n",
    "                 'gtg': 'V', 'gcg': 'A', 'gag': 'E', 'ggg': 'G'\n",
    "                 }\n",
    "                                   \n",
    "    def __init__(self, s=\"\", name=\"\"): \n",
    "        \"\"\"Create DNA instance initialized to string s.\"\"\" \n",
    "        self.seq = s.lower()\n",
    "        self.seq = self.cleandna(self.seq)\n",
    "        self.len = len(self.seq)\n",
    "        self.name = name\n",
    "\n",
    "    def cleandna(self, s):\n",
    "        \"\"\"Return dna only composed by letters ['a', 'c', 'g', 't', 'n'].\"\"\"\n",
    "        new_sequence = \"\"\n",
    "        nucleotides = ['a', 'c', 'g', 't', 'n']\n",
    "        for c in s:\n",
    "            if c not in nucleotides:\n",
    "                continue\n",
    "            new_sequence += c\n",
    "        return new_sequence\n",
    "\n",
    "    def getname(self):\n",
    "        \"\"\"Return the name of the sequence.\"\"\"\n",
    "        if self.name:\n",
    "            return self.name\n",
    "        else:\n",
    "            return 'unknown'\n",
    "    \n",
    "    def getsequence(self):\n",
    "        \"\"\"Return the dna sequence.\"\"\"\n",
    "        return self.seq\n",
    "\n",
    "    def setname(self, name):\n",
    "        \"\"\"Set the name of the sequence.\"\"\"\n",
    "        self.name = name\n",
    "\n",
    "    def setsequence(self, s):\n",
    "        \"\"\"Set the sequence content.\"\"\"\n",
    "        self.seq = s.lower()\n",
    "        self.len = len(self.seq)\n",
    "     \n",
    "    def transcribe(self): \n",
    "        \"\"\"Return as rna string.\"\"\" \n",
    "        return self.seq.replace('t', 'u') \n",
    "     \n",
    "    def reverse(self): \n",
    "        \"\"\"Return dna string in reverse order.\"\"\" \n",
    "        letters = list(self.seq) \n",
    "        letters.reverse() \n",
    "        return ''.join(letters) \n",
    "     \n",
    "    def complement(self): \n",
    "        \"\"\"Return the complementary dna string.\"\"\"\n",
    "        comp = ''\n",
    "        letters = list(self.seq) \n",
    "        for base in letters:\n",
    "            comp += self.basecomplement[base]\n",
    "        return comp \n",
    "     \n",
    "    def reversecomplement(self): \n",
    "        \"\"\"Return the reverse complement of the dna string.\"\"\" \n",
    "        revcomp = ''\n",
    "        letters = list(self.seq) \n",
    "        letters.reverse() \n",
    "        for base in letters:\n",
    "            revcomp += self.basecomplement[base]\n",
    "        return revcomp \n",
    "     \n",
    "    def gc_percentage(self): \n",
    "        \"\"\"Return the percentage of dna composed of G+C.\"\"\" \n",
    "        s = self.seq \n",
    "        gc = s.count('g') + s.count('c') \n",
    "        return gc * 100.0 / len(s) \n",
    " \n",
    "    def translate(self, frame=1):\n",
    "        \"\"\" translate a DNA like cDNA sequence to a protein \n",
    "            possible frames 1,2,3,-1,-2,-3 \n",
    "        \"\"\"\n",
    "        possibleframe = (1,2,3,-1,-2,-3)\n",
    "        if frame not in possibleframe:\n",
    "            frame = 1  # First frame\n",
    "        if frame < 0 :\n",
    "            cdna = self.reversecomplement()\n",
    "            frame = abs(frame) - 1\n",
    "        else:\n",
    "            cdna = self.seq\n",
    "            frame = frame - 1\n",
    "        code = self.standard\n",
    "        prot = \"\"\n",
    "        i = frame  # Starting frame\n",
    "        while i <= len(cdna) - 3:  # While there are at least 3 letters\n",
    "            prot += code.get(cdna[i:i+3], \"?\")\n",
    "            i += 3\n",
    "        return prot"
   ]
  },
  {
   "cell_type": "code",
   "execution_count": null,
   "metadata": {},
   "outputs": [],
   "source": [
    "# This is how we load the class \n",
    "from DNA_class import DNA \n",
    "\n",
    "dir(DNA)\n",
    "['__doc__', '__init__', '__module__', 'basecomplement', 'complement', 'gc_percentage', 'getname', 'getsequence', \n",
    "'reverse', 'reversecomplement', 'setname', 'setsequence', 'standard', 'transcribe', 'translate']\n",
    "\n",
    "# Now let's use it!\n",
    "dna1 = DNA('CGACAAGGATTAGTAGTTTAC','mydna1')\n",
    "dna2 = DNA('gcctgaaattgcgcgc')\n",
    "dna1.getname()\n",
    "'mydna1'\n",
    "\n",
    "dna2.getname()\n",
    "'unknown'\n",
    "\n",
    "dna1.getsequence()\n",
    "'cgacaaggattagtagtttac'\n",
    "\n",
    "dna2.getsequence()\n",
    "'gcctgaaattgcgcgc'\n",
    "\n",
    "dna3 = DNA()\n",
    "dna3.getsequence()\n",
    "''\n",
    "\n",
    "dna3.getname()\n",
    "'unknown'\n",
    "\n",
    "dna3.setsequence('gcCVnn % tgacKLtcg')\n",
    "dna3.setname('dna3')\n",
    "dna3.getname()\n",
    "'dna3'\n",
    "\n",
    "dna3.getsequence()\n",
    "'gccnntgactcg'\n",
    "\n",
    "\n",
    "dna = DNA('CGACAAGGATTAGTAGTTTAC', 'mydna')\n",
    "dna.getsequence()\n",
    "'cgacaaggattagtagtttac'\n",
    "\n",
    "dna.transcribe()\n",
    "'cgacaaggauuaguaguuuac'\n",
    "\n",
    "dna1.reverse()\n",
    "'catttgatgattaggaacagc'\n",
    "\n",
    "dna.complement()\n",
    "'gctgttcctaatcatcaaatg'\n",
    "\n",
    "dna.reversecomplement()\n",
    "'gtaaactactaatccttgtcg'\n",
    "\n",
    "dna.gc_percentage()\n",
    "38.095238095238095\n",
    "\n",
    "dna.translate()    # default frame = 1\n",
    "'RQGLVVY'\n",
    "dna.translate(1)   # frame 1\n",
    "'RQGLVVY'\n",
    "dna.translate(2)   # frame 2\n",
    "'DKD**F'\n",
    "dna.translate(3)   # frame 3\n",
    "'TRISSL'\n",
    "dna.translate(-1)  # frame complement 1\n",
    "'VNY*SLW'\n",
    "dna.translate(-2)  # frame complement 2\n",
    "'*TTNPC'\n",
    "dna.translate(-3)  # frame complement 3\n",
    "'KLLILV'"
   ]
  },
  {
   "cell_type": "markdown",
   "metadata": {},
   "source": [
    "---"
   ]
  },
  {
   "cell_type": "markdown",
   "metadata": {},
   "source": [
    "---\n",
    "\n",
    "My thanks for Ryan Dale, Brenden Jeffrey, and Philip Macmenamin on advice on what to include in this seminar.\n",
    "\n",
    "---"
   ]
  },
  {
   "cell_type": "markdown",
   "metadata": {},
   "source": [
    "# Resources:    "
   ]
  },
  {
   "cell_type": "markdown",
   "metadata": {},
   "source": [
    "- [Python 3 Reference card](https://dzone.com/refcardz/core-python)\n",
    "- [Awesome python](http://awesome-python.com)\n",
    "- https://pythontips.com/2013/09/01/best-python-resources/\n",
    "\n",
    "- http://book.pythontips.com/en/latest/ (intermediate python)\n",
    "- http://www.codeconquest.com/blog/the-50-best-websites-to-learn-python/\n",
    "- http://book.pythontips.com/en/latest/#\n",
    "\n",
    "Intermediate and advanced Python Resources:\n",
    "- https://jeffknupp.com/blog/2014/06/18/improve-your-python-python-classes-and-object-oriented-programming/\n",
    "- https://gist.github.com/kalefranz/94370b293f8c1a693b278f64381faf07\n",
    "- http://www.codeconquest.com/blog/the-50-best-websites-to-learn-python/\n",
    "- http://intermediatepythonista.com\n",
    "- http://www.shahmoradi.org/ECL2017S/lecture/11-python-advanced-decorator-class\n",
    "- http://www.davekuhlman.org/python_201.html\n",
    "- https://uoftcoders.github.io/studyGroup/lessons/python/intermediate/lesson/\n",
    "- https://www.quora.com/What-are-the-advanced-topics-in-python\n",
    "- https://stackabuse.com/object-oriented-programming-in-python/\n",
    "- https://jeffknupp.com/blog/2018/10/11/write-better-python-functions/\n",
    "- https://www.tutorialspoint.com/python/python_classes_objects.htm"
   ]
  },
  {
   "cell_type": "code",
   "execution_count": null,
   "metadata": {},
   "outputs": [],
   "source": []
  }
 ],
 "metadata": {
  "kernelspec": {
   "display_name": "Python 3",
   "language": "python",
   "name": "python3"
  },
  "language_info": {
   "codemirror_mode": {
    "name": "ipython",
    "version": 3
   },
   "file_extension": ".py",
   "mimetype": "text/x-python",
   "name": "python",
   "nbconvert_exporter": "python",
   "pygments_lexer": "ipython3",
   "version": "3.6.6"
  }
 },
 "nbformat": 4,
 "nbformat_minor": 2
}
