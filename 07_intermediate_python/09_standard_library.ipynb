{
 "cells": [
  {
   "cell_type": "markdown",
   "metadata": {},
   "source": [
    "# Intermediate Python"
   ]
  },
  {
   "cell_type": "markdown",
   "metadata": {},
   "source": [
    "## Python Standard Library\n",
    "\n",
    "    datetime\n",
    "    - Enables python to work natively with dates and times\n",
    "\n",
    "    glob\n",
    "    - Enables python to return a list of files with the given extension.\n",
    "\n",
    "    itertools\n",
    "    - Advanced functions operating on lists and iterable objects.\n",
    "\n",
    "    multiprocessing\n",
    "    - Enable python to run multiple processes\n",
    "\n",
    "    os\n",
    "    - The functions that the OS module provides allows you to interface with the underlying operating system that Python is running on. (Windows, Mac or Linux) (http://www.pythonforbeginners.com/os/python-system-administration) \n",
    "\n",
    "    shutil\n",
    "    - High-level file (shell) operations\n",
    "\n",
    "    subprocess\n",
    "    - Enables python to run command line statements; like using \"!\" in Jupyter notebook"
   ]
  },
  {
   "cell_type": "markdown",
   "metadata": {},
   "source": [
    "---"
   ]
  },
  {
   "cell_type": "markdown",
   "metadata": {},
   "source": [
    "# Collections\n",
    "Souce: Tyler Folkman\n",
    "\n",
    "\n",
    "Python has a lot of great libraries included out of the box. One of which is [**collections**](https://docs.python.org/2/library/collections.html). The collections module provides “high-performance container datatypes” which provide alternatives to the general-purpose containers dict, list, set, and tuple. I’d love to introduce you to three of these datatypes and in the end, **you’ll be wondering how you ever lived without them.**"
   ]
  },
  {
   "cell_type": "markdown",
   "metadata": {},
   "source": [
    "## NamedTuple\n",
    "\n",
    "I can’t overstate how useful [namedtuples](https://docs.python.org/2/library/collections.html#collections.namedtuple) can be for data scientists. Let me know if this scenario sounds familiar: You are doing feature engineering and since you love lists, you just keep appending the features to a list, which you then feed into your machine learning model. Soon, you might have hundreds of features and that’s when things get messy. You no longer remember which feature refers to which index in your list. Worse, when someone else looks at your code, they have no idea what is going on with this monstrous list of features.\n",
    "\n",
    "> Enter NamedTuples to save the day.\n",
    "\n",
    "**With just a few extra lines of code, your crazy messy list will be restored to order**. Let’s take a look"
   ]
  },
  {
   "cell_type": "code",
   "execution_count": null,
   "metadata": {},
   "outputs": [],
   "source": [
    "from collections import namedtuple\n",
    "Features = namedtuple('Features', ['age', 'gender', 'name'])\n",
    "row = Features(age=22, gender='male', name='Alex')\n",
    "print(row.age)"
   ]
  },
  {
   "cell_type": "markdown",
   "metadata": {},
   "source": [
    "If you were to run this code, it would print out “22”, the age you stored in your row. This is amazing! Now you don’t have to use indexes to access your features but instead can use human-understandable names. This makes your code significantly more maintainable and clean."
   ]
  },
  {
   "cell_type": "markdown",
   "metadata": {},
   "source": [
    "## Counter\n",
    "\n",
    "[Counter](https://docs.python.org/2/library/collections.html#collections.Counter) is aptly named — its main function is counting. This sounds simple, but it turns out that **data scientists often have to count things**, so it can be very handy.\n",
    "\n",
    "There are a few ways it can be initialized, but I most often have a list of values and feed that list in as so"
   ]
  },
  {
   "cell_type": "code",
   "execution_count": null,
   "metadata": {},
   "outputs": [],
   "source": [
    "from collections import Counter\n",
    "ages = [22, 22, 25, 25, 30, 24, 26, 24, 35, 45, 52, 22, 22, 22, 25, 16, 11, 15, 40, 30]\n",
    "value_counts = Counter(ages)\n",
    "print(value_counts.most_common())"
   ]
  },
  {
   "cell_type": "markdown",
   "metadata": {},
   "source": [
    "If you were to run the above code (which you can by using this [awesome tool](https://www.pythonanywhere.com/gists/)), you would get the following output:\n",
    "\n",
    "<pre class=\"hl hm hn ho hp kb kc du\"><span id=\"ebd8\" class=\"kd je cn ar ke b bj kf kg r kh\">[(22, 5), (25, 3), (24, 2), (30, 2), (35, 1), (40, 1), (11, 1), (45, 1), (15, 1), (16, 1), (52, 1), (26, 1)]</span></pre>\n",
    "\n",
    "A list of tuples ordered by the most common where the tuple first contains the value and then the count. So we can now quickly see that 22 is the most common age with 5 occurrences and that there is a long-tail of ages with only 1 count. Nice!"
   ]
  },
  {
   "cell_type": "markdown",
   "metadata": {},
   "source": [
    "## DefaultDict\n",
    "\n",
    "This is one of my favorites. [DefaultDict](https://docs.python.org/2/library/collections.html#collections.defaultdict) is a dictionary that is initialized with a default value when each key is encountered for the first time. Here is an example"
   ]
  },
  {
   "cell_type": "markdown",
   "metadata": {},
   "source": [
    "<div class=\"ka r\"><iframe src=\"https://towardsdatascience.com/media/355c8e7c4638a88d02e2a30a35b7a9b3\" allowfullscreen=\"\" frameborder=\"0\" height=\"0\" width=\"0\" title=\"defaultdict\" class=\"ey t u hv ak\" scrolling=\"auto\"></iframe></div>"
   ]
  },
  {
   "cell_type": "code",
   "execution_count": null,
   "metadata": {},
   "outputs": [],
   "source": [
    "from collections import defaultdict\n",
    "my_default_dict = defaultdict(int)\n",
    "for letter in 'the red fox ran as fast as it could':\n",
    "\tmy_default_dict[letter] += 1\n",
    "print(my_default_dict)"
   ]
  },
  {
   "cell_type": "markdown",
   "metadata": {},
   "source": [
    "Normally, when you try and access a value not in a dictionary it throws an error. There are other ways to handle this, but they add unnecessary code when you have a default value you want to assume. In our example above, we initialize the defauldict with int. That means on first access, it will assume a zero, so we can easily just keep adding up the counts of all of the characters. **Simple and clean**. Another common initialization is list, which allows you to immediately start appending values upon first access.\n",
    "\n",
    "__Go Write Cleaner Code__\n",
    "\n",
    "Now that you know about the collections library and some of its awesome features, go use them! You’ll be surprised by how often they are useful and how much nicer your code will be. Enjoy!"
   ]
  },
  {
   "cell_type": "code",
   "execution_count": null,
   "metadata": {},
   "outputs": [],
   "source": []
  }
 ],
 "metadata": {
  "kernelspec": {
   "display_name": "Python 3",
   "language": "python",
   "name": "python3"
  },
  "language_info": {
   "codemirror_mode": {
    "name": "ipython",
    "version": 3
   },
   "file_extension": ".py",
   "mimetype": "text/x-python",
   "name": "python",
   "nbconvert_exporter": "python",
   "pygments_lexer": "ipython3",
   "version": "3.7.6"
  }
 },
 "nbformat": 4,
 "nbformat_minor": 4
}
