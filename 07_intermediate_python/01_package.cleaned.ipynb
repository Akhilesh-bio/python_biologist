{
 "cells": [
  {
   "cell_type": "markdown",
   "execution_count": null,
   "metadata": {},
   "outputs": [],
   "source": [
    "# Intermediate Python"
   ]
  },
  {
   "cell_type": "markdown",
   "execution_count": null,
   "metadata": {},
   "outputs": [],
   "source": [
    "---"
   ]
  },
  {
   "cell_type": "markdown",
   "execution_count": null,
   "metadata": {},
   "outputs": [],
   "source": [
    "## Packages"
   ]
  },
  {
   "cell_type": "markdown",
   "execution_count": null,
   "metadata": {},
   "outputs": [],
   "source": [
    "[PyPI](https://pypi.python.org/pypi) has ~123,358+ package in it!"
   ]
  },
  {
   "cell_type": "markdown",
   "execution_count": null,
   "metadata": {},
   "outputs": [],
   "source": [
    "### Package installation with Anaconda Navigator\n",
    "\n",
    "You can use the Anaconda Navigator GUI to install packages.\n",
    "\n",
    "__Guided demo__"
   ]
  },
  {
   "cell_type": "markdown",
   "execution_count": null,
   "metadata": {},
   "outputs": [],
   "source": [
    "### Package installation with Conda\n",
    "\n",
    "Many packages in conda, but not all\n",
    "\n",
    "    conda update conda\n",
    "    conda install biopython\n",
    "\n",
    "(Note there is also bioconda for install bioinfomatics programs. We will see more in a future seminar.)"
   ]
  },
  {
   "cell_type": "markdown",
   "execution_count": null,
   "metadata": {},
   "outputs": [],
   "source": [
    "### Package installation with pip\n",
    "\n",
    "To install the latest version of “SomeProject”:\n",
    "\n",
    "    pip install 'SomeProject'\n",
    "\n",
    "To install a specific version:\n",
    "\n",
    "    pip install 'SomeProject==1.4'\n",
    "\n",
    "To install greater than or equal to one version and less than another:\n",
    "\n",
    "    pip install 'SomeProject>=1,<2'\n",
    "\n",
    "    pip install --upgrade SomeProject\n",
    "\n",
    "NOTE: You can also install directly from a juyter notebook but need to use the `-y` option to respond to the \"yes\" to install."
   ]
  },
  {
   "cell_type": "markdown",
   "execution_count": null,
   "metadata": {},
   "outputs": [],
   "source": [
    "#### Installing from VCS\n",
    "\n",
    "Install a project from VCS in “editable” mode. For a full breakdown of the syntax, see pip’s section on VCS Support.\n",
    "\n",
    "    pip install -e git+https://git.repo/some_pkg.git#egg=SomeProject          # from git\n",
    "    pip install -e hg+https://hg.repo/some_pkg.git#egg=SomeProject            # from mercurial\n",
    "    pip install -e svn+svn://svn.repo/some_pkg/trunk/#egg=SomeProject         # from svn\n",
    "    pip install -e git+https://git.repo/some_pkg.git@feature#egg=SomeProject  # from a branch\n",
    "\n",
    "\n",
    "requirements.py\n",
    "\n",
    "    pip install -r requirements.txt\n",
    "\n",
    "More information: https://packaging.python.org/installing/"
   ]
  },
  {
   "cell_type": "markdown",
   "execution_count": null,
   "metadata": {},
   "outputs": [],
   "source": [
    "---"
   ]
  },
  {
   "cell_type": "markdown",
   "execution_count": null,
   "metadata": {},
   "outputs": [],
   "source": [
    "## Importing Modules"
   ]
  },
  {
   "cell_type": "markdown",
   "execution_count": null,
   "metadata": {},
   "outputs": [],
   "source": [
    "[Source](https://www.blog.pythonlibrary.org/2016/03/01/python-101-all-about-imports/)\n",
    "\n",
    "\n",
    "Utilizing modules or packages in python is a two-step process.\n",
    "\n",
    "1. They must be installed on the computer you want to use them with; this only has to be done once but occasional updates are necessary\n",
    "1. You must import a module or package into your script once for each script you write.\n",
    "\n",
    "We will see some advice on importing in the PEP8 guidelines. PyCharm also assists users with organizing imports. \n",
    "\n",
    "\n",
    "A regular import, and quite possibly the most popular goes like this:\n",
    "\n",
    "```python\n",
    "import sys\n",
    "```\n",
    "    \n",
    "All you need to do is use the word “import” and then specify what module or package you want to actually import. The nice thing about import though is that it can also import multiple package at once:\n",
    "\n",
    "```python\n",
    "import os, sys, time\n",
    "```\n",
    "\n",
    "While this is a space-saver, it’s goes against the [Python Style Guide’s recommendations](https://www.python.org/dev/peps/pep-0008/#imports) of putting each import on its own line.\n",
    "\n",
    "Sometimes when you import a module, you want to rename it. Python supports this quite easily:\n",
    "\n",
    "```python\n",
    "import sys as system\n",
    "print(system.platform)\n",
    "```\n",
    "\n",
    "This piece of code simply renames our import to “system”. We can call all of the modules methods the same way before, but with the new name. There are also certain submodules that have to be imported using dot notation:\n",
    "\n",
    "```python\n",
    "import urllib.error\n",
    "```\n",
    "\n",
    "You won’t see these very often, but they’re good to know about."
   ]
  },
  {
   "cell_type": "markdown",
   "execution_count": null,
   "metadata": {},
   "outputs": [],
   "source": [
    "## Environment"
   ]
  },
  {
   "cell_type": "markdown",
   "execution_count": null,
   "metadata": {},
   "outputs": [],
   "source": [
    "We will use the Anaconda Navigator to create and run a new environment.\n",
    "\n",
    "Manage envronments in anaconda\n",
    "\n",
    "How to start a new Jupyter notebook in an environment"
   ]
  },
  {
   "cell_type": "markdown",
   "execution_count": null,
   "metadata": {},
   "outputs": [],
   "source": [
    "__DEMO__"
   ]
  },
  {
   "cell_type": "markdown",
   "execution_count": null,
   "metadata": {},
   "outputs": [],
   "source": [
    "__On Your Own (OYO)__\n",
    "\n",
    "python2 vs python3 and the six package\n",
    "\n",
    "http://book.pythontips.com/en/latest/targeting_python_2_3.html"
   ]
  }
 ],
 "metadata": {
  "kernelspec": {
   "display_name": "Python 3",
   "language": "python",
   "name": "python3"
  },
  "language_info": {
   "codemirror_mode": {
    "name": "ipython",
    "version": 3
   },
   "file_extension": ".py",
   "mimetype": "text/x-python",
   "name": "python",
   "nbconvert_exporter": "python",
   "pygments_lexer": "ipython3",
   "version": "3.7.4"
  }
 },
 "nbformat": 4,
 "nbformat_minor": 4
}
