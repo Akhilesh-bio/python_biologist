{
 "cells": [
  {
   "cell_type": "markdown",
   "metadata": {},
   "source": [
    "# Intermediate Python"
   ],
   "execution_count": null,
   "outputs": []
  },
  {
   "cell_type": "markdown",
   "metadata": {},
   "source": [
    "---"
   ],
   "execution_count": null,
   "outputs": []
  },
  {
   "cell_type": "markdown",
   "metadata": {},
   "source": [
    "## Packages"
   ],
   "execution_count": null,
   "outputs": []
  },
  {
   "cell_type": "markdown",
   "metadata": {},
   "source": [
    "[PyPI](https://pypi.python.org/pypi) has ~123,358+ package in it!"
   ],
   "execution_count": null,
   "outputs": []
  },
  {
   "cell_type": "markdown",
   "metadata": {},
   "source": [
    "### Package installation with Anaconda Navigator\n",
    "\n",
    "You can use the Anaconda Navigator GUI to install packages.\n",
    "\n",
    "__Guided demo__"
   ],
   "execution_count": null,
   "outputs": []
  },
  {
   "cell_type": "markdown",
   "metadata": {},
   "source": [
    "### Package installation with Conda\n",
    "\n",
    "Many packages in conda, but not all\n",
    "\n",
    "    conda update conda\n",
    "    conda install biopython\n",
    "\n",
    "(Note there is also bioconda for install bioinfomatics programs. We will see more in a future seminar.)"
   ],
   "execution_count": null,
   "outputs": []
  },
  {
   "cell_type": "markdown",
   "metadata": {},
   "source": [
    "### Package installation with pip\n",
    "\n",
    "To install the latest version of \u201cSomeProject\u201d:\n",
    "\n",
    "    pip install 'SomeProject'\n",
    "\n",
    "To install a specific version:\n",
    "\n",
    "    pip install 'SomeProject==1.4'\n",
    "\n",
    "To install greater than or equal to one version and less than another:\n",
    "\n",
    "    pip install 'SomeProject>=1,<2'\n",
    "\n",
    "    pip install --upgrade SomeProject\n",
    "\n",
    "NOTE: You can also install directly from a juyter notebook but need to use the `-y` option to respond to the \"yes\" to install."
   ],
   "execution_count": null,
   "outputs": []
  },
  {
   "cell_type": "markdown",
   "metadata": {},
   "source": [
    "#### Installing from VCS\n",
    "\n",
    "Install a project from VCS in \u201ceditable\u201d mode. For a full breakdown of the syntax, see pip\u2019s section on VCS Support.\n",
    "\n",
    "    pip install -e git+https://git.repo/some_pkg.git#egg=SomeProject          # from git\n",
    "    pip install -e hg+https://hg.repo/some_pkg.git#egg=SomeProject            # from mercurial\n",
    "    pip install -e svn+svn://svn.repo/some_pkg/trunk/#egg=SomeProject         # from svn\n",
    "    pip install -e git+https://git.repo/some_pkg.git@feature#egg=SomeProject  # from a branch\n",
    "\n",
    "\n",
    "requirements.py\n",
    "\n",
    "    pip install -r requirements.txt\n",
    "\n",
    "More information: https://packaging.python.org/installing/"
   ],
   "execution_count": null,
   "outputs": []
  },
  {
   "cell_type": "markdown",
   "metadata": {},
   "source": [
    "---"
   ],
   "execution_count": null,
   "outputs": []
  },
  {
   "cell_type": "markdown",
   "metadata": {},
   "source": [
    "## Importing Modules"
   ],
   "execution_count": null,
   "outputs": []
  },
  {
   "cell_type": "markdown",
   "metadata": {},
   "source": [
    "[Source](https://www.blog.pythonlibrary.org/2016/03/01/python-101-all-about-imports/)\n",
    "\n",
    "\n",
    "Utilizing modules or packages in python is a two-step process.\n",
    "\n",
    "1. They must be installed on the computer you want to use them with; this only has to be done once but occasional updates are necessary\n",
    "1. You must import a module or package into your script once for each script you write.\n",
    "\n",
    "We will see some advice on importing in the PEP8 guidelines. PyCharm also assists users with organizing imports. \n",
    "\n",
    "\n",
    "A regular import, and quite possibly the most popular goes like this:\n",
    "\n",
    "```python\n",
    "import sys\n",
    "```\n",
    "    \n",
    "All you need to do is use the word \u201cimport\u201d and then specify what module or package you want to actually import. The nice thing about import though is that it can also import multiple package at once:\n",
    "\n",
    "```python\n",
    "import os, sys, time\n",
    "```\n",
    "\n",
    "While this is a space-saver, it\u2019s goes against the [Python Style Guide\u2019s recommendations](https://www.python.org/dev/peps/pep-0008/#imports) of putting each import on its own line.\n",
    "\n",
    "Sometimes when you import a module, you want to rename it. Python supports this quite easily:\n",
    "\n",
    "```python\n",
    "import sys as system\n",
    "print(system.platform)\n",
    "```\n",
    "\n",
    "This piece of code simply renames our import to \u201csystem\u201d. We can call all of the modules methods the same way before, but with the new name. There are also certain submodules that have to be imported using dot notation:\n",
    "\n",
    "```python\n",
    "import urllib.error\n",
    "```\n",
    "\n",
    "You won\u2019t see these very often, but they\u2019re good to know about."
   ],
   "execution_count": null,
   "outputs": []
  },
  {
   "cell_type": "markdown",
   "metadata": {},
   "source": [
    "## Environment"
   ],
   "execution_count": null,
   "outputs": []
  },
  {
   "cell_type": "markdown",
   "metadata": {},
   "source": [
    "We will use the Anaconda Navigator to create and run a new environment.\n",
    "\n",
    "Manage envronments in anaconda\n",
    "\n",
    "How to start a new Jupyter notebook in an environment"
   ],
   "execution_count": null,
   "outputs": []
  },
  {
   "cell_type": "markdown",
   "metadata": {},
   "source": [
    "__DEMO__"
   ],
   "execution_count": null,
   "outputs": []
  },
  {
   "cell_type": "markdown",
   "metadata": {},
   "source": [
    "__On Your Own (OYO)__\n",
    "\n",
    "python2 vs python3 and the six package\n",
    "\n",
    "http://book.pythontips.com/en/latest/targeting_python_2_3.html"
   ],
   "execution_count": null,
   "outputs": []
  }
 ],
 "metadata": {
  "kernelspec": {
   "display_name": "Python 3",
   "language": "python",
   "name": "python3"
  },
  "language_info": {
   "codemirror_mode": {
    "name": "ipython",
    "version": 3
   },
   "file_extension": ".py",
   "mimetype": "text/x-python",
   "name": "python",
   "nbconvert_exporter": "python",
   "pygments_lexer": "ipython3",
   "version": "3.7.4"
  }
 },
 "nbformat": 4,
 "nbformat_minor": 4
}
