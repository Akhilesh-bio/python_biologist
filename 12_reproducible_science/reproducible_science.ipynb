{
 "cells": [
  {
   "cell_type": "markdown",
   "metadata": {},
   "source": [
    "### NIAID / OCICB / BCBB\n",
    "\n",
    "### Python Programming for Biologist Seminar Series\n",
    "\n",
    "---\n",
    "# Reproducible Science with Jupyter Notebook\n",
    "\n",
    "https://reproducible-science-curriculum.github.io/workshop-RR-Jupyter/\n",
    "\n",
    "---\n",
    "\n",
    "### Instructor: R. Burke Squires\n",
    "- To see recorded videos and materials (archived) the NIAID Bioinformatics Portal: https://bioinformatics.niaid.nih.gov\n",
    "- To download materials for each class please see: https://github.com/burkesquires\n",
    " \n",
    "---"
   ]
  },
  {
   "cell_type": "markdown",
   "metadata": {},
   "source": [
    "## Learning Objectives\n",
    "\n",
    "The following are the overarching learning objectives for the curriculum.\n",
    "\n",
    "* Understand the value of reproducible research practices for more effective research for current and future you.\n",
    "* Understand the value of reproducible research practices for advancing research as a whole.\n",
    "* Understand what is meant by making your research more reproducible.\n",
    "* Know practices to make your research more reproducible, in particular by using Jupyter Notebooks, and have the skills to do so.\n",
    "* Have the confidence and foundation to continue improving reproducibility of your research.\n",
    "* Understand what’s possible and they still can learn to be more effective with reproducible research."
   ]
  },
  {
   "cell_type": "markdown",
   "metadata": {},
   "source": [
    "## Workshop outline\n",
    "\n",
    "A Reproducible Science with Jupyter Notebooks Curriculum workshop currently has five modules:\n",
    "\n",
    "1. [Introduction to the workshop](#i-workshop-introduction)\n",
    "2. [Data and Project Organization](#ii-data-and-project-organization)\n",
    "3. [Introduction to the Jupyter notebook](#iii-introduction-to-the-jupyter-notebook)\n",
    "4. [Data Exploration](#iv-data-exploration)\n",
    "5. [Automation](#v-automation)\n",
    "6. [Publication](#vi-publication)\n",
    "7. [Sharing](#vii-sharing)"
   ]
  },
  {
   "cell_type": "markdown",
   "metadata": {},
   "source": [
    "### I. Workshop Introduction\n",
    "\n",
    "**Goals**: Introduction to the workshop, including motivation, agenda and goals for the workshop.\n",
    "\n",
    "**Materials**<br/>\n",
    "*Repository*: <https://reproducible-science-curriculum.github.io/workshop-introduction-RR-Jupyter/>"
   ]
  },
  {
   "cell_type": "markdown",
   "metadata": {},
   "source": [
    "### II. Data and Project Organization\n",
    "\n",
    "**Goals**: Students will learn recognizing common data file formats and how to import them into a Jupyter notebook; be able to design and justify a directory structure and file naming convention for a project; be able to move from an empty notebook through exploratory analysis into a more refined script or set of notebooks that communicates results reproducibly.\n",
    "\n",
    "**Instructor's skills**: Good understanding of file organisation in research projects. Understanding of file structure on major operating systems (Windows, Linux/Unix, Mac OS) and the interface/commands for managing files and folders. Understanding of basic file types (binary vs. text). At least a basic overview of how files are stored (and deleted) in different operating systems. Understanding of file and folder naming conventions (names, extensions etc.).\n",
    "\n",
    "**Materials**<br/>\n",
    "*Repository*: <https://reproducible-science-curriculum.github.io/organization-RR-Jupyter/>"
   ]
  },
  {
   "cell_type": "markdown",
   "metadata": {},
   "source": [
    "    A boilerplate for reproducible and transparent science with close resemblances to the philosophy of [Cookiecutter Data Science](https://github.com/drivendata/cookiecutter-data-science): *A logical, reasonably standardized, but flexible project structure for doing and sharing data science work.*\n",
    "\n",
    "    Requirements\n",
    "    ------------\n",
    "    Install `cookiecutter` command line:\n",
    "\n",
    "    "
   ]
  },
  {
   "cell_type": "code",
   "execution_count": null,
   "metadata": {},
   "outputs": [],
   "source": [
    "pip install cookiecutter"
   ]
  },
  {
   "cell_type": "markdown",
   "metadata": {},
   "source": [
    "    Usage\n",
    "    -----\n",
    "    To start a new science project, in a Terminal (or Command Prompt?) window:\n",
    "\n",
    "        cookiecutter gh:burkesquires/cookiecutter-reproducible-science\n",
    "\n",
    "    Project Structure\n",
    "    -----------------\n",
    "\n",
    "    ```\n",
    "    .\n",
    "    ├── AUTHORS.md\n",
    "    ├── LICENSE\n",
    "    ├── README.md\n",
    "    ├── bin                <- Your compiled model code can be stored here (not tracked by git)\n",
    "    ├── config             <- Configuration files, e.g., for doxygen or for your model if needed\n",
    "    ├── data\n",
    "    │   ├── external       <- Data from third party sources.\n",
    "    │   ├── interim        <- Intermediate data that has been transformed.\n",
    "    │   ├── processed      <- The final, canonical data sets for modeling.\n",
    "    │   └── raw            <- The original, immutable data dump.\n",
    "    ├── docs               <- Documentation, e.g., doxygen or scientific papers (not tracked by git)\n",
    "    ├── notebooks          <- Ipython or R notebooks\n",
    "    ├── reports            <- For a manuscript source, e.g., LaTeX, Markdown, etc., or any project reports\n",
    "    │   └── figures        <- Figures for the manuscript or reports\n",
    "    └── src                <- Source code for this project\n",
    "        ├── data           <- scripts and programs to process data\n",
    "        ├── external       <- Any external source code, e.g., pull other git projects, or external libraries\n",
    "        ├── models         <- Source code for your own model\n",
    "        ├── tools          <- Any helper scripts go here\n",
    "        └── visualization  <- Scripts for visualisation of your results, e.g., matplotlib, ggplot2 related.\n",
    "    ```\n",
    "\n",
    "    Check out my latest research project, which successfully applied the `cookiecutter` philosophy: [SEMIC: an efficient surface energy and mass balance model applied to the Greenland ice sheet](https://gitlab.pik-potsdam.de/krapp/semic-project)."
   ]
  },
  {
   "cell_type": "markdown",
   "metadata": {},
   "source": [
    "### Another example of a project layout:\n",
    "    \n",
    "https://github.com/jfear/example_project"
   ]
  },
  {
   "cell_type": "markdown",
   "metadata": {},
   "source": [
    "### III. Introduction to the Jupyter notebook\n",
    "\n",
    "**Goals**: Students will understand the concept, importance, and components of reproducible research; understand the strengths of Jupyter Notebooks as a tool for reproducible research; be able tp create and navigate through a Jupyter Notebook containing Markdown and Code cells; and be able to know and access the broader Jupyter and Python ecosystems and communities.\n",
    "\n",
    "**Instructor's skills:** Familiarity with Jupyter notebooks; familiarity with markdown; basic python skills.\n",
    "\n",
    "**Materials**<br/>\n",
    "*Repository*: <https://github.com/Reproducible-Science-Curriculum/introduction-RR-Jupyter>\n",
    "\n",
    "\n",
    "### IV. Data Exploration\n",
    "\n",
    "**Goals**: Students will be able to assess the structure and cleanliness of their dataset; be able to describe their findings, translate results, and summarize their thought process in a narrative comprised of Markdown text and Python code in a Jupyter Notebook; learn practices for modifying raw data to prepare a clean data set in a reproducible and documented way; and be able to assess whether their data is “Tidy”, and how to arrange it into a tidy format.\n",
    "\n",
    "**Instructor's skills**: Facility with tabular data. Understanding of the steps needed to reshape, merge, and subset data. Knowledge of different types of plots, and which types of plots are appropriate for various kinds of data. Familiaritiy with regular expressions, `pandas`, and `matplotlib` is helpful.\n",
    "\n",
    "**Materials**<br/>\n",
    "*Repository*: <https://reproducible-science-curriculum.github.io/data-exploration-RR-Jupyter/>\n",
    "\n",
    "### V. Automation\n",
    "\n",
    "**Goals**: Students will learn how to programmatically assemble a manuscript using elements generated by a notebook, including text, headings and figures generated from code and data.\n",
    "\n",
    "**Instructor's skills:** Good understanding of programming concepts, in particular code modularisation, writing and using functions, code reusability and so on. Good understanding of selected software engineering concepts such as project build and automation, code testing, continuous integration and  so on. Solid knowledge of Python, Jupyter, and relevant packages (consult the materials for details). Understanding of basic statistical concepts (consult the materials for details).\n",
    "\n",
    "**Materials**: <br/>\n",
    "*Repository*: <https://reproducible-science-curriculum.github.io/automation-RR-Jupyter/>\n",
    "\n",
    "### VI. Publication\n",
    "\n",
    "**Goals**: Students will learn how to export their notebooks in a variety of formats for publication; be able to describe the utility of documentation to themselves and others; be able to describe and compose appropriate and descriptive keywords for a given record; be able to define and describe the importance of unique identifiers for data, publication and software; and learn how to select an appropriate license for their research artifacts.\n",
    "\n",
    "**Instructor's skills:** Understanding of requirements for reproducible publication. Understanding of differences between publication and sharing. Understanding the difference between open and restricted access publication. Overview of tools and repositories for publishing research outputs. Knowledge of different licensing models and ability to discuss major differences between the most commonly used licenses in research.\n",
    "\n",
    "**Materials**:<br/>\n",
    "*Repository*: <https://reproducible-science-curriculum.github.io/publication-RR-Jupyter/>\n",
    "\n",
    "### VII. Sharing\n",
    "\n",
    "**Goals**: Students will learn how to share their Jupyter notebooks online, both static (using GitHub) and interactive (using Binder).\n",
    "\n",
    "**Instructor's skills:** Some familiarity with GitHub, understanding of software dependencies and (containerized) environments.\n",
    "\n",
    "**Materials**<br/>\n",
    "*Repository*: <https://reproducible-science-curriculum.github.io/sharing-RR-Jupyter/>\n",
    "\n",
    "\n",
    "## Ongoing work\n",
    "\n",
    "These materials are being developed and revised on an ongoing basis. The list of [GitHub issues for the Reproducible-Science-Curriculum](https://github.com/issues?user=Reproducible-Science-Curriculum) gives a pretty good idea of what is happening and what needs to be done."
   ]
  },
  {
   "cell_type": "code",
   "execution_count": null,
   "metadata": {},
   "outputs": [],
   "source": []
  }
 ],
 "metadata": {
  "kernelspec": {
   "display_name": "Python 3",
   "language": "python",
   "name": "python3"
  },
  "language_info": {
   "codemirror_mode": {
    "name": "ipython",
    "version": 3
   },
   "file_extension": ".py",
   "mimetype": "text/x-python",
   "name": "python",
   "nbconvert_exporter": "python",
   "pygments_lexer": "ipython3",
   "version": "3.7.6"
  }
 },
 "nbformat": 4,
 "nbformat_minor": 4
}
