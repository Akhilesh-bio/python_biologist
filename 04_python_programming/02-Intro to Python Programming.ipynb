{
 "cells": [
  {
   "cell_type": "markdown",
   "metadata": {
    "slideshow": {
     "slide_type": "slide"
    }
   },
   "source": [
    "# Introduction to Python Programming (for experienced programmers)"
   ]
  },
  {
   "cell_type": "markdown",
   "metadata": {
    "slideshow": {
     "slide_type": "fragment"
    }
   },
   "source": [
    "<img align=left src=\"https://www.python.org/static/community_logos/python-logo-master-v3-TM.png\">"
   ]
  },
  {
   "cell_type": "markdown",
   "metadata": {},
   "source": [
    "This seminar is part of the __NIAID BCBB Python Programming for Biologist Series__. You can find materials for this and other no-cost seminars at the [NIAID Bioinformatics Portal](http://bioinformatics.niaid.nih.gov) or [my GitHub page](http://github.com/burkesquires/python_biologist)"
   ]
  },
  {
   "cell_type": "markdown",
   "metadata": {
    "slideshow": {
     "slide_type": "skip"
    }
   },
   "source": [
    "---"
   ]
  },
  {
   "cell_type": "markdown",
   "metadata": {},
   "source": [
    "## Learning Objectives"
   ]
  },
  {
   "cell_type": "markdown",
   "metadata": {
    "slideshow": {
     "slide_type": "slide"
    }
   },
   "source": [
    "- Enable you to recognize and code written in python programming language\n",
    "- Enable you to adapt python source code for your purpose\n",
    "- Enable you to run python code in three or more ways\n",
    "- Enable you to understand the advantages and disadvantages of using integrated development environments (IDE)\n",
    "- Prepare you for the remaining seminars"
   ]
  },
  {
   "cell_type": "markdown",
   "metadata": {},
   "source": [
    "---"
   ]
  },
  {
   "cell_type": "markdown",
   "metadata": {},
   "source": [
    "## Outline\n",
    "- Why learn python?\n",
    "- Learnign python by solving a task\n"
   ]
  },
  {
   "cell_type": "markdown",
   "metadata": {
    "slideshow": {
     "slide_type": "slide"
    }
   },
   "source": [
    "# Why Python?\n",
    "\n",
    "<img src=\"http://imgs.xkcd.com/comics/python.png\">"
   ]
  },
  {
   "cell_type": "markdown",
   "metadata": {
    "slideshow": {
     "slide_type": "skip"
    }
   },
   "source": [
    "---"
   ]
  },
  {
   "cell_type": "code",
   "execution_count": null,
   "metadata": {
    "slideshow": {
     "slide_type": "skip"
    }
   },
   "outputs": [],
   "source": [
    "import this"
   ]
  },
  {
   "cell_type": "markdown",
   "metadata": {
    "slideshow": {
     "slide_type": "skip"
    }
   },
   "source": [
    "---"
   ]
  },
  {
   "cell_type": "markdown",
   "metadata": {},
   "source": [
    "The \"Hello World\" program in four different programming languages\n",
    "\n",
    "C++\n",
    "\n",
    "    #include <iostream>\n",
    "    int main()\n",
    "    {\n",
    "        std::count << \"Hello World” << std::endl;\n",
    "        return 0;\n",
    "    }\n",
    "\n",
    "Java\n",
    "\n",
    "    public class HelloWorld { \n",
    "        public static void main (String[] args) {\n",
    "            System.out.println(\"Hello World!\"); \n",
    "        }\n",
    "    }\n",
    "\n",
    "Python\n",
    "\n",
    "    print(“Hello World!”)\n",
    "\n",
    "\n",
    "R\n",
    "\n",
    "    print(\"Hello World!\", quote = FALSE)"
   ]
  },
  {
   "cell_type": "markdown",
   "metadata": {},
   "source": [
    "## Why Learn Python?"
   ]
  },
  {
   "cell_type": "markdown",
   "metadata": {},
   "source": [
    "- Open source (available at no-cost)\n",
    "- Cross-platform\n",
    "- An interpreted language (no need to compile)\n",
    "- Powerful\n",
    "- Fast (with package numpy, etc)\n",
    "- Popular for data science\n",
    "\n",
    "- A general purpose, high-level language\n",
    "- Easy to read language\n",
    "- “Batteries included” standard library\n",
    "- Great Community\n",
    "    - Many package available\n",
    "    - Lots of help and tutorials\n",
    "- Easy installation (with anaconda distribution)\n"
   ]
  },
  {
   "cell_type": "markdown",
   "metadata": {},
   "source": [
    "## Popular Python Package - \"Scientific Python Stack\""
   ]
  },
  {
   "cell_type": "markdown",
   "metadata": {},
   "source": [
    "<img src=\"images/scientific_python_stack_2017.png\">"
   ]
  },
  {
   "cell_type": "markdown",
   "metadata": {},
   "source": [
    "- [Python](https://www.python.org/), a general purpose programming language. It is interpreted and dynamically typed and is very suited for interactive work and quick prototyping, while being powerful enough to write large applications in.\n",
    "- [NumPy](http://www.numpy.org/), the fundamental package for numerical computation. It defines the numerical array and matrix types and basic operations on them.\n",
    "- [SciPy](https://www.scipy.org/scipylib/index.html), a collection of numerical algorithms and domain-specific toolboxes, including signal processing, optimization, statistics and much more.\n",
    "- [Matplotlib](http://matplotlib.org/), a mature and popular plotting package, that provides publication-quality 2D plotting as well as rudimentary 3D plotting\n",
    "\n",
    "__Data and computation__:\n",
    "\n",
    "- [pandas](http://pandas.pydata.org/), providing high-performance, easy to use data structures.\n",
    "- [SymPy](http://www.sympy.org/), for symbolic mathematics and computer algebra.\n",
    "- [scikit-image](http://scikit-image.org/) is a collection of algorithms for image processing.\n",
    "- [scikit-learn](http://scikit-learn.org/) is a collection of algorithms and tools for machine learning.\n",
    "- [h5py](http://www.h5py.org/) and [PyTables](http://www.pytables.org/) can both access data stored in the HDF5 format.\n",
    "\n",
    "__Productivity and high-performance computing__:\n",
    "\n",
    "- [IPython](http://ipython.org/), a rich interactive interface, letting you quickly process data and test ideas.\n",
    "- [Jupyter](http://jupyter.org/) notebook provides IPython functionality and more in your web browser, allowing you to document your computation in an easily reproducible form.\n",
    "- [Cython](http://cython.org/) extends Python syntax so that you can conveniently build C extensions, either to speed up critical code, or to integrate with C/C++ libraries.\n",
    "- [Dramatiq](https://dramatiq.io), [Dask](https://dask.readthedocs.io/), [Joblib](https://joblib.readthedocs.io/) or [IPyParallel](https://ipyparallel.readthedocs.io/) for distributed processing with a focus on numeric data.\n",
    "\n",
    "__Quality assurance__:\n",
    "\n",
    "- [nose](https://nose.readthedocs.org/en/latest/), a framework for testing Python code, being phased out in preference for [pytest](https://docs.pytest.org/).\n",
    "- [numpydoc](https://github.com/numpy/numpydoc), a standard and library for documenting Scientific Python libraries.\n",
    "\n",
    "[Adapted from https://www.scipy.org/about.html]"
   ]
  },
  {
   "cell_type": "code",
   "execution_count": null,
   "metadata": {
    "collapsed": true
   },
   "outputs": [],
   "source": []
  },
  {
   "cell_type": "markdown",
   "metadata": {},
   "source": [
    "## Analyze a given data file"
   ]
  },
  {
   "cell_type": "markdown",
   "metadata": {},
   "source": [
    "Souce: http://www.gapminder.org/data/"
   ]
  },
  {
   "cell_type": "markdown",
   "metadata": {},
   "source": [
    "Lets use our command line / linux skills to view the data file we have been given. We added teh data file to a new directory that is in the same parent directory is this filder. \n",
    "\n",
    "Remeber to get a list of the files in the curent folder using the Jupyter / IPython magic:"
   ]
  },
  {
   "cell_type": "markdown",
   "metadata": {},
   "source": [
    "    !ls -l <directory>"
   ]
  },
  {
   "cell_type": "code",
   "execution_count": null,
   "metadata": {},
   "outputs": [],
   "source": []
  },
  {
   "cell_type": "markdown",
   "metadata": {},
   "source": [
    "Lets use some more magic to take a quick look at the data file:"
   ]
  },
  {
   "cell_type": "markdown",
   "metadata": {},
   "source": [
    "    !head ../data/gapminder.csv"
   ]
  },
  {
   "cell_type": "code",
   "execution_count": null,
   "metadata": {
    "collapsed": true
   },
   "outputs": [],
   "source": []
  },
  {
   "cell_type": "markdown",
   "metadata": {},
   "source": [
    "What can we tell about our data file?"
   ]
  },
  {
   "cell_type": "markdown",
   "metadata": {},
   "source": [
    "---"
   ]
  },
  {
   "cell_type": "markdown",
   "metadata": {},
   "source": [
    "### Variables\n",
    "\n",
    "Create a new variable and use it to store the name of our file"
   ]
  },
  {
   "cell_type": "markdown",
   "metadata": {
    "collapsed": true
   },
   "source": [
    "    data_file = '../data/gapminder.csv'"
   ]
  },
  {
   "cell_type": "code",
   "execution_count": null,
   "metadata": {
    "collapsed": true
   },
   "outputs": [],
   "source": []
  },
  {
   "cell_type": "markdown",
   "metadata": {},
   "source": [
    "Lets' print the variable to make sure it has been stored:"
   ]
  },
  {
   "cell_type": "markdown",
   "metadata": {
    "slideshow": {
     "slide_type": "fragment"
    }
   },
   "source": [
    "    print(data_file)"
   ]
  },
  {
   "cell_type": "code",
   "execution_count": null,
   "metadata": {
    "collapsed": true
   },
   "outputs": [],
   "source": []
  },
  {
   "cell_type": "markdown",
   "metadata": {},
   "source": [
    "## Everything in Python is an Object!"
   ]
  },
  {
   "cell_type": "markdown",
   "metadata": {},
   "source": [
    "Everything in python is an object. Let's see what type of object our varaible is:"
   ]
  },
  {
   "cell_type": "markdown",
   "metadata": {},
   "source": [
    "    type(data_file)"
   ]
  },
  {
   "cell_type": "code",
   "execution_count": null,
   "metadata": {
    "collapsed": true
   },
   "outputs": [],
   "source": []
  },
  {
   "cell_type": "markdown",
   "metadata": {
    "slideshow": {
     "slide_type": "fragment"
    }
   },
   "source": [
    "### Comments\n",
    "\n",
    "    # This is a comment\n",
    "\n",
    "Anything after the pound sign (#) is ignored by the python interpreter; great for explaing what is going on in your code"
   ]
  },
  {
   "cell_type": "markdown",
   "metadata": {},
   "source": [
    "### File I/O\n"
   ]
  },
  {
   "cell_type": "markdown",
   "metadata": {},
   "source": [
    "Open a file, process its contents, and make sure to close it"
   ]
  },
  {
   "cell_type": "code",
   "execution_count": null,
   "metadata": {},
   "outputs": [],
   "source": [
    "f = open(data_file)\n",
    "\n",
    "type(f)"
   ]
  },
  {
   "cell_type": "code",
   "execution_count": null,
   "metadata": {},
   "outputs": [],
   "source": [
    "f = open(data_file)\n",
    "\n",
    "print(f.readline())"
   ]
  },
  {
   "cell_type": "markdown",
   "metadata": {},
   "source": [
    "A more \"pythonic\" way of using _open_ is to preced it using __with__"
   ]
  },
  {
   "cell_type": "code",
   "execution_count": null,
   "metadata": {},
   "outputs": [],
   "source": [
    "with open(data_file) as f:\n",
    "\n",
    "    print(f.readline())"
   ]
  },
  {
   "cell_type": "markdown",
   "metadata": {},
   "source": [
    "## \"Batteries Included\""
   ]
  },
  {
   "cell_type": "markdown",
   "metadata": {},
   "source": [
    "\"Batteries included\" referes to the large amount of functionality that is built within the [python standard library](https://docs.python.org/3/library/index.html)."
   ]
  },
  {
   "cell_type": "markdown",
   "metadata": {},
   "source": [
    "One example of a module from the python standard library is __csv__, which enables one to read and write csv files. Modules in the PS are already installed on your compuer BUT you do have to _import_ them before their first use ina  python script."
   ]
  },
  {
   "cell_type": "markdown",
   "metadata": {
    "collapsed": true
   },
   "source": [
    "    import csv"
   ]
  },
  {
   "cell_type": "code",
   "execution_count": null,
   "metadata": {
    "collapsed": true
   },
   "outputs": [],
   "source": []
  },
  {
   "cell_type": "markdown",
   "metadata": {},
   "source": [
    "Lets get some information on _csv_"
   ]
  },
  {
   "cell_type": "markdown",
   "metadata": {},
   "source": [
    "    help(csv)"
   ]
  },
  {
   "cell_type": "code",
   "execution_count": null,
   "metadata": {
    "collapsed": true
   },
   "outputs": [],
   "source": []
  },
  {
   "cell_type": "code",
   "execution_count": null,
   "metadata": {},
   "outputs": [],
   "source": [
    "# open a file, process its contents, and make sure to close it\n",
    "\n",
    "with open(data_file) as f:\n",
    "\n",
    "    reader = csv.reader(f)\n",
    "    \n",
    "    for row in reader:\n",
    "\n",
    "        print(row)"
   ]
  },
  {
   "cell_type": "code",
   "execution_count": null,
   "metadata": {
    "collapsed": true
   },
   "outputs": [],
   "source": []
  },
  {
   "cell_type": "markdown",
   "metadata": {
    "collapsed": true
   },
   "source": [
    "We will use a package called pandas when we learn about data analysis but the csv module is useful here."
   ]
  },
  {
   "cell_type": "markdown",
   "metadata": {},
   "source": [
    "We could have read the file line-by-line and used the __split__ to split the string into elements.\n",
    "\n",
    "    fields = line.split(“,”)\n",
    "\n",
    "fields would be the equivelent of row."
   ]
  },
  {
   "cell_type": "markdown",
   "metadata": {
    "collapsed": true
   },
   "source": [
    "    # open a file, process its contents, and make sure to close it\n",
    "\n",
    "    with open(data_file) as f:\n",
    "\n",
    "        reader = csv.reader(f)\n",
    "\n",
    "        for row in reader:\n",
    "\n",
    "            country = row[0]\n",
    "            continent = row[1]\n",
    "            year = row[2]\n",
    "            lifeExp = row[3]\n",
    "            pop = row[4]\n",
    "            gdpPercap = row[5]\n",
    "\n",
    "            print(country, continent, year, lifeExp, pop, gdpPercap)"
   ]
  },
  {
   "cell_type": "code",
   "execution_count": null,
   "metadata": {
    "collapsed": true
   },
   "outputs": [],
   "source": []
  },
  {
   "cell_type": "markdown",
   "metadata": {},
   "source": [
    "## Functions"
   ]
  },
  {
   "cell_type": "code",
   "execution_count": null,
   "metadata": {
    "collapsed": true
   },
   "outputs": [],
   "source": [
    "def extract_column_data(row):\n",
    "    \n",
    "    country = row[0]\n",
    "    continent = row[1]\n",
    "    year = row[2]\n",
    "    lifeExp = row[3]\n",
    "    pop = row[4]\n",
    "    gdpPercap = row[5]\n",
    "\n",
    "    return (country, continent, year, lifeExp, pop, gdpPercap)"
   ]
  },
  {
   "cell_type": "code",
   "execution_count": null,
   "metadata": {
    "collapsed": true
   },
   "outputs": [],
   "source": []
  },
  {
   "cell_type": "code",
   "execution_count": null,
   "metadata": {},
   "outputs": [],
   "source": [
    "with open(data_file) as f:\n",
    "\n",
    "    reader = csv.reader(f)\n",
    "    \n",
    "    for row in reader:\n",
    "        \n",
    "        country = row[0]\n",
    "        continent = row[1]\n",
    "        year = row[2]\n",
    "        lifeExp = row[3]\n",
    "        pop = row[4]\n",
    "        gdpPercap = row[5]\n",
    "\n",
    "        print(country, continent, year, lifeExp, pop, gdpPercap)"
   ]
  },
  {
   "cell_type": "code",
   "execution_count": null,
   "metadata": {
    "collapsed": true
   },
   "outputs": [],
   "source": []
  },
  {
   "cell_type": "code",
   "execution_count": null,
   "metadata": {
    "collapsed": true
   },
   "outputs": [],
   "source": [
    "def extract_column_data(row, country_col=0, continent_col=1, year_col=3, pop_col=4, gdpPercap_col=5):\n",
    "    \n",
    "    country = row[country_col]\n",
    "    continent = row[continent_col]\n",
    "    year = row[year_col]\n",
    "    lifeExp = row[lifeExp]\n",
    "    pop = row[pop_col]\n",
    "    gdpPercap = row[gdpPercap_col]\n",
    "\n",
    "    return (country, continent, year, lifeExp, pop, gdpPercap)"
   ]
  },
  {
   "cell_type": "code",
   "execution_count": null,
   "metadata": {
    "collapsed": true
   },
   "outputs": [],
   "source": []
  },
  {
   "cell_type": "code",
   "execution_count": null,
   "metadata": {},
   "outputs": [],
   "source": [
    "with open(data_file) as f:\n",
    "\n",
    "    reader = csv.reader(f)\n",
    "    \n",
    "    for row in reader:\n",
    "        \n",
    "        country, continent, year, lifeExp, pop, gdpPercap = row\n",
    "\n",
    "        print(country, continent, year, lifeExp, pop, gdpPercap)"
   ]
  },
  {
   "cell_type": "code",
   "execution_count": null,
   "metadata": {
    "collapsed": true
   },
   "outputs": [],
   "source": []
  },
  {
   "cell_type": "markdown",
   "metadata": {},
   "source": [
    "### More pythonic"
   ]
  },
  {
   "cell_type": "code",
   "execution_count": null,
   "metadata": {},
   "outputs": [],
   "source": [
    "# unpack all the variables on a single line\n",
    "\n",
    "with open(data_file) as f:\n",
    "\n",
    "    reader = csv.reader(f)\n",
    "    \n",
    "    for row in reader:\n",
    "\n",
    "        country, continent, year, lifeExp, pop, gdpPercap = row\n",
    "\n",
    "        print(country, continent, year, lifeExp, pop, gdpPercap)"
   ]
  },
  {
   "cell_type": "markdown",
   "metadata": {},
   "source": [
    "How do we store the data that we have?"
   ]
  },
  {
   "cell_type": "markdown",
   "metadata": {},
   "source": [
    "One way to do it is to save the data to a file as we extract it."
   ]
  },
  {
   "cell_type": "markdown",
   "metadata": {
    "slideshow": {
     "slide_type": "slide"
    }
   },
   "source": [
    "# Reading and Writing Files"
   ]
  },
  {
   "cell_type": "markdown",
   "metadata": {
    "slideshow": {
     "slide_type": "slide"
    }
   },
   "source": [
    "## Writing to a File"
   ]
  },
  {
   "cell_type": "code",
   "execution_count": null,
   "metadata": {
    "collapsed": true
   },
   "outputs": [],
   "source": [
    "# We have to open a file for writing BEFORE we can write to it...\n",
    "\n",
    "output_file_handle = open(\"../data/gapminder_output.csv\", \"w\")\n",
    "\n",
    "# We can also give an absolute path like /Users/username/Documents/dna.txt"
   ]
  },
  {
   "cell_type": "code",
   "execution_count": null,
   "metadata": {
    "collapsed": true
   },
   "outputs": [],
   "source": [
    "# unpack all the variables on a single line\n",
    "\n",
    "with open(data_file) as f:\n",
    "\n",
    "    reader = csv.reader(f)\n",
    "    \n",
    "    for row in reader:\n",
    "\n",
    "        country, continent, year, lifeExp, pop, gdpPercap = row\n",
    "\n",
    "        output_file_handle.write('%s, %s, %s, %s, %s, %s\\n' % (country, continent, year, lifeExp, pop, gdpPercap))"
   ]
  },
  {
   "cell_type": "code",
   "execution_count": null,
   "metadata": {},
   "outputs": [],
   "source": [
    "type(output_file_handle)"
   ]
  },
  {
   "cell_type": "code",
   "execution_count": null,
   "metadata": {
    "collapsed": true
   },
   "outputs": [],
   "source": [
    "# remember to close the file\n",
    "\n",
    "output_file_handle.close()"
   ]
  },
  {
   "cell_type": "markdown",
   "metadata": {
    "slideshow": {
     "slide_type": "slide"
    }
   },
   "source": [
    "## Reading a file"
   ]
  },
  {
   "cell_type": "markdown",
   "metadata": {},
   "source": [
    "Lets se if we did in fact create a file..."
   ]
  },
  {
   "cell_type": "markdown",
   "metadata": {},
   "source": [
    "    !ls"
   ]
  },
  {
   "cell_type": "code",
   "execution_count": null,
   "metadata": {
    "collapsed": true
   },
   "outputs": [],
   "source": []
  },
  {
   "cell_type": "markdown",
   "metadata": {},
   "source": [
    "    !cat ../data/gapminder_output.csv"
   ]
  },
  {
   "cell_type": "code",
   "execution_count": null,
   "metadata": {
    "collapsed": true
   },
   "outputs": [],
   "source": []
  },
  {
   "cell_type": "code",
   "execution_count": null,
   "metadata": {
    "slideshow": {
     "slide_type": "fragment"
    }
   },
   "outputs": [],
   "source": [
    "output_file_handle = open(\"../data/gapminder_output.csv\", \"r\")\n",
    "\n",
    "output_file_contents = output_file_handle.read()\n",
    "\n",
    "print(output_file_contents)\n",
    "\n",
    "# remember to close the file\n",
    "\n",
    "output_file_handle.close()"
   ]
  },
  {
   "cell_type": "markdown",
   "metadata": {
    "slideshow": {
     "slide_type": "slide"
    }
   },
   "source": [
    "## Looping through File, Line by Line"
   ]
  },
  {
   "cell_type": "markdown",
   "metadata": {
    "slideshow": {
     "slide_type": "fragment"
    }
   },
   "source": [
    "In a new cell below type, and run:"
   ]
  },
  {
   "cell_type": "code",
   "execution_count": null,
   "metadata": {
    "slideshow": {
     "slide_type": "fragment"
    }
   },
   "outputs": [],
   "source": [
    "file = open(\"../data/gapminder_output.csv\")\n",
    "\n",
    "for line in file:\n",
    "    \n",
    "    print(line)"
   ]
  },
  {
   "cell_type": "markdown",
   "metadata": {
    "slideshow": {
     "slide_type": "slide"
    }
   },
   "source": [
    "## Lists"
   ]
  },
  {
   "cell_type": "code",
   "execution_count": null,
   "metadata": {
    "collapsed": true
   },
   "outputs": [],
   "source": [
    "country_list = []\n",
    "year_list = []\n",
    "lifeExp_list = []"
   ]
  },
  {
   "cell_type": "code",
   "execution_count": null,
   "metadata": {},
   "outputs": [],
   "source": [
    "with open(data_file) as f:\n",
    "\n",
    "    reader = csv.reader(f)\n",
    "    \n",
    "    for row in reader:\n",
    "        \n",
    "        country, continent, year, lifeExp, pop, gdpPercap = row\n",
    "\n",
    "        country_list.append(sample)\n",
    "        \n",
    "        year_list.append(generation)\n",
    "        \n",
    "        lifeExp_list.append(total_mutations)"
   ]
  },
  {
   "cell_type": "code",
   "execution_count": null,
   "metadata": {
    "collapsed": true
   },
   "outputs": [],
   "source": [
    "len(country_list)"
   ]
  },
  {
   "cell_type": "code",
   "execution_count": null,
   "metadata": {
    "collapsed": true
   },
   "outputs": [],
   "source": [
    "len(year_list)"
   ]
  },
  {
   "cell_type": "code",
   "execution_count": null,
   "metadata": {
    "collapsed": true
   },
   "outputs": [],
   "source": [
    "len(lifeExp_list)"
   ]
  },
  {
   "cell_type": "code",
   "execution_count": null,
   "metadata": {
    "collapsed": true
   },
   "outputs": [],
   "source": [
    "country_list[0]"
   ]
  },
  {
   "cell_type": "markdown",
   "metadata": {},
   "source": [
    "So we have lists of samples, generations and mutations values. We we just plot this? No...\n",
    "\n",
    "Lets see what are the unique values of sample list:"
   ]
  },
  {
   "cell_type": "code",
   "execution_count": null,
   "metadata": {
    "collapsed": true
   },
   "outputs": [],
   "source": [
    "set(country_list)"
   ]
  },
  {
   "cell_type": "markdown",
   "metadata": {},
   "source": [
    "Remember that in our graph we want to plot out each sample as a separate line."
   ]
  },
  {
   "cell_type": "markdown",
   "metadata": {},
   "source": [
    "So we need to save each set of sample data to a new list."
   ]
  },
  {
   "cell_type": "markdown",
   "metadata": {},
   "source": [
    "## Conditionals"
   ]
  },
  {
   "cell_type": "markdown",
   "metadata": {},
   "source": [
    "Remember what the code looked like before:"
   ]
  },
  {
   "cell_type": "markdown",
   "metadata": {},
   "source": [
    "    with open(data_file) as f:\n",
    "\n",
    "        reader = csv.reader(f)\n",
    "\n",
    "        for row in reader:\n",
    "\n",
    "            country, continent, year, lifeExp, pop, gdpPercap = row\n",
    "\n",
    "            country_list.append(sample)\n",
    "\n",
    "            year_list.append(generation)\n",
    "\n",
    "            lifeExp_list.append(total_mutations)"
   ]
  },
  {
   "cell_type": "code",
   "execution_count": null,
   "metadata": {
    "collapsed": true
   },
   "outputs": [],
   "source": [
    "with open(data_file) as f:\n",
    "\n",
    "        reader = csv.reader(f)\n",
    "\n",
    "        for row in reader:\n",
    "\n",
    "            country, continent, year, lifeExp, pop, gdpPercap = row\n",
    "\n",
    "            if country == 'United States':\n",
    "            \n",
    "                country_list.append(sample)\n",
    "\n",
    "                year_list.append(generation)\n",
    "\n",
    "                lifeExp_list.append(total_mutations)"
   ]
  },
  {
   "cell_type": "markdown",
   "metadata": {
    "slideshow": {
     "slide_type": "slide"
    }
   },
   "source": [
    "# Dictionaries"
   ]
  },
  {
   "cell_type": "code",
   "execution_count": 32,
   "metadata": {},
   "outputs": [],
   "source": [
    "from collections import defaultdict    \n",
    "    \n",
    "gap_dict = defaultdict(list)\n",
    "\n",
    "with open(data_file) as f:\n",
    "\n",
    "    reader = csv.reader(f)\n",
    "    \n",
    "    next(reader) # skip the header line\n",
    "    \n",
    "    for row in reader:\n",
    "        \n",
    "        country, continent, year, lifeExp, pop, gdpPercap = row\n",
    "\n",
    "        country_year = \"%s-%s\" % (country, year)\n",
    "        \n",
    "        gap_dict[country].append([year, lifeExp])"
   ]
  },
  {
   "cell_type": "code",
   "execution_count": 33,
   "metadata": {},
   "outputs": [
    {
     "data": {
      "text/plain": [
       "defaultdict(list,\n",
       "            {'Afghanistan': [['1952', '28.801'],\n",
       "              ['1957', '30.332'],\n",
       "              ['1962', '31.997'],\n",
       "              ['1967', '34.02'],\n",
       "              ['1972', '36.088'],\n",
       "              ['1977', '38.438'],\n",
       "              ['1982', '39.854'],\n",
       "              ['1987', '40.822'],\n",
       "              ['1992', '41.674'],\n",
       "              ['1997', '41.763'],\n",
       "              ['2002', '42.129'],\n",
       "              ['2007', '43.828']],\n",
       "             'Albania': [['1952', '55.23'],\n",
       "              ['1957', '59.28'],\n",
       "              ['1962', '64.82'],\n",
       "              ['1967', '66.22'],\n",
       "              ['1972', '67.69'],\n",
       "              ['1977', '68.93'],\n",
       "              ['1982', '70.42'],\n",
       "              ['1987', '72'],\n",
       "              ['1992', '71.581'],\n",
       "              ['1997', '72.95'],\n",
       "              ['2002', '75.651'],\n",
       "              ['2007', '76.423']],\n",
       "             'Algeria': [['1952', '43.077'],\n",
       "              ['1957', '45.685'],\n",
       "              ['1962', '48.303'],\n",
       "              ['1967', '51.407'],\n",
       "              ['1972', '54.518'],\n",
       "              ['1977', '58.014'],\n",
       "              ['1982', '61.368'],\n",
       "              ['1987', '65.799'],\n",
       "              ['1992', '67.744'],\n",
       "              ['1997', '69.152'],\n",
       "              ['2002', '70.994'],\n",
       "              ['2007', '72.301']],\n",
       "             'Angola': [['1952', '30.015'],\n",
       "              ['1957', '31.999'],\n",
       "              ['1962', '34'],\n",
       "              ['1967', '35.985'],\n",
       "              ['1972', '37.928'],\n",
       "              ['1977', '39.483'],\n",
       "              ['1982', '39.942'],\n",
       "              ['1987', '39.906'],\n",
       "              ['1992', '40.647'],\n",
       "              ['1997', '40.963'],\n",
       "              ['2002', '41.003'],\n",
       "              ['2007', '42.731']],\n",
       "             'Argentina': [['1952', '62.485'],\n",
       "              ['1957', '64.399'],\n",
       "              ['1962', '65.142'],\n",
       "              ['1967', '65.634'],\n",
       "              ['1972', '67.065'],\n",
       "              ['1977', '68.481'],\n",
       "              ['1982', '69.942'],\n",
       "              ['1987', '70.774'],\n",
       "              ['1992', '71.868'],\n",
       "              ['1997', '73.275'],\n",
       "              ['2002', '74.34'],\n",
       "              ['2007', '75.32']],\n",
       "             'Australia': [['1952', '69.12'],\n",
       "              ['1957', '70.33'],\n",
       "              ['1962', '70.93'],\n",
       "              ['1967', '71.1'],\n",
       "              ['1972', '71.93'],\n",
       "              ['1977', '73.49'],\n",
       "              ['1982', '74.74'],\n",
       "              ['1987', '76.32'],\n",
       "              ['1992', '77.56'],\n",
       "              ['1997', '78.83'],\n",
       "              ['2002', '80.37'],\n",
       "              ['2007', '81.235']],\n",
       "             'Austria': [['1952', '66.8'],\n",
       "              ['1957', '67.48'],\n",
       "              ['1962', '69.54'],\n",
       "              ['1967', '70.14'],\n",
       "              ['1972', '70.63'],\n",
       "              ['1977', '72.17'],\n",
       "              ['1982', '73.18'],\n",
       "              ['1987', '74.94'],\n",
       "              ['1992', '76.04'],\n",
       "              ['1997', '77.51'],\n",
       "              ['2002', '78.98'],\n",
       "              ['2007', '79.829']],\n",
       "             'Bahrain': [['1952', '50.939'],\n",
       "              ['1957', '53.832'],\n",
       "              ['1962', '56.923'],\n",
       "              ['1967', '59.923'],\n",
       "              ['1972', '63.3'],\n",
       "              ['1977', '65.593'],\n",
       "              ['1982', '69.052'],\n",
       "              ['1987', '70.75'],\n",
       "              ['1992', '72.601'],\n",
       "              ['1997', '73.925'],\n",
       "              ['2002', '74.795'],\n",
       "              ['2007', '75.635']],\n",
       "             'Bangladesh': [['1952', '37.484'],\n",
       "              ['1957', '39.348'],\n",
       "              ['1962', '41.216'],\n",
       "              ['1967', '43.453'],\n",
       "              ['1972', '45.252'],\n",
       "              ['1977', '46.923'],\n",
       "              ['1982', '50.009'],\n",
       "              ['1987', '52.819'],\n",
       "              ['1992', '56.018'],\n",
       "              ['1997', '59.412'],\n",
       "              ['2002', '62.013'],\n",
       "              ['2007', '64.062']],\n",
       "             'Belgium': [['1952', '68'],\n",
       "              ['1957', '69.24'],\n",
       "              ['1962', '70.25'],\n",
       "              ['1967', '70.94'],\n",
       "              ['1972', '71.44'],\n",
       "              ['1977', '72.8'],\n",
       "              ['1982', '73.93'],\n",
       "              ['1987', '75.35'],\n",
       "              ['1992', '76.46'],\n",
       "              ['1997', '77.53'],\n",
       "              ['2002', '78.32'],\n",
       "              ['2007', '79.441']],\n",
       "             'Benin': [['1952', '38.223'],\n",
       "              ['1957', '40.358'],\n",
       "              ['1962', '42.618'],\n",
       "              ['1967', '44.885'],\n",
       "              ['1972', '47.014'],\n",
       "              ['1977', '49.19'],\n",
       "              ['1982', '50.904'],\n",
       "              ['1987', '52.337'],\n",
       "              ['1992', '53.919'],\n",
       "              ['1997', '54.777'],\n",
       "              ['2002', '54.406'],\n",
       "              ['2007', '56.728']],\n",
       "             'Bolivia': [['1952', '40.414'],\n",
       "              ['1957', '41.89'],\n",
       "              ['1962', '43.428'],\n",
       "              ['1967', '45.032'],\n",
       "              ['1972', '46.714'],\n",
       "              ['1977', '50.023'],\n",
       "              ['1982', '53.859'],\n",
       "              ['1987', '57.251'],\n",
       "              ['1992', '59.957'],\n",
       "              ['1997', '62.05'],\n",
       "              ['2002', '63.883'],\n",
       "              ['2007', '65.554']],\n",
       "             'Bosnia and Herzegovina': [['1952', '53.82'],\n",
       "              ['1957', '58.45'],\n",
       "              ['1962', '61.93'],\n",
       "              ['1967', '64.79'],\n",
       "              ['1972', '67.45'],\n",
       "              ['1977', '69.86'],\n",
       "              ['1982', '70.69'],\n",
       "              ['1987', '71.14'],\n",
       "              ['1992', '72.178'],\n",
       "              ['1997', '73.244'],\n",
       "              ['2002', '74.09'],\n",
       "              ['2007', '74.852']],\n",
       "             'Botswana': [['1952', '47.622'],\n",
       "              ['1957', '49.618'],\n",
       "              ['1962', '51.52'],\n",
       "              ['1967', '53.298'],\n",
       "              ['1972', '56.024'],\n",
       "              ['1977', '59.319'],\n",
       "              ['1982', '61.484'],\n",
       "              ['1987', '63.622'],\n",
       "              ['1992', '62.745'],\n",
       "              ['1997', '52.556'],\n",
       "              ['2002', '46.634'],\n",
       "              ['2007', '50.728']],\n",
       "             'Brazil': [['1952', '50.917'],\n",
       "              ['1957', '53.285'],\n",
       "              ['1962', '55.665'],\n",
       "              ['1967', '57.632'],\n",
       "              ['1972', '59.504'],\n",
       "              ['1977', '61.489'],\n",
       "              ['1982', '63.336'],\n",
       "              ['1987', '65.205'],\n",
       "              ['1992', '67.057'],\n",
       "              ['1997', '69.388'],\n",
       "              ['2002', '71.006'],\n",
       "              ['2007', '72.39']],\n",
       "             'Bulgaria': [['1952', '59.6'],\n",
       "              ['1957', '66.61'],\n",
       "              ['1962', '69.51'],\n",
       "              ['1967', '70.42'],\n",
       "              ['1972', '70.9'],\n",
       "              ['1977', '70.81'],\n",
       "              ['1982', '71.08'],\n",
       "              ['1987', '71.34'],\n",
       "              ['1992', '71.19'],\n",
       "              ['1997', '70.32'],\n",
       "              ['2002', '72.14'],\n",
       "              ['2007', '73.005']],\n",
       "             'Burkina Faso': [['1952', '31.975'],\n",
       "              ['1957', '34.906'],\n",
       "              ['1962', '37.814'],\n",
       "              ['1967', '40.697'],\n",
       "              ['1972', '43.591'],\n",
       "              ['1977', '46.137'],\n",
       "              ['1982', '48.122'],\n",
       "              ['1987', '49.557'],\n",
       "              ['1992', '50.26'],\n",
       "              ['1997', '50.324'],\n",
       "              ['2002', '50.65'],\n",
       "              ['2007', '52.295']],\n",
       "             'Burundi': [['1952', '39.031'],\n",
       "              ['1957', '40.533'],\n",
       "              ['1962', '42.045'],\n",
       "              ['1967', '43.548'],\n",
       "              ['1972', '44.057'],\n",
       "              ['1977', '45.91'],\n",
       "              ['1982', '47.471'],\n",
       "              ['1987', '48.211'],\n",
       "              ['1992', '44.736'],\n",
       "              ['1997', '45.326'],\n",
       "              ['2002', '47.36'],\n",
       "              ['2007', '49.58']],\n",
       "             'Cambodia': [['1952', '39.417'],\n",
       "              ['1957', '41.366'],\n",
       "              ['1962', '43.415'],\n",
       "              ['1967', '45.415'],\n",
       "              ['1972', '40.317'],\n",
       "              ['1977', '31.22'],\n",
       "              ['1982', '50.957'],\n",
       "              ['1987', '53.914'],\n",
       "              ['1992', '55.803'],\n",
       "              ['1997', '56.534'],\n",
       "              ['2002', '56.752'],\n",
       "              ['2007', '59.723']],\n",
       "             'Cameroon': [['1952', '38.523'],\n",
       "              ['1957', '40.428'],\n",
       "              ['1962', '42.643'],\n",
       "              ['1967', '44.799'],\n",
       "              ['1972', '47.049'],\n",
       "              ['1977', '49.355'],\n",
       "              ['1982', '52.961'],\n",
       "              ['1987', '54.985'],\n",
       "              ['1992', '54.314'],\n",
       "              ['1997', '52.199'],\n",
       "              ['2002', '49.856'],\n",
       "              ['2007', '50.43']],\n",
       "             'Canada': [['1952', '68.75'],\n",
       "              ['1957', '69.96'],\n",
       "              ['1962', '71.3'],\n",
       "              ['1967', '72.13'],\n",
       "              ['1972', '72.88'],\n",
       "              ['1977', '74.21'],\n",
       "              ['1982', '75.76'],\n",
       "              ['1987', '76.86'],\n",
       "              ['1992', '77.95'],\n",
       "              ['1997', '78.61'],\n",
       "              ['2002', '79.77'],\n",
       "              ['2007', '80.653']],\n",
       "             'Central African Republic': [['1952', '35.463'],\n",
       "              ['1957', '37.464'],\n",
       "              ['1962', '39.475'],\n",
       "              ['1967', '41.478'],\n",
       "              ['1972', '43.457'],\n",
       "              ['1977', '46.775'],\n",
       "              ['1982', '48.295'],\n",
       "              ['1987', '50.485'],\n",
       "              ['1992', '49.396'],\n",
       "              ['1997', '46.066'],\n",
       "              ['2002', '43.308'],\n",
       "              ['2007', '44.741']],\n",
       "             'Chad': [['1952', '38.092'],\n",
       "              ['1957', '39.881'],\n",
       "              ['1962', '41.716'],\n",
       "              ['1967', '43.601'],\n",
       "              ['1972', '45.569'],\n",
       "              ['1977', '47.383'],\n",
       "              ['1982', '49.517'],\n",
       "              ['1987', '51.051'],\n",
       "              ['1992', '51.724'],\n",
       "              ['1997', '51.573'],\n",
       "              ['2002', '50.525'],\n",
       "              ['2007', '50.651']],\n",
       "             'Chile': [['1952', '54.745'],\n",
       "              ['1957', '56.074'],\n",
       "              ['1962', '57.924'],\n",
       "              ['1967', '60.523'],\n",
       "              ['1972', '63.441'],\n",
       "              ['1977', '67.052'],\n",
       "              ['1982', '70.565'],\n",
       "              ['1987', '72.492'],\n",
       "              ['1992', '74.126'],\n",
       "              ['1997', '75.816'],\n",
       "              ['2002', '77.86'],\n",
       "              ['2007', '78.553']],\n",
       "             'China': [['1952', '44'],\n",
       "              ['1957', '50.54896'],\n",
       "              ['1962', '44.50136'],\n",
       "              ['1967', '58.38112'],\n",
       "              ['1972', '63.11888'],\n",
       "              ['1977', '63.96736'],\n",
       "              ['1982', '65.525'],\n",
       "              ['1987', '67.274'],\n",
       "              ['1992', '68.69'],\n",
       "              ['1997', '70.426'],\n",
       "              ['2002', '72.028'],\n",
       "              ['2007', '72.961']],\n",
       "             'Colombia': [['1952', '50.643'],\n",
       "              ['1957', '55.118'],\n",
       "              ['1962', '57.863'],\n",
       "              ['1967', '59.963'],\n",
       "              ['1972', '61.623'],\n",
       "              ['1977', '63.837'],\n",
       "              ['1982', '66.653'],\n",
       "              ['1987', '67.768'],\n",
       "              ['1992', '68.421'],\n",
       "              ['1997', '70.313'],\n",
       "              ['2002', '71.682'],\n",
       "              ['2007', '72.889']],\n",
       "             'Comoros': [['1952', '40.715'],\n",
       "              ['1957', '42.46'],\n",
       "              ['1962', '44.467'],\n",
       "              ['1967', '46.472'],\n",
       "              ['1972', '48.944'],\n",
       "              ['1977', '50.939'],\n",
       "              ['1982', '52.933'],\n",
       "              ['1987', '54.926'],\n",
       "              ['1992', '57.939'],\n",
       "              ['1997', '60.66'],\n",
       "              ['2002', '62.974'],\n",
       "              ['2007', '65.152']],\n",
       "             'Congo, Dem. Rep.': [['1952', '39.143'],\n",
       "              ['1957', '40.652'],\n",
       "              ['1962', '42.122'],\n",
       "              ['1967', '44.056'],\n",
       "              ['1972', '45.989'],\n",
       "              ['1977', '47.804'],\n",
       "              ['1982', '47.784'],\n",
       "              ['1987', '47.412'],\n",
       "              ['1992', '45.548'],\n",
       "              ['1997', '42.587'],\n",
       "              ['2002', '44.966'],\n",
       "              ['2007', '46.462']],\n",
       "             'Congo, Rep.': [['1952', '42.111'],\n",
       "              ['1957', '45.053'],\n",
       "              ['1962', '48.435'],\n",
       "              ['1967', '52.04'],\n",
       "              ['1972', '54.907'],\n",
       "              ['1977', '55.625'],\n",
       "              ['1982', '56.695'],\n",
       "              ['1987', '57.47'],\n",
       "              ['1992', '56.433'],\n",
       "              ['1997', '52.962'],\n",
       "              ['2002', '52.97'],\n",
       "              ['2007', '55.322']],\n",
       "             'Costa Rica': [['1952', '57.206'],\n",
       "              ['1957', '60.026'],\n",
       "              ['1962', '62.842'],\n",
       "              ['1967', '65.424'],\n",
       "              ['1972', '67.849'],\n",
       "              ['1977', '70.75'],\n",
       "              ['1982', '73.45'],\n",
       "              ['1987', '74.752'],\n",
       "              ['1992', '75.713'],\n",
       "              ['1997', '77.26'],\n",
       "              ['2002', '78.123'],\n",
       "              ['2007', '78.782']],\n",
       "             \"Cote d'Ivoire\": [['1952', '40.477'],\n",
       "              ['1957', '42.469'],\n",
       "              ['1962', '44.93'],\n",
       "              ['1967', '47.35'],\n",
       "              ['1972', '49.801'],\n",
       "              ['1977', '52.374'],\n",
       "              ['1982', '53.983'],\n",
       "              ['1987', '54.655'],\n",
       "              ['1992', '52.044'],\n",
       "              ['1997', '47.991'],\n",
       "              ['2002', '46.832'],\n",
       "              ['2007', '48.328']],\n",
       "             'Croatia': [['1952', '61.21'],\n",
       "              ['1957', '64.77'],\n",
       "              ['1962', '67.13'],\n",
       "              ['1967', '68.5'],\n",
       "              ['1972', '69.61'],\n",
       "              ['1977', '70.64'],\n",
       "              ['1982', '70.46'],\n",
       "              ['1987', '71.52'],\n",
       "              ['1992', '72.527'],\n",
       "              ['1997', '73.68'],\n",
       "              ['2002', '74.876'],\n",
       "              ['2007', '75.748']],\n",
       "             'Cuba': [['1952', '59.421'],\n",
       "              ['1957', '62.325'],\n",
       "              ['1962', '65.246'],\n",
       "              ['1967', '68.29'],\n",
       "              ['1972', '70.723'],\n",
       "              ['1977', '72.649'],\n",
       "              ['1982', '73.717'],\n",
       "              ['1987', '74.174'],\n",
       "              ['1992', '74.414'],\n",
       "              ['1997', '76.151'],\n",
       "              ['2002', '77.158'],\n",
       "              ['2007', '78.273']],\n",
       "             'Czech Republic': [['1952', '66.87'],\n",
       "              ['1957', '69.03'],\n",
       "              ['1962', '69.9'],\n",
       "              ['1967', '70.38'],\n",
       "              ['1972', '70.29'],\n",
       "              ['1977', '70.71'],\n",
       "              ['1982', '70.96'],\n",
       "              ['1987', '71.58'],\n",
       "              ['1992', '72.4'],\n",
       "              ['1997', '74.01'],\n",
       "              ['2002', '75.51'],\n",
       "              ['2007', '76.486']],\n",
       "             'Denmark': [['1952', '70.78'],\n",
       "              ['1957', '71.81'],\n",
       "              ['1962', '72.35'],\n",
       "              ['1967', '72.96'],\n",
       "              ['1972', '73.47'],\n",
       "              ['1977', '74.69'],\n",
       "              ['1982', '74.63'],\n",
       "              ['1987', '74.8'],\n",
       "              ['1992', '75.33'],\n",
       "              ['1997', '76.11'],\n",
       "              ['2002', '77.18'],\n",
       "              ['2007', '78.332']],\n",
       "             'Djibouti': [['1952', '34.812'],\n",
       "              ['1957', '37.328'],\n",
       "              ['1962', '39.693'],\n",
       "              ['1967', '42.074'],\n",
       "              ['1972', '44.366'],\n",
       "              ['1977', '46.519'],\n",
       "              ['1982', '48.812'],\n",
       "              ['1987', '50.04'],\n",
       "              ['1992', '51.604'],\n",
       "              ['1997', '53.157'],\n",
       "              ['2002', '53.373'],\n",
       "              ['2007', '54.791']],\n",
       "             'Dominican Republic': [['1952', '45.928'],\n",
       "              ['1957', '49.828'],\n",
       "              ['1962', '53.459'],\n",
       "              ['1967', '56.751'],\n",
       "              ['1972', '59.631'],\n",
       "              ['1977', '61.788'],\n",
       "              ['1982', '63.727'],\n",
       "              ['1987', '66.046'],\n",
       "              ['1992', '68.457'],\n",
       "              ['1997', '69.957'],\n",
       "              ['2002', '70.847'],\n",
       "              ['2007', '72.235']],\n",
       "             'Ecuador': [['1952', '48.357'],\n",
       "              ['1957', '51.356'],\n",
       "              ['1962', '54.64'],\n",
       "              ['1967', '56.678'],\n",
       "              ['1972', '58.796'],\n",
       "              ['1977', '61.31'],\n",
       "              ['1982', '64.342'],\n",
       "              ['1987', '67.231'],\n",
       "              ['1992', '69.613'],\n",
       "              ['1997', '72.312'],\n",
       "              ['2002', '74.173'],\n",
       "              ['2007', '74.994']],\n",
       "             'Egypt': [['1952', '41.893'],\n",
       "              ['1957', '44.444'],\n",
       "              ['1962', '46.992'],\n",
       "              ['1967', '49.293'],\n",
       "              ['1972', '51.137'],\n",
       "              ['1977', '53.319'],\n",
       "              ['1982', '56.006'],\n",
       "              ['1987', '59.797'],\n",
       "              ['1992', '63.674'],\n",
       "              ['1997', '67.217'],\n",
       "              ['2002', '69.806'],\n",
       "              ['2007', '71.338']],\n",
       "             'El Salvador': [['1952', '45.262'],\n",
       "              ['1957', '48.57'],\n",
       "              ['1962', '52.307'],\n",
       "              ['1967', '55.855'],\n",
       "              ['1972', '58.207'],\n",
       "              ['1977', '56.696'],\n",
       "              ['1982', '56.604'],\n",
       "              ['1987', '63.154'],\n",
       "              ['1992', '66.798'],\n",
       "              ['1997', '69.535'],\n",
       "              ['2002', '70.734'],\n",
       "              ['2007', '71.878']],\n",
       "             'Equatorial Guinea': [['1952', '34.482'],\n",
       "              ['1957', '35.983'],\n",
       "              ['1962', '37.485'],\n",
       "              ['1967', '38.987'],\n",
       "              ['1972', '40.516'],\n",
       "              ['1977', '42.024'],\n",
       "              ['1982', '43.662'],\n",
       "              ['1987', '45.664'],\n",
       "              ['1992', '47.545'],\n",
       "              ['1997', '48.245'],\n",
       "              ['2002', '49.348'],\n",
       "              ['2007', '51.579']],\n",
       "             'Eritrea': [['1952', '35.928'],\n",
       "              ['1957', '38.047'],\n",
       "              ['1962', '40.158'],\n",
       "              ['1967', '42.189'],\n",
       "              ['1972', '44.142'],\n",
       "              ['1977', '44.535'],\n",
       "              ['1982', '43.89'],\n",
       "              ['1987', '46.453'],\n",
       "              ['1992', '49.991'],\n",
       "              ['1997', '53.378'],\n",
       "              ['2002', '55.24'],\n",
       "              ['2007', '58.04']],\n",
       "             'Ethiopia': [['1952', '34.078'],\n",
       "              ['1957', '36.667'],\n",
       "              ['1962', '40.059'],\n",
       "              ['1967', '42.115'],\n",
       "              ['1972', '43.515'],\n",
       "              ['1977', '44.51'],\n",
       "              ['1982', '44.916'],\n",
       "              ['1987', '46.684'],\n",
       "              ['1992', '48.091'],\n",
       "              ['1997', '49.402'],\n",
       "              ['2002', '50.725'],\n",
       "              ['2007', '52.947']],\n",
       "             'Finland': [['1952', '66.55'],\n",
       "              ['1957', '67.49'],\n",
       "              ['1962', '68.75'],\n",
       "              ['1967', '69.83'],\n",
       "              ['1972', '70.87'],\n",
       "              ['1977', '72.52'],\n",
       "              ['1982', '74.55'],\n",
       "              ['1987', '74.83'],\n",
       "              ['1992', '75.7'],\n",
       "              ['1997', '77.13'],\n",
       "              ['2002', '78.37'],\n",
       "              ['2007', '79.313']],\n",
       "             'France': [['1952', '67.41'],\n",
       "              ['1957', '68.93'],\n",
       "              ['1962', '70.51'],\n",
       "              ['1967', '71.55'],\n",
       "              ['1972', '72.38'],\n",
       "              ['1977', '73.83'],\n",
       "              ['1982', '74.89'],\n",
       "              ['1987', '76.34'],\n",
       "              ['1992', '77.46'],\n",
       "              ['1997', '78.64'],\n",
       "              ['2002', '79.59'],\n",
       "              ['2007', '80.657']],\n",
       "             'Gabon': [['1952', '37.003'],\n",
       "              ['1957', '38.999'],\n",
       "              ['1962', '40.489'],\n",
       "              ['1967', '44.598'],\n",
       "              ['1972', '48.69'],\n",
       "              ['1977', '52.79'],\n",
       "              ['1982', '56.564'],\n",
       "              ['1987', '60.19'],\n",
       "              ['1992', '61.366'],\n",
       "              ['1997', '60.461'],\n",
       "              ['2002', '56.761'],\n",
       "              ['2007', '56.735']],\n",
       "             'Gambia': [['1952', '30'],\n",
       "              ['1957', '32.065'],\n",
       "              ['1962', '33.896'],\n",
       "              ['1967', '35.857'],\n",
       "              ['1972', '38.308'],\n",
       "              ['1977', '41.842'],\n",
       "              ['1982', '45.58'],\n",
       "              ['1987', '49.265'],\n",
       "              ['1992', '52.644'],\n",
       "              ['1997', '55.861'],\n",
       "              ['2002', '58.041'],\n",
       "              ['2007', '59.448']],\n",
       "             'Germany': [['1952', '67.5'],\n",
       "              ['1957', '69.1'],\n",
       "              ['1962', '70.3'],\n",
       "              ['1967', '70.8'],\n",
       "              ['1972', '71'],\n",
       "              ['1977', '72.5'],\n",
       "              ['1982', '73.8'],\n",
       "              ['1987', '74.847'],\n",
       "              ['1992', '76.07'],\n",
       "              ['1997', '77.34'],\n",
       "              ['2002', '78.67'],\n",
       "              ['2007', '79.406']],\n",
       "             'Ghana': [['1952', '43.149'],\n",
       "              ['1957', '44.779'],\n",
       "              ['1962', '46.452'],\n",
       "              ['1967', '48.072'],\n",
       "              ['1972', '49.875'],\n",
       "              ['1977', '51.756'],\n",
       "              ['1982', '53.744'],\n",
       "              ['1987', '55.729'],\n",
       "              ['1992', '57.501'],\n",
       "              ['1997', '58.556'],\n",
       "              ['2002', '58.453'],\n",
       "              ['2007', '60.022']],\n",
       "             'Greece': [['1952', '65.86'],\n",
       "              ['1957', '67.86'],\n",
       "              ['1962', '69.51'],\n",
       "              ['1967', '71'],\n",
       "              ['1972', '72.34'],\n",
       "              ['1977', '73.68'],\n",
       "              ['1982', '75.24'],\n",
       "              ['1987', '76.67'],\n",
       "              ['1992', '77.03'],\n",
       "              ['1997', '77.869'],\n",
       "              ['2002', '78.256'],\n",
       "              ['2007', '79.483']],\n",
       "             'Guatemala': [['1952', '42.023'],\n",
       "              ['1957', '44.142'],\n",
       "              ['1962', '46.954'],\n",
       "              ['1967', '50.016'],\n",
       "              ['1972', '53.738'],\n",
       "              ['1977', '56.029'],\n",
       "              ['1982', '58.137'],\n",
       "              ['1987', '60.782'],\n",
       "              ['1992', '63.373'],\n",
       "              ['1997', '66.322'],\n",
       "              ['2002', '68.978'],\n",
       "              ['2007', '70.259']],\n",
       "             'Guinea': [['1952', '33.609'],\n",
       "              ['1957', '34.558'],\n",
       "              ['1962', '35.753'],\n",
       "              ['1967', '37.197'],\n",
       "              ['1972', '38.842'],\n",
       "              ['1977', '40.762'],\n",
       "              ['1982', '42.891'],\n",
       "              ['1987', '45.552'],\n",
       "              ['1992', '48.576'],\n",
       "              ['1997', '51.455'],\n",
       "              ['2002', '53.676'],\n",
       "              ['2007', '56.007']],\n",
       "             'Guinea-Bissau': [['1952', '32.5'],\n",
       "              ['1957', '33.489'],\n",
       "              ['1962', '34.488'],\n",
       "              ['1967', '35.492'],\n",
       "              ['1972', '36.486'],\n",
       "              ['1977', '37.465'],\n",
       "              ['1982', '39.327'],\n",
       "              ['1987', '41.245'],\n",
       "              ['1992', '43.266'],\n",
       "              ['1997', '44.873'],\n",
       "              ['2002', '45.504'],\n",
       "              ['2007', '46.388']],\n",
       "             'Haiti': [['1952', '37.579'],\n",
       "              ['1957', '40.696'],\n",
       "              ['1962', '43.59'],\n",
       "              ['1967', '46.243'],\n",
       "              ['1972', '48.042'],\n",
       "              ['1977', '49.923'],\n",
       "              ['1982', '51.461'],\n",
       "              ['1987', '53.636'],\n",
       "              ['1992', '55.089'],\n",
       "              ['1997', '56.671'],\n",
       "              ['2002', '58.137'],\n",
       "              ['2007', '60.916']],\n",
       "             'Honduras': [['1952', '41.912'],\n",
       "              ['1957', '44.665'],\n",
       "              ['1962', '48.041'],\n",
       "              ['1967', '50.924'],\n",
       "              ['1972', '53.884'],\n",
       "              ['1977', '57.402'],\n",
       "              ['1982', '60.909'],\n",
       "              ['1987', '64.492'],\n",
       "              ['1992', '66.399'],\n",
       "              ['1997', '67.659'],\n",
       "              ['2002', '68.565'],\n",
       "              ['2007', '70.198']],\n",
       "             'Hong Kong, China': [['1952', '60.96'],\n",
       "              ['1957', '64.75'],\n",
       "              ['1962', '67.65'],\n",
       "              ['1967', '70'],\n",
       "              ['1972', '72'],\n",
       "              ['1977', '73.6'],\n",
       "              ['1982', '75.45'],\n",
       "              ['1987', '76.2'],\n",
       "              ['1992', '77.601'],\n",
       "              ['1997', '80'],\n",
       "              ['2002', '81.495'],\n",
       "              ['2007', '82.208']],\n",
       "             'Hungary': [['1952', '64.03'],\n",
       "              ['1957', '66.41'],\n",
       "              ['1962', '67.96'],\n",
       "              ['1967', '69.5'],\n",
       "              ['1972', '69.76'],\n",
       "              ['1977', '69.95'],\n",
       "              ['1982', '69.39'],\n",
       "              ['1987', '69.58'],\n",
       "              ['1992', '69.17'],\n",
       "              ['1997', '71.04'],\n",
       "              ['2002', '72.59'],\n",
       "              ['2007', '73.338']],\n",
       "             'Iceland': [['1952', '72.49'],\n",
       "              ['1957', '73.47'],\n",
       "              ['1962', '73.68'],\n",
       "              ['1967', '73.73'],\n",
       "              ['1972', '74.46'],\n",
       "              ['1977', '76.11'],\n",
       "              ['1982', '76.99'],\n",
       "              ['1987', '77.23'],\n",
       "              ['1992', '78.77'],\n",
       "              ['1997', '78.95'],\n",
       "              ['2002', '80.5'],\n",
       "              ['2007', '81.757']],\n",
       "             'India': [['1952', '37.373'],\n",
       "              ['1957', '40.249'],\n",
       "              ['1962', '43.605'],\n",
       "              ['1967', '47.193'],\n",
       "              ['1972', '50.651'],\n",
       "              ['1977', '54.208'],\n",
       "              ['1982', '56.596'],\n",
       "              ['1987', '58.553'],\n",
       "              ['1992', '60.223'],\n",
       "              ['1997', '61.765'],\n",
       "              ['2002', '62.879'],\n",
       "              ['2007', '64.698']],\n",
       "             'Indonesia': [['1952', '37.468'],\n",
       "              ['1957', '39.918'],\n",
       "              ['1962', '42.518'],\n",
       "              ['1967', '45.964'],\n",
       "              ['1972', '49.203'],\n",
       "              ['1977', '52.702'],\n",
       "              ['1982', '56.159'],\n",
       "              ['1987', '60.137'],\n",
       "              ['1992', '62.681'],\n",
       "              ['1997', '66.041'],\n",
       "              ['2002', '68.588'],\n",
       "              ['2007', '70.65']],\n",
       "             'Iran': [['1952', '44.869'],\n",
       "              ['1957', '47.181'],\n",
       "              ['1962', '49.325'],\n",
       "              ['1967', '52.469'],\n",
       "              ['1972', '55.234'],\n",
       "              ['1977', '57.702'],\n",
       "              ['1982', '59.62'],\n",
       "              ['1987', '63.04'],\n",
       "              ['1992', '65.742'],\n",
       "              ['1997', '68.042'],\n",
       "              ['2002', '69.451'],\n",
       "              ['2007', '70.964']],\n",
       "             'Iraq': [['1952', '45.32'],\n",
       "              ['1957', '48.437'],\n",
       "              ['1962', '51.457'],\n",
       "              ['1967', '54.459'],\n",
       "              ['1972', '56.95'],\n",
       "              ['1977', '60.413'],\n",
       "              ['1982', '62.038'],\n",
       "              ['1987', '65.044'],\n",
       "              ['1992', '59.461'],\n",
       "              ['1997', '58.811'],\n",
       "              ['2002', '57.046'],\n",
       "              ['2007', '59.545']],\n",
       "             'Ireland': [['1952', '66.91'],\n",
       "              ['1957', '68.9'],\n",
       "              ['1962', '70.29'],\n",
       "              ['1967', '71.08'],\n",
       "              ['1972', '71.28'],\n",
       "              ['1977', '72.03'],\n",
       "              ['1982', '73.1'],\n",
       "              ['1987', '74.36'],\n",
       "              ['1992', '75.467'],\n",
       "              ['1997', '76.122'],\n",
       "              ['2002', '77.783'],\n",
       "              ['2007', '78.885']],\n",
       "             'Israel': [['1952', '65.39'],\n",
       "              ['1957', '67.84'],\n",
       "              ['1962', '69.39'],\n",
       "              ['1967', '70.75'],\n",
       "              ['1972', '71.63'],\n",
       "              ['1977', '73.06'],\n",
       "              ['1982', '74.45'],\n",
       "              ['1987', '75.6'],\n",
       "              ['1992', '76.93'],\n",
       "              ['1997', '78.269'],\n",
       "              ['2002', '79.696'],\n",
       "              ['2007', '80.745']],\n",
       "             'Italy': [['1952', '65.94'],\n",
       "              ['1957', '67.81'],\n",
       "              ['1962', '69.24'],\n",
       "              ['1967', '71.06'],\n",
       "              ['1972', '72.19'],\n",
       "              ['1977', '73.48'],\n",
       "              ['1982', '74.98'],\n",
       "              ['1987', '76.42'],\n",
       "              ['1992', '77.44'],\n",
       "              ['1997', '78.82'],\n",
       "              ['2002', '80.24'],\n",
       "              ['2007', '80.546']],\n",
       "             'Jamaica': [['1952', '58.53'],\n",
       "              ['1957', '62.61'],\n",
       "              ['1962', '65.61'],\n",
       "              ['1967', '67.51'],\n",
       "              ['1972', '69'],\n",
       "              ['1977', '70.11'],\n",
       "              ['1982', '71.21'],\n",
       "              ['1987', '71.77'],\n",
       "              ['1992', '71.766'],\n",
       "              ['1997', '72.262'],\n",
       "              ['2002', '72.047'],\n",
       "              ['2007', '72.567']],\n",
       "             'Japan': [['1952', '63.03'],\n",
       "              ['1957', '65.5'],\n",
       "              ['1962', '68.73'],\n",
       "              ['1967', '71.43'],\n",
       "              ['1972', '73.42'],\n",
       "              ['1977', '75.38'],\n",
       "              ['1982', '77.11'],\n",
       "              ['1987', '78.67'],\n",
       "              ['1992', '79.36'],\n",
       "              ['1997', '80.69'],\n",
       "              ['2002', '82'],\n",
       "              ['2007', '82.603']],\n",
       "             'Jordan': [['1952', '43.158'],\n",
       "              ['1957', '45.669'],\n",
       "              ['1962', '48.126'],\n",
       "              ['1967', '51.629'],\n",
       "              ['1972', '56.528'],\n",
       "              ['1977', '61.134'],\n",
       "              ['1982', '63.739'],\n",
       "              ['1987', '65.869'],\n",
       "              ['1992', '68.015'],\n",
       "              ['1997', '69.772'],\n",
       "              ['2002', '71.263'],\n",
       "              ['2007', '72.535']],\n",
       "             'Kenya': [['1952', '42.27'],\n",
       "              ['1957', '44.686'],\n",
       "              ['1962', '47.949'],\n",
       "              ['1967', '50.654'],\n",
       "              ['1972', '53.559'],\n",
       "              ['1977', '56.155'],\n",
       "              ['1982', '58.766'],\n",
       "              ['1987', '59.339'],\n",
       "              ['1992', '59.285'],\n",
       "              ['1997', '54.407'],\n",
       "              ['2002', '50.992'],\n",
       "              ['2007', '54.11']],\n",
       "             'Korea, Dem. Rep.': [['1952', '50.056'],\n",
       "              ['1957', '54.081'],\n",
       "              ['1962', '56.656'],\n",
       "              ['1967', '59.942'],\n",
       "              ['1972', '63.983'],\n",
       "              ['1977', '67.159'],\n",
       "              ['1982', '69.1'],\n",
       "              ['1987', '70.647'],\n",
       "              ['1992', '69.978'],\n",
       "              ['1997', '67.727'],\n",
       "              ['2002', '66.662'],\n",
       "              ['2007', '67.297']],\n",
       "             'Korea, Rep.': [['1952', '47.453'],\n",
       "              ['1957', '52.681'],\n",
       "              ['1962', '55.292'],\n",
       "              ['1967', '57.716'],\n",
       "              ['1972', '62.612'],\n",
       "              ['1977', '64.766'],\n",
       "              ['1982', '67.123'],\n",
       "              ['1987', '69.81'],\n",
       "              ['1992', '72.244'],\n",
       "              ['1997', '74.647'],\n",
       "              ['2002', '77.045'],\n",
       "              ['2007', '78.623']],\n",
       "             'Kuwait': [['1952', '55.565'],\n",
       "              ['1957', '58.033'],\n",
       "              ['1962', '60.47'],\n",
       "              ['1967', '64.624'],\n",
       "              ['1972', '67.712'],\n",
       "              ['1977', '69.343'],\n",
       "              ['1982', '71.309'],\n",
       "              ['1987', '74.174'],\n",
       "              ['1992', '75.19'],\n",
       "              ['1997', '76.156'],\n",
       "              ['2002', '76.904'],\n",
       "              ['2007', '77.588']],\n",
       "             'Lebanon': [['1952', '55.928'],\n",
       "              ['1957', '59.489'],\n",
       "              ['1962', '62.094'],\n",
       "              ['1967', '63.87'],\n",
       "              ['1972', '65.421'],\n",
       "              ['1977', '66.099'],\n",
       "              ['1982', '66.983'],\n",
       "              ['1987', '67.926'],\n",
       "              ['1992', '69.292'],\n",
       "              ['1997', '70.265'],\n",
       "              ['2002', '71.028'],\n",
       "              ['2007', '71.993']],\n",
       "             'Lesotho': [['1952', '42.138'],\n",
       "              ['1957', '45.047'],\n",
       "              ['1962', '47.747'],\n",
       "              ['1967', '48.492'],\n",
       "              ['1972', '49.767'],\n",
       "              ['1977', '52.208'],\n",
       "              ['1982', '55.078'],\n",
       "              ['1987', '57.18'],\n",
       "              ['1992', '59.685'],\n",
       "              ['1997', '55.558'],\n",
       "              ['2002', '44.593'],\n",
       "              ['2007', '42.592']],\n",
       "             'Liberia': [['1952', '38.48'],\n",
       "              ['1957', '39.486'],\n",
       "              ['1962', '40.502'],\n",
       "              ['1967', '41.536'],\n",
       "              ['1972', '42.614'],\n",
       "              ['1977', '43.764'],\n",
       "              ['1982', '44.852'],\n",
       "              ['1987', '46.027'],\n",
       "              ['1992', '40.802'],\n",
       "              ['1997', '42.221'],\n",
       "              ['2002', '43.753'],\n",
       "              ['2007', '45.678']],\n",
       "             'Libya': [['1952', '42.723'],\n",
       "              ['1957', '45.289'],\n",
       "              ['1962', '47.808'],\n",
       "              ['1967', '50.227'],\n",
       "              ['1972', '52.773'],\n",
       "              ['1977', '57.442'],\n",
       "              ['1982', '62.155'],\n",
       "              ['1987', '66.234'],\n",
       "              ['1992', '68.755'],\n",
       "              ['1997', '71.555'],\n",
       "              ['2002', '72.737'],\n",
       "              ['2007', '73.952']],\n",
       "             'Madagascar': [['1952', '36.681'],\n",
       "              ['1957', '38.865'],\n",
       "              ['1962', '40.848'],\n",
       "              ['1967', '42.881'],\n",
       "              ['1972', '44.851'],\n",
       "              ['1977', '46.881'],\n",
       "              ['1982', '48.969'],\n",
       "              ['1987', '49.35'],\n",
       "              ['1992', '52.214'],\n",
       "              ['1997', '54.978'],\n",
       "              ['2002', '57.286'],\n",
       "              ['2007', '59.443']],\n",
       "             'Malawi': [['1952', '36.256'],\n",
       "              ['1957', '37.207'],\n",
       "              ['1962', '38.41'],\n",
       "              ['1967', '39.487'],\n",
       "              ['1972', '41.766'],\n",
       "              ['1977', '43.767'],\n",
       "              ['1982', '45.642'],\n",
       "              ['1987', '47.457'],\n",
       "              ['1992', '49.42'],\n",
       "              ['1997', '47.495'],\n",
       "              ['2002', '45.009'],\n",
       "              ['2007', '48.303']],\n",
       "             'Malaysia': [['1952', '48.463'],\n",
       "              ['1957', '52.102'],\n",
       "              ['1962', '55.737'],\n",
       "              ['1967', '59.371'],\n",
       "              ['1972', '63.01'],\n",
       "              ['1977', '65.256'],\n",
       "              ['1982', '68'],\n",
       "              ['1987', '69.5'],\n",
       "              ['1992', '70.693'],\n",
       "              ['1997', '71.938'],\n",
       "              ['2002', '73.044'],\n",
       "              ['2007', '74.241']],\n",
       "             'Mali': [['1952', '33.685'],\n",
       "              ['1957', '35.307'],\n",
       "              ['1962', '36.936'],\n",
       "              ['1967', '38.487'],\n",
       "              ['1972', '39.977'],\n",
       "              ['1977', '41.714'],\n",
       "              ['1982', '43.916'],\n",
       "              ['1987', '46.364'],\n",
       "              ['1992', '48.388'],\n",
       "              ['1997', '49.903'],\n",
       "              ['2002', '51.818'],\n",
       "              ['2007', '54.467']],\n",
       "             'Mauritania': [['1952', '40.543'],\n",
       "              ['1957', '42.338'],\n",
       "              ['1962', '44.248'],\n",
       "              ['1967', '46.289'],\n",
       "              ['1972', '48.437'],\n",
       "              ['1977', '50.852'],\n",
       "              ['1982', '53.599'],\n",
       "              ['1987', '56.145'],\n",
       "              ['1992', '58.333'],\n",
       "              ['1997', '60.43'],\n",
       "              ['2002', '62.247'],\n",
       "              ['2007', '64.164']],\n",
       "             'Mauritius': [['1952', '50.986'],\n",
       "              ['1957', '58.089'],\n",
       "              ['1962', '60.246'],\n",
       "              ['1967', '61.557'],\n",
       "              ['1972', '62.944'],\n",
       "              ['1977', '64.93'],\n",
       "              ['1982', '66.711'],\n",
       "              ['1987', '68.74'],\n",
       "              ['1992', '69.745'],\n",
       "              ['1997', '70.736'],\n",
       "              ['2002', '71.954'],\n",
       "              ['2007', '72.801']],\n",
       "             'Mexico': [['1952', '50.789'],\n",
       "              ['1957', '55.19'],\n",
       "              ['1962', '58.299'],\n",
       "              ['1967', '60.11'],\n",
       "              ['1972', '62.361'],\n",
       "              ['1977', '65.032'],\n",
       "              ['1982', '67.405'],\n",
       "              ['1987', '69.498'],\n",
       "              ['1992', '71.455'],\n",
       "              ['1997', '73.67'],\n",
       "              ['2002', '74.902'],\n",
       "              ['2007', '76.195']],\n",
       "             'Mongolia': [['1952', '42.244'],\n",
       "              ['1957', '45.248'],\n",
       "              ['1962', '48.251'],\n",
       "              ['1967', '51.253'],\n",
       "              ['1972', '53.754'],\n",
       "              ['1977', '55.491'],\n",
       "              ['1982', '57.489'],\n",
       "              ['1987', '60.222'],\n",
       "              ['1992', '61.271'],\n",
       "              ['1997', '63.625'],\n",
       "              ['2002', '65.033'],\n",
       "              ['2007', '66.803']],\n",
       "             'Montenegro': [['1952', '59.164'],\n",
       "              ['1957', '61.448'],\n",
       "              ['1962', '63.728'],\n",
       "              ['1967', '67.178'],\n",
       "              ['1972', '70.636'],\n",
       "              ['1977', '73.066'],\n",
       "              ['1982', '74.101'],\n",
       "              ['1987', '74.865'],\n",
       "              ['1992', '75.435'],\n",
       "              ['1997', '75.445'],\n",
       "              ['2002', '73.981'],\n",
       "              ['2007', '74.543']],\n",
       "             'Morocco': [['1952', '42.873'],\n",
       "              ['1957', '45.423'],\n",
       "              ['1962', '47.924'],\n",
       "              ['1967', '50.335'],\n",
       "              ['1972', '52.862'],\n",
       "              ['1977', '55.73'],\n",
       "              ['1982', '59.65'],\n",
       "              ['1987', '62.677'],\n",
       "              ['1992', '65.393'],\n",
       "              ['1997', '67.66'],\n",
       "              ['2002', '69.615'],\n",
       "              ['2007', '71.164']],\n",
       "             'Mozambique': [['1952', '31.286'],\n",
       "              ['1957', '33.779'],\n",
       "              ['1962', '36.161'],\n",
       "              ['1967', '38.113'],\n",
       "              ['1972', '40.328'],\n",
       "              ['1977', '42.495'],\n",
       "              ['1982', '42.795'],\n",
       "              ['1987', '42.861'],\n",
       "              ['1992', '44.284'],\n",
       "              ['1997', '46.344'],\n",
       "              ['2002', '44.026'],\n",
       "              ['2007', '42.082']],\n",
       "             'Myanmar': [['1952', '36.319'],\n",
       "              ['1957', '41.905'],\n",
       "              ['1962', '45.108'],\n",
       "              ['1967', '49.379'],\n",
       "              ['1972', '53.07'],\n",
       "              ['1977', '56.059'],\n",
       "              ['1982', '58.056'],\n",
       "              ['1987', '58.339'],\n",
       "              ['1992', '59.32'],\n",
       "              ['1997', '60.328'],\n",
       "              ['2002', '59.908'],\n",
       "              ['2007', '62.069']],\n",
       "             'Namibia': [['1952', '41.725'],\n",
       "              ['1957', '45.226'],\n",
       "              ['1962', '48.386'],\n",
       "              ['1967', '51.159'],\n",
       "              ['1972', '53.867'],\n",
       "              ['1977', '56.437'],\n",
       "              ['1982', '58.968'],\n",
       "              ['1987', '60.835'],\n",
       "              ['1992', '61.999'],\n",
       "              ['1997', '58.909'],\n",
       "              ['2002', '51.479'],\n",
       "              ['2007', '52.906']],\n",
       "             'Nepal': [['1952', '36.157'],\n",
       "              ['1957', '37.686'],\n",
       "              ['1962', '39.393'],\n",
       "              ['1967', '41.472'],\n",
       "              ['1972', '43.971'],\n",
       "              ['1977', '46.748'],\n",
       "              ['1982', '49.594'],\n",
       "              ['1987', '52.537'],\n",
       "              ['1992', '55.727'],\n",
       "              ['1997', '59.426'],\n",
       "              ['2002', '61.34'],\n",
       "              ['2007', '63.785']],\n",
       "             'Netherlands': [['1952', '72.13'],\n",
       "              ['1957', '72.99'],\n",
       "              ['1962', '73.23'],\n",
       "              ['1967', '73.82'],\n",
       "              ['1972', '73.75'],\n",
       "              ['1977', '75.24'],\n",
       "              ['1982', '76.05'],\n",
       "              ['1987', '76.83'],\n",
       "              ['1992', '77.42'],\n",
       "              ['1997', '78.03'],\n",
       "              ['2002', '78.53'],\n",
       "              ['2007', '79.762']],\n",
       "             'New Zealand': [['1952', '69.39'],\n",
       "              ['1957', '70.26'],\n",
       "              ['1962', '71.24'],\n",
       "              ['1967', '71.52'],\n",
       "              ['1972', '71.89'],\n",
       "              ['1977', '72.22'],\n",
       "              ['1982', '73.84'],\n",
       "              ['1987', '74.32'],\n",
       "              ['1992', '76.33'],\n",
       "              ['1997', '77.55'],\n",
       "              ['2002', '79.11'],\n",
       "              ['2007', '80.204']],\n",
       "             'Nicaragua': [['1952', '42.314'],\n",
       "              ['1957', '45.432'],\n",
       "              ['1962', '48.632'],\n",
       "              ['1967', '51.884'],\n",
       "              ['1972', '55.151'],\n",
       "              ['1977', '57.47'],\n",
       "              ['1982', '59.298'],\n",
       "              ['1987', '62.008'],\n",
       "              ['1992', '65.843'],\n",
       "              ['1997', '68.426'],\n",
       "              ['2002', '70.836'],\n",
       "              ['2007', '72.899']],\n",
       "             'Niger': [['1952', '37.444'],\n",
       "              ['1957', '38.598'],\n",
       "              ['1962', '39.487'],\n",
       "              ['1967', '40.118'],\n",
       "              ['1972', '40.546'],\n",
       "              ['1977', '41.291'],\n",
       "              ['1982', '42.598'],\n",
       "              ['1987', '44.555'],\n",
       "              ['1992', '47.391'],\n",
       "              ['1997', '51.313'],\n",
       "              ['2002', '54.496'],\n",
       "              ['2007', '56.867']],\n",
       "             'Nigeria': [['1952', '36.324'],\n",
       "              ['1957', '37.802'],\n",
       "              ['1962', '39.36'],\n",
       "              ['1967', '41.04'],\n",
       "              ['1972', '42.821'],\n",
       "              ['1977', '44.514'],\n",
       "              ['1982', '45.826'],\n",
       "              ['1987', '46.886'],\n",
       "              ['1992', '47.472'],\n",
       "              ['1997', '47.464'],\n",
       "              ['2002', '46.608'],\n",
       "              ['2007', '46.859']],\n",
       "             'Norway': [['1952', '72.67'],\n",
       "              ['1957', '73.44'],\n",
       "              ['1962', '73.47'],\n",
       "              ['1967', '74.08'],\n",
       "              ['1972', '74.34'],\n",
       "              ['1977', '75.37'],\n",
       "              ['1982', '75.97'],\n",
       "              ['1987', '75.89'],\n",
       "              ['1992', '77.32'],\n",
       "              ['1997', '78.32'],\n",
       "              ['2002', '79.05'],\n",
       "              ['2007', '80.196']],\n",
       "             'Oman': [['1952', '37.578'],\n",
       "              ['1957', '40.08'],\n",
       "              ['1962', '43.165'],\n",
       "              ['1967', '46.988'],\n",
       "              ['1972', '52.143'],\n",
       "              ['1977', '57.367'],\n",
       "              ['1982', '62.728'],\n",
       "              ['1987', '67.734'],\n",
       "              ['1992', '71.197'],\n",
       "              ['1997', '72.499'],\n",
       "              ['2002', '74.193'],\n",
       "              ['2007', '75.64']],\n",
       "             'Pakistan': [['1952', '43.436'],\n",
       "              ['1957', '45.557'],\n",
       "              ['1962', '47.67'],\n",
       "              ['1967', '49.8'],\n",
       "              ['1972', '51.929'],\n",
       "              ['1977', '54.043'],\n",
       "              ['1982', '56.158'],\n",
       "              ['1987', '58.245'],\n",
       "              ['1992', '60.838'],\n",
       "              ['1997', '61.818'],\n",
       "              ['2002', '63.61'],\n",
       "              ['2007', '65.483']],\n",
       "             'Panama': [['1952', '55.191'],\n",
       "              ['1957', '59.201'],\n",
       "              ['1962', '61.817'],\n",
       "              ['1967', '64.071'],\n",
       "              ['1972', '66.216'],\n",
       "              ['1977', '68.681'],\n",
       "              ['1982', '70.472'],\n",
       "              ['1987', '71.523'],\n",
       "              ['1992', '72.462'],\n",
       "              ['1997', '73.738'],\n",
       "              ['2002', '74.712'],\n",
       "              ['2007', '75.537']],\n",
       "             'Paraguay': [['1952', '62.649'],\n",
       "              ['1957', '63.196'],\n",
       "              ['1962', '64.361'],\n",
       "              ['1967', '64.951'],\n",
       "              ['1972', '65.815'],\n",
       "              ['1977', '66.353'],\n",
       "              ['1982', '66.874'],\n",
       "              ['1987', '67.378'],\n",
       "              ['1992', '68.225'],\n",
       "              ['1997', '69.4'],\n",
       "              ['2002', '70.755'],\n",
       "              ['2007', '71.752']],\n",
       "             'Peru': [['1952', '43.902'],\n",
       "              ['1957', '46.263'],\n",
       "              ['1962', '49.096'],\n",
       "              ['1967', '51.445'],\n",
       "              ['1972', '55.448'],\n",
       "              ['1977', '58.447'],\n",
       "              ['1982', '61.406'],\n",
       "              ['1987', '64.134'],\n",
       "              ['1992', '66.458'],\n",
       "              ['1997', '68.386'],\n",
       "              ['2002', '69.906'],\n",
       "              ['2007', '71.421']],\n",
       "             'Philippines': [['1952', '47.752'],\n",
       "              ['1957', '51.334'],\n",
       "              ['1962', '54.757'],\n",
       "              ['1967', '56.393'],\n",
       "              ['1972', '58.065'],\n",
       "              ['1977', '60.06'],\n",
       "              ['1982', '62.082'],\n",
       "              ['1987', '64.151'],\n",
       "              ['1992', '66.458'],\n",
       "              ['1997', '68.564'],\n",
       "              ['2002', '70.303'],\n",
       "              ['2007', '71.688']],\n",
       "             'Poland': [['1952', '61.31'],\n",
       "              ['1957', '65.77'],\n",
       "              ['1962', '67.64'],\n",
       "              ['1967', '69.61'],\n",
       "              ['1972', '70.85'],\n",
       "              ['1977', '70.67'],\n",
       "              ['1982', '71.32'],\n",
       "              ['1987', '70.98'],\n",
       "              ['1992', '70.99'],\n",
       "              ['1997', '72.75'],\n",
       "              ['2002', '74.67'],\n",
       "              ['2007', '75.563']],\n",
       "             'Portugal': [['1952', '59.82'],\n",
       "              ['1957', '61.51'],\n",
       "              ['1962', '64.39'],\n",
       "              ['1967', '66.6'],\n",
       "              ['1972', '69.26'],\n",
       "              ['1977', '70.41'],\n",
       "              ['1982', '72.77'],\n",
       "              ['1987', '74.06'],\n",
       "              ['1992', '74.86'],\n",
       "              ['1997', '75.97'],\n",
       "              ['2002', '77.29'],\n",
       "              ['2007', '78.098']],\n",
       "             'Puerto Rico': [['1952', '64.28'],\n",
       "              ['1957', '68.54'],\n",
       "              ['1962', '69.62'],\n",
       "              ['1967', '71.1'],\n",
       "              ['1972', '72.16'],\n",
       "              ['1977', '73.44'],\n",
       "              ['1982', '73.75'],\n",
       "              ['1987', '74.63'],\n",
       "              ['1992', '73.911'],\n",
       "              ['1997', '74.917'],\n",
       "              ['2002', '77.778'],\n",
       "              ['2007', '78.746']],\n",
       "             'Reunion': [['1952', '52.724'],\n",
       "              ['1957', '55.09'],\n",
       "              ['1962', '57.666'],\n",
       "              ['1967', '60.542'],\n",
       "              ['1972', '64.274'],\n",
       "              ['1977', '67.064'],\n",
       "              ['1982', '69.885'],\n",
       "              ['1987', '71.913'],\n",
       "              ['1992', '73.615'],\n",
       "              ['1997', '74.772'],\n",
       "              ['2002', '75.744'],\n",
       "              ['2007', '76.442']],\n",
       "             'Romania': [['1952', '61.05'],\n",
       "              ['1957', '64.1'],\n",
       "              ['1962', '66.8'],\n",
       "              ['1967', '66.8'],\n",
       "              ['1972', '69.21'],\n",
       "              ['1977', '69.46'],\n",
       "              ['1982', '69.66'],\n",
       "              ['1987', '69.53'],\n",
       "              ['1992', '69.36'],\n",
       "              ['1997', '69.72'],\n",
       "              ['2002', '71.322'],\n",
       "              ['2007', '72.476']],\n",
       "             'Rwanda': [['1952', '40'],\n",
       "              ['1957', '41.5'],\n",
       "              ['1962', '43'],\n",
       "              ['1967', '44.1'],\n",
       "              ['1972', '44.6'],\n",
       "              ['1977', '45'],\n",
       "              ['1982', '46.218'],\n",
       "              ['1987', '44.02'],\n",
       "              ['1992', '23.599'],\n",
       "              ['1997', '36.087'],\n",
       "              ['2002', '43.413'],\n",
       "              ['2007', '46.242']],\n",
       "             'Sao Tome and Principe': [['1952', '46.471'],\n",
       "              ['1957', '48.945'],\n",
       "              ['1962', '51.893'],\n",
       "              ['1967', '54.425'],\n",
       "              ['1972', '56.48'],\n",
       "              ['1977', '58.55'],\n",
       "              ['1982', '60.351'],\n",
       "              ['1987', '61.728'],\n",
       "              ['1992', '62.742'],\n",
       "              ['1997', '63.306'],\n",
       "              ['2002', '64.337'],\n",
       "              ['2007', '65.528']],\n",
       "             'Saudi Arabia': [['1952', '39.875'],\n",
       "              ['1957', '42.868'],\n",
       "              ['1962', '45.914'],\n",
       "              ['1967', '49.901'],\n",
       "              ['1972', '53.886'],\n",
       "              ['1977', '58.69'],\n",
       "              ['1982', '63.012'],\n",
       "              ['1987', '66.295'],\n",
       "              ['1992', '68.768'],\n",
       "              ['1997', '70.533'],\n",
       "              ['2002', '71.626'],\n",
       "              ['2007', '72.777']],\n",
       "             'Senegal': [['1952', '37.278'],\n",
       "              ['1957', '39.329'],\n",
       "              ['1962', '41.454'],\n",
       "              ['1967', '43.563'],\n",
       "              ['1972', '45.815'],\n",
       "              ['1977', '48.879'],\n",
       "              ['1982', '52.379'],\n",
       "              ['1987', '55.769'],\n",
       "              ['1992', '58.196'],\n",
       "              ['1997', '60.187'],\n",
       "              ['2002', '61.6'],\n",
       "              ['2007', '63.062']],\n",
       "             'Serbia': [['1952', '57.996'],\n",
       "              ['1957', '61.685'],\n",
       "              ['1962', '64.531'],\n",
       "              ['1967', '66.914'],\n",
       "              ['1972', '68.7'],\n",
       "              ['1977', '70.3'],\n",
       "              ['1982', '70.162'],\n",
       "              ['1987', '71.218'],\n",
       "              ['1992', '71.659'],\n",
       "              ['1997', '72.232'],\n",
       "              ['2002', '73.213'],\n",
       "              ['2007', '74.002']],\n",
       "             'Sierra Leone': [['1952', '30.331'],\n",
       "              ['1957', '31.57'],\n",
       "              ['1962', '32.767'],\n",
       "              ['1967', '34.113'],\n",
       "              ['1972', '35.4'],\n",
       "              ['1977', '36.788'],\n",
       "              ['1982', '38.445'],\n",
       "              ['1987', '40.006'],\n",
       "              ['1992', '38.333'],\n",
       "              ['1997', '39.897'],\n",
       "              ['2002', '41.012'],\n",
       "              ['2007', '42.568']],\n",
       "             'Singapore': [['1952', '60.396'],\n",
       "              ['1957', '63.179'],\n",
       "              ['1962', '65.798'],\n",
       "              ['1967', '67.946'],\n",
       "              ['1972', '69.521'],\n",
       "              ['1977', '70.795'],\n",
       "              ['1982', '71.76'],\n",
       "              ['1987', '73.56'],\n",
       "              ['1992', '75.788'],\n",
       "              ['1997', '77.158'],\n",
       "              ['2002', '78.77'],\n",
       "              ['2007', '79.972']],\n",
       "             'Slovak Republic': [['1952', '64.36'],\n",
       "              ['1957', '67.45'],\n",
       "              ['1962', '70.33'],\n",
       "              ['1967', '70.98'],\n",
       "              ['1972', '70.35'],\n",
       "              ['1977', '70.45'],\n",
       "              ['1982', '70.8'],\n",
       "              ['1987', '71.08'],\n",
       "              ['1992', '71.38'],\n",
       "              ['1997', '72.71'],\n",
       "              ['2002', '73.8'],\n",
       "              ['2007', '74.663']],\n",
       "             'Slovenia': [['1952', '65.57'],\n",
       "              ['1957', '67.85'],\n",
       "              ['1962', '69.15'],\n",
       "              ['1967', '69.18'],\n",
       "              ['1972', '69.82'],\n",
       "              ['1977', '70.97'],\n",
       "              ['1982', '71.063'],\n",
       "              ['1987', '72.25'],\n",
       "              ['1992', '73.64'],\n",
       "              ['1997', '75.13'],\n",
       "              ['2002', '76.66'],\n",
       "              ['2007', '77.926']],\n",
       "             'Somalia': [['1952', '32.978'],\n",
       "              ['1957', '34.977'],\n",
       "              ['1962', '36.981'],\n",
       "              ['1967', '38.977'],\n",
       "              ['1972', '40.973'],\n",
       "              ['1977', '41.974'],\n",
       "              ['1982', '42.955'],\n",
       "              ['1987', '44.501'],\n",
       "              ['1992', '39.658'],\n",
       "              ['1997', '43.795'],\n",
       "              ['2002', '45.936'],\n",
       "              ['2007', '48.159']],\n",
       "             'South Africa': [['1952', '45.009'],\n",
       "              ['1957', '47.985'],\n",
       "              ['1962', '49.951'],\n",
       "              ['1967', '51.927'],\n",
       "              ['1972', '53.696'],\n",
       "              ['1977', '55.527'],\n",
       "              ['1982', '58.161'],\n",
       "              ['1987', '60.834'],\n",
       "              ['1992', '61.888'],\n",
       "              ['1997', '60.236'],\n",
       "              ['2002', '53.365'],\n",
       "              ['2007', '49.339']],\n",
       "             'Spain': [['1952', '64.94'],\n",
       "              ['1957', '66.66'],\n",
       "              ['1962', '69.69'],\n",
       "              ['1967', '71.44'],\n",
       "              ['1972', '73.06'],\n",
       "              ['1977', '74.39'],\n",
       "              ['1982', '76.3'],\n",
       "              ['1987', '76.9'],\n",
       "              ['1992', '77.57'],\n",
       "              ['1997', '78.77'],\n",
       "              ['2002', '79.78'],\n",
       "              ['2007', '80.941']],\n",
       "             'Sri Lanka': [['1952', '57.593'],\n",
       "              ['1957', '61.456'],\n",
       "              ['1962', '62.192'],\n",
       "              ['1967', '64.266'],\n",
       "              ['1972', '65.042'],\n",
       "              ['1977', '65.949'],\n",
       "              ['1982', '68.757'],\n",
       "              ['1987', '69.011'],\n",
       "              ['1992', '70.379'],\n",
       "              ['1997', '70.457'],\n",
       "              ['2002', '70.815'],\n",
       "              ['2007', '72.396']],\n",
       "             'Sudan': [['1952', '38.635'],\n",
       "              ['1957', '39.624'],\n",
       "              ['1962', '40.87'],\n",
       "              ['1967', '42.858'],\n",
       "              ['1972', '45.083'],\n",
       "              ['1977', '47.8'],\n",
       "              ['1982', '50.338'],\n",
       "              ['1987', '51.744'],\n",
       "              ['1992', '53.556'],\n",
       "              ['1997', '55.373'],\n",
       "              ['2002', '56.369'],\n",
       "              ['2007', '58.556']],\n",
       "             'Swaziland': [['1952', '41.407'],\n",
       "              ['1957', '43.424'],\n",
       "              ['1962', '44.992'],\n",
       "              ['1967', '46.633'],\n",
       "              ['1972', '49.552'],\n",
       "              ['1977', '52.537'],\n",
       "              ['1982', '55.561'],\n",
       "              ['1987', '57.678'],\n",
       "              ['1992', '58.474'],\n",
       "              ['1997', '54.289'],\n",
       "              ['2002', '43.869'],\n",
       "              ['2007', '39.613']],\n",
       "             'Sweden': [['1952', '71.86'],\n",
       "              ['1957', '72.49'],\n",
       "              ['1962', '73.37'],\n",
       "              ['1967', '74.16'],\n",
       "              ['1972', '74.72'],\n",
       "              ['1977', '75.44'],\n",
       "              ['1982', '76.42'],\n",
       "              ['1987', '77.19'],\n",
       "              ['1992', '78.16'],\n",
       "              ['1997', '79.39'],\n",
       "              ['2002', '80.04'],\n",
       "              ['2007', '80.884']],\n",
       "             'Switzerland': [['1952', '69.62'],\n",
       "              ['1957', '70.56'],\n",
       "              ['1962', '71.32'],\n",
       "              ['1967', '72.77'],\n",
       "              ['1972', '73.78'],\n",
       "              ['1977', '75.39'],\n",
       "              ['1982', '76.21'],\n",
       "              ['1987', '77.41'],\n",
       "              ['1992', '78.03'],\n",
       "              ['1997', '79.37'],\n",
       "              ['2002', '80.62'],\n",
       "              ['2007', '81.701']],\n",
       "             'Syria': [['1952', '45.883'],\n",
       "              ['1957', '48.284'],\n",
       "              ['1962', '50.305'],\n",
       "              ['1967', '53.655'],\n",
       "              ['1972', '57.296'],\n",
       "              ['1977', '61.195'],\n",
       "              ['1982', '64.59'],\n",
       "              ['1987', '66.974'],\n",
       "              ['1992', '69.249'],\n",
       "              ['1997', '71.527'],\n",
       "              ['2002', '73.053'],\n",
       "              ['2007', '74.143']],\n",
       "             'Taiwan': [['1952', '58.5'],\n",
       "              ['1957', '62.4'],\n",
       "              ['1962', '65.2'],\n",
       "              ['1967', '67.5'],\n",
       "              ['1972', '69.39'],\n",
       "              ['1977', '70.59'],\n",
       "              ['1982', '72.16'],\n",
       "              ['1987', '73.4'],\n",
       "              ['1992', '74.26'],\n",
       "              ['1997', '75.25'],\n",
       "              ['2002', '76.99'],\n",
       "              ['2007', '78.4']],\n",
       "             'Tanzania': [['1952', '41.215'],\n",
       "              ['1957', '42.974'],\n",
       "              ['1962', '44.246'],\n",
       "              ['1967', '45.757'],\n",
       "              ['1972', '47.62'],\n",
       "              ['1977', '49.919'],\n",
       "              ['1982', '50.608'],\n",
       "              ['1987', '51.535'],\n",
       "              ['1992', '50.44'],\n",
       "              ['1997', '48.466'],\n",
       "              ['2002', '49.651'],\n",
       "              ['2007', '52.517']],\n",
       "             'Thailand': [['1952', '50.848'],\n",
       "              ['1957', '53.63'],\n",
       "              ['1962', '56.061'],\n",
       "              ['1967', '58.285'],\n",
       "              ['1972', '60.405'],\n",
       "              ['1977', '62.494'],\n",
       "              ['1982', '64.597'],\n",
       "              ['1987', '66.084'],\n",
       "              ['1992', '67.298'],\n",
       "              ['1997', '67.521'],\n",
       "              ['2002', '68.564'],\n",
       "              ['2007', '70.616']],\n",
       "             'Togo': [['1952', '38.596'],\n",
       "              ['1957', '41.208'],\n",
       "              ['1962', '43.922'],\n",
       "              ['1967', '46.769'],\n",
       "              ['1972', '49.759'],\n",
       "              ['1977', '52.887'],\n",
       "              ['1982', '55.471'],\n",
       "              ['1987', '56.941'],\n",
       "              ['1992', '58.061'],\n",
       "              ['1997', '58.39'],\n",
       "              ['2002', '57.561'],\n",
       "              ['2007', '58.42']],\n",
       "             'Trinidad and Tobago': [['1952', '59.1'],\n",
       "              ['1957', '61.8'],\n",
       "              ['1962', '64.9'],\n",
       "              ['1967', '65.4'],\n",
       "              ['1972', '65.9'],\n",
       "              ['1977', '68.3'],\n",
       "              ['1982', '68.832'],\n",
       "              ['1987', '69.582'],\n",
       "              ['1992', '69.862'],\n",
       "              ['1997', '69.465'],\n",
       "              ['2002', '68.976'],\n",
       "              ['2007', '69.819']],\n",
       "             'Tunisia': [['1952', '44.6'],\n",
       "              ['1957', '47.1'],\n",
       "              ['1962', '49.579'],\n",
       "              ['1967', '52.053'],\n",
       "              ['1972', '55.602'],\n",
       "              ['1977', '59.837'],\n",
       "              ['1982', '64.048'],\n",
       "              ['1987', '66.894'],\n",
       "              ['1992', '70.001'],\n",
       "              ['1997', '71.973'],\n",
       "              ['2002', '73.042'],\n",
       "              ['2007', '73.923']],\n",
       "             'Turkey': [['1952', '43.585'],\n",
       "              ['1957', '48.079'],\n",
       "              ['1962', '52.098'],\n",
       "              ['1967', '54.336'],\n",
       "              ['1972', '57.005'],\n",
       "              ['1977', '59.507'],\n",
       "              ['1982', '61.036'],\n",
       "              ['1987', '63.108'],\n",
       "              ['1992', '66.146'],\n",
       "              ['1997', '68.835'],\n",
       "              ['2002', '70.845'],\n",
       "              ['2007', '71.777']],\n",
       "             'Uganda': [['1952', '39.978'],\n",
       "              ['1957', '42.571'],\n",
       "              ['1962', '45.344'],\n",
       "              ['1967', '48.051'],\n",
       "              ['1972', '51.016'],\n",
       "              ['1977', '50.35'],\n",
       "              ['1982', '49.849'],\n",
       "              ['1987', '51.509'],\n",
       "              ['1992', '48.825'],\n",
       "              ['1997', '44.578'],\n",
       "              ['2002', '47.813'],\n",
       "              ['2007', '51.542']],\n",
       "             'United Kingdom': [['1952', '69.18'],\n",
       "              ['1957', '70.42'],\n",
       "              ['1962', '70.76'],\n",
       "              ['1967', '71.36'],\n",
       "              ['1972', '72.01'],\n",
       "              ['1977', '72.76'],\n",
       "              ['1982', '74.04'],\n",
       "              ['1987', '75.007'],\n",
       "              ['1992', '76.42'],\n",
       "              ['1997', '77.218'],\n",
       "              ['2002', '78.471'],\n",
       "              ['2007', '79.425']],\n",
       "             'United States': [['1952', '68.44'],\n",
       "              ['1957', '69.49'],\n",
       "              ['1962', '70.21'],\n",
       "              ['1967', '70.76'],\n",
       "              ['1972', '71.34'],\n",
       "              ['1977', '73.38'],\n",
       "              ['1982', '74.65'],\n",
       "              ['1987', '75.02'],\n",
       "              ['1992', '76.09'],\n",
       "              ['1997', '76.81'],\n",
       "              ['2002', '77.31'],\n",
       "              ['2007', '78.242']],\n",
       "             'Uruguay': [['1952', '66.071'],\n",
       "              ['1957', '67.044'],\n",
       "              ['1962', '68.253'],\n",
       "              ['1967', '68.468'],\n",
       "              ['1972', '68.673'],\n",
       "              ['1977', '69.481'],\n",
       "              ['1982', '70.805'],\n",
       "              ['1987', '71.918'],\n",
       "              ['1992', '72.752'],\n",
       "              ['1997', '74.223'],\n",
       "              ['2002', '75.307'],\n",
       "              ['2007', '76.384']],\n",
       "             'Venezuela': [['1952', '55.088'],\n",
       "              ['1957', '57.907'],\n",
       "              ['1962', '60.77'],\n",
       "              ['1967', '63.479'],\n",
       "              ['1972', '65.712'],\n",
       "              ['1977', '67.456'],\n",
       "              ['1982', '68.557'],\n",
       "              ['1987', '70.19'],\n",
       "              ['1992', '71.15'],\n",
       "              ['1997', '72.146'],\n",
       "              ['2002', '72.766'],\n",
       "              ['2007', '73.747']],\n",
       "             'Vietnam': [['1952', '40.412'],\n",
       "              ['1957', '42.887'],\n",
       "              ['1962', '45.363'],\n",
       "              ['1967', '47.838'],\n",
       "              ['1972', '50.254'],\n",
       "              ['1977', '55.764'],\n",
       "              ['1982', '58.816'],\n",
       "              ['1987', '62.82'],\n",
       "              ['1992', '67.662'],\n",
       "              ['1997', '70.672'],\n",
       "              ['2002', '73.017'],\n",
       "              ['2007', '74.249']],\n",
       "             'West Bank and Gaza': [['1952', '43.16'],\n",
       "              ['1957', '45.671'],\n",
       "              ['1962', '48.127'],\n",
       "              ['1967', '51.631'],\n",
       "              ['1972', '56.532'],\n",
       "              ['1977', '60.765'],\n",
       "              ['1982', '64.406'],\n",
       "              ['1987', '67.046'],\n",
       "              ['1992', '69.718'],\n",
       "              ['1997', '71.096'],\n",
       "              ['2002', '72.37'],\n",
       "              ['2007', '73.422']],\n",
       "             'Yemen, Rep.': [['1952', '32.548'],\n",
       "              ['1957', '33.97'],\n",
       "              ['1962', '35.18'],\n",
       "              ['1967', '36.984'],\n",
       "              ['1972', '39.848'],\n",
       "              ['1977', '44.175'],\n",
       "              ['1982', '49.113'],\n",
       "              ['1987', '52.922'],\n",
       "              ['1992', '55.599'],\n",
       "              ['1997', '58.02'],\n",
       "              ['2002', '60.308'],\n",
       "              ['2007', '62.698']],\n",
       "             'Zambia': [['1952', '42.038'],\n",
       "              ['1957', '44.077'],\n",
       "              ['1962', '46.023'],\n",
       "              ['1967', '47.768'],\n",
       "              ['1972', '50.107'],\n",
       "              ['1977', '51.386'],\n",
       "              ['1982', '51.821'],\n",
       "              ['1987', '50.821'],\n",
       "              ['1992', '46.1'],\n",
       "              ['1997', '40.238'],\n",
       "              ['2002', '39.193'],\n",
       "              ['2007', '42.384']],\n",
       "             'Zimbabwe': [['1952', '48.451'],\n",
       "              ['1957', '50.469'],\n",
       "              ['1962', '52.358'],\n",
       "              ['1967', '53.995'],\n",
       "              ['1972', '55.635'],\n",
       "              ['1977', '57.674'],\n",
       "              ['1982', '60.363'],\n",
       "              ['1987', '62.351'],\n",
       "              ['1992', '60.377'],\n",
       "              ['1997', '46.809'],\n",
       "              ['2002', '39.989'],\n",
       "              ['2007', '43.487']]})"
      ]
     },
     "execution_count": 33,
     "metadata": {},
     "output_type": "execute_result"
    }
   ],
   "source": [
    "gap_dict"
   ]
  },
  {
   "cell_type": "code",
   "execution_count": 30,
   "metadata": {
    "collapsed": true
   },
   "outputs": [],
   "source": [
    "# tuples\n",
    "\n",
    "nucleotides = ('A', 'T', 'C', 'G');\n",
    "\n",
    "years = (2000, 2001, 2002)\n",
    "\n",
    "countries  = ('United States', 'South Africa');"
   ]
  },
  {
   "cell_type": "code",
   "execution_count": 35,
   "metadata": {},
   "outputs": [
    {
     "data": {
      "image/png": "[encoded data removed]",
      "text/plain": [
       "<matplotlib.figure.Figure at 0x1103c1400>"
      ]
     },
     "metadata": {},
     "output_type": "display_data"
    }
   ],
   "source": [
    "import numpy as np\n",
    "import matplotlib.pyplot as plt\n",
    "    \n",
    "for country in countries:\n",
    "    \n",
    "    data_list = gap_dict[country]\n",
    "\n",
    "    x, y = zip(*data_list)\n",
    "\n",
    "    plt.scatter(x, y)\n",
    "\n",
    "    plt.plot(x, y, '-o')\n",
    "\n",
    "plt.show()"
   ]
  },
  {
   "cell_type": "markdown",
   "metadata": {},
   "source": [
    "To see examples of possible plots and code check out the gallery at the matplotlib [website](http://matplotlib.org/gallery.html)"
   ]
  },
  {
   "cell_type": "markdown",
   "metadata": {},
   "source": [
    "## Additional Dictionary example"
   ]
  },
  {
   "cell_type": "code",
   "execution_count": null,
   "metadata": {
    "collapsed": true,
    "slideshow": {
     "slide_type": "slide"
    }
   },
   "outputs": [],
   "source": [
    "dna = \"AATGATCGATCGTACGCTGAAATGATCGATCGTACGCTGAAATGATCGATCGTACGCTGAAATGATCGATCGTACGCTGAAATGATCGATCGTACGCTGA\"\n",
    "\n",
    "counts = {}\n",
    "\n",
    "for base1 in ['A', 'T', 'G', 'C']:\n",
    "    for base2 in ['A', 'T', 'G', 'C']:\n",
    "        for base3 in ['A', 'T', 'G', 'C']:\n",
    "            trinucleotide = base1 + base2 + base3\n",
    "            count = dna.count(trinucleotide)\n",
    "            counts[trinucleotide] = count\n",
    "            \n",
    "print(counts)"
   ]
  },
  {
   "cell_type": "markdown",
   "metadata": {
    "slideshow": {
     "slide_type": "skip"
    }
   },
   "source": [
    "---"
   ]
  },
  {
   "cell_type": "markdown",
   "metadata": {
    "slideshow": {
     "slide_type": "slide"
    }
   },
   "source": [
    "# Regular Expressions"
   ]
  },
  {
   "cell_type": "markdown",
   "metadata": {
    "slideshow": {
     "slide_type": "slide"
    }
   },
   "source": [
    "## Patterns in Biology"
   ]
  },
  {
   "cell_type": "markdown",
   "metadata": {
    "slideshow": {
     "slide_type": "fragment"
    }
   },
   "source": [
    "There are a lot of patterns in biology:\n",
    "\n",
    "- protein domains\n",
    "- DNA transcription factor binding motifs\n",
    "- restriction enzyme cut sites\n",
    "- runs of mononucleotides\n",
    "\n",
    "Many problems that we want to solve that require more flexible patterns:\n",
    "\n",
    "- Given a DNA sequence, what's the length of the poly-A tail?\n",
    "- Given a gene accession name, extract the part between the third character and the underscore\n",
    "- Given a protein sequence, determine if it contains this highly-redundant domain motif"
   ]
  },
  {
   "cell_type": "markdown",
   "metadata": {
    "slideshow": {
     "slide_type": "slide"
    }
   },
   "source": [
    "## Regular expression module"
   ]
  },
  {
   "cell_type": "markdown",
   "metadata": {
    "slideshow": {
     "slide_type": "fragment"
    }
   },
   "source": [
    "To search for these patterns, we use the regular expression module “re”. \n",
    "\n",
    "    re.search(pattern, string)"
   ]
  },
  {
   "cell_type": "code",
   "execution_count": null,
   "metadata": {
    "collapsed": true,
    "slideshow": {
     "slide_type": "fragment"
    }
   },
   "outputs": [],
   "source": [
    "import re\n",
    "import numpy as np\n",
    "np."
   ]
  },
  {
   "cell_type": "code",
   "execution_count": null,
   "metadata": {
    "collapsed": true,
    "slideshow": {
     "slide_type": "fragment"
    }
   },
   "outputs": [],
   "source": [
    "dna = \"ATCGCGAATTCAC\"\n",
    "\n",
    "if re.search(r\"GAATTC\", dna):\n",
    "    print(\"restriction site found!\")"
   ]
  },
  {
   "cell_type": "code",
   "execution_count": null,
   "metadata": {
    "collapsed": true,
    "slideshow": {
     "slide_type": "fragment"
    }
   },
   "outputs": [],
   "source": [
    "if re.search(r\"GC(A|T|G|C)AA\", dna):\n",
    "    print(\"restriction site found!\")"
   ]
  },
  {
   "cell_type": "code",
   "execution_count": null,
   "metadata": {
    "collapsed": true,
    "slideshow": {
     "slide_type": "fragment"
    }
   },
   "outputs": [],
   "source": [
    "dna = \"ATCGCA\"\n",
    "if re.search(r\"GC[ATGC]+\", dna):\n",
    "    print(\"restriction site found!\")"
   ]
  },
  {
   "cell_type": "markdown",
   "metadata": {
    "slideshow": {
     "slide_type": "slide"
    }
   },
   "source": [
    "## Get String and Position of Match"
   ]
  },
  {
   "cell_type": "markdown",
   "metadata": {
    "slideshow": {
     "slide_type": "fragment"
    }
   },
   "source": [
    "Get the string that matched\n",
    "\n",
    "In a new cell below type, and run:"
   ]
  },
  {
   "cell_type": "code",
   "execution_count": null,
   "metadata": {
    "collapsed": true,
    "slideshow": {
     "slide_type": "fragment"
    }
   },
   "outputs": [],
   "source": [
    "dna = \"ATGAATAACGTACGTACGACTG\"\n",
    "\n",
    "# store the match object in the variable m\n",
    "\n",
    "m = re.search(r\"GA([AT]{3})AC([ATGC]{2})AC\", dna)\n",
    "\n",
    "print(\"entire match: \" + m.group())\n",
    "\n",
    "print(\"first bit: \" + m.group(1))\n",
    "\n",
    "print(\"second bit: \" + m.group(2))"
   ]
  },
  {
   "cell_type": "markdown",
   "metadata": {
    "slideshow": {
     "slide_type": "fragment"
    }
   },
   "source": [
    "Get the positions of the match"
   ]
  },
  {
   "cell_type": "code",
   "execution_count": null,
   "metadata": {
    "collapsed": true,
    "slideshow": {
     "slide_type": "fragment"
    }
   },
   "outputs": [],
   "source": [
    "print(\"start: \" + str(m.start()))\n",
    "\n",
    "print(\"end: \" + str(m.end()))"
   ]
  },
  {
   "cell_type": "code",
   "execution_count": null,
   "metadata": {
    "collapsed": true,
    "slideshow": {
     "slide_type": "skip"
    }
   },
   "outputs": [],
   "source": [
    "import re\n",
    "m = re.search(\"[ATGC]\", 'ATCG')\n",
    "re?"
   ]
  },
  {
   "cell_type": "code",
   "execution_count": null,
   "metadata": {
    "collapsed": true
   },
   "outputs": [],
   "source": []
  },
  {
   "cell_type": "markdown",
   "metadata": {
    "slideshow": {
     "slide_type": "slide"
    }
   },
   "source": [
    "# Files, Programs, & User Input"
   ]
  },
  {
   "cell_type": "markdown",
   "metadata": {
    "slideshow": {
     "slide_type": "slide"
    }
   },
   "source": [
    "## Basic File Manipulation"
   ]
  },
  {
   "cell_type": "markdown",
   "metadata": {
    "slideshow": {
     "slide_type": "fragment"
    }
   },
   "source": [
    "Rename a file\n",
    "\n",
    "In a new cell below type, and run:\n",
    "\n",
    "    import os\n",
    "\n",
    "    os.rename(\"old.txt\", \"new.txt\")\n",
    "\n",
    "Rename a folder\n",
    "\n",
    "    os.rename(\"/home/martin/old_folder\", \"/home/martin/new_folder\")\n",
    "\n",
    "Check to see if a file exists\n",
    "\n",
    "    if os.path.exists(\"/home/martin/email.txt\"):\n",
    "        print(\"You have mail!\")"
   ]
  },
  {
   "cell_type": "code",
   "execution_count": null,
   "metadata": {
    "collapsed": true
   },
   "outputs": [],
   "source": [
    "import os"
   ]
  },
  {
   "cell_type": "code",
   "execution_count": null,
   "metadata": {
    "collapsed": true
   },
   "outputs": [],
   "source": [
    "os."
   ]
  },
  {
   "cell_type": "markdown",
   "metadata": {
    "slideshow": {
     "slide_type": "fragment"
    }
   },
   "source": [
    "Remove a file\n",
    "\n",
    "    os.remove(\"/home/martin/unwanted_file.txt\")\n",
    "\n",
    "Remove empty folder\n",
    "\n",
    "    os.rmdir(\"/home/martin/emtpy\")\n",
    "\n",
    "\n",
    "To delete a folder and all the files in it, use shutil.rmtree\n",
    "\n",
    "    from shutil import rmtree\n",
    "\n",
    "    shutil.rmtree(\"home/martin/full\")"
   ]
  },
  {
   "cell_type": "markdown",
   "metadata": {
    "slideshow": {
     "slide_type": "slide"
    }
   },
   "source": [
    "## Running External Programs"
   ]
  },
  {
   "cell_type": "markdown",
   "metadata": {
    "slideshow": {
     "slide_type": "fragment"
    }
   },
   "source": [
    "Run an external program\n",
    "\n",
    "In a new cell below type, and run:\n",
    "    \n",
    "    import subprocess\n",
    "\n",
    "    subprocess.call(\"/bin/date\")\n",
    "\n",
    "\n",
    "Run an external program with options\n",
    "\n",
    "    subprocess.call(\"/bin/date +%B\", shell=True)\n",
    "\n",
    "\n",
    "Saving program output\n",
    "\n",
    "    current_month = subprocess.check_output(\"/bin/date +%B\", shell=True)"
   ]
  },
  {
   "cell_type": "markdown",
   "metadata": {
    "slideshow": {
     "slide_type": "slide"
    }
   },
   "source": [
    "Now using IPython magic:"
   ]
  },
  {
   "cell_type": "code",
   "execution_count": null,
   "metadata": {
    "collapsed": true,
    "slideshow": {
     "slide_type": "fragment"
    }
   },
   "outputs": [],
   "source": [
    "!date"
   ]
  },
  {
   "cell_type": "markdown",
   "metadata": {
    "slideshow": {
     "slide_type": "slide"
    }
   },
   "source": [
    "## User Input"
   ]
  },
  {
   "cell_type": "markdown",
   "metadata": {
    "slideshow": {
     "slide_type": "fragment"
    }
   },
   "source": [
    "Interactive user input\n",
    "\n",
    "In a new cell below type, and run:\n",
    "\n",
    "        accession = input(\"Enter the accession name\")\n",
    "\n",
    "        # do something with the accession variable\n",
    "\n",
    "Capture command line arguments\n",
    "\n",
    "    import sys\n",
    "\n",
    "    print(sys.argv)\n",
    "\n",
    "    # python myprogram.py one two three\n",
    "\n",
    "    # sys.argv[1] return script name"
   ]
  },
  {
   "cell_type": "markdown",
   "metadata": {
    "slideshow": {
     "slide_type": "skip"
    }
   },
   "source": [
    "---"
   ]
  },
  {
   "cell_type": "markdown",
   "metadata": {
    "slideshow": {
     "slide_type": "slide"
    }
   },
   "source": [
    "# To conclude…"
   ]
  },
  {
   "cell_type": "markdown",
   "metadata": {
    "slideshow": {
     "slide_type": "slide"
    }
   },
   "source": [
    "## Goals"
   ]
  },
  {
   "cell_type": "markdown",
   "metadata": {
    "slideshow": {
     "slide_type": "fragment"
    }
   },
   "source": [
    "- Introduce you to the basics of the python programming language\n",
    "\n",
    "- Introduced you to the iPython environment\n",
    "\n",
    "- Prepare you for the next session “Introduction to Biopython for Scientists”\n",
    "\n",
    "- Enable you to write or assemble scripts of your own or modify existing scripts for your own purposes"
   ]
  },
  {
   "cell_type": "markdown",
   "metadata": {
    "slideshow": {
     "slide_type": "skip"
    }
   },
   "source": [
    "---"
   ]
  },
  {
   "cell_type": "markdown",
   "metadata": {
    "slideshow": {
     "slide_type": "slide"
    }
   },
   "source": [
    "# Resources"
   ]
  },
  {
   "cell_type": "markdown",
   "metadata": {
    "slideshow": {
     "slide_type": "fragment"
    }
   },
   "source": [
    "Websites:\n",
    "\n",
    "- http://interactivepython.org/runestone/default/user/login\n",
    "- http://www.pythonforbeginners.com\n",
    "- http://www.pythontutor.com/visualize.html#mode=display\n",
    "- https://groklearning.com\n",
    "- https://www.pythonanywhere.com/\n",
    "\n",
    "\n",
    "Free eBook in HTML / PDF\n",
    "\n",
    "- https://www.pythonlearn.com/book.php#python-for-everybody\n",
    "- http://interactivepython.org/runestone/default/user/login\n",
    "- http://greenteapress.com/thinkpython/\n",
    "- http://openbookproject.net/books/bpp4awd/index.html\n",
    "\n",
    "\n",
    "Python Regular Expressions (pattern matching)\n",
    "\n",
    "- http://www.pyregex.com\n",
    "- http://pythex.org\n",
    "\n",
    "\n",
    "Python Style Guide\n",
    "\n",
    "- http://www.python.org/dev/peps/pep-0008/\n",
    "\n",
    "Python CheatSheets\n",
    "\n",
    "- https://www.pythonsheets.com"
   ]
  },
  {
   "cell_type": "markdown",
   "metadata": {
    "slideshow": {
     "slide_type": "slide"
    }
   },
   "source": [
    "## Resources:"
   ]
  },
  {
   "cell_type": "markdown",
   "metadata": {
    "slideshow": {
     "slide_type": "fragment"
    }
   },
   "source": [
    "- [Python for Everybody: Exploring Data In Python 3 (free ebook)](https://www.pythonlearn.com/book.php)\n",
    "\n",
    "- [How to Think Like A Computer Scientist (free ebook)](http://www.greenteapress.com/thinkpython/)\n",
    "\n",
    "- [Python for Biologists](http://pythonforbiologists.com)\n",
    "\n",
    "- [PyData 101 talk](https://speakerdeck.com/jakevdp/pydata-101)"
   ]
  },
  {
   "cell_type": "markdown",
   "metadata": {
    "slideshow": {
     "slide_type": "skip"
    }
   },
   "source": [
    "---"
   ]
  },
  {
   "cell_type": "markdown",
   "metadata": {
    "slideshow": {
     "slide_type": "slide"
    }
   },
   "source": [
    "# Q & A"
   ]
  },
  {
   "cell_type": "markdown",
   "metadata": {
    "slideshow": {
     "slide_type": "fragment"
    }
   },
   "source": [
    "Collaborations welcome\n",
    "\n",
    "R. Burke Squires - richard.squires at nih dot gov\n",
    "\n",
    "or\n",
    "\n",
    "ScienceApps@niaid.nih.gov"
   ]
  },
  {
   "cell_type": "code",
   "execution_count": null,
   "metadata": {
    "collapsed": true
   },
   "outputs": [],
   "source": []
  }
 ],
 "metadata": {
  "anaconda-cloud": {},
  "gist_id": "cedf51e5d24af8694bfe",
  "kernelspec": {
   "display_name": "Python 3",
   "language": "python",
   "name": "python3"
  },
  "language_info": {
   "codemirror_mode": {
    "name": "ipython",
    "version": 3
   },
   "file_extension": ".py",
   "mimetype": "text/x-python",
   "name": "python",
   "nbconvert_exporter": "python",
   "pygments_lexer": "ipython3",
   "version": "3.6.3"
  }
 },
 "nbformat": 4,
 "nbformat_minor": 1
}
