{
 "cells": [
  {
   "cell_type": "markdown",
   "metadata": {
    "slideshow": {
     "slide_type": "slide"
    }
   },
   "source": [
    "# Introduction to Python Programming (for experienced programmers)"
   ]
  },
  {
   "cell_type": "markdown",
   "metadata": {
    "slideshow": {
     "slide_type": "fragment"
    }
   },
   "source": [
    "<img align=left src=\"https://www.python.org/static/community_logos/python-logo-master-v3-TM.png\">"
   ]
  },
  {
   "cell_type": "markdown",
   "metadata": {},
   "source": [
    "This seminar is part of the __NIAID BCBB Python Programming for Biologist Series__. You can find materials for this and other no-cost seminars at the [NIAID Bioinformatics Portal](http://bioinformatics.niaid.nih.gov) or [my GitHub page](http://github.com/burkesquires/python_biologist)"
   ]
  },
  {
   "cell_type": "markdown",
   "metadata": {
    "slideshow": {
     "slide_type": "skip"
    }
   },
   "source": [
    "---"
   ]
  },
  {
   "cell_type": "markdown",
   "metadata": {},
   "source": [
    "## Learning Objectives"
   ]
  },
  {
   "cell_type": "markdown",
   "metadata": {
    "slideshow": {
     "slide_type": "slide"
    }
   },
   "source": [
    "- Enable you to recognize and code written in python programming language\n",
    "- Enable you to adapt python source code for your purpose\n",
    "- Enable you to run python code in three or more ways\n",
    "- Enable you to understand the advantages and disadvantages of using integrated development environments (IDE)\n",
    "- Prepare you for the remaining seminars"
   ]
  },
  {
   "cell_type": "markdown",
   "metadata": {},
   "source": [
    "---"
   ]
  },
  {
   "cell_type": "markdown",
   "metadata": {},
   "source": [
    "## Outline\n",
    "- Why learn python?\n",
    "- Learnign python by solving a task\n"
   ]
  },
  {
   "cell_type": "markdown",
   "metadata": {
    "slideshow": {
     "slide_type": "slide"
    }
   },
   "source": [
    "# Why Python?\n",
    "\n",
    "<img src=\"http://imgs.xkcd.com/comics/python.png\">"
   ]
  },
  {
   "cell_type": "markdown",
   "metadata": {
    "slideshow": {
     "slide_type": "skip"
    }
   },
   "source": [
    "---"
   ]
  },
  {
   "cell_type": "code",
   "execution_count": null,
   "metadata": {
    "slideshow": {
     "slide_type": "skip"
    }
   },
   "outputs": [],
   "source": [
    "import this"
   ]
  },
  {
   "cell_type": "markdown",
   "metadata": {
    "slideshow": {
     "slide_type": "skip"
    }
   },
   "source": [
    "---"
   ]
  },
  {
   "cell_type": "markdown",
   "metadata": {},
   "source": [
    "The \"Hello World\" program in four different programming languages\n",
    "\n",
    "C++\n",
    "\n",
    "    #include <iostream>\n",
    "    int main()\n",
    "    {\n",
    "        std::count << \"Hello World” << std::endl;\n",
    "        return 0;\n",
    "    }\n",
    "\n",
    "Java\n",
    "\n",
    "    public class HelloWorld { \n",
    "        public static void main (String[] args) {\n",
    "            System.out.println(\"Hello World!\"); \n",
    "        }\n",
    "    }\n",
    "\n",
    "Python\n",
    "\n",
    "    print(“Hello World!”)\n",
    "\n",
    "\n",
    "R\n",
    "\n",
    "    print(\"Hello World!\", quote = FALSE)"
   ]
  },
  {
   "cell_type": "markdown",
   "metadata": {},
   "source": [
    "## Why Learn Python?"
   ]
  },
  {
   "cell_type": "markdown",
   "metadata": {},
   "source": [
    "- Open source (available at no-cost)\n",
    "- Cross-platform\n",
    "- An interpreted language (no need to compile)\n",
    "- Powerful\n",
    "- Fast (with package numpy, etc)\n",
    "- Popular for data science\n",
    "\n",
    "- A general purpose, high-level language\n",
    "- Easy to read language\n",
    "- “Batteries included” standard library\n",
    "- Great Community\n",
    "    - Many package available\n",
    "    - Lots of help and tutorials\n",
    "- Easy installation (with anaconda distribution)\n"
   ]
  },
  {
   "cell_type": "markdown",
   "metadata": {},
   "source": [
    "## Popular Python Package - \"Scientific Python Stack\""
   ]
  },
  {
   "cell_type": "markdown",
   "metadata": {},
   "source": [
    "<img src=\"images/scientific_python_stack_2017.png\">"
   ]
  },
  {
   "cell_type": "markdown",
   "metadata": {},
   "source": [
    "- [Python](https://www.python.org/), a general purpose programming language. It is interpreted and dynamically typed and is very suited for interactive work and quick prototyping, while being powerful enough to write large applications in.\n",
    "- [NumPy](http://www.numpy.org/), the fundamental package for numerical computation. It defines the numerical array and matrix types and basic operations on them.\n",
    "- [SciPy](https://www.scipy.org/scipylib/index.html), a collection of numerical algorithms and domain-specific toolboxes, including signal processing, optimization, statistics and much more.\n",
    "- [Matplotlib](http://matplotlib.org/), a mature and popular plotting package, that provides publication-quality 2D plotting as well as rudimentary 3D plotting\n",
    "\n",
    "__Data and computation__:\n",
    "\n",
    "- [pandas](http://pandas.pydata.org/), providing high-performance, easy to use data structures.\n",
    "- [SymPy](http://www.sympy.org/), for symbolic mathematics and computer algebra.\n",
    "- [scikit-image](http://scikit-image.org/) is a collection of algorithms for image processing.\n",
    "- [scikit-learn](http://scikit-learn.org/) is a collection of algorithms and tools for machine learning.\n",
    "- [h5py](http://www.h5py.org/) and [PyTables](http://www.pytables.org/) can both access data stored in the HDF5 format.\n",
    "\n",
    "__Productivity and high-performance computing__:\n",
    "\n",
    "- [IPython](http://ipython.org/), a rich interactive interface, letting you quickly process data and test ideas.\n",
    "- [Jupyter](http://jupyter.org/) notebook provides IPython functionality and more in your web browser, allowing you to document your computation in an easily reproducible form.\n",
    "- [Cython](http://cython.org/) extends Python syntax so that you can conveniently build C extensions, either to speed up critical code, or to integrate with C/C++ libraries.\n",
    "- [Dramatiq](https://dramatiq.io), [Dask](https://dask.readthedocs.io/), [Joblib](https://joblib.readthedocs.io/) or [IPyParallel](https://ipyparallel.readthedocs.io/) for distributed processing with a focus on numeric data.\n",
    "\n",
    "__Quality assurance__:\n",
    "\n",
    "- [nose](https://nose.readthedocs.org/en/latest/), a framework for testing Python code, being phased out in preference for [pytest](https://docs.pytest.org/).\n",
    "- [numpydoc](https://github.com/numpy/numpydoc), a standard and library for documenting Scientific Python libraries.\n",
    "\n",
    "[Adapted from https://www.scipy.org/about.html]"
   ]
  },
  {
   "cell_type": "code",
   "execution_count": null,
   "metadata": {
    "collapsed": true
   },
   "outputs": [],
   "source": []
  },
  {
   "cell_type": "code",
   "execution_count": null,
   "metadata": {
    "collapsed": true
   },
   "outputs": [],
   "source": []
  },
  {
   "cell_type": "code",
   "execution_count": null,
   "metadata": {
    "collapsed": true
   },
   "outputs": [],
   "source": []
  },
  {
   "cell_type": "code",
   "execution_count": null,
   "metadata": {
    "collapsed": true
   },
   "outputs": [],
   "source": []
  },
  {
   "cell_type": "code",
   "execution_count": null,
   "metadata": {
    "collapsed": true
   },
   "outputs": [],
   "source": []
  },
  {
   "cell_type": "code",
   "execution_count": null,
   "metadata": {
    "collapsed": true
   },
   "outputs": [],
   "source": []
  },
  {
   "cell_type": "markdown",
   "metadata": {},
   "source": [
    "## Analyze a given data file"
   ]
  },
  {
   "cell_type": "markdown",
   "metadata": {},
   "source": [
    "Souce: http://www.gapminder.org/data/"
   ]
  },
  {
   "cell_type": "markdown",
   "metadata": {},
   "source": [
    "Lets use our command line / linux skills to view the data file we have been given. We added teh data file to a new directory that is in the same parent directory is this filder. \n",
    "\n",
    "Remeber to get a list of the files in the curent folder using the Jupyter / IPython magic:"
   ]
  },
  {
   "cell_type": "markdown",
   "metadata": {},
   "source": [
    "    !ls -l <directory>"
   ]
  },
  {
   "cell_type": "code",
   "execution_count": null,
   "metadata": {},
   "outputs": [],
   "source": [
    "!ls -l ../data/"
   ]
  },
  {
   "cell_type": "markdown",
   "metadata": {},
   "source": [
    "Lets use some more magic to take a quick look at the data file:"
   ]
  },
  {
   "cell_type": "markdown",
   "metadata": {},
   "source": [
    "    !head ../data/gapminder.csv"
   ]
  },
  {
   "cell_type": "code",
   "execution_count": null,
   "metadata": {
    "collapsed": true
   },
   "outputs": [],
   "source": []
  },
  {
   "cell_type": "markdown",
   "metadata": {},
   "source": [
    "What can we tell about our data file?"
   ]
  },
  {
   "cell_type": "markdown",
   "metadata": {},
   "source": [
    "---"
   ]
  },
  {
   "cell_type": "markdown",
   "metadata": {},
   "source": [
    "### Variables\n",
    "\n",
    "Create a new variable and use it to store the name of our file"
   ]
  },
  {
   "cell_type": "code",
   "execution_count": null,
   "metadata": {
    "collapsed": true
   },
   "outputs": [],
   "source": [
    "    data_file = '../data/gapminder.csv'"
   ]
  },
  {
   "cell_type": "code",
   "execution_count": null,
   "metadata": {
    "collapsed": true
   },
   "outputs": [],
   "source": []
  },
  {
   "cell_type": "markdown",
   "metadata": {},
   "source": [
    "Lets' print the variable to make sure it has been stored:"
   ]
  },
  {
   "cell_type": "markdown",
   "metadata": {
    "slideshow": {
     "slide_type": "fragment"
    }
   },
   "source": [
    "    print(data_file)"
   ]
  },
  {
   "cell_type": "code",
   "execution_count": null,
   "metadata": {
    "collapsed": true
   },
   "outputs": [],
   "source": []
  },
  {
   "cell_type": "markdown",
   "metadata": {},
   "source": [
    "## Everything in Python is an Object!"
   ]
  },
  {
   "cell_type": "markdown",
   "metadata": {},
   "source": [
    "Everything in python is an object. Let's see what type of object our varaible is:"
   ]
  },
  {
   "cell_type": "markdown",
   "metadata": {},
   "source": [
    "    type(data_file)"
   ]
  },
  {
   "cell_type": "code",
   "execution_count": null,
   "metadata": {
    "collapsed": true
   },
   "outputs": [],
   "source": []
  },
  {
   "cell_type": "markdown",
   "metadata": {
    "slideshow": {
     "slide_type": "fragment"
    }
   },
   "source": [
    "### Comments\n",
    "\n",
    "    # This is a comment\n",
    "\n",
    "Anything after the pound sign (#) is ignored by the python interpreter; great for explaing what is going on in your code"
   ]
  },
  {
   "cell_type": "markdown",
   "metadata": {},
   "source": [
    "### File I/O\n"
   ]
  },
  {
   "cell_type": "code",
   "execution_count": null,
   "metadata": {},
   "outputs": [],
   "source": [
    "# open a file, process its contents, and make sure to close it\n",
    "\n",
    "f = open(data_file)\n",
    "\n",
    "type(f)"
   ]
  },
  {
   "cell_type": "code",
   "execution_count": null,
   "metadata": {},
   "outputs": [],
   "source": [
    "f = open(data_file)\n",
    "\n",
    "print(f.readline())"
   ]
  },
  {
   "cell_type": "markdown",
   "metadata": {},
   "source": [
    "A more \"pythonic\" way of using _open_ is to preced it using __with__"
   ]
  },
  {
   "cell_type": "code",
   "execution_count": null,
   "metadata": {},
   "outputs": [],
   "source": [
    "with open(data_file) as f:\n",
    "\n",
    "    print(f.readline())"
   ]
  },
  {
   "cell_type": "markdown",
   "metadata": {},
   "source": [
    "## \"Batteries Included\""
   ]
  },
  {
   "cell_type": "markdown",
   "metadata": {},
   "source": [
    "\"Batteries included\" referes to the large amount of functionality that is built within the [python standard library](https://docs.python.org/3/library/index.html)."
   ]
  },
  {
   "cell_type": "markdown",
   "metadata": {},
   "source": [
    "One example of a module from the python standard library is __csv__, which enables one to read and write csv files. Modules in the PS are already installed on your compuer BUT you do have to _import_ them before their first use ina  python script."
   ]
  },
  {
   "cell_type": "code",
   "execution_count": null,
   "metadata": {
    "collapsed": true
   },
   "outputs": [],
   "source": [
    "import csv"
   ]
  },
  {
   "cell_type": "code",
   "execution_count": null,
   "metadata": {},
   "outputs": [],
   "source": [
    "# lets get some information on _csv_\n",
    "\n",
    "help(csv)"
   ]
  },
  {
   "cell_type": "code",
   "execution_count": null,
   "metadata": {},
   "outputs": [],
   "source": [
    "# open a file, process its contents, and make sure to close it\n",
    "\n",
    "with open(data_file) as f:\n",
    "\n",
    "    reader = csv.reader(f)\n",
    "    \n",
    "    for row in reader:\n",
    "\n",
    "        print(row)"
   ]
  },
  {
   "cell_type": "markdown",
   "metadata": {
    "collapsed": true
   },
   "source": [
    "We will use a package called pandas when we learn about data analysis but the csv module is useful here."
   ]
  },
  {
   "cell_type": "markdown",
   "metadata": {},
   "source": [
    "We could have read the file line-by-line and used the __split__ to split the string into elements.\n",
    "\n",
    "    fields = line.split(“,”)\n",
    "\n",
    "fields would be the equivelent of row."
   ]
  },
  {
   "cell_type": "code",
   "execution_count": null,
   "metadata": {
    "collapsed": true
   },
   "outputs": [],
   "source": [
    "# open a file, process its contents, and make sure to close it\n",
    "\n",
    "with open(data_file) as f:\n",
    "\n",
    "    reader = csv.reader(f)\n",
    "    \n",
    "    for row in reader:\n",
    "\n",
    "        country = row[0]\n",
    "        continent = row[1]\n",
    "        year = row[2]\n",
    "        lifeExp = row[3]\n",
    "        pop = row[4]\n",
    "        gdpPercap = row[5]\n",
    "\n",
    "        print(country, continent, year, lifeExp, pop, gdpPercap)"
   ]
  },
  {
   "cell_type": "code",
   "execution_count": null,
   "metadata": {
    "collapsed": true
   },
   "outputs": [],
   "source": []
  },
  {
   "cell_type": "markdown",
   "metadata": {},
   "source": [
    "## Functions"
   ]
  },
  {
   "cell_type": "code",
   "execution_count": null,
   "metadata": {
    "collapsed": true
   },
   "outputs": [],
   "source": [
    "def extract_column_data(row):\n",
    "    \n",
    "    country = row[0]\n",
    "    continent = row[1]\n",
    "    year = row[2]\n",
    "    lifeExp = row[3]\n",
    "    pop = row[4]\n",
    "    gdpPercap = row[5]\n",
    "\n",
    "    return (country, continent, year, lifeExp, pop, gdpPercap)"
   ]
  },
  {
   "cell_type": "code",
   "execution_count": null,
   "metadata": {
    "collapsed": true
   },
   "outputs": [],
   "source": []
  },
  {
   "cell_type": "code",
   "execution_count": null,
   "metadata": {},
   "outputs": [],
   "source": [
    "with open(data_file) as f:\n",
    "\n",
    "    reader = csv.reader(f)\n",
    "    \n",
    "    for row in reader:\n",
    "        \n",
    "        country = row[0]\n",
    "        continent = row[1]\n",
    "        year = row[2]\n",
    "        lifeExp = row[3]\n",
    "        pop = row[4]\n",
    "        gdpPercap = row[5]\n",
    "\n",
    "        print(country, continent, year, lifeExp, pop, gdpPercap)"
   ]
  },
  {
   "cell_type": "code",
   "execution_count": null,
   "metadata": {
    "collapsed": true
   },
   "outputs": [],
   "source": []
  },
  {
   "cell_type": "code",
   "execution_count": null,
   "metadata": {
    "collapsed": true
   },
   "outputs": [],
   "source": [
    "def extract_column_data(row, country_col=0, continent_col=1, year_col=3, pop_col=4, gdpPercap_col=5):\n",
    "    \n",
    "    country = row[country_col]\n",
    "    continent = row[continent_col]\n",
    "    year = row[year_col]\n",
    "    lifeExp = row[lifeExp]\n",
    "    pop = row[pop_col]\n",
    "    gdpPercap = row[gdpPercap_col]\n",
    "\n",
    "    return (country, continent, year, lifeExp, pop, gdpPercap)"
   ]
  },
  {
   "cell_type": "code",
   "execution_count": null,
   "metadata": {
    "collapsed": true
   },
   "outputs": [],
   "source": []
  },
  {
   "cell_type": "code",
   "execution_count": null,
   "metadata": {},
   "outputs": [],
   "source": [
    "with open(data_file) as f:\n",
    "\n",
    "    reader = csv.reader(f)\n",
    "    \n",
    "    for row in reader:\n",
    "        \n",
    "        sample, clone, generation, total_mutations = extract_column_data(row)\n",
    "        \n",
    "        print(sample, clone, generation, total_mutations)"
   ]
  },
  {
   "cell_type": "code",
   "execution_count": null,
   "metadata": {
    "collapsed": true
   },
   "outputs": [],
   "source": []
  },
  {
   "cell_type": "markdown",
   "metadata": {},
   "source": [
    "### More pythonic"
   ]
  },
  {
   "cell_type": "code",
   "execution_count": null,
   "metadata": {},
   "outputs": [],
   "source": [
    "# unpack all the variables on a single line\n",
    "\n",
    "with open(data_file) as f:\n",
    "\n",
    "    reader = csv.reader(f)\n",
    "    \n",
    "    for row in reader:\n",
    "\n",
    "        country, continent, year, lifeExp, pop, gdpPercap = row\n",
    "\n",
    "        print(country, continent, year, lifeExp, pop, gdpPercap)"
   ]
  },
  {
   "cell_type": "markdown",
   "metadata": {},
   "source": [
    "How do we store the data that we have?"
   ]
  },
  {
   "cell_type": "markdown",
   "metadata": {},
   "source": [
    "One way to do it is to save the data to a file as we extract it."
   ]
  },
  {
   "cell_type": "markdown",
   "metadata": {
    "slideshow": {
     "slide_type": "slide"
    }
   },
   "source": [
    "# Reading and Writing Files"
   ]
  },
  {
   "cell_type": "markdown",
   "metadata": {
    "slideshow": {
     "slide_type": "slide"
    }
   },
   "source": [
    "## Writing to a File"
   ]
  },
  {
   "cell_type": "code",
   "execution_count": null,
   "metadata": {
    "collapsed": true
   },
   "outputs": [],
   "source": [
    "# We have to open a file for writing BEFORE we can write to it...\n",
    "\n",
    "output_file_handle = open(\"../data/gapminder_output.csv\", \"w\")\n",
    "\n",
    "# We can also give an absolute path like /Users/username/Documents/dna.txt"
   ]
  },
  {
   "cell_type": "code",
   "execution_count": null,
   "metadata": {
    "collapsed": true
   },
   "outputs": [],
   "source": [
    "# unpack all the variables on a single line\n",
    "\n",
    "with open(data_file) as f:\n",
    "\n",
    "    reader = csv.reader(f)\n",
    "    \n",
    "    for row in reader:\n",
    "\n",
    "        country, continent, year, lifeExp, pop, gdpPercap = row\n",
    "\n",
    "        output_file_handle.write('%s, %s, %s, %s, %s, %s\\n' % (country, continent, year, lifeExp, pop, gdpPercap))"
   ]
  },
  {
   "cell_type": "code",
   "execution_count": null,
   "metadata": {},
   "outputs": [],
   "source": [
    "type(output_file_handle)"
   ]
  },
  {
   "cell_type": "code",
   "execution_count": null,
   "metadata": {
    "collapsed": true
   },
   "outputs": [],
   "source": [
    "# remember to close the file\n",
    "\n",
    "output_file_handle.close()"
   ]
  },
  {
   "cell_type": "markdown",
   "metadata": {
    "slideshow": {
     "slide_type": "slide"
    }
   },
   "source": [
    "## Reading a file"
   ]
  },
  {
   "cell_type": "markdown",
   "metadata": {},
   "source": [
    "Lets se if we did in fact create a file..."
   ]
  },
  {
   "cell_type": "code",
   "execution_count": null,
   "metadata": {},
   "outputs": [],
   "source": [
    "    !ls"
   ]
  },
  {
   "cell_type": "code",
   "execution_count": null,
   "metadata": {},
   "outputs": [],
   "source": [
    "    !cat generation_mutation_data.txt"
   ]
  },
  {
   "cell_type": "code",
   "execution_count": null,
   "metadata": {
    "slideshow": {
     "slide_type": "fragment"
    }
   },
   "outputs": [],
   "source": [
    "output_file_handle = open(\"../data/gapminder_output.csv\", \"r\")\n",
    "\n",
    "output_file_contents = output_file_handle.read()\n",
    "\n",
    "print(output_file_contents)\n",
    "\n",
    "# remember to close the file\n",
    "\n",
    "output_file_handle.close()"
   ]
  },
  {
   "cell_type": "markdown",
   "metadata": {
    "slideshow": {
     "slide_type": "slide"
    }
   },
   "source": [
    "## Looping through File, Line by Line"
   ]
  },
  {
   "cell_type": "markdown",
   "metadata": {
    "slideshow": {
     "slide_type": "fragment"
    }
   },
   "source": [
    "In a new cell below type, and run:"
   ]
  },
  {
   "cell_type": "code",
   "execution_count": null,
   "metadata": {
    "slideshow": {
     "slide_type": "fragment"
    }
   },
   "outputs": [],
   "source": [
    "file = open(\"../data/gapminder_output.csv\")\n",
    "\n",
    "for line in file:\n",
    "    \n",
    "    print(line)"
   ]
  },
  {
   "cell_type": "markdown",
   "metadata": {
    "slideshow": {
     "slide_type": "slide"
    }
   },
   "source": [
    "## Lists"
   ]
  },
  {
   "cell_type": "code",
   "execution_count": null,
   "metadata": {
    "collapsed": true
   },
   "outputs": [],
   "source": [
    "country_list = []\n",
    "year_list = []\n",
    "lifeExp_list = []"
   ]
  },
  {
   "cell_type": "code",
   "execution_count": null,
   "metadata": {
    "collapsed": true
   },
   "outputs": [],
   "source": [
    "with open(data_file) as f:\n",
    "\n",
    "    reader = csv.reader(f)\n",
    "    \n",
    "    for row in reader:\n",
    "        \n",
    "        country, continent, year, lifeExp, pop, gdpPercap = row\n",
    "\n",
    "        country_list.append(sample)\n",
    "        \n",
    "        year_list.append(generation)\n",
    "        \n",
    "        lifeExp_list.append(total_mutations)"
   ]
  },
  {
   "cell_type": "code",
   "execution_count": null,
   "metadata": {},
   "outputs": [],
   "source": [
    "len(country_list)"
   ]
  },
  {
   "cell_type": "code",
   "execution_count": null,
   "metadata": {},
   "outputs": [],
   "source": [
    "len(year_list)"
   ]
  },
  {
   "cell_type": "code",
   "execution_count": null,
   "metadata": {},
   "outputs": [],
   "source": [
    "len(lifeExp_list)"
   ]
  },
  {
   "cell_type": "code",
   "execution_count": null,
   "metadata": {},
   "outputs": [],
   "source": [
    "country_list[0]"
   ]
  },
  {
   "cell_type": "markdown",
   "metadata": {},
   "source": [
    "So we have lists of samples, generations and mutations values. We we just plot this? No...\n",
    "\n",
    "Lets see what are the unique values of sample list:"
   ]
  },
  {
   "cell_type": "code",
   "execution_count": null,
   "metadata": {},
   "outputs": [],
   "source": [
    "set(country_list)"
   ]
  },
  {
   "cell_type": "markdown",
   "metadata": {},
   "source": [
    "Remember that in our graph we want to plot out each sample as a separate line."
   ]
  },
  {
   "cell_type": "markdown",
   "metadata": {},
   "source": [
    "So we need to save each set of sample data to a new list."
   ]
  },
  {
   "cell_type": "markdown",
   "metadata": {},
   "source": [
    "## Conditionals"
   ]
  },
  {
   "cell_type": "markdown",
   "metadata": {},
   "source": [
    "Remember what the code looked like before:"
   ]
  },
  {
   "cell_type": "markdown",
   "metadata": {},
   "source": [
    "    with open(data_file) as f:\n",
    "\n",
    "        reader = csv.reader(f)\n",
    "\n",
    "        for row in reader:\n",
    "\n",
    "            country, continent, year, lifeExp, pop, gdpPercap = row\n",
    "\n",
    "            country_list.append(sample)\n",
    "\n",
    "            year_list.append(generation)\n",
    "\n",
    "            lifeExp_list.append(total_mutations)"
   ]
  },
  {
   "cell_type": "markdown",
   "metadata": {
    "slideshow": {
     "slide_type": "slide"
    }
   },
   "source": [
    "# Dictionaries"
   ]
  },
  {
   "cell_type": "code",
   "execution_count": null,
   "metadata": {
    "collapsed": true
   },
   "outputs": [],
   "source": [
    "from collections import defaultdict    \n",
    "    \n",
    "ara_dict = defaultdict(list)\n",
    "\n",
    "with open(data_file) as f:\n",
    "\n",
    "    reader = csv.reader(f)\n",
    "    \n",
    "    next(reader) # skip the header line\n",
    "    \n",
    "    for row in reader:\n",
    "        \n",
    "        sample, clone, generation, total_mutations = extract_column_data2(row)\n",
    "        \n",
    "        sample_name = \"%s-%s\" % (sample, clone)\n",
    "        \n",
    "        ara_dict[sample_name].append([generation, total_mutations])"
   ]
  },
  {
   "cell_type": "code",
   "execution_count": null,
   "metadata": {
    "collapsed": true
   },
   "outputs": [],
   "source": []
  },
  {
   "cell_type": "code",
   "execution_count": null,
   "metadata": {},
   "outputs": [],
   "source": [
    "ara_dict"
   ]
  },
  {
   "cell_type": "code",
   "execution_count": null,
   "metadata": {
    "collapsed": true
   },
   "outputs": [],
   "source": [
    "# tuples\n",
    "\n",
    "samples = ('Ara+1', 'Ara+2', 'Ara+3', 'Ara+4', 'Ara+5', 'Ara+6',\n",
    "           'Ara-1', 'Ara-2', 'Ara-3', 'Ara-4', 'Ara-5', 'Ara-6');\n",
    "clones = ('A', 'B');"
   ]
  },
  {
   "cell_type": "code",
   "execution_count": null,
   "metadata": {},
   "outputs": [],
   "source": [
    "import numpy as np\n",
    "import matplotlib.pyplot as plt\n",
    "\n",
    "for sample in samples:\n",
    "    \n",
    "    for clone in clones:\n",
    "        \n",
    "        data_list = ara_dict[\"%s-%s\" % (sample, clone)]\n",
    "    \n",
    "        x, y = zip(*data_list)\n",
    "    \n",
    "        plt.scatter(x, y)\n",
    "    \n",
    "        plt.plot(x, y, '-o')\n",
    "\n",
    "plt.show()"
   ]
  },
  {
   "cell_type": "markdown",
   "metadata": {},
   "source": [
    "To see examples of possible plots and code check out the gallery at the matplotlib [website](http://matplotlib.org/gallery.html)"
   ]
  },
  {
   "cell_type": "markdown",
   "metadata": {},
   "source": [
    "As a reminder:\n",
    "    \n",
    "<img src=\"images/nature18959-f1.jpg\", width=600, height=600>"
   ]
  },
  {
   "cell_type": "markdown",
   "metadata": {},
   "source": [
    "## Additional Dictionary example"
   ]
  },
  {
   "cell_type": "code",
   "execution_count": null,
   "metadata": {
    "slideshow": {
     "slide_type": "slide"
    }
   },
   "outputs": [],
   "source": [
    "dna = \"AATGATCGATCGTACGCTGAAATGATCGATCGTACGCTGAAATGATCGATCGTACGCTGAAATGATCGATCGTACGCTGAAATGATCGATCGTACGCTGA\"\n",
    "\n",
    "counts = {}\n",
    "\n",
    "for base1 in ['A', 'T', 'G', 'C']:\n",
    "    for base2 in ['A', 'T', 'G', 'C']:\n",
    "        for base3 in ['A', 'T', 'G', 'C']:\n",
    "            trinucleotide = base1 + base2 + base3\n",
    "            count = dna.count(trinucleotide)\n",
    "            counts[trinucleotide] = count\n",
    "            \n",
    "print(counts)"
   ]
  },
  {
   "cell_type": "markdown",
   "metadata": {
    "slideshow": {
     "slide_type": "skip"
    }
   },
   "source": [
    "---"
   ]
  },
  {
   "cell_type": "markdown",
   "metadata": {
    "slideshow": {
     "slide_type": "slide"
    }
   },
   "source": [
    "# Regular Expressions"
   ]
  },
  {
   "cell_type": "markdown",
   "metadata": {
    "slideshow": {
     "slide_type": "slide"
    }
   },
   "source": [
    "## Patterns in Biology"
   ]
  },
  {
   "cell_type": "markdown",
   "metadata": {
    "slideshow": {
     "slide_type": "fragment"
    }
   },
   "source": [
    "There are a lot of patterns in biology:\n",
    "\n",
    "- protein domains\n",
    "- DNA transcription factor binding motifs\n",
    "- restriction enzyme cut sites\n",
    "- runs of mononucleotides\n",
    "\n",
    "Many problems that we want to solve that require more flexible patterns:\n",
    "\n",
    "- Given a DNA sequence, what's the length of the poly-A tail?\n",
    "- Given a gene accession name, extract the part between the third character and the underscore\n",
    "- Given a protein sequence, determine if it contains this highly-redundant domain motif"
   ]
  },
  {
   "cell_type": "markdown",
   "metadata": {
    "slideshow": {
     "slide_type": "slide"
    }
   },
   "source": [
    "## Regular expression module"
   ]
  },
  {
   "cell_type": "markdown",
   "metadata": {
    "slideshow": {
     "slide_type": "fragment"
    }
   },
   "source": [
    "To search for these patterns, we use the regular expression module “re”. \n",
    "\n",
    "    re.search(pattern, string)"
   ]
  },
  {
   "cell_type": "code",
   "execution_count": null,
   "metadata": {
    "collapsed": true,
    "slideshow": {
     "slide_type": "fragment"
    }
   },
   "outputs": [],
   "source": [
    "import re\n",
    "import numpy as np\n",
    "np."
   ]
  },
  {
   "cell_type": "code",
   "execution_count": null,
   "metadata": {
    "collapsed": true,
    "slideshow": {
     "slide_type": "fragment"
    }
   },
   "outputs": [],
   "source": [
    "dna = \"ATCGCGAATTCAC\"\n",
    "\n",
    "if re.search(r\"GAATTC\", dna):\n",
    "    print(\"restriction site found!\")"
   ]
  },
  {
   "cell_type": "code",
   "execution_count": null,
   "metadata": {
    "collapsed": true,
    "slideshow": {
     "slide_type": "fragment"
    }
   },
   "outputs": [],
   "source": [
    "if re.search(r\"GC(A|T|G|C)AA\", dna):\n",
    "    print(\"restriction site found!\")"
   ]
  },
  {
   "cell_type": "code",
   "execution_count": null,
   "metadata": {
    "collapsed": true,
    "slideshow": {
     "slide_type": "fragment"
    }
   },
   "outputs": [],
   "source": [
    "dna = \"ATCGCA\"\n",
    "if re.search(r\"GC[ATGC]+\", dna):\n",
    "    print(\"restriction site found!\")"
   ]
  },
  {
   "cell_type": "markdown",
   "metadata": {
    "slideshow": {
     "slide_type": "slide"
    }
   },
   "source": [
    "## Get String and Position of Match"
   ]
  },
  {
   "cell_type": "markdown",
   "metadata": {
    "slideshow": {
     "slide_type": "fragment"
    }
   },
   "source": [
    "Get the string that matched\n",
    "\n",
    "In a new cell below type, and run:"
   ]
  },
  {
   "cell_type": "code",
   "execution_count": null,
   "metadata": {
    "collapsed": true,
    "slideshow": {
     "slide_type": "fragment"
    }
   },
   "outputs": [],
   "source": [
    "dna = \"ATGAATAACGTACGTACGACTG\"\n",
    "\n",
    "# store the match object in the variable m\n",
    "\n",
    "m = re.search(r\"GA([AT]{3})AC([ATGC]{2})AC\", dna)\n",
    "\n",
    "print(\"entire match: \" + m.group())\n",
    "\n",
    "print(\"first bit: \" + m.group(1))\n",
    "\n",
    "print(\"second bit: \" + m.group(2))"
   ]
  },
  {
   "cell_type": "markdown",
   "metadata": {
    "slideshow": {
     "slide_type": "fragment"
    }
   },
   "source": [
    "Get the positions of the match"
   ]
  },
  {
   "cell_type": "code",
   "execution_count": null,
   "metadata": {
    "collapsed": true,
    "slideshow": {
     "slide_type": "fragment"
    }
   },
   "outputs": [],
   "source": [
    "print(\"start: \" + str(m.start()))\n",
    "\n",
    "print(\"end: \" + str(m.end()))"
   ]
  },
  {
   "cell_type": "code",
   "execution_count": null,
   "metadata": {
    "collapsed": true,
    "slideshow": {
     "slide_type": "skip"
    }
   },
   "outputs": [],
   "source": [
    "import re\n",
    "m = re.search(\"[ATGC]\", 'ATCG')\n",
    "re?"
   ]
  },
  {
   "cell_type": "code",
   "execution_count": null,
   "metadata": {
    "collapsed": true
   },
   "outputs": [],
   "source": []
  },
  {
   "cell_type": "markdown",
   "metadata": {
    "slideshow": {
     "slide_type": "slide"
    }
   },
   "source": [
    "# Files, Programs, & User Input"
   ]
  },
  {
   "cell_type": "markdown",
   "metadata": {
    "slideshow": {
     "slide_type": "slide"
    }
   },
   "source": [
    "## Basic File Manipulation"
   ]
  },
  {
   "cell_type": "markdown",
   "metadata": {
    "slideshow": {
     "slide_type": "fragment"
    }
   },
   "source": [
    "Rename a file\n",
    "\n",
    "In a new cell below type, and run:\n",
    "\n",
    "    import os\n",
    "\n",
    "    os.rename(\"old.txt\", \"new.txt\")\n",
    "\n",
    "Rename a folder\n",
    "\n",
    "    os.rename(\"/home/martin/old_folder\", \"/home/martin/new_folder\")\n",
    "\n",
    "Check to see if a file exists\n",
    "\n",
    "    if os.path.exists(\"/home/martin/email.txt\"):\n",
    "        print(\"You have mail!\")"
   ]
  },
  {
   "cell_type": "code",
   "execution_count": null,
   "metadata": {
    "collapsed": true
   },
   "outputs": [],
   "source": [
    "import os"
   ]
  },
  {
   "cell_type": "code",
   "execution_count": null,
   "metadata": {
    "collapsed": true
   },
   "outputs": [],
   "source": [
    "os."
   ]
  },
  {
   "cell_type": "markdown",
   "metadata": {
    "slideshow": {
     "slide_type": "fragment"
    }
   },
   "source": [
    "Remove a file\n",
    "\n",
    "    os.remove(\"/home/martin/unwanted_file.txt\")\n",
    "\n",
    "Remove empty folder\n",
    "\n",
    "    os.rmdir(\"/home/martin/emtpy\")\n",
    "\n",
    "\n",
    "To delete a folder and all the files in it, use shutil.rmtree\n",
    "\n",
    "    from shutil import rmtree\n",
    "\n",
    "    shutil.rmtree(\"home/martin/full\")"
   ]
  },
  {
   "cell_type": "markdown",
   "metadata": {
    "slideshow": {
     "slide_type": "slide"
    }
   },
   "source": [
    "## Running External Programs"
   ]
  },
  {
   "cell_type": "markdown",
   "metadata": {
    "slideshow": {
     "slide_type": "fragment"
    }
   },
   "source": [
    "Run an external program\n",
    "\n",
    "In a new cell below type, and run:\n",
    "    \n",
    "    import subprocess\n",
    "\n",
    "    subprocess.call(\"/bin/date\")\n",
    "\n",
    "\n",
    "Run an external program with options\n",
    "\n",
    "    subprocess.call(\"/bin/date +%B\", shell=True)\n",
    "\n",
    "\n",
    "Saving program output\n",
    "\n",
    "    current_month = subprocess.check_output(\"/bin/date +%B\", shell=True)"
   ]
  },
  {
   "cell_type": "markdown",
   "metadata": {
    "slideshow": {
     "slide_type": "slide"
    }
   },
   "source": [
    "Now using IPython magic:"
   ]
  },
  {
   "cell_type": "code",
   "execution_count": null,
   "metadata": {
    "slideshow": {
     "slide_type": "fragment"
    }
   },
   "outputs": [],
   "source": [
    "!date"
   ]
  },
  {
   "cell_type": "markdown",
   "metadata": {
    "slideshow": {
     "slide_type": "slide"
    }
   },
   "source": [
    "## User Input"
   ]
  },
  {
   "cell_type": "markdown",
   "metadata": {
    "slideshow": {
     "slide_type": "fragment"
    }
   },
   "source": [
    "Interactive user input\n",
    "\n",
    "In a new cell below type, and run:\n",
    "\n",
    "        accession = input(\"Enter the accession name\")\n",
    "\n",
    "        # do something with the accession variable\n",
    "\n",
    "Capture command line arguments\n",
    "\n",
    "    import sys\n",
    "\n",
    "    print(sys.argv)\n",
    "\n",
    "    # python myprogram.py one two three\n",
    "\n",
    "    # sys.argv[1] return script name"
   ]
  },
  {
   "cell_type": "markdown",
   "metadata": {
    "slideshow": {
     "slide_type": "skip"
    }
   },
   "source": [
    "---"
   ]
  },
  {
   "cell_type": "markdown",
   "metadata": {
    "slideshow": {
     "slide_type": "slide"
    }
   },
   "source": [
    "# To conclude…"
   ]
  },
  {
   "cell_type": "markdown",
   "metadata": {
    "slideshow": {
     "slide_type": "slide"
    }
   },
   "source": [
    "## Goals"
   ]
  },
  {
   "cell_type": "markdown",
   "metadata": {
    "slideshow": {
     "slide_type": "fragment"
    }
   },
   "source": [
    "- Introduce you to the basics of the python programming language\n",
    "\n",
    "- Introduced you to the iPython environment\n",
    "\n",
    "- Prepare you for the next session “Introduction to Biopython for Scientists”\n",
    "\n",
    "- Enable you to write or assemble scripts of your own or modify existing scripts for your own purposes"
   ]
  },
  {
   "cell_type": "markdown",
   "metadata": {
    "slideshow": {
     "slide_type": "skip"
    }
   },
   "source": [
    "---"
   ]
  },
  {
   "cell_type": "markdown",
   "metadata": {
    "slideshow": {
     "slide_type": "slide"
    }
   },
   "source": [
    "# Resources"
   ]
  },
  {
   "cell_type": "markdown",
   "metadata": {
    "slideshow": {
     "slide_type": "fragment"
    }
   },
   "source": [
    "Websites:\n",
    "\n",
    "- http://interactivepython.org/runestone/default/user/login\n",
    "- http://www.pythonforbeginners.com\n",
    "- http://www.pythontutor.com/visualize.html#mode=display\n",
    "- https://groklearning.com\n",
    "- https://www.pythonanywhere.com/\n",
    "\n",
    "\n",
    "Free eBook in HTML / PDF\n",
    "\n",
    "- https://www.pythonlearn.com/book.php#python-for-everybody\n",
    "- http://interactivepython.org/runestone/default/user/login\n",
    "- http://greenteapress.com/thinkpython/\n",
    "- http://openbookproject.net/books/bpp4awd/index.html\n",
    "\n",
    "\n",
    "Python Regular Expressions (pattern matching)\n",
    "\n",
    "- http://www.pyregex.com\n",
    "- http://pythex.org\n",
    "\n",
    "\n",
    "Python Style Guide\n",
    "\n",
    "- http://www.python.org/dev/peps/pep-0008/\n",
    "\n",
    "Python CheatSheets\n",
    "\n",
    "- https://www.pythonsheets.com"
   ]
  },
  {
   "cell_type": "markdown",
   "metadata": {
    "slideshow": {
     "slide_type": "slide"
    }
   },
   "source": [
    "## Resources:"
   ]
  },
  {
   "cell_type": "markdown",
   "metadata": {
    "slideshow": {
     "slide_type": "fragment"
    }
   },
   "source": [
    "- [Python for Everybody: Exploring Data In Python 3 (free ebook)](https://www.pythonlearn.com/book.php)\n",
    "\n",
    "- [How to Think Like A Computer Scientist (free ebook)](http://www.greenteapress.com/thinkpython/)\n",
    "\n",
    "- [Python for Biologists](http://pythonforbiologists.com)"
   ]
  },
  {
   "cell_type": "markdown",
   "metadata": {
    "slideshow": {
     "slide_type": "skip"
    }
   },
   "source": [
    "---"
   ]
  },
  {
   "cell_type": "markdown",
   "metadata": {
    "slideshow": {
     "slide_type": "slide"
    }
   },
   "source": [
    "# Q & A"
   ]
  },
  {
   "cell_type": "markdown",
   "metadata": {
    "slideshow": {
     "slide_type": "fragment"
    }
   },
   "source": [
    "Collaborations welcome\n",
    "\n",
    "R. Burke Squires - richard.squires at nih dot gov\n",
    "\n",
    "or\n",
    "\n",
    "ScienceApps@niaid.nih.gov"
   ]
  },
  {
   "cell_type": "code",
   "execution_count": null,
   "metadata": {
    "collapsed": true
   },
   "outputs": [],
   "source": []
  }
 ],
 "metadata": {
  "anaconda-cloud": {},
  "gist_id": "cedf51e5d24af8694bfe",
  "kernelspec": {
   "display_name": "Python 3",
   "language": "python",
   "name": "python3"
  },
  "language_info": {
   "codemirror_mode": {
    "name": "ipython",
    "version": 3
   },
   "file_extension": ".py",
   "mimetype": "text/x-python",
   "name": "python",
   "nbconvert_exporter": "python",
   "pygments_lexer": "ipython3",
   "version": "3.6.3"
  }
 },
 "nbformat": 4,
 "nbformat_minor": 1
}
