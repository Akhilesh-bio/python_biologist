{
 "cells": [
  {
   "cell_type": "markdown",
   "metadata": {
    "slideshow": {
     "slide_type": "slide"
    }
   },
   "source": [
    "# Introduction to the Python Programming Language\n",
    "\n",
    "<img align=center src=\"https://www.python.org/static/community_logos/python-logo-master-v3-TM.png\">"
   ]
  },
  {
   "cell_type": "markdown",
   "metadata": {
    "slideshow": {
     "slide_type": "subslide"
    }
   },
   "source": [
    "---\n",
    "\n",
    "__R. Burke Squires__\n",
    "\n",
    "Computational Genomics Specialist\n",
    "\n",
    "NIAID BCBB\n",
    "\n",
    "richard.squires@nih.gov\n",
    "\n",
    "---"
   ]
  },
  {
   "cell_type": "markdown",
   "metadata": {
    "slideshow": {
     "slide_type": "slide"
    }
   },
   "source": [
    "## Software Installation\n",
    "\n",
    "__Anaconda installation__\n",
    "\n",
    "https://www.anaconda.com/distribution/\n",
    "\n",
    "\n",
    "__miniconda installation__\n",
    "\n",
    "https://docs.conda.io/en/latest/miniconda.html\n",
    "\n",
    "After installing mini conda you will need to install `jupyter` by typing:\n",
    "\n",
    "    conda install jupyter\n",
    "    \n",
    "    "
   ]
  },
  {
   "cell_type": "markdown",
   "metadata": {},
   "source": [
    "---"
   ]
  },
  {
   "cell_type": "markdown",
   "metadata": {
    "slideshow": {
     "slide_type": "slide"
    }
   },
   "source": [
    "## Writing a Python program to convert temperatures"
   ]
  },
  {
   "cell_type": "markdown",
   "metadata": {
    "slideshow": {
     "slide_type": "subslide"
    }
   },
   "source": [
    "This script converts temperature between Fahrenheit to Celsius. To create a python converter for celsius and fahrenheit, you first have to find out which formula to use.\n",
    "\n",
    "__Fahrenheit to Celsius formula:__ \n",
    "\n",
    "\\begin{equation*}\n",
    "°C = (°F - 32) \\frac{5}{9}\n",
    "\\end{equation*}\n",
    "\n",
    "or in plain english, first subtract 32, then multiply by 5, then divide by 9.\n",
    "\n",
    "The centigrade scale, which is also called the Celsius scale, was developed by Swedish astronomer Andres Celsius. In the centigrade scale, water freezes at 0 degrees and boils at 100 degrees. The centigrade to Fahrenheit conversion formula is:"
   ]
  },
  {
   "cell_type": "markdown",
   "metadata": {
    "slideshow": {
     "slide_type": "subslide"
    }
   },
   "source": [
    "__Celsius to Fahrenheit formula:__ \n",
    "\n",
    "$$ °F = °C  x  \\frac{9}{5} + 32 $$ \n",
    "\n",
    "or in plain English, multiple by 9, then divide by 5, then add 32.\n",
    "\n",
    "Fahrenheit and centigrade are two temperature scales in use today. The Fahrenheit scale was developed by the German physicist Daniel Gabriel Fahrenheit . In the Fahrenheit scale, water freezes at 32 degrees and boils at 212 degrees."
   ]
  },
  {
   "cell_type": "markdown",
   "metadata": {
    "slideshow": {
     "slide_type": "slide"
    }
   },
   "source": [
    "## PsuedoCode"
   ]
  },
  {
   "cell_type": "markdown",
   "metadata": {
    "slideshow": {
     "slide_type": "fragment"
    }
   },
   "source": [
    "- Read in a temperature"
   ]
  },
  {
   "cell_type": "markdown",
   "metadata": {
    "slideshow": {
     "slide_type": "fragment"
    }
   },
   "source": [
    "- Determine existing scale"
   ]
  },
  {
   "cell_type": "markdown",
   "metadata": {
    "slideshow": {
     "slide_type": "fragment"
    }
   },
   "source": [
    "- Convert temperature to new scale"
   ]
  },
  {
   "cell_type": "markdown",
   "metadata": {
    "slideshow": {
     "slide_type": "fragment"
    }
   },
   "source": [
    "- Print new temperature"
   ]
  },
  {
   "cell_type": "markdown",
   "metadata": {},
   "source": [
    "---"
   ]
  },
  {
   "cell_type": "markdown",
   "metadata": {
    "slideshow": {
     "slide_type": "slide"
    }
   },
   "source": [
    "## Data Types in `python`\n",
    "\n",
    "```python\n",
    "# int\n",
    "x = 100\n",
    "\n",
    "# float\n",
    "y = 32.0\n",
    "```"
   ]
  },
  {
   "cell_type": "code",
   "execution_count": null,
   "metadata": {
    "slideshow": {
     "slide_type": "fragment"
    }
   },
   "outputs": [],
   "source": [
    "# Type the code above here:\n"
   ]
  },
  {
   "cell_type": "markdown",
   "metadata": {
    "slideshow": {
     "slide_type": "slide"
    }
   },
   "source": [
    "Other data types\n",
    "\n",
    "```python\n",
    "# str\n",
    "seq = 'ATCG'   \n",
    "\n",
    "# list\n",
    "nt = ['A', 'C', 'G', 'T']\n",
    "```"
   ]
  },
  {
   "cell_type": "code",
   "execution_count": null,
   "metadata": {
    "slideshow": {
     "slide_type": "fragment"
    }
   },
   "outputs": [],
   "source": [
    "# Type the code above here:\n",
    "\n"
   ]
  },
  {
   "cell_type": "markdown",
   "metadata": {
    "slideshow": {
     "slide_type": "slide"
    }
   },
   "source": [
    "## Variables"
   ]
  },
  {
   "cell_type": "markdown",
   "metadata": {
    "slideshow": {
     "slide_type": "fragment"
    }
   },
   "source": [
    "- Unlike other programming languages, Python has no command for declaring a variable. \n",
    "- A variable is created the moment you first assign a value to it. \n",
    "- Varaibles should have meaningful names and must start with a letter"
   ]
  },
  {
   "cell_type": "markdown",
   "metadata": {
    "slideshow": {
     "slide_type": "subslide"
    }
   },
   "source": [
    "```python\n",
    "temp = 32.0\n",
    "\n",
    "f_temp = 32.0\n",
    "```"
   ]
  },
  {
   "cell_type": "code",
   "execution_count": null,
   "metadata": {
    "slideshow": {
     "slide_type": "fragment"
    }
   },
   "outputs": [],
   "source": [
    "# Type the code above here:\n",
    "\n"
   ]
  },
  {
   "cell_type": "markdown",
   "metadata": {
    "slideshow": {
     "slide_type": "slide"
    }
   },
   "source": [
    "## Doing Math with `python`"
   ]
  },
  {
   "cell_type": "markdown",
   "metadata": {
    "slideshow": {
     "slide_type": "fragment"
    }
   },
   "source": [
    "To do math in `python`, we type the equation out using the `+`, `-`, `*`, `/` operators.\n",
    "\n",
    "For example, to convert 40.0 deg. Celsius to Farehneit we would write:\n",
    "\n",
    "    40.0 * 9 / 5 + 32 = ? °F\n",
    "    \n",
    "What should the answer be? See the anser key below..."
   ]
  },
  {
   "cell_type": "markdown",
   "metadata": {
    "slideshow": {
     "slide_type": "slide"
    }
   },
   "source": [
    "### Arithmetic Operators in `Python`\n",
    "\n",
    "Arithmetic operators are used with numeric values to perform common mathematical operations:\n",
    "\n",
    "\n",
    "|Operators|Meaning|\n",
    "|---|---|\n",
    "|()|Parentheses|\n",
    "|**|Exponent|\n",
    "|+x, -x, ~x|Unary plus, Unary minus, Bitwise NOT|\n",
    "|*, /, //, %|Multiplication, Division, Floor division, Modulus|\n",
    "|+, -|Addition, Subtraction|\n",
    "|<<, >>|Bitwise shift operators|\n",
    "|&|Bitwise AND|\n",
    "|^|Bitwise XOR|\n",
    "|||Bitwise OR|\n",
    "|==, !=, >, >=, <, <=, is, is not, in, not in|Comparisions, Identity, Membership operators|\n",
    "|not|Logical NOT|\n",
    "|and|Logical AND|\n",
    "|or|Logical OR|\n",
    "\n",
    "\n"
   ]
  },
  {
   "cell_type": "markdown",
   "metadata": {
    "slideshow": {
     "slide_type": "slide"
    }
   },
   "source": [
    "To convert 10.0 degrees Celsius to Fahrenheit we would type:\n",
    "    \n",
    "```python\n",
    "10.0 * (9 / 5) + 32\n",
    "```"
   ]
  },
  {
   "cell_type": "code",
   "execution_count": null,
   "metadata": {
    "slideshow": {
     "slide_type": "fragment"
    }
   },
   "outputs": [],
   "source": [
    "# Type the code above here:\n",
    "\n"
   ]
  },
  {
   "cell_type": "code",
   "execution_count": null,
   "metadata": {
    "slideshow": {
     "slide_type": "slide"
    }
   },
   "outputs": [],
   "source": [
    "temp = 10\n",
    "new_temp = (float(temp) * 9 / 5 + 32)\n",
    "new_temp"
   ]
  },
  {
   "cell_type": "markdown",
   "metadata": {
    "slideshow": {
     "slide_type": "slide"
    }
   },
   "source": [
    "## Writing Functions"
   ]
  },
  {
   "cell_type": "code",
   "execution_count": null,
   "metadata": {
    "slideshow": {
     "slide_type": "slide"
    }
   },
   "outputs": [],
   "source": [
    "def convert_c_to_f(temp):\n",
    "    new_temp = (float(temp) * 9 / 5 + 32)\n",
    "    return new_temp"
   ]
  },
  {
   "cell_type": "code",
   "execution_count": null,
   "metadata": {
    "slideshow": {
     "slide_type": "slide"
    }
   },
   "outputs": [],
   "source": [
    "'''\n",
    "Temperature Conversion Functions\n",
    "'''\n",
    "\n",
    "def convert_c_to_f(c_temp):\n",
    "    f_temp = (float(c_temp) * 9 / 5 + 32)\n",
    "    return f_temp\n",
    "\n",
    "def convert_f_to_c(f_temp):\n",
    "    c_temp = (float(f_temp) - 32) * 5 / 9\n",
    "    return c_temp"
   ]
  },
  {
   "cell_type": "markdown",
   "metadata": {},
   "source": [
    "---"
   ]
  },
  {
   "cell_type": "markdown",
   "metadata": {
    "slideshow": {
     "slide_type": "slide"
    }
   },
   "source": [
    "## Testing our Code"
   ]
  },
  {
   "cell_type": "markdown",
   "metadata": {
    "slideshow": {
     "slide_type": "fragment"
    }
   },
   "source": [
    "Testing our code gives an opportunity to prove to ourselves (and anyone else) that our code works as expected."
   ]
  },
  {
   "cell_type": "code",
   "execution_count": null,
   "metadata": {
    "slideshow": {
     "slide_type": "slide"
    }
   },
   "outputs": [],
   "source": [
    "import unittest\n",
    "\n",
    "assert(convert_c_to_f(32.0) == 89.6)\n",
    "assert(convert_f_to_c(212.0) == 100.0)\n",
    "\n",
    "# No errors means to code works as expected.\n",
    "\n",
    "# Try changing any number above and rerun the cell to test again."
   ]
  },
  {
   "cell_type": "markdown",
   "metadata": {},
   "source": [
    "---"
   ]
  },
  {
   "cell_type": "markdown",
   "metadata": {
    "slideshow": {
     "slide_type": "slide"
    }
   },
   "source": [
    "## Working with Files"
   ]
  },
  {
   "cell_type": "markdown",
   "metadata": {
    "slideshow": {
     "slide_type": "fragment"
    }
   },
   "source": [
    "We want to create two files with Farenheit temperates and Celcius temperatures respectively.\n",
    "\n",
    "Normally, we would open a text editor, type in our text, save the file and return to our python program BUT with Jupyter noteboos we can use come Jupyter _magic_ to create that file for us while we stay in the Jupyter notebook.\n",
    "\n",
    "To do this we use the `%%writefile` Jupyter magic command and add teh file name after it (with extension). Then all information from teh second line on is written to the file."
   ]
  },
  {
   "cell_type": "code",
   "execution_count": null,
   "metadata": {
    "slideshow": {
     "slide_type": "slide"
    }
   },
   "outputs": [],
   "source": [
    "%%writefile c_temps.txt\n",
    "0.0\n",
    "32.0\n",
    "100.0\n",
    "212.0"
   ]
  },
  {
   "cell_type": "code",
   "execution_count": null,
   "metadata": {
    "slideshow": {
     "slide_type": "slide"
    }
   },
   "outputs": [],
   "source": [
    "%%writefile f_temps.txt\n",
    "0.0\n",
    "32.0\n",
    "100.0\n",
    "212.0"
   ]
  },
  {
   "cell_type": "markdown",
   "metadata": {
    "slideshow": {
     "slide_type": "slide"
    }
   },
   "source": [
    "## Files"
   ]
  },
  {
   "cell_type": "markdown",
   "metadata": {
    "slideshow": {
     "slide_type": "subslide"
    }
   },
   "source": [
    "Now we want to open one of the files, read the temperates and convert each.\n",
    "\n",
    "Question: What would happen is we did not have a funtion to convert the termperatures?\n",
    "\n",
    "```python\n",
    "with open(\"f_temps.txt\") as f:\n",
    "    \n",
    "    for line in f:\n",
    "        \n",
    "        print(line)\n",
    "```"
   ]
  },
  {
   "cell_type": "code",
   "execution_count": null,
   "metadata": {
    "slideshow": {
     "slide_type": "fragment"
    }
   },
   "outputs": [],
   "source": [
    "# Type the code above here:\n",
    "\n"
   ]
  },
  {
   "cell_type": "markdown",
   "metadata": {
    "slideshow": {
     "slide_type": "slide"
    }
   },
   "source": [
    "## Loops"
   ]
  },
  {
   "cell_type": "code",
   "execution_count": null,
   "metadata": {
    "slideshow": {
     "slide_type": "subslide"
    }
   },
   "outputs": [],
   "source": [
    "with open(\"f_temps.txt\") as f:\n",
    "    \n",
    "    for line in f:\n",
    "        \n",
    "        temp = float(line)\n",
    "        new_temp = convert_f_to_c(temp)\n",
    "        \n",
    "        print(\"{:8.2f} deg. F = {:8.2f} deg. C\".format(temp, new_temp))"
   ]
  },
  {
   "cell_type": "markdown",
   "metadata": {},
   "source": [
    "---"
   ]
  },
  {
   "cell_type": "markdown",
   "metadata": {
    "slideshow": {
     "slide_type": "slide"
    }
   },
   "source": [
    "## Conditionals"
   ]
  },
  {
   "cell_type": "markdown",
   "metadata": {
    "slideshow": {
     "slide_type": "subslide"
    }
   },
   "source": [
    "Python Conditions and If statements\n",
    "\n",
    "Python supports the usual logical conditions from mathematics:\n",
    "\n",
    "    Equals: a == b\n",
    "    Not Equals: a != b\n",
    "    Less than: a < b\n",
    "    Less than or equal to: a <= b\n",
    "    Greater than: a > b\n",
    "    =Greater than or equal to: a >= b\n",
    "\n",
    "These conditions can be used in several ways, most commonly in \"if statements\" and loops.\n",
    "\n",
    "An \"if statement\" is written by using the `if` keyword."
   ]
  },
  {
   "cell_type": "code",
   "execution_count": null,
   "metadata": {
    "slideshow": {
     "slide_type": "slide"
    }
   },
   "outputs": [],
   "source": [
    "temps = 'f'\n",
    "\n",
    "if temps == 'c':\n",
    "    \n",
    "    with open(\"c_temps.txt\") as f:\n",
    "        \n",
    "        for line in f:\n",
    "\n",
    "            temp = float(line)\n",
    "            new_temp = convert_c_to_f(temp)\n",
    "\n",
    "            print(\"{:8.2f} deg. C = {:8.2f} deg. F\".format(temp, new_temp))\n",
    "\n",
    "            # print(temp, new_temp)\n",
    "            \n",
    "elif temps == 'f':\n",
    "    \n",
    "    with open(\"f_temps.txt\") as f:\n",
    "\n",
    "        for line in f:\n",
    "\n",
    "            temp = float(line)\n",
    "            new_temp = convert_f_to_c(temp)\n",
    "\n",
    "            print(\"{:8.2f} deg. F = {:8.2f} deg. C\".format(temp, new_temp))\n",
    "\n",
    "            # print(temp, new_temp)"
   ]
  },
  {
   "cell_type": "markdown",
   "metadata": {
    "slideshow": {
     "slide_type": "slide"
    }
   },
   "source": [
    "Do you see some repeated code? What does that tell us?\n",
    "\n",
    "We can create a function with the file open code above\n",
    "\n",
    "Try to convert the `with....` code above into a function with input parameters and output"
   ]
  },
  {
   "cell_type": "markdown",
   "metadata": {
    "slideshow": {
     "slide_type": "slide"
    }
   },
   "source": [
    "## Dictionaries"
   ]
  },
  {
   "cell_type": "markdown",
   "metadata": {
    "slideshow": {
     "slide_type": "slide"
    }
   },
   "source": [
    "```python\n",
    "dna = \"AATGATCGATCGTACGCTGAAATGATCGATCGTACGCTGAAATGATCGATCGTACGCTGAAATGATCGATCGTACGCTGAAATGATCGATCGTACGCTGA\"\n",
    "\n",
    "counts = {}\n",
    "\n",
    "for base1 in ['A', 'T', 'G', 'C']:\n",
    "    for base2 in ['A', 'T', 'G', 'C']:\n",
    "        for base3 in ['A', 'T', 'G', 'C']:\n",
    "            trinucleotide = base1 + base2 + base3\n",
    "            count = dna.count(trinucleotide)\n",
    "            counts[trinucleotide] = count\n",
    "            \n",
    "print(counts)\n",
    "```"
   ]
  },
  {
   "cell_type": "code",
   "execution_count": null,
   "metadata": {
    "slideshow": {
     "slide_type": "fragment"
    }
   },
   "outputs": [],
   "source": [
    "# Type the code above here:\n",
    "\n"
   ]
  },
  {
   "cell_type": "code",
   "execution_count": null,
   "metadata": {
    "slideshow": {
     "slide_type": "slide"
    }
   },
   "outputs": [],
   "source": [
    "counts[\"AAA\"]"
   ]
  },
  {
   "cell_type": "markdown",
   "metadata": {},
   "source": [
    "---"
   ]
  },
  {
   "cell_type": "markdown",
   "metadata": {
    "slideshow": {
     "slide_type": "slide"
    }
   },
   "source": [
    "## Answer key:\n",
    "    \n",
    "1. 40.0 * 9 / 5 + 32 = __104__ deg. F"
   ]
  },
  {
   "cell_type": "markdown",
   "metadata": {},
   "source": [
    "---"
   ]
  },
  {
   "cell_type": "markdown",
   "metadata": {
    "slideshow": {
     "slide_type": "slide"
    }
   },
   "source": [
    "### __To Learn More...__\n",
    "\n",
    "About reading and writing files using `python` check out these resources:\n",
    "\n",
    "- [Python 3 Documentation](https://docs.python.org/3/tutorial/inputoutput.html#reading-and-writing-files)\n",
    "- [REALPython Reading and Writing CSV Files in Python Tutorial](https://realpython.com/python-csv/)"
   ]
  },
  {
   "cell_type": "markdown",
   "metadata": {
    "slideshow": {
     "slide_type": "slide"
    }
   },
   "source": [
    "Now extend the conversion to include Kelvin\n",
    "\n",
    "BUT instead of reusing the code for F to C or C to F conversions, use the functions above\n",
    "\n",
    "    def convert_c_to_k(c_temp):\n",
    "    \n",
    "    def convert_k_to_c(k_temp):\n",
    "    \n",
    "    def convert_f_to_k(f_temp):\n",
    "    \n",
    "    def convert_k_to_f(k_temp):\n",
    "\n"
   ]
  },
  {
   "cell_type": "markdown",
   "metadata": {
    "slideshow": {
     "slide_type": "slide"
    }
   },
   "source": [
    "## Resources:\n",
    "\n",
    "- [Learn Python3 in Y Minutes](https://learnxinyminutes.com/docs/python3/)\n",
    "- [W3 School Python tutorial](https://www.w3schools.com/python/default.asp)\n"
   ]
  },
  {
   "cell_type": "code",
   "execution_count": null,
   "metadata": {},
   "outputs": [],
   "source": []
  }
 ],
 "metadata": {
  "celltoolbar": "Slideshow",
  "kernelspec": {
   "display_name": "Python 3",
   "language": "python",
   "name": "python3"
  },
  "language_info": {
   "codemirror_mode": {
    "name": "ipython",
    "version": 3
   },
   "file_extension": ".py",
   "mimetype": "text/x-python",
   "name": "python",
   "nbconvert_exporter": "python",
   "pygments_lexer": "ipython3",
   "version": "3.7.4"
  }
 },
 "nbformat": 4,
 "nbformat_minor": 4
}
