{
 "cells": [
  {
   "cell_type": "markdown",
   "metadata": {
    "slideshow": {
     "slide_type": "fragment"
    }
   },
   "source": [
    "<img align=left src=\"https://www.python.org/static/community_logos/python-logo-master-v3-TM.png\">"
   ]
  },
  {
   "cell_type": "markdown",
   "metadata": {
    "slideshow": {
     "slide_type": "skip"
    }
   },
   "source": [
    "---"
   ]
  },
  {
   "cell_type": "markdown",
   "metadata": {
    "slideshow": {
     "slide_type": "slide"
    }
   },
   "source": [
    "# Ways to Run a Python Program:\n",
    "\n",
    "1. Run (short) python commands\n",
    "    1. Within the python interpreter\n",
    "    1. Within the IPython interpreter\n",
    "1. Run (long) python scripts\n",
    "    1. Executing a Python file (.py) with the Python Interpreter\n",
    "    1. Using the Jupyter Notebook (we will be using this method)\n",
    "    1. Use an Integrated Development Environment (IDE) such as [PyCharm](https://www.jetbrains.com/pycharm/download/)\n",
    "    1. (In the cloud)"
   ]
  },
  {
   "cell_type": "markdown",
   "metadata": {
    "slideshow": {
     "slide_type": "fragment"
    }
   },
   "source": [
    "## Run (short) python commands\n",
    "\n",
    "### Run python commands within a python interpreter\n",
    "\n",
    "- Open your _Terminal (Mac)_ or _Command Prompt (Windows)_ \n",
    "- Start the (official) python interpreter by typing __python__ in your _Terminal_ or Command prompt and hit __Enter__\n",
    "\n",
    "        $ python\n",
    "\n",
    "- You should see something that looks like this:\n",
    "\n",
    "        $ python\n",
    "        Python 3.6.3 |Anaconda, Inc.| (default, Oct  6 2017, 12:04:38) \n",
    "        [GCC 4.2.1 Compatible Clang 4.0.1 (tags/RELEASE_401/final)] on darwin\n",
    "        Type \"help\", \"copyright\", \"credits\" or \"license\" for more information.\n",
    "        >>> \n",
    "\n",
    "\n",
    "- Type\n",
    "\n",
    "        print(\"Hello World\")\n",
    "    \n",
    "    and hit __Enter__\n",
    "    \n",
    "    \n",
    "- What do you see? Type __quit()__ to exit\n",
    "\n",
    "### Run python commands within the _IPython_ interpreter\n",
    "\n",
    "\n",
    "- You can also try this with the __IPython__ interpreter by typing __ipython__ and hitting __Enter__. You will see soemthing like this:\n",
    "\n",
    "        L01891689:~ squiresrb$ ipython\n",
    "        Python 3.6.3 |Anaconda, Inc.| (default, Oct  6 2017, 12:04:38) \n",
    "        Type 'copyright', 'credits' or 'license' for more information\n",
    "        IPython 6.1.0 -- An enhanced Interactive Python. Type '?' for help.\n",
    "\n",
    "        In [1]: \n",
    "        \n",
    "        \n",
    "Type __quit()__ to exit"
   ]
  },
  {
   "cell_type": "markdown",
   "metadata": {},
   "source": [
    "---"
   ]
  },
  {
   "cell_type": "markdown",
   "metadata": {},
   "source": [
    "## Run (long) python scripts"
   ]
  },
  {
   "cell_type": "markdown",
   "metadata": {
    "slideshow": {
     "slide_type": "slide"
    }
   },
   "source": [
    "### Executing a Python file (.py) with the Python Interpreter"
   ]
  },
  {
   "cell_type": "markdown",
   "metadata": {},
   "source": [
    "__Text editors:__\n",
    "\n",
    "To write python source code you will need to use a program called a text editor. A Text editor enables you to write text but without any formatting or overhead that a program such as Mirosoft Word requires.\n",
    "\n",
    "Popular Text editors:\n",
    "\n",
    "__Mac__:\n",
    "- Built-in\n",
    "    - TextEdit (built-in; need to change defualt format from _rtf_ to _txt_)\n",
    "    - nano / emacs / vi (in the Terminal)\n",
    "- Open source:\n",
    "    - [Atom](https://atom.io)\n",
    "- Commercial\n",
    "    - [BBEdit](bbedit.com)\n",
    "    - [Sublime Text](https://www.sublimetext.com)\n",
    "\n",
    "Windows:\n",
    "- Built-in\n",
    "    - NotePad (included with OS)\n",
    "- Open source:\n",
    "    - [Atom](https://atom.io)\n",
    "    - [Notepad++](https://notepad-plus-plus.org/)\n",
    "\n",
    "Linux (command line):\n",
    "- Built-in\n",
    "    - nano /emacs / vi\n"
   ]
  },
  {
   "cell_type": "markdown",
   "metadata": {},
   "source": [
    "### Making your first source code file:"
   ]
  },
  {
   "cell_type": "markdown",
   "metadata": {
    "slideshow": {
     "slide_type": "fragment"
    }
   },
   "source": [
    "Open a text editor and type:\n",
    "\n",
    "    print(‘hello world’)\n",
    "\n",
    "Save the file as as text file \"hello_world.py\"\n",
    "\n",
    "__Note:__ Make sure there is not an extra extension on the end such as \".txt\"\n",
    "\n",
    "To run the script, in the Terminal (or DOS prompt) type:\n",
    "\n",
    "    $ python hello_world.py\n",
    "\n",
    "and hit return.\n",
    "\n",
    "You should see:\n",
    "\n",
    "    hello world"
   ]
  },
  {
   "cell_type": "markdown",
   "metadata": {
    "slideshow": {
     "slide_type": "slide"
    }
   },
   "source": [
    "### Using the Jupyter Notebook"
   ]
  },
  {
   "cell_type": "code",
   "execution_count": 1,
   "metadata": {
    "slideshow": {
     "slide_type": "fragment"
    }
   },
   "outputs": [
    {
     "name": "stdout",
     "output_type": "stream",
     "text": [
      "Hello world\n"
     ]
    }
   ],
   "source": [
    "# This is a code cell. See the word \"Code\" in the drop-down menu above?\n",
    "\n",
    "# Click on the __Run__ button above to run this 'cell'\n",
    "\n",
    "print(\"Hello world\")"
   ]
  },
  {
   "cell_type": "markdown",
   "metadata": {},
   "source": [
    "Note: You can also try Google's __[Colaboratory](https://colab.research.google.com)__ to write and run python code in a hosted Jupyter notebook."
   ]
  },
  {
   "cell_type": "markdown",
   "metadata": {
    "slideshow": {
     "slide_type": "skip"
    }
   },
   "source": [
    "---"
   ]
  },
  {
   "cell_type": "markdown",
   "metadata": {
    "slideshow": {
     "slide_type": "slide"
    }
   },
   "source": [
    "### Use an Integrated Development Environment (IDE)"
   ]
  },
  {
   "cell_type": "markdown",
   "metadata": {
    "slideshow": {
     "slide_type": "slide"
    }
   },
   "source": [
    "IDEs contain a text editor, file browser, windows to display variable values, help, and a number of features that enhance the development of python programs.\n",
    "\n",
    "\n",
    "#### [__PyCharm__](http://www.jetbrains.com/pycharm/)\n",
    "\n",
    "- Code completion, on-the-fly error highlighting, auto-fixes, etc.\n",
    "- Automated code refactorings and rich navigation capabilities\n",
    "- Integrated debugger and unit testing support\n",
    "- Native version control system (VCS) integrations\n",
    "- Customizable UI and key-bindings, with VIM emulation available\n",
    "- Free Community edition\n",
    "- Now support Jupyter Notebook editing and running.\n",
    "\n",
    "<img src=\"https://www.jetbrains.com/pycharm/img/screenshots/complexLook@2x.jpg\" width=\"600\">"
   ]
  },
  {
   "cell_type": "markdown",
   "metadata": {
    "slideshow": {
     "slide_type": "fragment"
    }
   },
   "source": [
    "#### [Spyder](http://code.google.com/p/spyderlib/)\n",
    "- Installed as part of Anaconda distribution\n",
    "- Many of the same features as PyCharm\n",
    "\n",
    "<img src=\"https://github.com/spyder-ide/spyder/blob/master/img_src/screenshot.png?raw=true\" width=\"600\">"
   ]
  },
  {
   "cell_type": "markdown",
   "metadata": {
    "slideshow": {
     "slide_type": "skip"
    }
   },
   "source": [
    "---"
   ]
  },
  {
   "cell_type": "markdown",
   "metadata": {
    "slideshow": {
     "slide_type": "slide"
    }
   },
   "source": [
    "#### (You can also run Python in the Cloud)\n",
    "\n",
    "- [Python Anywhere](http://www.pythonanywhere.com)\n",
    "\n",
    "- [Python Fiddle: Python Cloud IDE](http://pythonfiddle.com)\n",
    "\n",
    "- [Koding: Free Programming Virtual Machine](http://koding.com)\n",
    "\n",
    "See also: https://wiki.python.org/moin/FreeHosts"
   ]
  },
  {
   "cell_type": "code",
   "execution_count": null,
   "metadata": {
    "collapsed": true
   },
   "outputs": [],
   "source": []
  }
 ],
 "metadata": {
  "anaconda-cloud": {},
  "gist_id": "cedf51e5d24af8694bfe",
  "kernelspec": {
   "display_name": "Python 3",
   "language": "python",
   "name": "python3"
  },
  "language_info": {
   "codemirror_mode": {
    "name": "ipython",
    "version": 3
   },
   "file_extension": ".py",
   "mimetype": "text/x-python",
   "name": "python",
   "nbconvert_exporter": "python",
   "pygments_lexer": "ipython3",
   "version": "3.6.6"
  }
 },
 "nbformat": 4,
 "nbformat_minor": 2
}
