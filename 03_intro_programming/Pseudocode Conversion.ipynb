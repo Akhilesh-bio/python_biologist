{
 "cells": [
  {
   "cell_type": "markdown",
   "metadata": {},
   "source": [
    "# Gapminder Data"
   ]
  },
  {
   "cell_type": "markdown",
   "metadata": {},
   "source": [
    "Gapminder project life expectancy data versus health over many decades."
   ]
  },
  {
   "cell_type": "markdown",
   "metadata": {},
   "source": [
    "---"
   ]
  },
  {
   "cell_type": "markdown",
   "metadata": {},
   "source": [
    "### Pseudocode"
   ]
  },
  {
   "cell_type": "markdown",
   "metadata": {},
   "source": [
    "    Open file\n",
    "\n",
    "    loop through file\n",
    "\n",
    "    test if country is united states\n",
    "\n",
    "    if so, print"
   ]
  },
  {
   "cell_type": "markdown",
   "metadata": {},
   "source": [
    "---"
   ]
  },
  {
   "cell_type": "code",
   "execution_count": 10,
   "metadata": {
    "collapsed": true
   },
   "outputs": [],
   "source": [
    "import csv"
   ]
  },
  {
   "cell_type": "code",
   "execution_count": 18,
   "metadata": {},
   "outputs": [
    {
     "name": "stdout",
     "output_type": "stream",
     "text": [
      "['United States', 'Americas', '1952', '68.44', '157553000', '13990.48208']\n",
      "['United States', 'Americas', '1957', '69.49', '171984000', '14847.12712']\n",
      "['United States', 'Americas', '1962', '70.21', '186538000', '16173.14586']\n",
      "['United States', 'Americas', '1967', '70.76', '198712000', '19530.36557']\n",
      "['United States', 'Americas', '1972', '71.34', '209896000', '21806.03594']\n",
      "['United States', 'Americas', '1977', '73.38', '220239000', '24072.63213']\n",
      "['United States', 'Americas', '1982', '74.65', '232187835', '25009.55914']\n",
      "['United States', 'Americas', '1987', '75.02', '242803533', '29884.35041']\n",
      "['United States', 'Americas', '1992', '76.09', '256894189', '32003.93224']\n",
      "['United States', 'Americas', '1997', '76.81', '272911760', '35767.43303']\n",
      "['United States', 'Americas', '2002', '77.31', '287675526', '39097.09955']\n",
      "['United States', 'Americas', '2007', '78.242', '301139947', '42951.65309']\n"
     ]
    }
   ],
   "source": [
    "with open('gapminder.csv') as gap_file:\n",
    "    \n",
    "    Hintgap_reader = csv.reader(gap_file)\n",
    "    \n",
    "    for row in gap_reader:\n",
    "    \n",
    "        if row[0] == \"United States\":\n",
    "            \n",
    "            print(row)"
   ]
  },
  {
   "cell_type": "code",
   "execution_count": null,
   "metadata": {
    "collapsed": true
   },
   "outputs": [],
   "source": []
  }
 ],
 "metadata": {
  "kernelspec": {
   "display_name": "Python 3",
   "language": "python",
   "name": "python3"
  },
  "language_info": {
   "codemirror_mode": {
    "name": "ipython",
    "version": 3
   },
   "file_extension": ".py",
   "mimetype": "text/x-python",
   "name": "python",
   "nbconvert_exporter": "python",
   "pygments_lexer": "ipython3",
   "version": "3.6.3"
  }
 },
 "nbformat": 4,
 "nbformat_minor": 2
}
