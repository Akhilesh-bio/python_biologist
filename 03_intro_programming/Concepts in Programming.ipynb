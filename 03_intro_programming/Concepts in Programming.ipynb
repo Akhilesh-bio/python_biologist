{
 "cells": [
  {
   "cell_type": "markdown",
   "metadata": {},
   "source": [
    "# Concepts in Programming (for Biologists)\n",
    "\n",
    "### Python Programming for Biologists Seminar Series\n",
    "\n",
    "#### R. Burke Squires\n",
    "#### NIAID BCBB"
   ]
  },
  {
   "cell_type": "markdown",
   "metadata": {},
   "source": [
    "---"
   ]
  },
  {
   "cell_type": "markdown",
   "metadata": {},
   "source": [
    "## Outline"
   ]
  },
  {
   "cell_type": "markdown",
   "metadata": {},
   "source": [
    "- Why…\n",
    "    - should you learn to program?\n",
    "    - do we have to program a computer?\n",
    "    - should someone learn python?\n",
    "- How…\n",
    "    - can programming help you?\n",
    "    - does one program a computer?\n",
    "    - can you learn more?"
   ]
  },
  {
   "cell_type": "markdown",
   "metadata": {},
   "source": [
    "## Learning Objectives"
   ]
  },
  {
   "cell_type": "markdown",
   "metadata": {},
   "source": [
    "Enable you to…\n",
    "compare and contrast computer hardware, software (program), and programming languages\n",
    "communicate better with programmers, bioinformaticians\n",
    "convert pseudocode to actual source code\n",
    "make your research more reproducible\n",
    "\n",
    "Enable you to “see” when a program would be useful\n",
    "Enable you to think more clearly"
   ]
  },
  {
   "cell_type": "markdown",
   "metadata": {},
   "source": [
    "## Motivation"
   ]
  },
  {
   "cell_type": "markdown",
   "metadata": {},
   "source": [
    "What Are Some Examples of How Programming Can Help?\n",
    "Re-run an entire analysis on new data, (almost) instantly\n",
    "\n",
    "“Glue” program output and input together into a single workflow\n",
    "\n",
    "Test multiple parameters all at the same time\n",
    "\n",
    "Download data from a known location and process it…automatically\n",
    "\n",
    "Create, update, move, and/or rename files and folders easily\n",
    "\n",
    "Create a web portal or graphical user interface for your software\n",
    "\n",
    "…automate the boring stuff!"
   ]
  },
  {
   "cell_type": "markdown",
   "metadata": {},
   "source": [
    "## Why Should You Learn To Program?"
   ]
  },
  {
   "cell_type": "markdown",
   "metadata": {},
   "source": [
    "Opportunities to make your research\n",
    "FASTER - Repeat an entire analysis by just replacing the input\n",
    "BETTER – Validate your analysis, use statistics\n",
    "REPRODUCIBLE - Make your research (more) reproducible\n",
    "MORE COMPETATIVE – many other researchers will be using these similar techniques"
   ]
  },
  {
   "cell_type": "markdown",
   "metadata": {},
   "source": [
    "## Challenges of Programming"
   ]
  },
  {
   "cell_type": "markdown",
   "metadata": {},
   "source": [
    "Picking a programming language\n",
    "Learning a programming language\n",
    "Knowing which piece of the language to use\n",
    "Debugging!!!\n",
    "Remembering what the program does when you come back to it.\n",
    "Keeping track of different programs\n",
    "Programing requires: Practice, practice, practice!\n",
    "You Have (Probably) Programmed Before… ",
    "and You May Not Even Know It?"
   ]
  },
  {
   "cell_type": "markdown",
   "metadata": {},
   "source": [
    "Written a formula in Excel\n",
    "\n",
    "Recorded a macro in Excel"
   ]
  },
  {
   "cell_type": "markdown",
   "metadata": {},
   "source": [
    "## Why Do We Need To Program Computers?\n",
    "Computers"
   ]
  },
  {
   "cell_type": "markdown",
   "metadata": {},
   "source": [
    "## How Do Computer Communicate?\n",
    "Binary digit– 1, 0\n",
    "Electrical impulses\n",
    "“Bit”\n",
    "\n",
    "“Byte”\n",
    "8 bits (0s, 1s)\n",
    "\n",
    "“Word”\n",
    "64 bit (32 bit) – 8 bytes at a time\n",
    "Width of communication path in central processing unit (CPU)\n",
    "I7, i5, Xeon, Athlon"
   ]
  },
  {
   "cell_type": "markdown",
   "metadata": {},
   "source": [
    "## What Does This Mean For Us?"
   ]
  },
  {
   "cell_type": "markdown",
   "metadata": {},
   "source": [
    "## Programming Languages\n",
    "\n",
    "- Computers “speak” 1s, 0s\n",
    "- Human speak English, etc."
   ]
  },
  {
   "cell_type": "markdown",
   "metadata": {},
   "source": [
    "## Programming Language Levels\n",
    "\n",
    "Machine language (0, 1)\n",
    "Interpreted directly in hardware\n",
    "\n",
    "Assembly language\n",
    "Wrappers over machine language\n",
    "\n",
    "High-level languages (C, Java)\n",
    "Machine-independent language\n",
    "\n",
    "Scripting languages (Python, R, perl)\n",
    "High-level and powerful"
   ]
  },
  {
   "cell_type": "markdown",
   "metadata": {},
   "source": [
    "## Interpreters / Compilers\n",
    "How do we go from high-level languages to assembly?\n",
    "Interpreter (Python, R)\n",
    "Compiler (C, C++, Java)\n",
    "\n",
    "We write program “source code”\n",
    "Usually saved as a file\n",
    "\n",
    "We “run” or “execute” program"
   ]
  },
  {
   "cell_type": "markdown",
   "metadata": {},
   "source": [
    "## Printing “Hello World!”\n",
    "C++\n",
    "```C++\n",
    "#include <iostream>\n",
    "int main()\n",
    "{\n",
    "\tstd::count << \"Hello World” << std::endl;\n",
    "\treturn 0;\n",
    "}\n",
    "```\n",
    "Java\n",
    "```java\n",
    "public class HelloWorld { \n",
    "\tpublic static void main (String[] args) {\n",
    " \t\tSystem.out.println(\"Hello World!\"); \n",
    "\t}\n",
    "}\n",
    "```\n",
    "Python\n",
    "```python\n",
    "print(“Hello World!”)\n",
    "```\n",
    "\n",
    "R\n",
    "```r\n",
    "print(\"Hello World!\", quote = FALSE)\n",
    "```"
   ]
  },
  {
   "cell_type": "markdown",
   "metadata": {},
   "source": [
    "## How To Write A Program?"
   ]
  },
  {
   "cell_type": "markdown",
   "metadata": {},
   "source": [
    "## How Do We Program?\n",
    "Think About Your Workflow (Algorithm)\n",
    "Write Pseudocode\n",
    "Break down our task into smaller tasks\n",
    "Describe the major components of our program\n",
    "Does this sound difficult?\n",
    "Let’s look at an example that I suspect most of us are familiar with…\n",
    "\n",
    "Convert pseudo code into a program or “source code”\n",
    "Write in a text file"
   ]
  },
  {
   "cell_type": "markdown",
   "metadata": {},
   "source": [
    "## An Example Workflow:  ",
    "Coffee\n",
    "Who drinks coffee?\n",
    "Who makes coffee?\n",
    "Who buys coffee?\n",
    "\n",
    "What does it take to make a pot or cup of coffee?\n",
    "\n",
    "(I’m a French Press type of coffee drinker)"
   ]
  },
  {
   "cell_type": "markdown",
   "metadata": {},
   "source": [
    "AeroPress…\n",
    "Workflow…or…\n",
    "Steps or\n",
    "Recipe or\n",
    "Protocol or\n",
    "Flowchart…\n",
    "\n",
    "Ultimately this is an algorithm"
   ]
  },
  {
   "cell_type": "markdown",
   "metadata": {},
   "source": [
    "## Coffee\n",
    "What if I want to make different type of coffee drinks?\n",
    "\n",
    "What is different about my recipe?\n",
    "\n",
    "What is the same about my recipe?\n",
    "\n",
    "Is reproducibility important?\n",
    "\n",
    "What happens if you gave those exact instructions to a three year old?"
   ]
  },
  {
   "cell_type": "markdown",
   "metadata": {},
   "source": [
    "## Algorithm"
   ]
  },
  {
   "cell_type": "markdown",
   "metadata": {},
   "source": [
    "## A New Way Of Seeing The World"
   ]
  },
  {
   "cell_type": "markdown",
   "metadata": {},
   "source": [
    "What we are really teaching is a new way of looking at a problem\n",
    "See repetition in your work; have fun with it\n",
    "\n",
    "Where have you all seen repetition in your work?\n",
    "Find repetition even when it does not look like it; where is repetition hiding?\n",
    "\n",
    "Reproducibility / reuse of code"
   ]
  },
  {
   "cell_type": "markdown",
   "metadata": {},
   "source": [
    "## Why Learn to Program in Python"
   ]
  },
  {
   "cell_type": "markdown",
   "metadata": {},
   "source": [
    "- A general purpose, high-level language\n",
    "- Cross-platform and open source\n",
    "- An interpreted language (no need to compile)\n",
    "- Easy to read language\n",
    "- Powerful\n",
    "- Fast (with package numpy, etc)\n",
    "- “Batteries included” standard library\n",
    "- Great Community\n",
    "- Many package available\n",
    "- Lots of help and tutorials\n",
    "- Easy installation (with anaconda distribution)\n",
    "- Popular for data science"
   ]
  },
  {
   "cell_type": "markdown",
   "metadata": {},
   "source": [
    "## Python Scientific Computing Packages"
   ]
  },
  {
   "cell_type": "markdown",
   "metadata": {},
   "source": [
    "- Numpy – fast matrix calculations\n",
    "- Pandas – scientific data analysis\n",
    "- Matplotlib – a MATLAB-like plotting library\n",
    "- SageMath – a large mathematical software application  for linear algebra, combinatorics, numerical mathematics, calculus, and more\n",
    "- SciPy – a large library of scientific tools\n",
    "- Scikit-learn – Machine learning\n",
    "- Stats-model – Statistical analysis\n",
    "- Jupyter – Analysis notebook / collaboration\n",
    "- Conda / bioconda  - installers"
   ]
  },
  {
   "cell_type": "markdown",
   "metadata": {},
   "source": [
    "## Language Popularity"
   ]
  },
  {
   "cell_type": "markdown",
   "metadata": {},
   "source": [
    "# What Are The Parts Of  ",
    "A Programming Language?"
   ]
  },
  {
   "cell_type": "code",
   "execution_count": null,
   "metadata": {},
   "outputs": [],
   "source": []
  },
  {
   "cell_type": "code",
   "execution_count": null,
   "metadata": {},
   "outputs": [],
   "source": [
    "Variables: In simple terms, variables are the name given to methods of storing information in any program. Calling the variable retrieves the stored information.\n",
    "\n",
    "Control structures: Control structures in a program determine which variables to use based on the existing parameters. If...then...else statements, for example, is one of the simplest control structures in many languages, that tells the program how to proceed.\n",
    "\n",
    "Data structures: Different methods of storing and accessing data in a computer.\n",
    "\n",
    "Syntax: The set of rules that define the grammar of a programming language.\n",
    "\n",
    "Tools: A piece of software that can help you program faster.\n",
    "[Source](https://www.freelancer.com/articles/programming/tips-for-beginning-coders)\n"
   ]
  },
  {
   "cell_type": "markdown",
   "metadata": {},
   "source": [
    "Writing Our Program"
   ]
  },
  {
   "cell_type": "markdown",
   "metadata": {},
   "source": [
    "All programming languages share many of the same concepts\n",
    "Data types\n",
    "Data structures\n",
    "Conditionals\n",
    "Loops\n",
    "Functions\n",
    "Files input/output"
   ]
  },
  {
   "cell_type": "markdown",
   "metadata": {},
   "source": [
    "Data Types"
   ]
  },
  {
   "cell_type": "markdown",
   "metadata": {},
   "source": [
    "Integer\n",
    "0, 1, 2, 999\n",
    "\n",
    "Floating-point number, “Float”\n",
    "3.14\n",
    "\n",
    "Boolean\n",
    "True, False\n",
    "\n",
    "Character\n",
    "“a”, “b”, “c”, “A”, “B”, “C”\n",
    "\n",
    "String (of characters)\n",
    "“ATCG”"
   ]
  },
  {
   "cell_type": "markdown",
   "metadata": {},
   "source": [
    "## Data Structures"
   ]
  },
  {
   "cell_type": "markdown",
   "metadata": {},
   "source": [
    "Sequence Data Types\n",
    "\n",
    "Array (List)\n",
    "Ordered; duplicates allowed; can change\n",
    "In python - [1, 2, 3], [ “A”, “B”, “C”]\n",
    "\n",
    "Tuple\n",
    "Ordered; duplicates allowed; cannot change\n",
    "In python – tuple: (“a”, “t”, “g”, “c”);"
   ]
  },
  {
   "cell_type": "markdown",
   "metadata": {},
   "source": [
    "Sets Data Types\n",
    "\n",
    "Sets\n",
    "Unordered; no duplicate elements\n",
    "In python - Set(['John', 'Jane', 'Jack', 'Janice'])"
   ]
  },
  {
   "cell_type": "markdown",
   "metadata": {},
   "source": [
    "Mapping Data Types\n",
    "\n",
    "Hash (Dictionary)\n",
    "Key / value pair\n",
    "Unordered; no duplicate keys, can change\n",
    "In python – { “BRCA1”: “cancer gene” }"
   ]
  },
  {
   "cell_type": "markdown",
   "metadata": {},
   "source": [
    "Variables"
   ]
  },
  {
   "cell_type": "markdown",
   "metadata": {},
   "source": [
    "A specific string that stores a value during the runtime of a program\n",
    "\n",
    "Refer to a place in memory where the value is held\n",
    "\n",
    "Example:"
   ]
  },
  {
   "cell_type": "code",
   "execution_count": 3,
   "metadata": {},
   "outputs": [
    {
     "name": "stdout",
     "output_type": "stream",
     "text": [
      "10\n"
     ]
    }
   ],
   "source": [
    "conc = 10\n",
    "print(conc)"
   ]
  },
  {
   "cell_type": "markdown",
   "metadata": {},
   "source": [
    "Keywords / Reserved Words (python)\n",
    "- and, assert, break, class, continue, def, del, elif, else, except, exec, finally, for, from, global, if, import, in, is, lambda, not, or, pass, print, raise, return, try, while, with, yield"
   ]
  },
  {
   "cell_type": "markdown",
   "metadata": {},
   "source": [
    "## Operators"
   ]
  },
  {
   "cell_type": "markdown",
   "metadata": {},
   "source": [
    "Definition\n",
    "An object that is capable of manipulating a value or operator \n",
    "\n",
    "For example, in \"1 + 2\", the \"1\" and \"2\" are the operands and the plus symbol is the operator"
   ]
  },
  {
   "cell_type": "markdown",
   "metadata": {},
   "source": [
    "## Order of Operators"
   ]
  },
  {
   "cell_type": "markdown",
   "metadata": {},
   "source": [
    "\n",
    "|Operators|Meaning|\n",
    "|---|---|\n",
    "|()|Parentheses|\n",
    "|**|Exponent|\n",
    "|+x, -x, ~x|Unary plus, Unary minus, Bitwise NOT|\n",
    "|*, /, //, %|Multiplication, Division, Floor division, Modulus|\n",
    "|+, -|Addition, Subtraction|\n",
    "|<<, >>|Bitwise shift operators|\n",
    "|&|Bitwise AND|\n",
    "|^|Bitwise XOR|\n",
    "|||Bitwise OR|\n",
    "|==, !=, >, >=, <, <=, is, is not, in, not in|Comparisions, Identity, Membership operators|\n",
    "|not|Logical NOT|\n",
    "|and|Logical AND|\n",
    "|or|Logical OR|\n",
    "\n"
   ]
  },
  {
   "cell_type": "markdown",
   "metadata": {},
   "source": [
    "## Conditional Statements"
   ]
  },
  {
   "cell_type": "markdown",
   "metadata": {},
   "source": [
    "Definition\n",
    "A statement that is true only for certain values (conditions) of the variables or symbols\n",
    "Example(s)\n",
    "If conc == 10:\n",
    "    print(“Concentrations is 10 mm”)\n",
    "else:\n",
    "    print(“Concentration is not 10 mm”)"
   ]
  },
  {
   "cell_type": "markdown",
   "metadata": {},
   "source": [
    "Loops"
   ]
  },
  {
   "cell_type": "markdown",
   "metadata": {},
   "source": [
    "For loop…"
   ]
  },
  {
   "cell_type": "markdown",
   "metadata": {},
   "source": [
    "Execute a known number of times\n",
    "\n",
    "Measure some strings: ... "
   ]
  },
  {
   "cell_type": "markdown",
   "metadata": {},
   "source": [
    "words = ['cat', 'window', 'defenestrate']\n",
    "for w in words:\n",
    "    print(w, len(w))"
    "## Printing “Hello World!”\n",
    "C++\n",
    "```C++\n",
    "#include <iostream>\n",
    "int main()\n",
    "{\n",
    "\tstd::count << \"Hello World” << std::endl;\n",
    "\treturn 0;\n",
    "}\n",
    "```\n",
    "Java\n",
    "```java\n",
    "public class HelloWorld { \n",
    "\tpublic static void main (String[] args) {\n",
    " \t\tSystem.out.println(\"Hello World!\"); \n",
    "\t}\n",
    "}\n",
    "```\n",
    "Python\n",
    "```python\n",
    "print(“Hello World!”)\n",
    "```\n",
    "\n",
    "R\n",
    "```r\n",
    "print(\"Hello World!\", quote = FALSE)\n",
    "```"
   ]
  },
  {
   "cell_type": "markdown",
   "metadata": {},
   "source": [
    "While loop"
    "# What Are The Parts Of  ",
    "A Programming Language?"
   ]
  },
  {
   "cell_type": "markdown",
   "metadata": {},
   "source": [
    "Execute while some condition is met\n",
    "\n",
    "\n",
    "Write Fibonacci series up to n \"\"Print a Fibonacci series up to n.\"\"\" "
   ]
  },
  {
   "cell_type": "code",
   "execution_count": null,
   "metadata": {},
   "outputs": [],
   "source": [
    "a, b = 0, 1\n",
    "while a < n:\n",
    "    print(a, end=' ') \n",
    "    a, b = b, a+b\n",
    "print()"
    "__Variables__: In simple terms, variables are the name given to methods of storing information in any program. Calling the variable retrieves the stored information.\n",
    "\n",
    "__Control structures__: Control structures in a program determine which variables to use based on the existing parameters. If...then...else statements, for example, is one of the simplest control structures in many languages, that tells the program how to proceed.\n",
    "\n",
    "__Data structures__: Different methods of storing and accessing data in a computer.\n",
    "\n",
    "__Syntax__: The set of rules that define the grammar of a programming language.\n",
    "\n",
    "__Tools__: A piece of software that can help you program faster.\n",
    "\n",
    "[Source](https://www.freelancer.com/articles/programming/tips-for-beginning-coders)\n"
   ]
  },
  {
   "cell_type": "markdown",
   "metadata": {},
   "source": [
    "### Writing Our Program"
   ]
  },
  {
   "cell_type": "markdown",
   "metadata": {},
   "source": [
    "All programming languages share many of the same concepts\n",
    "Data types\n",
    "Data structures\n",
    "Conditionals\n",
    "Loops\n",
    "Functions\n",
    "Files input/output"
   ]
  },
  {
   "cell_type": "markdown",
   "metadata": {},
   "source": [
    "### Data Types"
   ]
  },
  {
   "cell_type": "code",
   "execution_count": 5,
   "metadata": {},
   "outputs": [
    {
     "data": {
      "text/plain": [
       "'ATCG'"
      ]
     },
     "execution_count": 5,
     "metadata": {},
     "output_type": "execute_result"
    }
   ],
   "source": [
    "def multiply(num1, num2):\n",
    "    return num1 * num2\n",
    "\n",
    "multiply(4,5)"
   ]
  },
  {
   "cell_type": "markdown",
   "metadata": {},
   "source": [
    "## Input / Output"
   ]
  },
  {
   "cell_type": "markdown",
   "metadata": {},
   "source": [
    "File I/O\n",
    "Read a file\n",
    "Text files\n",
    "Binary files\n",
    "\n",
    "Write a file\n",
    "Text file\n",
    "Binary file\n",
    "\n",
    "Network (Socket) IO\n",
    "Read from a socket / network connection\n",
    "\n",
    "Write to a socket / network connection"
    "# Integer\n",
    "0, 1, 2, 999\n",
    "\n",
    "# Floating-point number, Float”\n",
    "3.14\n",
    "\n",
    "# Boolean\n",
    "True, False\n",
    "\n",
    "# Character\n",
    "'a', 'b', 'c'\n",
    "\n",
    "#String (of characters)\n",
    "'ATCG'"
   ]
  },
  {
   "cell_type": "markdown",
   "metadata": {},
   "source": [
    "---"
    "# Data Structures"
   ]
  },
  {
   "cell_type": "markdown",
   "metadata": {},
   "source": [
    "# How To Write a Program"
   ]
  },
  {
   "cell_type": "markdown",
   "metadata": {},
   "source": [
    "“The biggest mistake I see new programmers make is focusing on learning syntax instead of learning how to solve problems.” \n",
    "— V. Anton Spraul (author of the book “Think Like a Programmer: An Introduction to Creative Problem Solving”)"
    "### Sequence Data Types\n",
    "\n",
    "- Array (List)\n",
    "    - Ordered; duplicates allowed; can change"
   ]
  },
  {
   "cell_type": "code",
   "execution_count": 12,
   "metadata": {},
   "outputs": [],
   "source": [
    "lst1 = [1, 2, 3]\n",
    "lst2 = [ 'A', 'B', 'C']\n",
    "lst3 = ['a', 1, 'b', 2]"
   ]
  },
  {
   "cell_type": "markdown",
   "metadata": {},
   "source": [
    "### What Should You Do When You Encounter A New Task or Challenge?\n",
    "- Understand\n",
    "- Plan\n",
    "- Divide\n",
    "- Stuck?\n",
    "- Debug\n",
    "- Reassess\n",
    "- Research\n",
    "- Practice"
   ]
  },
  {
   "cell_type": "markdown",
   "metadata": {},
   "source": [
    "“If you can’t explain something in simple terms, you don’t understand it.”\n",
    " — Richard Feynman"
    "### Tuple\n",
    "    - Ordered; duplicates allowed; cannot change"
   ]
  },
  {
   "cell_type": "code",
   "execution_count": 13,
   "metadata": {},
   "outputs": [
    {
     "data": {
      "text/plain": [
       "('a', 't', 'g', 'c')"
      ]
     },
     "execution_count": 13,
     "metadata": {},
     "output_type": "execute_result"
    }
   ],
   "source": [
    "tpl = (\"a\", \"t\", \"g\", \"c\");\n",
    "tpl"
   ]
  },
  {
   "cell_type": "markdown",
   "metadata": {},
   "source": [
    "1. Understand\n",
    "Know exactly what is being asked. \n",
    "Most hard problems are hard because you don’t understand them (hence why this is the first step).\n",
    "How to know when you understand a problem? \n",
    "When you can explain it in plain English.\n",
    "This is why you should write down your problem, doodle a diagram, or tell someone else about it (or thing… some people use a rubber duck)."
   ]
  },
  {
   "cell_type": "markdown",
   "metadata": {},
   "source": [
    "2. Plan\n",
    "Don’t dive right into solving without a plan (and somehow hope you can muddle your way through). Plan your solution!\n",
    "Nothing can help you if you can’t write down the exact steps.\n",
    "In programming, this means don’t start hacking straight away. \n",
    "Give your brain time to analyze the problem and process the information.\n",
    "To get a good plan, answer this question:\n",
    "“Given input X, what are the steps necessary to return output Y?”\n",
    "Sidenote: \n",
    "Programmers have a great tool to help them with this… Comments!"
    "### Mapping Data Types\n",
    "\n",
    "- Hash (Dictionary)\n",
    "- Key / value pair\n",
    "- Unordered; no duplicate keys, can change"
   ]
  },
  {
   "cell_type": "code",
   "execution_count": 10,
   "metadata": {},
   "outputs": [
    {
     "data": {
      "text/plain": [
       "{'BRCA1': 'cancer gene'}"
      ]
     },
     "execution_count": 10,
     "metadata": {},
     "output_type": "execute_result"
    }
   ],
   "source": [
    "dct = { \"BRCA1\": \"cancer gene\" }\n",
    "dct"
   ]
  },
  {
   "cell_type": "markdown",
   "metadata": {},
   "source": [
    "3. Divide\n",
    "Pay attention. This is the most important step of all.\n",
    "Do not try to solve one big problem. You will cry.\n",
    "Instead, break it into sub-problems. These sub-problems are much easier to solve.\n",
    "Then, solve each sub-problem one by one. Begin with the simplest. \n",
    "Simplest means you know the answer (or are closer to that answer).\n",
    "After that, simplest means this sub-problem being solved doesn’t depend on others being solved.\n",
    "Once you solved every sub-problem, connect the dots.\n",
    "Connecting all your “sub-solutions” will give you the solution to the original problem. Congratulations!\n",
    "3. Divide\n",
    "“If I could teach every beginning programmer one problem-solving skill, it would be the ‘reduce the problem technique.’\n",
    "For example, suppose you’re a new programmer and you’re asked to write a program that reads ten numbers and figures out which number is the third highest. For a brand-new programmer, that can be a tough assignment, even though it only requires basic programming syntax.\n",
    "If you’re stuck, you should reduce the problem to something simpler. Instead of the third-highest number, what about finding the highest overall? Still too tough? What about finding the largest of just three numbers? Or the larger of two?\n",
    "Reduce the problem to the point where you know how to solve it and write the solution. Then expand the problem slightly and rewrite the solution to match, and keep going until you are back where you started.” — V. Anton Spraul"
    "## Variables"
   ]
  },
  {
   "cell_type": "markdown",
   "metadata": {},
   "source": [
    "4. Stuck?\n",
    "Don’t worry though, friend. This happens to everyone!\n",
    "The difference is the best programmers/problem-solvers are more curious about bugs/errors than irritated.\n",
    "\n",
    "In fact, here are three things to try when facing a whammy:\n",
    "Debug\n",
    "Reassess\n",
    "Research"
   ]
  },
  {
   "cell_type": "markdown",
   "metadata": {},
   "source": [
    "4. Stuck?\n",
    "Debug: \n",
    "\n",
    "Go step by step through your solution trying to find where you went wrong. Programmers call this debugging (in fact, this is all a debugger does).\n",
    "\n",
    "“The art of debugging is figuring out what you really told your program to do rather than what you thought you told it to do.”” — Andrew Singer"
    "A specific string that stores a value during the runtime of a program\n",
    "\n",
    "Refer to a place in memory where the value is held"
   ]
  },
  {
   "cell_type": "code",
   "execution_count": 3,
   "metadata": {},
   "outputs": [
    {
     "name": "stdout",
     "output_type": "stream",
     "text": [
      "10\n"
     ]
    }
   ],
   "source": [
    "conc = 10\n",
    "print(conc)"
   ]
  },
  {
   "cell_type": "markdown",
   "metadata": {},
   "source": [
    "4. Stuck?\n",
    "Reassess:\n",
    "Take a step back. Look at the problem from another perspective. Is there anything that can be abstracted to a more general approach?"
    "## Keywords / Reserved Words (python)\n",
    "- and, assert, break, class, continue, def, del, elif, else, except, exec, finally, for, from, global, if, import, in, is, lambda, not, or, pass, print, raise, return, try, while, with, yield"
   ]
  },
  {
   "cell_type": "markdown",
   "metadata": {},
   "source": [
    "Sidenote: \n",
    "Another way of reassessing is starting anew. Delete everything and begin again with fresh eyes. I’m serious. You’ll be dumbfounded at how effective this is."
    "## Operators"
   ]
  },
  {
   "cell_type": "markdown",
   "metadata": {},
   "source": [
    "4. Stuck?\n",
    "Research: \n",
    "Ahh, good ol’ Google. You read that right. No matter what problem you have, someone has probably solved it. Find that person’ solution. In fact, do this even if you solved the problem! (You can learn a lot from other people’s solutions).\n",
    "\n",
    "Caveat\n",
    "Don’t look for a solution to the big problem. Only look for solutions to sub-problems. Why? Because unless you struggle (even a little bit), you won’t learn anything. If you don’t learn anything, you wasted your time."
    "Definition\n",
    "An object that is capable of manipulating a value or operator \n",
    "\n",
    "For example, in \"1 + 2\", the \"1\" and \"2\" are the operands and the plus symbol is the operator"
   ]
  },
  {
   "cell_type": "markdown",
   "metadata": {},
   "source": [
    "Practice"
    "## Order of Operators"
   ]
  },
  {
   "cell_type": "markdown",
   "metadata": {},
   "source": [
    "Don’t expect to be great after just one week. If you want to be a good problem-solver, solve a lot of problems!\n",
    "Practice. Practice. Practice. It’ll only be a matter of time before you recognize that “this problem could easily be solved with <insert concept here>.”\n",
    "How to practice? There are options out the wazoo!\n",
    "Practicing “micro problem-solving.” For example, Peter Thiel plays chess, and Elon Musk plays video-games.\n",
    "So, what you should do is find an outlet to practice. Something that allows you to solve many micro-problems (ideally, something you enjoy).\n",
    "For example, try coding challenges. Every day, try to solve at least one challenge"
    "\n",
    "|Operators|Meaning|\n",
    "|---|---|\n",
    "|()|Parentheses|\n",
    "|**|Exponent|\n",
    "|+x, -x, ~x|Unary plus, Unary minus, Bitwise NOT|\n",
    "|*, /, //, %|Multiplication, Division, Floor division, Modulus|\n",
    "|+, -|Addition, Subtraction|\n",
    "|<<, >>|Bitwise shift operators|\n",
    "|&|Bitwise AND|\n",
    "|^|Bitwise XOR|\n",
    "|||Bitwise OR|\n",
    "|==, !=, >, >=, <, <=, is, is not, in, not in|Comparisions, Identity, Membership operators|\n",
    "|not|Logical NOT|\n",
    "|and|Logical AND|\n",
    "|or|Logical OR|\n",
    "\n"
   ]
  },
  {
   "cell_type": "markdown",
   "metadata": {},
   "source": [
    "How To Write A Program\n",
    "1. Think about the problem you want to solve\n",
    "1. Outline the steps necessary to solve the problem\n",
    "    1. This is pseudocode\n",
    "    1. This is also your algorithm\n",
    "1. Convert your pseudocode to real code\n",
    "    1. We will be writing our code in the python programming language\n",
    "1. Run your code\n",
    "1. Test your program"
    "## Conditional Statements"
   ]
  },
  {
   "cell_type": "markdown",
   "metadata": {},
   "source": [
    "Think About The Problem You Want To Solve"
   ]
  },
  {
   "cell_type": "markdown",
   "metadata": {},
   "source": [
    "What are the data types you will need to use / manage?\n",
    "How will you store your data (i.e. what data structures will you need to use?)\n",
    "Are there any loops?\n",
    "Are there any conditions?\n",
    "Do you need to write any functions?"
    "__Definition__: A statement that is true only for certain values (conditions) of the variables or symbols\n"
   ]
  },
  {
   "cell_type": "code",
   "execution_count": null,
   "metadata": {},
   "outputs": [],
   "source": [
    "conc = 9\n",
    "if conc == 10:\n",
    "    print(“Concentrations is 10 mm”)\n",
    "else:\n",
    "    print(“Concentration is not 10 mm”)"
   ]
  },
  {
   "cell_type": "markdown",
   "metadata": {},
   "source": [
    "Debugging"
    "## Loops"
   ]
  },
  {
   "cell_type": "markdown",
   "metadata": {},
   "source": [
    "Syntax – wrong grammar, i.e., breaking the rules of how to write the language\n",
    "Forgetting punctuation,  misspelling keyword\n",
    "The program will not run at all with syntax errors\n",
    "\n",
    "Logic  - the program runs, but does not produce the expected results.\n",
    "Using an incorrect formula, incorrect sequence of statements, etc."
    "### For loop…"
   ]
  },
  {
   "cell_type": "markdown",
   "metadata": {},
   "source": [
    "How Do We Get Started?"
   ]
  },
  {
   "cell_type": "markdown",
   "metadata": {},
   "source": [
    "Create a workflow of what you want your program to do\n",
    "\n",
    "Usually call this “pseudocode”\n",
    "\n",
    "Pseudocode consists of\n",
    "Clear natural human readable language\n",
    "Three rules\n",
    "Sequence of subtasks\n",
    "choice (if)\n",
    "repeat (while)\n",
    "\n",
    "Later we will create pseudocode then convert it to actual code"
    "- Execute a known number of times\n",
    "- Measure some strings: ... "
   ]
  },
  {
   "cell_type": "code",
   "execution_count": 14,
   "metadata": {},
   "outputs": [
    {
     "name": "stdout",
     "output_type": "stream",
     "text": [
      "cat 3\n",
      "window 6\n",
      "defenestrate 12\n"
     ]
    }
   ],
   "source": [
    "words = ['cat', 'window', 'defenestrate']\n",
    "for w in words:\n",
    "    print(w, len(w))"
   ]
  },
  {
   "cell_type": "markdown",
   "metadata": {},
   "source": [
    "How Do We Convert Pseudocode  ",
    "to an Actual Program?"
    "### While loop"
   ]
  },
  {
   "cell_type": "markdown",
   "metadata": {},
   "source": [
    "Write your own code, all from scratch\n",
    "Write your own code but use packages\n",
    "Modify existing code\n",
    "Search for, adapt code written by some one else"
   ]
  },
  {
   "cell_type": "markdown",
   "metadata": {},
   "source": [
    "Writing Our Program"
    "- Execute while some condition is met\n",
    "- Write Fibonacci series up to n \"\"Print a Fibonacci series up to n.\"\"\" "
   ]
  },
  {
   "cell_type": "code",
   "execution_count": 18,
   "metadata": {},
   "outputs": [
    {
     "name": "stdout",
     "output_type": "stream",
     "text": [
      "0 1 1 2 3 5 8 \n"
     ]
    }
   ],
   "source": [
    "a, b = 0, 1\n",
    "n = 10\n",
    "while a < n:\n",
    "    print(a, end=' ') \n",
    "    a, b = b, a+b\n",
    "print()"
   ]
  },
  {
   "cell_type": "markdown",
   "metadata": {},
   "source": [
    "Source code\n",
    "    Written in plain text\n",
    "\n",
    "Write in\n",
    "    Text editor\n",
    "    Integrated development environment (IDE)\n",
    "    Jupyter Notebook"
    "## Functions"
   ]
  },
  {
   "cell_type": "markdown",
   "metadata": {},
   "source": [
    "#!/usr/bin/python\n",
    "\n",
    "# “This programs sums numbers given to it”\n",
    "\n",
    "value = 1\n",
    "sum = 0\n",
    "\n",
    "print('Enter Numbers to add to the sum.')\n",
    "\n",
    "print('Enter 0 to quit.')\n",
    "\n",
    "while value != 0:\n",
    "    print('Current Sum:', sum)            \n",
    "    a = float(input('Number? '))        \n",
    "    sum = sum + value                     \n",
    "\n",
    "print('Total Sum =', sum)"
   ]
  },
  {
   "cell_type": "markdown",
   "metadata": {},
   "source": [
    "# Code Is _Read_ More Often  ",
    "Then It Is Written!"
   ]
  },
  {
   "cell_type": "markdown",
   "metadata": {},
   "source": [
    "Where To Find Package or Code?"
   ]
  },
  {
   "cell_type": "markdown",
   "metadata": {},
   "source": [
    "Your Previous Code\n",
    "Other lab members code\n",
    "Google Search\n",
    "StackOverflow\n",
    "GitHub  (Open source, source code repository)\n",
    "Programing language repository (python – pip, conda; R – cran)"
    "__Definition__: A basic task of a computer, especially one that corresponds to a single instruction from the user.\n",
    "\n",
    "When an task needs to be performed more then once, it is a good opportunity to convert that code into a function"
   ]
  },
  {
   "cell_type": "code",
   "execution_count": 2,
   "metadata": {},
   "outputs": [
    {
     "data": {
      "text/plain": [
       "20"
      ]
     },
     "execution_count": 2,
     "metadata": {},
     "output_type": "execute_result"
    }
   ],
   "source": [
    "def multiply(num1, num2):\n",
    "    return num1 * num2\n",
    "\n",
    "multiply(4,5)"
   ]
  },
  {
   "cell_type": "markdown",
   "metadata": {},
   "source": [
    "How To Write Your Own Code?"
    "## Input / Output"
   ]
  },
  {
   "cell_type": "markdown",
   "metadata": {},
   "source": [
    "How To Write Your Own Code?\n",
    "Picking a Programming language\n",
    "Usually the programming language most comfortable with\n",
    "If you are new to programming, pick one of the languages that we see today\n",
    "Pick the language that best fits the situation\n",
    "\n",
    "Process\n",
    "Start with pseudo code\n",
    "Transform pseudo code into real code, one line at a time"
   ]
  },
  {
   "cell_type": "markdown",
   "metadata": {},
   "source": [
    "Pseudocode Experiment\n",
    "Extract some data from a Gapminder data set"
    "File I/O\n",
    "- Read a file\n",
    "    - Text files\n",
    "    - Binary files\n",
    "\n",
    "- Write a file\n",
    "    - Text file\n",
    "    - Binary file"
   ]
  },
  {
   "cell_type": "markdown",
   "metadata": {},
   "source": [
    "Learning Objectives\n",
    "To familiarize you with computer programming, programming languages, scientific packages\n",
    "Enable you to communicate better with programmers, bioinformaticians\n",
    "Critique existing source code for your use\n",
    "Assess which language that bests fits your needs\n",
    "Facilitate you becoming a reproducible scientist"
    "Network (Socket) IO\n",
    "- Read from a socket / network connection\n",
    "- Write to a socket / network connection"
   ]
  },
  {
   "cell_type": "markdown",
   "metadata": {},
   "source": [
    "## Python Language vs. Python Standard Library vs Python Packages"
   ]
  },
  {
   "cell_type": "code",
   "execution_count": null,
   "metadata": {},
   "outputs": [],
   "source": []
  },
  {
   "cell_type": "code",
   "execution_count": null,
   "metadata": {},
   "outputs": [],
   "source": []
  },
  {
    "---"
   ]
  },
  {
   "cell_type": "markdown",
   "metadata": {},
   "source": [
    "Resources\n",
    "Algorithms\n",
    "https://www.manning.com/books/grokking-algorithms\n",
    "https://www.toptal.com/developers/sorting-algorithms\n",
    "\n",
    "General python\n",
    "https://docs.python.org/3/tutorial/index.html"
   ]
  }
 ],
 "metadata": {
  "kernelspec": {
   "display_name": "Python 3",
   "language": "python",
   "name": "python3"
  },
  "language_info": {
   "codemirror_mode": {
    "name": "ipython",
    "version": 3
   },
   "file_extension": ".py",
   "mimetype": "text/x-python",
   "name": "python",
   "nbconvert_exporter": "python",
   "pygments_lexer": "ipython3",
   "version": "3.7.3"
  }
 },
 "nbformat": 4,
 "nbformat_minor": 2
}
