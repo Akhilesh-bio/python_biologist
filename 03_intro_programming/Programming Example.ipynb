{
 "cells": [
  {
   "cell_type": "markdown",
   "metadata": {
    "slideshow": {
     "slide_type": "slide"
    }
   },
   "source": [
    "# Programming Example"
   ]
  },
  {
   "cell_type": "markdown",
   "metadata": {
    "slideshow": {
     "slide_type": "slide"
    }
   },
   "source": [
    "## Our problem:\n",
    "\n",
    "We would like to plot life expectancy data versus health over many decades for all countries of the world. The Gapminder project has such data.\n",
    "\n",
    "Steps:\n",
    "- Understand\n",
    "- Plan\n",
    "- Divide\n",
    "\n",
    "\n",
    "Are we Stuck?\n",
    "- Debug\n",
    "- Reassess\n",
    "- Research\n",
    "\n",
    "Practice\n",
    "\n"
   ]
  },
  {
   "cell_type": "markdown",
   "metadata": {
    "slideshow": {
     "slide_type": "skip"
    }
   },
   "source": [
    "---"
   ]
  },
  {
   "cell_type": "markdown",
   "metadata": {
    "slideshow": {
     "slide_type": "slide"
    }
   },
   "source": [
    "__Gapminder Data__\n",
    "\n",
    "[Gapminder](https://www.gapminder.org/) is an educational foundation with no religious, political or economic dependencies, promoting a fact-based worldview everyone can understand. You can view all of the data here: https://www.gapminder.org/data/\n",
    "\n",
    "We are going to use a CSV export of some data titled \"gapminder.csv\" but the original source of our data  could be downloaded here:"
   ]
  },
  {
   "cell_type": "markdown",
   "metadata": {
    "slideshow": {
     "slide_type": "slide"
    }
   },
   "source": [
    "Lets look at our data:"
   ]
  },
  {
   "cell_type": "code",
   "execution_count": 5,
   "metadata": {
    "slideshow": {
     "slide_type": "fragment"
    }
   },
   "outputs": [
    {
     "name": "stdout",
     "output_type": "stream",
     "text": [
      "\"country\",\"continent\",\"year\",\"lifeExp\",\"pop\",\"gdpPercap\"\n",
      "\"Afghanistan\",\"Asia\",1952,28.801,8425333,779.4453145\n",
      "\"Afghanistan\",\"Asia\",1957,30.332,9240934,820.8530296\n",
      "\"Afghanistan\",\"Asia\",1962,31.997,10267083,853.10071\n",
      "\"Afghanistan\",\"Asia\",1967,34.02,11537966,836.1971382\n",
      "\"Afghanistan\",\"Asia\",1972,36.088,13079460,739.9811058\n",
      "\"Afghanistan\",\"Asia\",1977,38.438,14880372,786.11336\n",
      "\"Afghanistan\",\"Asia\",1982,39.854,12881816,978.0114388\n",
      "\"Afghanistan\",\"Asia\",1987,40.822,13867957,852.3959448\n",
      "\"Afghanistan\",\"Asia\",1992,41.674,16317921,649.3413952\n"
     ]
    }
   ],
   "source": [
    "import psutil\n",
    "if psutil.WINDOWS:\n",
    "    !gc gapminder.csv -head 10\n",
    "else:\n",
    "    !head gapminder.csv"
   ]
  },
  {
   "cell_type": "markdown",
   "metadata": {
    "slideshow": {
     "slide_type": "skip"
    }
   },
   "source": [
    "---"
   ]
  },
  {
   "cell_type": "markdown",
   "metadata": {
    "slideshow": {
     "slide_type": "slide"
    }
   },
   "source": [
    "Questions:\n",
    "- What are the data types you will need to use / manage?\n",
    "- How will you store your data (i.e. what data structures will you need to use?)\n",
    "- Are there any loops?\n",
    "- Are there any conditions?\n",
    "- Do you need to write any functions?"
   ]
  },
  {
   "cell_type": "markdown",
   "metadata": {
    "slideshow": {
     "slide_type": "slide"
    }
   },
   "source": [
    "### Divide"
   ]
  },
  {
   "cell_type": "markdown",
   "metadata": {
    "slideshow": {
     "slide_type": "fragment"
    }
   },
   "source": [
    "How do we analze this data? \n",
    "\n",
    "What are the steps we need to take?"
   ]
  },
  {
   "cell_type": "markdown",
   "metadata": {
    "slideshow": {
     "slide_type": "slide"
    }
   },
   "source": [
    "### Outline\n",
    "\n",
    "    Open file\n",
    "\n",
    "    loop through file\n",
    "\n",
    "    test if country is united states\n",
    "\n",
    "    if so, print\n",
    "    "
   ]
  },
  {
   "cell_type": "markdown",
   "metadata": {
    "slideshow": {
     "slide_type": "slide"
    }
   },
   "source": [
    "### Pseudocode\n",
    "\n",
    "    Open file\n",
    "\n",
    "    loop through file\n",
    "\n",
    "    test if country is united states\n",
    "\n",
    "    if so, print"
   ]
  },
  {
   "cell_type": "markdown",
   "metadata": {
    "slideshow": {
     "slide_type": "skip"
    }
   },
   "source": [
    "---"
   ]
  },
  {
   "cell_type": "markdown",
   "metadata": {
    "slideshow": {
     "slide_type": "slide"
    }
   },
   "source": [
    "## Our Program!"
   ]
  },
  {
   "cell_type": "markdown",
   "metadata": {
    "slideshow": {
     "slide_type": "slide"
    }
   },
   "source": [
    "__Step 1__\n",
    "\n",
    "Open file\n",
    "\n",
    "Lets search for \"open file python\"\n",
    "\n",
    "Review search results and cut and paste code if possible"
   ]
  },
  {
   "cell_type": "markdown",
   "metadata": {
    "slideshow": {
     "slide_type": "slide"
    }
   },
   "source": [
    "__Step 1__\n",
    "\n",
    "Open file\n",
    "\n",
    "Lets search for \"open csv file python\"\n",
    "\n",
    "Review search results and cut and paste code if possible"
   ]
  },
  {
   "cell_type": "markdown",
   "metadata": {
    "slideshow": {
     "slide_type": "slide"
    }
   },
   "source": [
    "__Step 2__\n",
    "\n",
    "loop through file\n",
    "\n",
    "Lets search for \"loop through csv file python\"\n",
    "\n",
    "Review search results and cut and paste code if possible"
   ]
  },
  {
   "cell_type": "markdown",
   "metadata": {
    "slideshow": {
     "slide_type": "slide"
    }
   },
   "source": [
    "__Step 3__\n",
    "\n",
    "test if country is united states\n",
    "\n",
    "Lets search for \"search text python\"\n",
    "\n",
    "Review search results and cut and paste code if possible\n",
    "\n",
    "\n",
    "\n",
    "\n"
   ]
  },
  {
   "cell_type": "code",
   "execution_count": 2,
   "metadata": {
    "slideshow": {
     "slide_type": "slide"
    }
   },
   "outputs": [
    {
     "name": "stdout",
     "output_type": "stream",
     "text": [
      "['United States', 'Americas', '1952', '68.44', '157553000', '13990.48208']\n",
      "['United States', 'Americas', '1957', '69.49', '171984000', '14847.12712']\n",
      "['United States', 'Americas', '1962', '70.21', '186538000', '16173.14586']\n",
      "['United States', 'Americas', '1967', '70.76', '198712000', '19530.36557']\n",
      "['United States', 'Americas', '1972', '71.34', '209896000', '21806.03594']\n",
      "['United States', 'Americas', '1977', '73.38', '220239000', '24072.63213']\n",
      "['United States', 'Americas', '1982', '74.65', '232187835', '25009.55914']\n",
      "['United States', 'Americas', '1987', '75.02', '242803533', '29884.35041']\n",
      "['United States', 'Americas', '1992', '76.09', '256894189', '32003.93224']\n",
      "['United States', 'Americas', '1997', '76.81', '272911760', '35767.43303']\n",
      "['United States', 'Americas', '2002', '77.31', '287675526', '39097.09955']\n",
      "['United States', 'Americas', '2007', '78.242', '301139947', '42951.65309']\n"
     ]
    }
   ],
   "source": [
    "import csv\n",
    "\n",
    "#Open file\n",
    "with open('gapminder.csv') as gap_file:\n",
    "    \n",
    "    gap_reader = csv.reader(gap_file)\n",
    "    \n",
    "    #loop through file\n",
    "    for row in gap_reader:\n",
    "    \n",
    "        #test if country is united states\n",
    "        if row[0] == \"United States\":\n",
    "            \n",
    "            #if so, print\n",
    "            print(row)"
   ]
  },
  {
   "cell_type": "markdown",
   "metadata": {},
   "source": [
    "---\n",
    "\n",
    "## Resources:\n",
    "- https://pybit.es/python-interpreters.html"
   ]
  }
 ],
 "metadata": {
  "celltoolbar": "Slideshow",
  "kernelspec": {
   "display_name": "Python 3",
   "language": "python",
   "name": "python3"
  },
  "language_info": {
   "codemirror_mode": {
    "name": "ipython",
    "version": 3
   },
   "file_extension": ".py",
   "mimetype": "text/x-python",
   "name": "python",
   "nbconvert_exporter": "python",
   "pygments_lexer": "ipython3",
   "version": "3.7.6"
  }
 },
 "nbformat": 4,
 "nbformat_minor": 4
}
