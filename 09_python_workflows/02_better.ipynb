{
 "cells": [
  {
   "cell_type": "markdown",
   "metadata": {},
   "source": [
    "# Better Python Workflow"
   ]
  },
  {
   "cell_type": "markdown",
   "metadata": {},
   "source": [
    "---"
   ]
  },
  {
   "cell_type": "code",
   "execution_count": 1,
   "metadata": {},
   "outputs": [],
   "source": [
    "data_file = 'data/gapminder_five_year_dirty.txt'"
   ]
  },
  {
   "cell_type": "markdown",
   "metadata": {},
   "source": [
    "# conda install pandas"
   ]
  },
  {
   "cell_type": "code",
   "execution_count": 2,
   "metadata": {},
   "outputs": [],
   "source": [
    "import pandas as pd\n",
    "%matplotlib inline"
   ]
  },
  {
   "cell_type": "code",
   "execution_count": 3,
   "metadata": {},
   "outputs": [],
   "source": [
    "import logging\n",
    "\n",
    "# create logger with 'spam_application'\n",
    "logger = logging.getLogger('better_workflow')\n",
    "logger.setLevel(logging.DEBUG)\n",
    "\n",
    "# create file handler which logs even debug messages\n",
    "fh = logging.FileHandler('better_workflow.log')\n",
    "fh.setLevel(logging.DEBUG)\n",
    "\n",
    "# create console handler with a higher log level\n",
    "ch = logging.StreamHandler()\n",
    "ch.setLevel(logging.ERROR)\n",
    "\n",
    "# create formatter and add it to the handlers\n",
    "formatter = logging.Formatter('%(asctime)s - %(name)s - %(levelname)s - %(message)s')\n",
    "fh.setFormatter(formatter)\n",
    "ch.setFormatter(formatter)\n",
    "\n",
    "# add the handlers to the logger\n",
    "logger.addHandler(fh)\n",
    "logger.addHandler(ch)"
   ]
  },
  {
   "cell_type": "code",
   "execution_count": 4,
   "metadata": {},
   "outputs": [],
   "source": [
    "logging.info(\"Reading Data into pandas\")\n",
    "df_original = pd.read_csv(data_file, sep='\\t')"
   ]
  },
  {
   "cell_type": "code",
   "execution_count": 5,
   "metadata": {},
   "outputs": [
    {
     "name": "stdout",
     "output_type": "stream",
     "text": [
      "<class 'pandas.core.frame.DataFrame'>\n",
      "RangeIndex: 1704 entries, 0 to 1703\n",
      "Data columns (total 5 columns):\n",
      "year         1704 non-null int64\n",
      "pop          1704 non-null float64\n",
      "lifeExp      1704 non-null float64\n",
      "gdpPercap    1704 non-null float64\n",
      "region       1704 non-null object\n",
      "dtypes: float64(3), int64(1), object(1)\n",
      "memory usage: 66.7+ KB\n"
     ]
    }
   ],
   "source": [
    "logging.debug(df_original.info())"
   ]
  },
  {
   "cell_type": "code",
   "execution_count": 6,
   "metadata": {},
   "outputs": [],
   "source": [
    "logging.debug(df_original.region.unique())"
   ]
  },
  {
   "cell_type": "code",
   "execution_count": 7,
   "metadata": {},
   "outputs": [
    {
     "data": {
      "text/plain": [
       "0       Asia_Afghanistan\n",
       "1       Asia_Afghanistan\n",
       "2       Asia_Afghanistan\n",
       "3       Asia_Afghanistan\n",
       "4       Asia_Afghanistan\n",
       "              ...       \n",
       "1699     Africa_Zimbabwe\n",
       "1700     Africa_Zimbabwe\n",
       "1701     Africa_Zimbabwe\n",
       "1702     Africa_Zimbabwe\n",
       "1703     Africa_Zimbabwe\n",
       "Name: region, Length: 1704, dtype: object"
      ]
     },
     "execution_count": 7,
     "metadata": {},
     "output_type": "execute_result"
    }
   ],
   "source": [
    "logging.debug('Replace: Africa_Congo, Dem. Rep., Africa_Democratic Republic of the Congo, Africa_Congo, Rep. with Africa_Congo, Democratic Republic')\n",
    "df_original.region.replace('Africa_Congo, Dem. Rep.', 'Africa_Congo, Democratic Republic')\n",
    "df_original.region.replace('Africa_Democratic Republic of the Congo', 'Africa_Congo, Democratic Republic')\n",
    "df_original.region.replace('Africa_Congo, Rep.', 'Africa_Congo, Democratic Republic')\n",
    "df_original.region.replace('Asia_china', 'Asia_China')\n",
    "df_original.region.replace('Americas_Colombia    ', 'Americas_Colombia')"
   ]
  },
  {
   "cell_type": "code",
   "execution_count": 8,
   "metadata": {
    "scrolled": true
   },
   "outputs": [
    {
     "data": {
      "text/plain": [
       "count    1704.00000\n",
       "mean     1979.50000\n",
       "std        17.26533\n",
       "min      1952.00000\n",
       "25%      1965.75000\n",
       "50%      1979.50000\n",
       "75%      1993.25000\n",
       "max      2007.00000\n",
       "Name: year, dtype: float64"
      ]
     },
     "execution_count": 8,
     "metadata": {},
     "output_type": "execute_result"
    }
   ],
   "source": [
    "df_original['year'].describe()"
   ]
  },
  {
   "cell_type": "code",
   "execution_count": 9,
   "metadata": {},
   "outputs": [
    {
     "data": {
      "text/plain": [
       "<matplotlib.axes._subplots.AxesSubplot at 0x114a15860>"
      ]
     },
     "execution_count": 9,
     "metadata": {},
     "output_type": "execute_result"
    },
    {
     "data": {
      "image/png": "[encoded data removed]",
      "text/plain": [
       "<Figure size 432x288 with 1 Axes>"
      ]
     },
     "metadata": {
      "needs_background": "light"
     },
     "output_type": "display_data"
    }
   ],
   "source": [
    "df_original.year.hist()"
   ]
  },
  {
   "cell_type": "code",
   "execution_count": null,
   "metadata": {},
   "outputs": [],
   "source": []
  }
 ],
 "metadata": {
  "kernelspec": {
   "display_name": "Python 3",
   "language": "python",
   "name": "python3"
  },
  "language_info": {
   "codemirror_mode": {
    "name": "ipython",
    "version": 3
   },
   "file_extension": ".py",
   "mimetype": "text/x-python",
   "name": "python",
   "nbconvert_exporter": "python",
   "pygments_lexer": "ipython3",
   "version": "3.6.7"
  }
 },
 "nbformat": 4,
 "nbformat_minor": 4
}
