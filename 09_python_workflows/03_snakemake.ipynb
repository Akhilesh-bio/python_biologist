{
 "cells": [
  {
   "cell_type": "markdown",
   "metadata": {},
   "source": [
    "# Python Workflows"
   ]
  },
  {
   "cell_type": "markdown",
   "metadata": {},
   "source": [
    "---"
   ]
  },
  {
   "cell_type": "markdown",
   "metadata": {},
   "source": [
    "#### Best\n",
    "\n",
    "- Python workflow package, validation, logging"
   ]
  },
  {
   "cell_type": "markdown",
   "metadata": {},
   "source": [
    "## `snakemake` Introduction"
   ]
  },
  {
   "cell_type": "markdown",
   "metadata": {},
   "source": [
    "Materials adapted from [Wolfgang Resch](https://hpc.nih.gov/training/handouts/170501_snakemake_class_materials.tgz), NIH"
   ]
  },
  {
   "cell_type": "markdown",
   "metadata": {},
   "source": [
    "---"
   ]
  },
  {
   "cell_type": "markdown",
   "metadata": {},
   "source": [
    "## snakemake\n",
    "\n",
    "Reference: https://academic.oup.com/bioinformatics/article/28/19/2520/290322/Snakemake-a-scalable-bioinformatics-workflow"
   ]
  },
  {
   "cell_type": "markdown",
   "metadata": {},
   "source": [
    "We Would Like a Tool That\n",
    "\n",
    "- can figure out how to run a whole workflow based on a set of rules for transforming one file type to another \n",
    "- is reproducible\n",
    "- reruns steps if necessary (input files change or processing steps change)\n",
    "- runs any necessary steps automatically as new data is added"
   ]
  },
  {
   "cell_type": "markdown",
   "metadata": {},
   "source": [
    "### Snakemake Is a Rule Based Dependency Tracker`"
   ]
  },
  {
   "cell_type": "markdown",
   "metadata": {},
   "source": [
    "#### Rules"
   ]
  },
  {
   "cell_type": "markdown",
   "metadata": {},
   "source": [
    "Rules describe how to transform one file type into another. Files are identified based on constant parts of their name (e.g. .fastq, _fastqc.zip, ...)"
   ]
  },
  {
   "cell_type": "markdown",
   "metadata": {},
   "source": [
    "#### Dependancy Tracker"
   ]
  },
  {
   "cell_type": "markdown",
   "metadata": {},
   "source": [
    "Snakemake automatically determines what files are needed to produce a certain file type based on the rules. This information is used to calculate a dependency tree for the whole workflow. Rules are only executed if their outputs either don't exist or are older than the input files."
   ]
  },
  {
   "cell_type": "markdown",
   "metadata": {},
   "source": [
    "There Are Many Such Tools\n",
    "- make, ninja, scons, waf, ruffus, jug,\n",
    "- Rake, bpipe, paver, Galaxy, ..."
   ]
  },
  {
   "cell_type": "markdown",
   "metadata": {},
   "source": [
    "#### So Why Use `snakemake`?"
   ]
  },
  {
   "cell_type": "markdown",
   "metadata": {},
   "source": [
    "- Snakefiles are python code - i.e. a real programming language is available\n",
    "- designed with bioinformatics in mind\n",
    "- easy to offload processes to cluster nodes\n",
    "- advanced pattern matching\n",
    "- multiple input and output files\n",
    "- many bonus features: configuration, wrappers,\n",
    "- target lists, graphs of workflow, reports, ...\n",
    "- keeps track of code changes in rules"
   ]
  },
  {
   "cell_type": "markdown",
   "metadata": {},
   "source": [
    "Chair of Bioinformatics Research Group, Boku University Vienna, Austria\n",
    "\"We have initially tested several systems, including, Bpipe [9], Moa [https://github.com/mfiers/Moa], Ruffus [28], and Snakemake [10]. We have since focused on exploring Snakemake due to, among other features, its make-like workflow definition, simple integration with Python, Bash code portability, ease of porting workflows to a cluster, intuitive parallelization, and ongoing active development. We are currently working on extending Snakemake with a lightweight modular system for development cycle control and policy-based specification of rules and requirements that supports an in-flow enforcement of consistency constraints. We have developed and validated a proof-of-concept prototype of the mechanism and automated the code generation of rules.\" [Source](https://biologydirect.biomedcentral.com/articles/10.1186/s13062-015-0071-8)"
   ]
  },
  {
   "cell_type": "markdown",
   "metadata": {},
   "source": [
    "It is almost impossible to cover all available workflow management systems, but I can give you a few points: \n",
    "* compared to GNU Make, Snakemake is more flexible, supporting e.g. multiple output files, Python scripting, conditional inputs, arbitrary resource constraints, cluster execution with DRMAA. \n",
    "* Snakefiles can look very clean and readable (almost self documenting). \n",
    "* Snakemake allows you to easily separate workflow logic from analysis logic (in the form of e.g. external scripts), without having to write boilerplate code. This further supports readability and also code re-use. \n",
    "* We are building a library of Snakemake wrappers around popular bioinformatics tools. \n",
    "* Soon, Snakemake will support the automatic installation of the software dependencies of your workflow e.g. via Bioconda. This allows to deploy and execute a workflow on a new machine in a single step.\n",
    "\n",
    "- [Johannes Köster](https://groups.google.com/forum/#!topic/snakemake/X_sGS6EiY-M)"
   ]
  },
  {
   "cell_type": "markdown",
   "metadata": {},
   "source": [
    "### Biowulf example..."
   ]
  },
  {
   "cell_type": "markdown",
   "metadata": {},
   "source": [
    "unsorted text file -> sorted text file"
   ]
  },
  {
   "cell_type": "markdown",
   "metadata": {},
   "source": [
    "    rule sort:\n",
    "     input: \"words.txt\"\n",
    "     output: \"words.sorted.txt\"\n",
    "     shell: \"sort {input} > {output}\""
   ]
  },
  {
   "cell_type": "markdown",
   "metadata": {},
   "source": [
    "- Rules start with the `rules` keyword"
   ]
  },
  {
   "cell_type": "markdown",
   "metadata": {},
   "source": [
    "- Snakemake rule files are python and therefore whitespace sensitive"
   ]
  },
  {
   "cell_type": "markdown",
   "metadata": {},
   "source": [
    "- Snakemake uses filenames to determine which rules to apply "
   ]
  },
  {
   "cell_type": "markdown",
   "metadata": {},
   "source": [
    "    rule sort:\n",
    "     input: \"words.txt\"\n",
    "     output: \"words.sorted.txt\"\n",
    "     shell: \"sort {input} > {output}\""
   ]
  },
  {
   "cell_type": "markdown",
   "metadata": {},
   "source": [
    "- Rules can use shell:, python (run:), and R (run: R())"
   ]
  },
  {
   "cell_type": "markdown",
   "metadata": {},
   "source": [
    "- Shell rules have to be quoted with single or triple quotes"
   ]
  },
  {
   "cell_type": "markdown",
   "metadata": {},
   "source": [
    "- Use {...} to access input, output, parameters, threads, log, wildcards, and global variables. use {{...}} to get literal braces."
   ]
  },
  {
   "cell_type": "markdown",
   "metadata": {},
   "source": [
    "#### Rules With Wildcards"
   ]
  },
  {
   "cell_type": "markdown",
   "metadata": {},
   "source": [
    "    rule sort:\n",
    "     input: \"{name}.txt\"\n",
    "     output: \"{name}.sorted.txt\"\n",
    "     shell: \"sort {input} > {output}"
   ]
  },
  {
   "cell_type": "markdown",
   "metadata": {},
   "source": [
    "### Live Demo"
   ]
  },
  {
   "cell_type": "code",
   "execution_count": null,
   "metadata": {},
   "outputs": [],
   "source": [
    "!cd ./170501_snakemake_class_materials/"
   ]
  },
  {
   "cell_type": "code",
   "execution_count": null,
   "metadata": {},
   "outputs": [],
   "source": [
    "!file * | tr -s ':' ';' > files1.txt"
   ]
  },
  {
   "cell_type": "code",
   "execution_count": null,
   "metadata": {},
   "outputs": [],
   "source": [
    "!ls -l | tr -s ' ' ';' > files2.txt"
   ]
  },
  {
   "cell_type": "code",
   "execution_count": null,
   "metadata": {},
   "outputs": [],
   "source": [
    "%%writefile Snakefile\n",
    "localrules: all, clean, merge\n",
    "\n",
    "rule all:\n",
    "    input: \"files1-files2.txt\"\n",
    "\n",
    "rule merge:\n",
    "    input: \"{name1}.sorted.txt\", \n",
    "           \"{name2}.sorted.txt\"\n",
    "    output: \"{name1}-{name2}.txt\"\n",
    "    shell: \"join -t ';' -2 9 -o 1.1,2.1,1.2 -- {input} > {output}\"\n",
    "\n",
    "rule sort:\n",
    "    input: \"{name}.txt\"\n",
    "    output: \"{name}.sorted.txt\"\n",
    "    log: \"sort-%j.log\"\n",
    "    shell: \"sort -k1,1 {input} > {output}\"\n",
    "\n",
    "rule clean:\n",
    "    shell: \"rm -f *.sorted.txt files1-files2.txt\""
   ]
  },
  {
   "cell_type": "code",
   "execution_count": null,
   "metadata": {},
   "outputs": [],
   "source": [
    "!cat Snakefile"
   ]
  },
  {
   "cell_type": "markdown",
   "metadata": {},
   "source": [
    "---"
   ]
  },
  {
   "cell_type": "markdown",
   "metadata": {},
   "source": [
    "## Installing `snakemake`"
   ]
  },
  {
   "cell_type": "code",
   "execution_count": null,
   "metadata": {},
   "outputs": [],
   "source": [
    "!conda install -y snakemake"
   ]
  },
  {
   "cell_type": "markdown",
   "metadata": {},
   "source": [
    "---"
   ]
  },
  {
   "cell_type": "code",
   "execution_count": null,
   "metadata": {},
   "outputs": [],
   "source": [
    "!snakemake -s Snakefile all\n",
    "\n",
    "# since snakemake defaults to executing the first target in the\n",
    "# rule file 'Snakefile' this is equivalent to\n",
    "# !snakemake"
   ]
  },
  {
   "cell_type": "markdown",
   "metadata": {},
   "source": [
    "#### Rerunnig snakemake if nothing changed is a no-op"
   ]
  },
  {
   "cell_type": "code",
   "execution_count": null,
   "metadata": {},
   "outputs": [],
   "source": [
    "!snakemake"
   ]
  },
  {
   "cell_type": "markdown",
   "metadata": {},
   "source": [
    "#### Clean up"
   ]
  },
  {
   "cell_type": "code",
   "execution_count": null,
   "metadata": {},
   "outputs": [],
   "source": [
    "!snakemake clean"
   ]
  },
  {
   "cell_type": "markdown",
   "metadata": {},
   "source": [
    "    -n, --dry-run: run without executing rules\n",
    "    -p: print shell commands"
   ]
  },
  {
   "cell_type": "code",
   "execution_count": null,
   "metadata": {},
   "outputs": [],
   "source": [
    "!snakemake clean\n",
    "!snakemake -np"
   ]
  },
  {
   "cell_type": "markdown",
   "metadata": {},
   "source": [
    "    --verbose: more information\n",
    "    --reason: show reason why rule is being executed"
   ]
  },
  {
   "cell_type": "markdown",
   "metadata": {},
   "source": [
    "    --list, -l: list all rules"
   ]
  },
  {
   "cell_type": "code",
   "execution_count": null,
   "metadata": {},
   "outputs": [],
   "source": [
    "!snakemake clean\n",
    "!snakemake -n --reason --verbose"
   ]
  },
  {
   "cell_type": "code",
   "execution_count": null,
   "metadata": {},
   "outputs": [],
   "source": [
    "!snakemake clean\n",
    "!snakemake --list"
   ]
  },
  {
   "cell_type": "markdown",
   "metadata": {},
   "source": [
    "Use -S, --summary to show tabular information about all files generated by the workflow."
   ]
  },
  {
   "cell_type": "code",
   "execution_count": null,
   "metadata": {},
   "outputs": [],
   "source": [
    "!snakemake --summary"
   ]
  },
  {
   "cell_type": "code",
   "execution_count": null,
   "metadata": {},
   "outputs": [],
   "source": [
    "!touch numbers1.txt\n",
    "!snakemake --summary"
   ]
  },
  {
   "cell_type": "code",
   "execution_count": null,
   "metadata": {},
   "outputs": [],
   "source": [
    "!snakemake -r"
   ]
  },
  {
   "cell_type": "markdown",
   "metadata": {},
   "source": [
    "#### What happens when the code executed by a rule changes? Edit a rule and run"
   ]
  },
  {
   "cell_type": "code",
   "execution_count": null,
   "metadata": {},
   "outputs": [],
   "source": [
    "!snakemake"
   ]
  },
  {
   "cell_type": "markdown",
   "metadata": {},
   "source": [
    "Targets are not automatically recreated but code changes are tracked:"
   ]
  },
  {
   "cell_type": "code",
   "execution_count": null,
   "metadata": {},
   "outputs": [],
   "source": [
    "!snakemake --lc # or --list-code-changes"
   ]
  },
  {
   "cell_type": "markdown",
   "metadata": {},
   "source": [
    "#### Force recreation of all affected targets with"
   ]
  },
  {
   "cell_type": "code",
   "execution_count": null,
   "metadata": {},
   "outputs": [],
   "source": [
    "!snakemake -R $(snakemake --lc)"
   ]
  },
  {
   "cell_type": "markdown",
   "metadata": {},
   "source": [
    "#### Rules can be given explicit versions"
   ]
  },
  {
   "cell_type": "code",
   "execution_count": null,
   "metadata": {},
   "outputs": [],
   "source": [
    "%%writefile Snakefile\n",
    "localrules: all, clean, merge\n",
    "\n",
    "rule all:\n",
    "    input: \"files1-files2.txt\"\n",
    "\n",
    "rule merge:\n",
    "    input: \"{name1}.sorted.txt\", \n",
    "           \"{name2}.sorted.txt\"\n",
    "    output: \"{name1}-{name2}.txt\"\n",
    "    version: \"1.0\"\n",
    "    shell: \"join -t ';' -2 9 -o 1.1,2.1,1.2 -- {input} > {output}\"\n",
    "\n",
    "rule sort:\n",
    "    input: \"{name}.txt\"\n",
    "    output: \"{name}.sorted.txt\"\n",
    "    log: \"sort-%j.out\"\n",
    "    shell: \"sort -k1,1 {input} > {output}\"\n",
    "\n",
    "rule clean:\n",
    "    shell: \"rm -f *.sorted.txt files1-files2.txt\""
   ]
  },
  {
   "cell_type": "code",
   "execution_count": null,
   "metadata": {},
   "outputs": [],
   "source": [
    "!snakemake --lv # or --list-version-changes\n",
    "!snakemake -R $(snakemake --lv)"
   ]
  },
  {
   "cell_type": "markdown",
   "metadata": {},
   "source": [
    "### Visualize the workflow"
   ]
  },
  {
   "cell_type": "code",
   "execution_count": null,
   "metadata": {},
   "outputs": [],
   "source": [
    "!conda install -y graphviz"
   ]
  },
  {
   "cell_type": "code",
   "execution_count": null,
   "metadata": {},
   "outputs": [],
   "source": [
    "!snakemake --dag | dot -Tsvg > dag.svg"
   ]
  },
  {
   "cell_type": "markdown",
   "metadata": {},
   "source": [
    "#### Param changes are tracked as well"
   ]
  },
  {
   "cell_type": "code",
   "execution_count": null,
   "metadata": {},
   "outputs": [],
   "source": [
    "!snakemake --lp # or --list-param-changes\n",
    "!snakemake -R $(snakemake --lp)"
   ]
  },
  {
   "cell_type": "markdown",
   "metadata": {},
   "source": [
    "#### Running in Parallel - Locally"
   ]
  },
  {
   "cell_type": "markdown",
   "metadata": {},
   "source": [
    "Snakemake workflows can be run in parallel on the local machine. -j specifies the number\n",
    "of cpus snakemake is allowed to use. Snakemake will use the information from the threads section to determine how many jobs can be run at the same time."
   ]
  },
  {
   "cell_type": "code",
   "execution_count": null,
   "metadata": {},
   "outputs": [],
   "source": []
  },
  {
   "cell_type": "markdown",
   "metadata": {},
   "source": [
    "## Resources:\n",
    "\n",
    "__`snakemake`__\n",
    "- http://snakemake.readthedocs.io/en/stable/tutorial/tutorial.html#tutorial\n",
    "- [2017 snakemake tutorial](http://slides.com/johanneskoester/snakemake-tutorial-2016#/)Jeremy Leipzig, _[A review of bioinformaics pipeline frameworks](https://doi.org/10.1093/bib/bbw020)_. Briefings in Bioinformatics. 2016 \n",
    "- Johannes Köster  Sven Rahmann, - [Snakemake—a scalable bioinformatics workflow engine](https://academic.oup.com/bioinformatics/article/28/19/2520/290322) Bioinformatics, Volume 28, Issue 19, 1 October 2012\n",
    "- [snakemake wrappers](https://snakemake-wrappers.readthedocs.io/en/stable/index.html)\n",
    "- [snakemake RNASeq example](https://github.com/seandavi/SnakemakeRNASeqExample)\n",
    "\n",
    "- [Awesome Pipeline](https://github.com/pditommaso/awesome-pipeline] GitHub page"
   ]
  },
  {
   "cell_type": "code",
   "execution_count": null,
   "metadata": {},
   "outputs": [],
   "source": []
  }
 ],
 "metadata": {
  "kernelspec": {
   "display_name": "Python 3",
   "language": "python",
   "name": "python3"
  },
  "language_info": {
   "codemirror_mode": {
    "name": "ipython",
    "version": 3
   },
   "file_extension": ".py",
   "mimetype": "text/x-python",
   "name": "python",
   "nbconvert_exporter": "python",
   "pygments_lexer": "ipython3",
   "version": "3.7.4"
  }
 },
 "nbformat": 4,
 "nbformat_minor": 4
}
