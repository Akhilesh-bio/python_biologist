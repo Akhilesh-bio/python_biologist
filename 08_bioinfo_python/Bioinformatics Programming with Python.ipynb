{
 "cells": [
  {
   "cell_type": "markdown",
   "metadata": {},
   "source": [
    "# Bioinformatics and Python"
   ]
  },
  {
   "cell_type": "markdown",
   "metadata": {},
   "source": [
    "Source: Burke Squires [GitHub](https://github.com/burkesquires)"
   ]
  },
  {
   "cell_type": "markdown",
   "metadata": {},
   "source": [
    "### Outline"
   ]
  },
  {
   "cell_type": "markdown",
   "metadata": {},
   "source": [
    "- Why program in python for bioinformatics?\n",
    "- Installing bioinformatics applications\n",
    "    - [bioconda](https://bioconda.github.io/) (See available (Mac OS, Linux) packages [here](https://bioconda.github.io/recipes.html))\n",
    "    - [EMBOSS](http://emboss.sourceforge.net/) European Molecular Biology Open Source Suite - small bioinformatics command line softwares))\n",
    "- Bioinfomtics related python packages\n",
    "    - [biopython](biopython.org/)\n",
    "- Workflow packages\n",
    "    - [snakemake](https://snakemake.readthedocs.io)"
   ]
  },
  {
   "cell_type": "markdown",
   "metadata": {},
   "source": [
    "---"
   ]
  },
  {
   "cell_type": "markdown",
   "metadata": {},
   "source": [
    "## Why Python?\n",
    "\n",
    "Python offer many advantages as a general programming language (please see the [Introduction to Programming](https://github.com/burkesquires/python_biologist/tree/master/03_intro_programming) and [Python Programming](https://github.com/burkesquires/python_biologist/tree/master/04_python_programming) seminars materials for a discussion of specific advantages of python)\n",
    "\n",
    "In our discussion of the 'python community' as a strength of python, we have the GitHub community. Recall that GitHub is a reprository of no-cost, open source software, trianing materials, etc. \n",
    "\n",
    "As a suragote we will look at:\n",
    "- [Bioinformatics Project on GitHub](https://github.com/search?utf8=%E2%9C%93&q=bioinformatics&type=)\n",
    "- [Bioinformatics packages in the Python Package Index (PyPI)](https://pypi.org/search/?q=bioinformatics)\n",
    "- [bioconda Project](https://bioconda.github.io)"
   ]
  },
  {
   "cell_type": "markdown",
   "metadata": {},
   "source": [
    "---"
   ]
  },
  {
   "cell_type": "markdown",
   "metadata": {},
   "source": [
    "## Installing bioinformatics software"
   ]
  },
  {
   "cell_type": "markdown",
   "metadata": {},
   "source": [
    "### bioconda"
   ]
  },
  {
   "cell_type": "markdown",
   "metadata": {},
   "source": [
    "- [bioconda](https://bioconda.github.io/) (See available (Mac OS, Linux) packages [here](https://bioconda.github.io/conda-recipe_index.html))\n",
    "\n",
    "- [Biocontainers](http://biocontainers.pro/) are created for each bioconda package."
   ]
  },
  {
   "cell_type": "markdown",
   "metadata": {},
   "source": [
    "### EMBOSS"
   ]
  },
  {
   "cell_type": "markdown",
   "metadata": {},
   "source": [
    "- [EMBOSS](http://emboss.sourceforge.net/) European Molecular Biology Open Source Suite - (small specialized bioinformatics command line softwares)"
   ]
  },
  {
   "cell_type": "markdown",
   "metadata": {},
   "source": [
    "---"
   ]
  },
  {
   "cell_type": "markdown",
   "metadata": {},
   "source": [
    "## `biopython` package"
   ]
  },
  {
   "cell_type": "markdown",
   "metadata": {},
   "source": [
    "[The `biopython` Project website](http://biopython.org/)\n",
    "\n",
    "[The `biopython` tutorial](http://biopython.org/DIST/docs/tutorial/Tutorial.html)\n",
    "\n",
    "Bioinformatics with Python Cookbook (First Edition) by Tiago Antao\n",
    "- [Book page](https://www.packtpub.com/application-development/bioinformatics-python-cookbook)\n",
    "- [GitHub page](https://github.com/tiagoantao/biopython-notebook)\n",
    "- [__Jupyter notebooks__](biopython-notebook/index.ipynb)\n",
    "\n",
    "Bioinformatics with Python Cookbook (Second Edition) by Tiago Antao\n",
    "- [Book page](https://www.packtpub.com/big-data-and-business-intelligence/bioinformatics-python-cookbook-second-edition)\n",
    "- [GitHub page](https://github.com/PacktPublishing/Bioinformatics-with-Python-Cookbook-Second-Edition)\n",
    "\n"
   ]
  },
  {
   "cell_type": "markdown",
   "metadata": {},
   "source": [
    "---"
   ]
  },
  {
   "cell_type": "markdown",
   "metadata": {},
   "source": [
    "## Workflows\n",
    "\n",
    "- [snakemake](https://snakemake.readthedocs.io)"
   ]
  },
  {
   "cell_type": "markdown",
   "metadata": {},
   "source": [
    "---"
   ]
  },
  {
   "cell_type": "markdown",
   "metadata": {},
   "source": [
    "### Resources:\n",
    "\n",
    "- [Awesome Bioinformatics](https://github.com/danielecook/Awesome-Bioinformatics) resource collection on GitHub (not strictly python related)\n",
    "- [A gallery of interesting Jupyter Notebooks](https://github.com/jupyter/jupyter/wiki/A-gallery-of-interesting-Jupyter-Notebooks)\n",
    "- JHU [Compitational Genomics Class](https://github.com/BenLangmead/comp-genomics-class) Jupyter notebooks\n",
    "- [PyBedTools](https://github.com/daler/pybedtools) - NIH scientist / developer Ryan Dale\n",
    "- [Stephen Turner's Bash one-liners](https://github.com/stephenturner/oneliners)\n"
   ]
  },
  {
   "cell_type": "code",
   "execution_count": null,
   "metadata": {},
   "outputs": [],
   "source": []
  }
 ],
 "metadata": {
  "kernelspec": {
   "display_name": "Python 3",
   "language": "python",
   "name": "python3"
  },
  "language_info": {
   "codemirror_mode": {
    "name": "ipython",
    "version": 3
   },
   "file_extension": ".py",
   "mimetype": "text/x-python",
   "name": "python",
   "nbconvert_exporter": "python",
   "pygments_lexer": "ipython3",
   "version": "3.7.3"
  }
 },
 "nbformat": 4,
 "nbformat_minor": 4
}
