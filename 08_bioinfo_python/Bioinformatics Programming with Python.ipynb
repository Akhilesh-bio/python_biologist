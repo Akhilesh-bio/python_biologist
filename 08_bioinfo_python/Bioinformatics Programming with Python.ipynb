{
 "cells": [
  {
   "cell_type": "markdown",
   "metadata": {},
   "source": [
    "# Bioinformatics and Python"
   ]
  },
  {
   "cell_type": "markdown",
   "metadata": {},
   "source": [
    "### Outline"
   ]
  },
  {
   "cell_type": "markdown",
   "metadata": {},
   "source": [
    "- Why program in python for bioinformatics?\n",
    "- Installing bioinformatics applications\n",
    "    - [bioconda](https://bioconda.github.io/) (See available (Mac OS, Linux) packages [here](https://bioconda.github.io/recipes.html))\n",
    "    - [EMBOSS](http://emboss.sourceforge.net/) European Molecular Biology Open Source Suite - small bioinformatics command line softwares))\n",
    "- Bioinfomtics realted python packages\n",
    "    - [biopython](biopython.org/)"
   ]
  },
  {
   "cell_type": "markdown",
   "metadata": {},
   "source": [
    "---"
   ]
  },
  {
   "cell_type": "markdown",
   "metadata": {},
   "source": [
    "## Why Python?\n",
    "\n",
    "Python offer many advantages as a general programming language (please see the Introduction to Programming and Python Programming seminars)\n",
    "\n",
    "In our discussion of community as a strength of python, we have the GitHub community. Recall that GitHub is a reprository of no-cost, open source software, trianing materials, etc. \n",
    "\n",
    "As a suragote we will look at:\n",
    "- [Bioinformatics Project on GitHub](https://github.com/search?utf8=%E2%9C%93&q=bioinformatics&type=)\n",
    "- [Bioinformatics package on `PyPI`](https://pypi.org/search/?q=bioinformatics)\n",
    "- [`bioconda`](https://bioconda.github.io/recipes.html)"
   ]
  },
  {
   "cell_type": "markdown",
   "metadata": {},
   "source": [
    "---"
   ]
  },
  {
   "cell_type": "markdown",
   "metadata": {},
   "source": [
    "## Installing bioinformatics software"
   ]
  },
  {
   "cell_type": "markdown",
   "metadata": {},
   "source": [
    "Installation options\n",
    "- bioconda\n",
    "- EMBOSS\n",
    "- Many other (more difficult) methods... "
   ]
  },
  {
   "cell_type": "markdown",
   "metadata": {},
   "source": [
    "### `bioconda`"
   ]
  },
  {
   "cell_type": "markdown",
   "metadata": {},
   "source": [
    "[bioconda](https://bioconda.github.io/) (See available (Mac OS, Linux) packages [here](https://bioconda.github.io/recipes.html))\n",
    "\n",
    "__Demo__: https://github.com/burkesquires/NIH_Hour_of_Code_2017\n",
    "\n",
    "- Download zip of archive and build a pipeline"
   ]
  },
  {
   "cell_type": "markdown",
   "metadata": {},
   "source": [
    "### `EMBOSS`"
   ]
  },
  {
   "cell_type": "markdown",
   "metadata": {},
   "source": [
    "[EMBOSS](http://emboss.sourceforge.net/) European Molecular Biology Open Source Suite - small bioinformatics command line softwares))"
   ]
  },
  {
   "cell_type": "markdown",
   "metadata": {},
   "source": [
    "### [__Small bioinformatics tools manifesto__](https://github.com/pjotrp/bioinformatics)"
   ]
  },
  {
   "cell_type": "markdown",
   "metadata": {},
   "source": [
    "---"
   ]
  },
  {
   "cell_type": "markdown",
   "metadata": {},
   "source": [
    "## `biopython` package"
   ]
  },
  {
   "cell_type": "markdown",
   "metadata": {},
   "source": [
    "[biopython](biopython.org/)\n",
    "\n",
    "[Tiago Antao's Biopython Notebooks](https://github.com/tiagoantao/biopython-notebook)\n",
    "\n",
    "- [Index](./biopython-notebooks/notebooks/00 - Tutorial - Index.ipynb)"
   ]
  },
  {
   "cell_type": "markdown",
   "metadata": {},
   "source": [
    "---"
   ]
  },
  {
   "cell_type": "markdown",
   "metadata": {},
   "source": [
    "## Bioinformatics visualization (with Jupyter notebooks)"
   ]
  },
  {
   "cell_type": "markdown",
   "metadata": {},
   "source": [
    "Promising project, but getting errors for notebook examples:\n",
    "\n",
    "https://pybioviz.readthedocs.io/en/latest/usage.html#code-examples\n",
    "\n",
    "Installation"
   ]
  },
  {
   "cell_type": "code",
   "execution_count": 10,
   "metadata": {},
   "outputs": [],
   "source": [
    "# pip install pybioviz"
   ]
  },
  {
   "cell_type": "code",
   "execution_count": 11,
   "metadata": {},
   "outputs": [],
   "source": [
    "# conda install nodejs"
   ]
  },
  {
   "cell_type": "code",
   "execution_count": 12,
   "metadata": {},
   "outputs": [],
   "source": [
    "# !jupyter labextension install @bokeh/jupyter_bokeh\n",
    "# !jupyter labextension install @pyviz/jupyterlab_pyviz"
   ]
  },
  {
   "cell_type": "markdown",
   "metadata": {
    "jupyter": {
     "source_hidden": true
    }
   },
   "source": [
    "### Example notebooks (beta):\n",
    "- [bam_view.ipynb](./pybioviz-master/notebooks/bam_view.ipynb)\n",
    "- [basics.ipynb](./pybioviz-master/notebooks/basics.ipynb)\n",
    "- [fastq_view.ipynb](./pybioviz-master/notebooks/fastq_view.ipynb)\n",
    "- [genome_view.ipynb](./pybioviz-master/notebooks/genome_view.ipynb)\n",
    "- [mummer_align_view.ipynb](./pybioviz-master/notebooks/mummer_align_view.ipynb)\n",
    "- [sequence_aligner.ipynb](./pybioviz-master/notebooks/sequence_aligner.ipynb)(not working)\n",
    "- [tests.ipynb](./pybioviz-master/notebooks/tests.ipynb)\n",
    "- [tree_view.ipynb](./pybioviz-master/notebooks/tree_view.ipynb)"
   ]
  },
  {
   "cell_type": "markdown",
   "metadata": {},
   "source": [
    "---"
   ]
  },
  {
   "cell_type": "markdown",
   "metadata": {},
   "source": [
    "### Resources:\n",
    "\n",
    "- [Awesome Bioinformatics](https://github.com/danielecook/Awesome-Bioinformatics) resource collection on GitHub (not strictly python related)\n",
    "- [A gallery of interesting Jupyter Notebooks](https://github.com/jupyter/jupyter/wiki/A-gallery-of-interesting-Jupyter-Notebooks)\n",
    "- [Biocontainers](http://biocontainers.pro/)\n",
    "- JHU [Compitational Genomics Class](https://github.com/BenLangmead/comp-genomics-class) Jupyter notebooks\n",
    "- [PyBedTools](https://github.com/daler/pybedtools) - NIH scientist / developer Ryan Dale\n",
    "- [Stephen Turner's Bash one-liners](https://github.com/stephenturner/oneliners)\n"
   ]
  },
  {
   "cell_type": "code",
   "execution_count": null,
   "metadata": {},
   "outputs": [],
   "source": []
  }
 ],
 "metadata": {
  "kernelspec": {
   "display_name": "Python 3",
   "language": "python",
   "name": "python3"
  },
  "language_info": {
   "codemirror_mode": {
    "name": "ipython",
    "version": 3
   },
   "file_extension": ".py",
   "mimetype": "text/x-python",
   "name": "python",
   "nbconvert_exporter": "python",
   "pygments_lexer": "ipython3",
   "version": "3.7.4"
  }
 },
 "nbformat": 4,
 "nbformat_minor": 4
}
