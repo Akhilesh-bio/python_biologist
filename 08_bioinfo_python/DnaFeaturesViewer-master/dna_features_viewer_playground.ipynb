{
 "cells": [
  {
   "cell_type": "markdown",
   "metadata": {},
   "source": [
    "# DNA Feature Viewer"
   ]
  },
  {
   "cell_type": "markdown",
   "metadata": {},
   "source": [
    "Using the `dna_features_viewer` library here: https://github.com/Edinburgh-Genome-Foundry/DnaFeaturesViewer"
   ]
  },
  {
   "cell_type": "code",
   "execution_count": null,
   "metadata": {},
   "outputs": [],
   "source": [
    "pip install dna_features_viewer"
   ]
  },
  {
   "cell_type": "markdown",
   "metadata": {},
   "source": [
    "---"
   ]
  },
  {
   "cell_type": "code",
   "execution_count": null,
   "metadata": {},
   "outputs": [],
   "source": [
    "from dna_features_viewer import GraphicFeature, GraphicRecord\n",
    "features=[\n",
    "    GraphicFeature(start=0, end=20, strand=+1, color=\"#ffd700\",\n",
    "                   label=\"Small feature\"),\n",
    "    GraphicFeature(start=20, end=500, strand=+1, color=\"#ffcccc\",\n",
    "                   label=\"Gene 1 with a very long name\"),\n",
    "    GraphicFeature(start=400, end=700, strand=-1, color=\"#cffccc\",\n",
    "                   label=\"Gene 2\"),\n",
    "    GraphicFeature(start=600, end=900, strand=+1, color=\"#ccccff\",\n",
    "                   label=\"Gene 3\")\n",
    "]\n",
    "record = GraphicRecord(sequence_length=1000, features=features)\n",
    "record.plot(figure_width=5);"
   ]
  },
  {
   "cell_type": "code",
   "execution_count": null,
   "metadata": {},
   "outputs": [],
   "source": [
    "from dna_features_viewer import GraphicFeature, GraphicRecord\n",
    "\n",
    "sequence = \"ATGCATGCATGCATGCATGCATGCATGC\"\n",
    "record = GraphicRecord(sequence=sequence, features=[\n",
    "    GraphicFeature(start=5, end=10, strand=+1, color='#ffcccc'),\n",
    "    GraphicFeature(start=8, end=15, strand=+1, color='#ccccff')\n",
    "])\n",
    "\n",
    "ax, _ = record.plot(figure_width=5)\n",
    "record.plot_sequence(ax)\n",
    "record.plot_translation(ax, (8, 23), fontdict={'weight': 'bold'})\n",
    "ax.figure.savefig('sequence_and_translation.png', bbox_inches='tight')\n"
   ]
  },
  {
   "cell_type": "code",
   "execution_count": null,
   "metadata": {},
   "outputs": [],
   "source": [
    "\"\"\"Generate a 2-plot figure with full sequence on the left,\n",
    "detail of a sub-segment on the right.\"\"\"\n",
    "\n",
    "from dna_features_viewer import GraphicFeature, GraphicRecord\n",
    "import matplotlib.pyplot as plt\n",
    "\n",
    "record = GraphicRecord(sequence=250 * \"ATGC\", features=[\n",
    "    GraphicFeature(start=10, end=20, strand=+1, color=\"#ffd700\",\n",
    "                   label=\"Small feature\"),\n",
    "    GraphicFeature(start=20, end=500, strand=+1, color=\"#ffcccc\",\n",
    "                   label=\"Gene 1 with a very long name\"),\n",
    "    GraphicFeature(start=400, end=700, strand=-1, color=\"#cffccc\",\n",
    "                   label=\"Gene 2\"),\n",
    "    GraphicFeature(start=600, end=900, strand=+1, color=\"#ccccff\",\n",
    "                   label=\"Gene 3\")\n",
    "])\n",
    "zoom_start, zoom_end = 398, 428  # coordinates of the \"detail\"\n",
    "cropped_record = record.crop((zoom_start, zoom_end))\n",
    "\n",
    "fig, (ax1, ax2) = plt.subplots(1, 2, figsize=(14, 2))\n",
    "\n",
    "# PLOT THE WHOLE SEQUENCE\n",
    "\n",
    "ax1.set_title(\"Whole sequence\", loc='left', weight='bold')\n",
    "record.plot(ax=ax1)\n",
    "ax1.fill_between((zoom_start, zoom_end), +1000, -1000, alpha=0.15)\n",
    "\n",
    "# PLOT THE SEQUENCE DETAILS\n",
    "\n",
    "\n",
    "cropped_record.plot_translation(ax=ax2, location=(408, 423),\n",
    "                                fontdict={'weight': 'bold'})\n",
    "cropped_record.plot(ax=ax2, plot_sequence=True)\n",
    "ax2.set_title(\"Sequence detail\", loc='left', weight='bold')\n",
    "\n",
    "fig.savefig('overview_and_detail.png', bbox_inches='tight')"
   ]
  },
  {
   "cell_type": "code",
   "execution_count": null,
   "metadata": {},
   "outputs": [],
   "source": [
    "from dna_features_viewer import BiopythonTranslator\n",
    "graphic_record = BiopythonTranslator().translate_record(\"examples/example_sequence.gb\")\n",
    "ax, _ = graphic_record.plot(figure_width=10, strand_in_label_threshold=7)"
   ]
  },
  {
   "cell_type": "code",
   "execution_count": null,
   "metadata": {},
   "outputs": [],
   "source": [
    "import matplotlib.pyplot as plt\n",
    "from dna_features_viewer import BiopythonTranslator\n",
    "from Bio import SeqIO\n",
    "import numpy as np\n",
    "\n",
    "fig, (ax1, ax2) = plt.subplots(\n",
    "    2, 1, figsize=(12, 3), sharex=True, gridspec_kw={\"height_ratios\": [4, 1]}\n",
    ")\n",
    "\n",
    "# PLOT THE RECORD MAP\n",
    "record = SeqIO.read(\"examples/example_sequence.gb\", \"genbank\")\n",
    "graphic_record = BiopythonTranslator().translate_record(record)\n",
    "graphic_record.plot(ax=ax1, with_ruler=False, strand_in_label_threshold=4)\n",
    "\n",
    "# PLOT THE LOCAL GC CONTENT (we use 50bp windows)\n",
    "gc = lambda s: 100.0 * len([c for c in s if c in \"GC\"]) / 50\n",
    "xx = np.arange(len(record.seq) - 50)\n",
    "yy = [gc(record.seq[x : x + 50]) for x in xx]\n",
    "ax2.fill_between(xx + 25, yy, alpha=0.3)\n",
    "ax2.set_ylim(bottom=0)\n",
    "ax2.set_ylabel(\"GC(%)\");"
   ]
  },
  {
   "cell_type": "code",
   "execution_count": null,
   "metadata": {},
   "outputs": [],
   "source": [
    "from dna_features_viewer import GraphicFeature, GraphicRecord\n",
    "\n",
    "record = GraphicRecord(sequence=\"ATGCATGCATGCATGCATGCATGCATGC\", features=[\n",
    "    GraphicFeature(start=5, end=10, strand=+1, color='#ffcccc'),\n",
    "    GraphicFeature(start=8, end=15, strand=+1, color='#ccccff')\n",
    "])\n",
    "\n",
    "ax, _ = record.plot(figure_width=6)\n",
    "record.plot_sequence(ax, guides_intensity=0.2)\n",
    "fontdict = {'weight': 'bold'}\n",
    "record.plot_translation(ax, (8, 23), fontdict=fontdict, guides_intensity=0.8)\n",
    "ax.figure.savefig('sequence_and_translation.png', bbox_inches='tight')"
   ]
  },
  {
   "cell_type": "code",
   "execution_count": null,
   "metadata": {},
   "outputs": [],
   "source": [
    "pip install moviepy"
   ]
  },
  {
   "cell_type": "code",
   "execution_count": null,
   "metadata": {},
   "outputs": [],
   "source": [
    "\"\"\"An example with GIF generation at the end. How cool is that!\n",
    "\n",
    "This example requires the Moviepy library  installed (pip install moviepy).\n",
    "\n",
    "\"\"\"\n",
    "from Bio import Entrez, SeqIO\n",
    "import moviepy.editor as mpe\n",
    "from moviepy.video.io.bindings import mplfig_to_npimage\n",
    "import matplotlib.pyplot as plt\n",
    "from dna_features_viewer import BiopythonTranslator, CircularGraphicRecord\n",
    "\n",
    "# DOWNLOAD THE PLASMID's RECORD FROM NCBI\n",
    "\n",
    "handle = Entrez.efetch(\n",
    "    db=\"nucleotide\", id=1473096477, rettype=\"gb\", retmode=\"text\"\n",
    ")\n",
    "record = SeqIO.read(handle, \"genbank\")\n",
    "\n",
    "# CREATE THE GRAPHIC RECORD WITH DNA_FEATURES_VIEWER\n",
    "\n",
    "color_map = {\n",
    "    \"rep_origin\": \"yellow\",\n",
    "    \"CDS\": \"orange\",\n",
    "    \"regulatory\": \"red\",\n",
    "    \"misc_recomb\": \"darkblue\",\n",
    "    \"misc_feature\": \"lightblue\",\n",
    "}\n",
    "translator = BiopythonTranslator(\n",
    "    features_filters=(lambda f: f.type not in [\"gene\", \"source\"],),\n",
    "    features_properties=lambda f: {\"color\": color_map.get(f.type, \"white\")},\n",
    ")\n",
    "translator.max_line_length = 15\n",
    "graphic_record = translator.translate_record(\n",
    "    record, record_class=CircularGraphicRecord\n",
    ")\n",
    "graphic_record.labels_spacing = 15\n",
    "\n",
    "# ANIMATE INTO A GIF WITH MOVIEPY\n",
    "\n",
    "duration = 5\n",
    "\n",
    "\n",
    "def make_frame(t):\n",
    "    top_nucleotide_index = t * graphic_record.sequence_length / duration\n",
    "    graphic_record.top_position = top_nucleotide_index\n",
    "    ax, _ = graphic_record.plot(figure_width=8, figure_height=11)\n",
    "    ax.set_ylim(top=2)\n",
    "    np_image = mplfig_to_npimage(ax.figure)\n",
    "    plt.close(ax.figure)\n",
    "    return np_image\n",
    "\n",
    "\n",
    "clip = mpe.VideoClip(make_frame, duration=duration)\n",
    "small_clip = clip.crop(x1=60, x2=-60, y1=100, y2=-100).resize(0.5)\n",
    "small_clip.write_gif(\"example_with_gif.gif\", fps=15)"
   ]
  },
  {
   "cell_type": "code",
   "execution_count": null,
   "metadata": {},
   "outputs": [],
   "source": [
    "\"\"\"Simple example where a few features are defined \"by hand\" and are displayed\n",
    "and exported as PNG, first with a linear view, then with a circular\n",
    "view.\n",
    "\"\"\"\n",
    "\n",
    "from dna_features_viewer import (\n",
    "    GraphicFeature,\n",
    "    GraphicRecord,\n",
    "    CircularGraphicRecord,\n",
    ")\n",
    "\n",
    "features = [\n",
    "    GraphicFeature(\n",
    "        start=5, end=20, strand=+1, color=\"#ffd700\", label=\"Small feature\"\n",
    "    ),\n",
    "    GraphicFeature(\n",
    "        start=20,\n",
    "        end=500,\n",
    "        strand=+1,\n",
    "        color=\"#ffcccc\",\n",
    "        label=\"Gene 1 with a very long name\",\n",
    "    ),\n",
    "    GraphicFeature(\n",
    "        start=400, end=700, strand=-1, color=\"#cffccc\", label=\"Gene 2\"\n",
    "    ),\n",
    "    GraphicFeature(\n",
    "        start=600, end=900, strand=+1, color=\"#ccccff\", label=\"Gene 3\"\n",
    "    ),\n",
    "]\n",
    "\n",
    "\n",
    "# PLOT AND EXPORT A LINEAR VIEW OF THE CONSTRUCT\n",
    "record = GraphicRecord(sequence_length=1000, features=features)\n",
    "ax, _ = record.plot(figure_width=5)\n",
    "ax.figure.savefig(\"graphic_record_defined_by_hand.png\")\n",
    "\n",
    "\n",
    "# PLOT AND EXPORT A CIRCULAR VIEW OF THE CONSTRUCT\n",
    "circular_rec = CircularGraphicRecord(sequence_length=1000, features=features)\n",
    "ax2, _ = circular_rec.plot(figure_width=4)\n",
    "ax2.figure.tight_layout()\n",
    "ax2.figure.savefig(\n",
    "    \"graphic_record_defined_by_hand_circular.png\", bbox_inches=\"tight\"\n",
    ")"
   ]
  },
  {
   "cell_type": "code",
   "execution_count": null,
   "metadata": {},
   "outputs": [],
   "source": []
  }
 ],
 "metadata": {
  "kernelspec": {
   "display_name": "Python 3",
   "language": "python",
   "name": "python3"
  },
  "language_info": {
   "codemirror_mode": {
    "name": "ipython",
    "version": 3
   },
   "file_extension": ".py",
   "mimetype": "text/x-python",
   "name": "python",
   "nbconvert_exporter": "python",
   "pygments_lexer": "ipython3",
   "version": "3.7.6"
  }
 },
 "nbformat": 4,
 "nbformat_minor": 4
}
