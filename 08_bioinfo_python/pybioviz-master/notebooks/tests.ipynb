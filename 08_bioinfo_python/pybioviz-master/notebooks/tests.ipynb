{
 "cells": [
  {
   "cell_type": "markdown",
   "metadata": {},
   "source": [
    "## pybioviz test dashboards"
   ]
  },
  {
   "cell_type": "code",
   "execution_count": null,
   "metadata": {},
   "outputs": [],
   "source": [
    "import os, sys, io, random\n",
    "import string\n",
    "import numpy as np\n",
    "import pandas as pd\n",
    "from importlib import reload\n",
    "\n",
    "from Bio.Seq import Seq\n",
    "from Bio.SeqRecord import SeqRecord\n",
    "from Bio.Align import MultipleSeqAlignment\n",
    "from Bio import AlignIO, SeqIO\n",
    "\n",
    "from IPython.display import HTML\n",
    "\n",
    "from bokeh.plotting import figure\n",
    "from bokeh.models import ColumnDataSource, Plot, LinearAxis, Grid, CustomJS, Slider, HoverTool, NumeralTickFormatter, Arrow, NormalHead\n",
    "from bokeh.models import LinearAxis, Range1d, DataRange1d\n",
    "from bokeh.models.glyphs import Text, Rect\n",
    "from bokeh.layouts import gridplot, column\n",
    "import panel as pn\n",
    "import panel.widgets as pnw\n",
    "pn.extension()\n",
    "\n",
    "from pybioviz import dashboards, utils, plotters"
   ]
  },
  {
   "cell_type": "markdown",
   "metadata": {},
   "source": [
    "## random colors plot"
   ]
  },
  {
   "cell_type": "code",
   "execution_count": null,
   "metadata": {},
   "outputs": [],
   "source": [
    "def test_app():\n",
    "    \"\"\"Test dashboard\"\"\"\n",
    "    \n",
    "    def refresh(event):\n",
    "        plot1.object = plotters.test_plot(cols=col_sl.value,rows=row_sl.value)\n",
    "        plot2.object = plotters.dummy_plot(rows=row_sl.value)\n",
    "        return\n",
    "    \n",
    "    title = pn.pane.Markdown('## pybioviz test plots')\n",
    "    plot1 = pn.pane.Bokeh()    \n",
    "    plot2 = pn.pane.Bokeh()\n",
    "    col_sl = pnw.IntSlider(name='cols',value=30,start=5,end=200,step=1)\n",
    "    col_sl.param.watch(refresh, 'value')\n",
    "    row_sl = pnw.IntSlider(name='rows',value=10,start=5,end=100,step=1)\n",
    "    row_sl.param.watch(refresh, 'value')\n",
    "    col_sl.param.trigger('value')    \n",
    "    app = pn.Column(title,col_sl,row_sl,plot1,plot2)\n",
    "    return app\n",
    "\n",
    "app = test_app()\n",
    "app"
   ]
  },
  {
   "cell_type": "markdown",
   "metadata": {},
   "source": [
    "## seq aligner test"
   ]
  },
  {
   "cell_type": "code",
   "execution_count": null,
   "metadata": {},
   "outputs": [],
   "source": [
    "m = pn.pane.Markdown(\"\"\"##pybioviz test\"\"\")\n",
    "\n",
    "aln_file = os.path.join(utils.datadir, 'test.aln')\n",
    "aln = aln = AlignIO.read(aln_file,'fasta')\n",
    "seqview = plotters.plot_sequence_alignment(aln)\n",
    "main = pn.Column(m,seqview)"
   ]
  },
  {
   "cell_type": "code",
   "execution_count": null,
   "metadata": {},
   "outputs": [],
   "source": [
    "app = dashboards.view_features()\n",
    "app.servable()"
   ]
  },
  {
   "cell_type": "markdown",
   "metadata": {},
   "source": [
    "## add to template"
   ]
  },
  {
   "cell_type": "code",
   "execution_count": null,
   "metadata": {},
   "outputs": [],
   "source": [
    "template = utils.get_template()\n",
    "tmpl = pn.Template(template)\n",
    "tmpl.add_panel('A',test1)\n",
    "tmpl.add_panel('B',main)\n",
    "tmpl.servable()"
   ]
  },
  {
   "cell_type": "markdown",
   "metadata": {},
   "source": [
    "## widget/plot jslink"
   ]
  },
  {
   "cell_type": "code",
   "execution_count": null,
   "metadata": {},
   "outputs": [],
   "source": [
    "import bokeh.models.widgets as bhw\n",
    "from bokeh.models.callbacks import CustomJS\n",
    "\n",
    "loc = pnw.TextInput(name='location',value='',width=180)\n",
    "#s = bhw.Slider(name='loc',start=0,end=100,value=2)\n",
    "s=pnw.IntSlider(name='value',start=0,end=100,value=20)\n",
    "\n",
    "p = plotters.dummy_plot(plot_width=800)\n",
    "pp = pn.panel(p)\n",
    "\n",
    "def callback(target, event):\n",
    "    print (event)\n",
    "    #target.object = target.x_range.start\n",
    "    \n",
    "pp.link(s, callbacks={'object': callback}) \n",
    "pp.jslink(s, **{'x_range.start': 'value'})\n",
    "\n",
    "jsupdateplot = '''\n",
    "    r = target.x_range.end - target.x_range.start\n",
    "    target.x_range.start = source.value\n",
    "    target.x_range.end = source.value+r\n",
    "'''\n",
    "s.jslink(p, code={'value': jsupdateplot}) #value='x_range.start')\n",
    "\n",
    "jsupdateloc = '''   \n",
    "    if (source.start>0){\n",
    "       target.value = Math.round(source.start)+':'+Math.round(source.end)\n",
    "    }\n",
    "'''\n",
    "#pp.jslink(loc, code={'x_range.start': jsupdateloc})\n",
    "\n",
    "#p.js_on_event('tap', callback)\n",
    "#p.x_range.js_on_change('start', callback)\n",
    "\n",
    "pn.Column(loc,s, pp)"
   ]
  },
  {
   "cell_type": "code",
   "execution_count": null,
   "metadata": {},
   "outputs": [],
   "source": [
    "markdown = pn.pane.Markdown(\"<b>Markdown display</b>\", width=400)\n",
    "text_input = pn.widgets.TextInput(value=\"Markdown display\")\n",
    "\n",
    "code = '''\n",
    "    target.text = '<b>' + source.value + '</b>'\n",
    "'''\n",
    "link = text_input.jslink(markdown, code={'value': code})\n",
    "\n",
    "pn.Row(text_input, markdown)"
   ]
  },
  {
   "cell_type": "code",
   "execution_count": null,
   "metadata": {},
   "outputs": [],
   "source": [
    "p = figure(x_range=(0, 100), y_range=(0, 10),plot_height=200,tools=\"xpan,xwheel_zoom\")\n",
    "p.rect(50,5,10,4,color='red')\n",
    "p.rect(80,5,10,4,color='blue')"
   ]
  },
  {
   "cell_type": "markdown",
   "metadata": {},
   "source": [
    "## vcf plot"
   ]
  },
  {
   "cell_type": "code",
   "execution_count": null,
   "metadata": {},
   "outputs": [],
   "source": [
    "import vcf\n",
    "vcf_reader = vcf.Reader(open('wt_mbovis.vcf', 'r'))\n",
    "for record in vcf_reader:\n",
    "    print (record)"
   ]
  },
  {
   "cell_type": "code",
   "execution_count": null,
   "metadata": {},
   "outputs": [],
   "source": [
    "df = utils.vcf_to_dataframe('wt_mbovis.vcf')\n",
    "df"
   ]
  },
  {
   "cell_type": "code",
   "execution_count": null,
   "metadata": {},
   "outputs": [],
   "source": [
    "reload(plotters)\n",
    "reload(utils)\n",
    "p = plotters.plot_vcf('wt_mbovis.vcf',start=2772150,end=2774150)\n",
    "pn.pane.Bokeh(p)"
   ]
  },
  {
   "cell_type": "code",
   "execution_count": null,
   "metadata": {},
   "outputs": [],
   "source": [
    "from bokeh.io import curdoc\n",
    "from bokeh.themes import Theme\n",
    "curdoc().theme = Theme(json={'attrs': {\n",
    "# apply defaults to Figure properties\n",
    "'Figure': {\n",
    "    'toolbar_location': None,\n",
    "    'outline_line_color': None,\n",
    "    'min_border_right': 10,\n",
    "    'sizing_mode': 'stretch_width'\n",
    "},\n",
    "'Grid': {\n",
    "    'grid_line_color': None,\n",
    "},\n",
    "'Title': {\n",
    "    'text_font_size': '14pt'\n",
    "},\n",
    "# apply defaults to Axis properties\n",
    "'Axis': {\n",
    "    'minor_tick_out': None,\n",
    "    'minor_tick_in': None,\n",
    "    'major_label_text_font_size': '11pt',\n",
    "    'axis_label_text_font_size': '13pt',\n",
    "}\n",
    "\n",
    "}})"
   ]
  },
  {
   "cell_type": "code",
   "execution_count": null,
   "metadata": {},
   "outputs": [],
   "source": [
    "from bokeh.plotting import figure, output_file, show\n",
    "from bokeh.themes import built_in_themes\n",
    "\n",
    "p=plotters.dummy_plot()\n",
    "show(p)"
   ]
  },
  {
   "cell_type": "code",
   "execution_count": null,
   "metadata": {},
   "outputs": [],
   "source": []
  }
 ],
 "metadata": {
  "kernelspec": {
   "display_name": "Python 3",
   "language": "python",
   "name": "python3"
  },
  "language_info": {
   "codemirror_mode": {
    "name": "ipython",
    "version": 3
   },
   "file_extension": ".py",
   "mimetype": "text/x-python",
   "name": "python",
   "nbconvert_exporter": "python",
   "pygments_lexer": "ipython3",
   "version": "3.7.4"
  }
 },
 "nbformat": 4,
 "nbformat_minor": 4
}
