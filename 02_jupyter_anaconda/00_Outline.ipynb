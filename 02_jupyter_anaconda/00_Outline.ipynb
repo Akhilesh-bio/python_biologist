{
 "cells": [
  {
   "cell_type": "markdown",
   "metadata": {},
   "source": [
    "# Outline"
   ]
  },
  {
   "cell_type": "markdown",
   "metadata": {},
   "source": [
    "---\n",
    "\n",
    "- [Installation and Maintenance](01_installation_maintenance.ipynb)\n",
    "[Anaconda Overview](01_anaconda_overview.ipynb)\n",
    "- [Introduction to Jupyter](02_intro_jupyter_notebooks.ipynb)\n",
    "- [Working with Markdown](03_Working With Markdown Cells.ipynb)\n",
    "- [Cell Magics](04_Cell Magics.ipynb)"
   ]
  },
  {
   "cell_type": "code",
   "execution_count": 1,
   "metadata": {},
   "outputs": [
    {
     "name": "stdout",
     "output_type": "stream",
     "text": [
      "00_About_BCBB.ipynb                  03_Working With Markdown Cells.ipynb\r\n",
      "00_Outline.ipynb                     04_Cell Magics.ipynb\r\n",
      "01_installation_maintenance.ipynb    \u001b[34mimages\u001b[m\u001b[m\r\n",
      "02_intro_jupyter_notebooks.ipynb\r\n"
     ]
    }
   ],
   "source": [
    "!ls"
   ]
  },
  {
   "cell_type": "code",
   "execution_count": null,
   "metadata": {
    "collapsed": true
   },
   "outputs": [],
   "source": []
  }
 ],
 "metadata": {
  "kernelspec": {
   "display_name": "Python 3",
   "language": "python",
   "name": "python3"
  },
  "language_info": {
   "codemirror_mode": {
    "name": "ipython",
    "version": 3
   },
   "file_extension": ".py",
   "mimetype": "text/x-python",
   "name": "python",
   "nbconvert_exporter": "python",
   "pygments_lexer": "ipython3",
   "version": "3.6.2"
  }
 },
 "nbformat": 4,
 "nbformat_minor": 2
}
