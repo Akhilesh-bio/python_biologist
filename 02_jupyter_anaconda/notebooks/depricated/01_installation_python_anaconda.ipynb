{
 "cells": [
  {
   "cell_type": "markdown",
   "metadata": {},
   "source": [
    "# Installing Python  (using Anaconda)"
   ]
  },
  {
   "cell_type": "markdown",
   "metadata": {},
   "source": [
    "---"
   ]
  },
  {
   "cell_type": "markdown",
   "metadata": {},
   "source": [
    "To be able to program in python, we will need the python programming language installed on our computers as well as a number of \"packages\" or python code writen and \"packaged\" by others for our use. We will be using many packages,some of which you may not even be aware of. A great example of this is the _numpy_ package that helps us work with numbers. "
   ]
  },
  {
   "cell_type": "markdown",
   "metadata": {},
   "source": [
    "---"
   ]
  },
  {
   "cell_type": "markdown",
   "metadata": {},
   "source": [
    "## Historically\n",
    "\n",
    "- Install python programming language (from python.org)\n",
    "- Try to install package 1 you want (from PyPI.org - python package index)\n",
    "    - First install the pre-requesites for package 1 - package 2\n",
    "        - First install the pre-requesites for package 2 - package 3\n",
    "            - First install the pre-requesites for package 3 - package 4\n",
    "        - Next install the pre-requesites for package 2 - package 5\n",
    "            - First install the pre-requesites for package 2 - package 6\n",
    "    - try again to install package 1\n",
    "- repeat for other packages you want (perhaps from github, etc)"
   ]
  },
  {
   "cell_type": "markdown",
   "metadata": {},
   "source": [
    "## Python Distribution"
   ]
  },
  {
   "cell_type": "markdown",
   "metadata": {},
   "source": [
    "Advantages of Distributions:\n",
    "\n",
    "- Python programming language\n",
    "- Python packages / libraries installation\n",
    "    - Installation of prerequesites\n",
    "- Package management\n",
    "- Desktop GUI\n",
    "- Environment management\n",
    "- Ease of Installation\n",
    "- Portability\n"
   ]
  },
  {
   "cell_type": "markdown",
   "metadata": {},
   "source": [
    "## [Anaconda Distribution](https://www.anaconda.com/download/)"
   ]
  },
  {
   "cell_type": "markdown",
   "metadata": {},
   "source": [
    "The Anaconda distribution is a single installer for the python programming language and many of the python packages that we will use in this seminar series."
   ]
  },
  {
   "cell_type": "markdown",
   "metadata": {},
   "source": [
    "Advantages of Distributions:\n",
    "\n",
    "- Python programming language - __python 3.6__\n",
    "- Python packages / libraries - __pandas, numpy, matplotlib, etc__\n",
    "- Package management - __conda__\n",
    "- Desktop GUI - __Anaconda Navigator__\n",
    "- Environment management\n",
    "- Portability\n",
    "- Ease of Installation\n",
    "\n",
    "Package management _conda_:\n",
    "\n",
    "- Had _biopython_ in default distribution when other distributions did not\n",
    "- HAS __bioconda__ repository to assist in the installation of many bioinformatics softwares, not limited to python"
   ]
  },
  {
   "cell_type": "markdown",
   "metadata": {},
   "source": [
    "---"
   ]
  },
  {
   "cell_type": "markdown",
   "metadata": {},
   "source": [
    "## [Tour of Anaconda Distribution](https://www.anaconda.com/download/)\n",
    "\n",
    "- Download\n",
    "- Install\n",
    "- Packages\n",
    "- Updates\n",
    "- Environments"
   ]
  },
  {
   "cell_type": "markdown",
   "metadata": {},
   "source": [
    "---"
   ]
  },
  {
   "cell_type": "markdown",
   "metadata": {},
   "source": [
    "### [Enthough Python Distribution](https://www.enthought.com/product/enthought-python-distribution/) (\"EPD\")\n",
    "\n",
    "Advantages of Distributions:\n",
    "\n",
    "- Python programming language - __python 3.6__\n",
    "- Python packages / libraries - __pandas, numpy, matplotlib, etc__\n",
    "- Package management - __Enthought Deployment Manager (EDM)__\n",
    "- Desktop GUI - __Enthought Canopy__\n",
    "- Environment management\n",
    "- Portability\n",
    "- Ease of Installation"
   ]
  },
  {
   "cell_type": "markdown",
   "metadata": {},
   "source": [
    "#### Vocabulary:\n",
    "\n",
    "\n",
    "- distribution\n",
    "    - A collection of the python programming language and a number of python packages together in a single installer\n",
    "\n",
    "\n",
    "- python programming language\n",
    "    - the vocabulary and syntax that we will use to write our software, developed by Guido van Rossum in 1991 and further developed by many people since\n",
    "\n",
    "\n",
    "- package\n",
    "    - software written in python and available for our use"
   ]
  },
  {
   "cell_type": "code",
   "execution_count": null,
   "metadata": {},
   "outputs": [],
   "source": []
  }
 ],
 "metadata": {
  "kernelspec": {
   "display_name": "Python 3",
   "language": "python",
   "name": "python3"
  },
  "language_info": {
   "codemirror_mode": {
    "name": "ipython",
    "version": 3
   },
   "file_extension": ".py",
   "mimetype": "text/x-python",
   "name": "python",
   "nbconvert_exporter": "python",
   "pygments_lexer": "ipython3",
   "version": "3.6.6"
  }
 },
 "nbformat": 4,
 "nbformat_minor": 2
}
