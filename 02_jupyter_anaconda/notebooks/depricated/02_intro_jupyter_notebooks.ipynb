{
 "cells": [
  {
   "cell_type": "markdown",
   "metadata": {
    "slideshow": {
     "slide_type": "slide"
    }
   },
   "source": [
    "# Project Jupyter \n",
    "\n",
    "<img src='images/jupyter.svg'>"
   ]
  },
  {
   "cell_type": "markdown",
   "metadata": {},
   "source": [
    "---"
   ]
  },
  {
   "cell_type": "markdown",
   "metadata": {
    "slideshow": {
     "slide_type": "slide"
    }
   },
   "source": [
    "## Learning Objectives\n",
    "\n",
    "- Execute the Jupyter notebook\n",
    "- Discuss the benefits of using a Jupyter notebook\n",
    "- Explain one or more challenges of using the Jupyter notebook\n",
    "- Discuss programming language support in the Jupyter notebook"
   ]
  },
  {
   "cell_type": "markdown",
   "metadata": {},
   "source": [
    "---"
   ]
  },
  {
   "cell_type": "markdown",
   "metadata": {
    "slideshow": {
     "slide_type": "slide"
    }
   },
   "source": [
    "## Jupyter / IPython in _Nature_\n",
    "\n",
    "<img src='images/Shen-Nature-IPython.pdf'>"
   ]
  },
  {
   "cell_type": "markdown",
   "metadata": {},
   "source": [
    "---"
   ]
  },
  {
   "cell_type": "markdown",
   "metadata": {
    "slideshow": {
     "slide_type": "slide"
    }
   },
   "source": [
    "## Installation\n",
    "\n",
    "To install the jupyter software, the easiest way is to download and install the Anaconda Python distribution. You can download the Python 3 version of teh Anaconda package at https://www.continuum.io/downloads. This distribution installs the current version of the Python programming language along with many of the most populat pyothn package, including the jupyter software.\n",
    "\n",
    "_Notes_: Install the current Python 3 version of the Anaconda package. Also, install in in your user directory or folder. No admin privledges are required. If you ahve any problems, just drag the file to the trash and re-install."
   ]
  },
  {
   "cell_type": "markdown",
   "metadata": {
    "slideshow": {
     "slide_type": "slide"
    }
   },
   "source": [
    "### Anaconda Navigator\n",
    "\n",
    "<img src='images/anaconda-navigator.png'>"
   ]
  },
  {
   "cell_type": "markdown",
   "metadata": {
    "slideshow": {
     "slide_type": "slide"
    }
   },
   "source": [
    "## Environments\n",
    "\n",
    "Environments enable you to set up control \"environments\" for particular projects or programming languages. You can have a python 3, a python 2, R environments as well as one specifically for deep (machine) learning.\n",
    "\n",
    "<img src='images/anaconda-enrironments.png'>"
   ]
  },
  {
   "cell_type": "markdown",
   "metadata": {
    "slideshow": {
     "slide_type": "slide"
    }
   },
   "source": [
    "## Getting In and Getting Out (of the Jupyter Notebook)!\n",
    "\n",
    "Once you have the Anaconda python package installed, in your user folder there shold be an \"anaconda\" (or \"anaconda3\"?) directory. "
   ]
  },
  {
   "cell_type": "markdown",
   "metadata": {
    "slideshow": {
     "slide_type": "slide"
    }
   },
   "source": [
    "### To start the Jupyter Notebook:\n",
    "\n",
    "- Open _anaconda_ directory in your user folder.\n",
    "- Double-click the \"Anaconda-Navigator program\n",
    "- To launch the Jupyter Notebook, click the _launch_ button in the Anaconda-Navigator interface\n",
    "- A Terminal windows will open and the default web browser window will also open displying the Jupyter Dashboard\n",
    "- From the Jupyter dashboard you can create new Jupyter Notebooks or open existing ones."
   ]
  },
  {
   "cell_type": "markdown",
   "metadata": {
    "slideshow": {
     "slide_type": "slide"
    }
   },
   "source": [
    "__NOTE__\n",
    "- It is __NOT__ possible to double click a Jupyter Notebook to open it.\\*\n",
    "- The Terminal window openned by the Jupyter software __MUST__ remain open while using the Jupyter Notebook.\n",
    "\n",
    "\\*You can download the Pineapple program from github that enables double-click launch of Jupyter Notebooks...macOS only. The _nteract_ project can also be used to work with Jupyter Notebooks."
   ]
  },
  {
   "cell_type": "markdown",
   "metadata": {
    "slideshow": {
     "slide_type": "slide"
    }
   },
   "source": [
    "Another way to launch the Jupyter notebook is to do it from the command line by typing:\n",
    "\n",
    "    jupyter notebook\n",
    "    "
   ]
  },
  {
   "cell_type": "markdown",
   "metadata": {
    "slideshow": {
     "slide_type": "slide"
    }
   },
   "source": [
    "The notebook will open in your default browser. You can also specify which browser to use:\n",
    "\n",
    "    jupyter notebook --browser=chrome"
   ]
  },
  {
   "cell_type": "markdown",
   "metadata": {
    "slideshow": {
     "slide_type": "slide"
    }
   },
   "source": [
    "By default, the notebook server starts on port 8888, or, if this port is not available, to the next available one, such as 9999. You may also specify a port manually:\n",
    "\n",
    "    jupyter notebook --port 9999"
   ]
  },
  {
   "cell_type": "markdown",
   "metadata": {
    "slideshow": {
     "slide_type": "slide"
    }
   },
   "source": [
    "#### Browser Compatibility\n",
    "\n",
    "The Jupyter Notebook is officially supported by the latest stable versions of the following browsers:\n",
    "- Chrome\n",
    "- Safari\n",
    "- Firefox\n",
    "\n",
    "The is mainly due to the notebook’s usage of WebSockets and the flexible box model."
   ]
  },
  {
   "cell_type": "markdown",
   "metadata": {
    "slideshow": {
     "slide_type": "slide"
    }
   },
   "source": [
    "### To close a Jupyter Notebook\n",
    "\n",
    "- From the (Jupyter) _File_ menu select close and halt on any open notebooks\n",
    "    - Or from the _Running_ tab in the Jupyter Deshboard click the running tab and shutdown any running notebooks.\n",
    "- Close the Jupyter Dashboard (or quit your browser)\n",
    "- Close the Terminal window hosting the Jupyter server or you can kill Jupyter by hitting “Ctrl + C” in the terminal window"
   ]
  },
  {
   "cell_type": "markdown",
   "metadata": {
    "slideshow": {
     "slide_type": "slide"
    }
   },
   "source": [
    "# Project Jupyter\n",
    "\n",
    "\"Project Jupyter was born out of the IPython Project in 2014 as it evolved to support interactive data science and scientific computing across all programming languages\"[Source](http://jupyter.org/about.html)\n",
    "\n",
    "\"The Jupyter Notebook is a web application that allows you to create and share documents that contain live code, equations, visualizations and explanatory text. Uses include: data cleaning and transformation, numerical simulation, statistical modeling, machine learning and much more.\" [Source](http://jupyter.org)"
   ]
  },
  {
   "cell_type": "markdown",
   "metadata": {
    "slideshow": {
     "slide_type": "slide"
    }
   },
   "source": [
    "## IPython\n",
    "\n",
    "\"IPython is a growing project, with increasingly language-agnostic components. IPython 3.x was the last monolithic release of IPython, containing the notebook server, qtconsole, etc. As of IPython 4.0, the language-agnostic parts of the project: the notebook format, message protocol, qtconsole, notebook web application, etc. have moved to new projects under the name Jupyter. IPython itself is focused on interactive Python, part of which is providing a Python kernel for Jupyter."
   ]
  },
  {
   "cell_type": "markdown",
   "metadata": {
    "slideshow": {
     "slide_type": "slide"
    }
   },
   "source": [
    "The Notebook has support for over 40 programming languages, including those popular in Data Science such as Python, R, Julia and Scala.\n",
    "\n",
    "Notebooks can be shared with others using email, Dropbox, GitHub and the [Jupyter Notebook Viewer](http://nbviewer.jupyter.org/)."
   ]
  },
  {
   "cell_type": "markdown",
   "metadata": {
    "slideshow": {
     "slide_type": "slide"
    }
   },
   "source": [
    "Code can produce rich output such as images, videos, LaTeX, and JavaScript. Interactive widgets can be used to manipulate and visualize data in realtime.\n",
    "\n",
    "Leverage big data tools, such as Apache Spark, from Python, R and Scala. Explore that same data with pandas, scikit-learn, ggplot2, dplyr, etc.\"[Source](https://jupyter.readthedocs.io/en/latest/ipython/content-ipython.html)"
   ]
  },
  {
   "cell_type": "markdown",
   "metadata": {
    "slideshow": {
     "slide_type": "slide"
    }
   },
   "source": [
    "You can read more about the history of IPython [here](http://blog.fperez.org/2012/01/ipython-notebook-historical.html)."
   ]
  },
  {
   "cell_type": "markdown",
   "metadata": {
    "slideshow": {
     "slide_type": "slide"
    }
   },
   "source": [
    "## Language Support\n",
    "\n",
    "The Jupyter Notebook enables one to wrte and execute code in over 40 programming languages. When combined with the IPython kernel, users can run multiple language from within a single notebook. "
   ]
  },
  {
   "cell_type": "markdown",
   "metadata": {
    "slideshow": {
     "slide_type": "slide"
    }
   },
   "source": [
    "## Jupyter Architecture\n",
    "\n",
    "The Jupyter architecture is comprised of three primary components: kernel, notebook document format, and an interactive computing protocol.[Source](jupyter.org)"
   ]
  },
  {
   "cell_type": "markdown",
   "metadata": {
    "slideshow": {
     "slide_type": "slide"
    }
   },
   "source": [
    "### Kernels\n",
    "\"Kernels are processes that run interactive code in a particular programming language and return output to the user. Kernels also respond to tab completion and introspection requests.\" There are kernels for python 3, python 2, R, Julia, javascript, perl, and [more](https://github.com/jupyter/jupyter/wiki/Jupyter-kernels)"
   ]
  },
  {
   "cell_type": "markdown",
   "metadata": {
    "slideshow": {
     "slide_type": "slide"
    }
   },
   "source": [
    "### The Notebook Document Format\n",
    "\"Jupyter Notebooks are an open document format based on JSON. They contain a complete record of the user's sessions and embed code, narrative text, equations and rich output.\""
   ]
  },
  {
   "cell_type": "markdown",
   "metadata": {
    "slideshow": {
     "slide_type": "slide"
    }
   },
   "source": [
    "### Interactive Computing Protocol\n",
    "\"The Notebook communicates with computational Kernels using the Interactive Computing Protocol, an open network protocol based on JSON data over ZMQ and WebSockets.\""
   ]
  },
  {
   "cell_type": "markdown",
   "metadata": {
    "slideshow": {
     "slide_type": "slide"
    }
   },
   "source": [
    "<img src='images/notebook_components.png'>"
   ]
  },
  {
   "cell_type": "markdown",
   "metadata": {
    "slideshow": {
     "slide_type": "slide"
    }
   },
   "source": [
    "## Jupyter Dashboard\n",
    "\n",
    "When you first launch the Jupyter Notebook a web browser window will open the Jupyter Dashboard.\n",
    "\n",
    "<img src='images/anaconda-dashboard.png'>"
   ]
  },
  {
   "cell_type": "markdown",
   "metadata": {
    "slideshow": {
     "slide_type": "slide"
    }
   },
   "source": [
    "## Anatomy of a Jupyter Notebook"
   ]
  },
  {
   "cell_type": "markdown",
   "metadata": {
    "slideshow": {
     "slide_type": "fragment"
    }
   },
   "source": [
    "### The Jupyter Notebook\n",
    "\n",
    "<img src='images/notebook_components.png'>"
   ]
  },
  {
   "cell_type": "markdown",
   "metadata": {
    "slideshow": {
     "slide_type": "slide"
    }
   },
   "source": [
    "## Jupyter Notebook\n",
    "\n",
    "<img src='images/jupyter-notebook-header.png'>"
   ]
  },
  {
   "cell_type": "markdown",
   "metadata": {
    "slideshow": {
     "slide_type": "slide"
    }
   },
   "source": [
    "## Cells"
   ]
  },
  {
   "cell_type": "markdown",
   "metadata": {
    "slideshow": {
     "slide_type": "fragment"
    }
   },
   "source": [
    "A Jupyter Notebook is comprised oa one or more __cells__. Each cell can contian markdown text, code, or a heading. (It can also contian raw notebook information but that is beyond the scope of the intro)."
   ]
  },
  {
   "cell_type": "markdown",
   "metadata": {
    "slideshow": {
     "slide_type": "slide"
    }
   },
   "source": [
    "### Text / Markdown Cells\n",
    "As described above, teh Jupyter Notebook can contain live code, equations, visualizations and explanatory text.\n",
    "\n",
    "Text in a Jupyter Notebook can be seen above. Text is written in teh form of __markdown__. Markdown is \"a text-to-HTML conversion tool for web writers. Markdown allows you to write using an easy-to-read, easy-to-write plain text format, then convert it to structurally valid XHTML (or HTML).\" [Source](http://daringfireball.net/projects/markdown/) In the Jupyter Notebook markdown is converted to html when a markdow cell is executed.\n",
    "\n",
    "Double clock on content in a Jupyer Notebook to see its raw form and edit it."
   ]
  },
  {
   "cell_type": "markdown",
   "metadata": {
    "slideshow": {
     "slide_type": "slide"
    }
   },
   "source": [
    "### Code Cells\n",
    "\n",
    "In a __Code__ cell you can write code ative to teh kernel you selected. A python kernel can run python code, an R kernel and can run R code.\n",
    "\n",
    "An important and notable exception is the IPython kernel. Using the IPython kernel, which is the provied python kernel, one can run a number of different languages by using __cell magics__ that we will see later. Cell magics enable the python kernel to run R code, bash shell code, etc."
   ]
  },
  {
   "cell_type": "markdown",
   "metadata": {
    "slideshow": {
     "slide_type": "slide"
    }
   },
   "source": [
    "When executing a code cell, if there is any output it is displayed below the executed cell as shown below.\n",
    "\n",
    "You will also notice brackets next to the code cell. When a code cell is executed an integer based counter increases in value between the brackets. If a value is present before eecution, executing the cell again will replace the existing value. Thus the values betwene the brackets keep a loose history of the order in which code cells were executed."
   ]
  },
  {
   "cell_type": "code",
   "execution_count": null,
   "metadata": {
    "slideshow": {
     "slide_type": "slide"
    }
   },
   "outputs": [],
   "source": [
    "print(\"Hello world\")"
   ]
  },
  {
   "cell_type": "code",
   "execution_count": null,
   "metadata": {
    "slideshow": {
     "slide_type": "slide"
    }
   },
   "outputs": [],
   "source": [
    "%matplotlib inline\n",
    "import matplotlib.pyplot as plt\n",
    "import numpy as np\n",
    "x = np.linspace(0, 3*np.pi, 500)\n",
    "plt.plot(x, np.sin(x**2))\n",
    "plt.title('A simple chirp');"
   ]
  },
  {
   "cell_type": "markdown",
   "metadata": {
    "slideshow": {
     "slide_type": "slide"
    }
   },
   "source": [
    "### Visualizations / Media\n",
    "\n",
    "While having text and code cells is important, teh output of code can on occasion, especially in scientific and data science analysis take teh form of a graph or plot. The Jupyter Notebook thus is capabile is displaying the visuliation produced as output from code cell executions. A simple demois shown below.\n",
    "\n",
    "In addition to displaying visualize results of analysis, the Jupyter Notebook can also display a number of other media types including images, whole webpages, audio and video contents.\n",
    "\n",
    "We will see some examples with Markdown in a moment."
   ]
  },
  {
   "cell_type": "markdown",
   "metadata": {
    "slideshow": {
     "slide_type": "slide"
    }
   },
   "source": [
    "## Markdown Basics\n",
    "\n",
    "Lets take a look at another [notebook](Working With Markdown Cells.ipynb) that demonstrates markdown."
   ]
  },
  {
   "cell_type": "markdown",
   "metadata": {
    "slideshow": {
     "slide_type": "slide"
    }
   },
   "source": [
    "## Getting help\n",
    "\n",
    "    ?          Introduction and overview of IPython’s features\n",
    "    %quickref  Quick reference.\n",
    "    help       Python’s own help system.\n",
    "    object?    Details about ‘object’, use ‘object??’ for extra details.\n"
   ]
  },
  {
   "cell_type": "code",
   "execution_count": null,
   "metadata": {
    "slideshow": {
     "slide_type": "slide"
    }
   },
   "outputs": [],
   "source": [
    "?"
   ]
  },
  {
   "cell_type": "code",
   "execution_count": null,
   "metadata": {
    "slideshow": {
     "slide_type": "slide"
    }
   },
   "outputs": [],
   "source": [
    "import os"
   ]
  },
  {
   "cell_type": "code",
   "execution_count": null,
   "metadata": {
    "slideshow": {
     "slide_type": "fragment"
    }
   },
   "outputs": [],
   "source": [
    "os?"
   ]
  },
  {
   "cell_type": "code",
   "execution_count": null,
   "metadata": {
    "slideshow": {
     "slide_type": "slide"
    }
   },
   "outputs": [],
   "source": [
    "help(os)"
   ]
  },
  {
   "cell_type": "markdown",
   "metadata": {
    "slideshow": {
     "slide_type": "slide"
    }
   },
   "source": [
    "### Equations\n",
    "\n",
    "Maxwell's equations will look like this:\n",
    "\n",
    "\\begin{align}\n",
    "\\nabla \\times \\vec{\\mathbf{B}} -\\, \\frac1c\\, \\frac{\\partial\\vec{\\mathbf{E}}}{\\partial t} & = \\frac{4\\pi}{c}\\vec{\\mathbf{j}} \\\\   \\nabla \\cdot \\vec{\\mathbf{E}} & = 4 \\pi \\rho \\\\\n",
    "\\nabla \\times \\vec{\\mathbf{E}}\\, +\\, \\frac1c\\, \\frac{\\partial\\vec{\\mathbf{B}}}{\\partial t} & = \\vec{\\mathbf{0}} \\\\\n",
    "\\nabla \\cdot \\vec{\\mathbf{B}} & = 0\n",
    "\\end{align}"
   ]
  },
  {
   "cell_type": "markdown",
   "metadata": {
    "slideshow": {
     "slide_type": "slide"
    }
   },
   "source": [
    "## IPython Magic"
   ]
  },
  {
   "cell_type": "markdown",
   "metadata": {
    "slideshow": {
     "slide_type": "fragment"
    }
   },
   "source": [
    "---\n",
    "\n",
    "Lets take a look at the official [IPython cell magic notebook](Cell Magics.ipynb).\n",
    "\n",
    "---"
   ]
  },
  {
   "cell_type": "code",
   "execution_count": null,
   "metadata": {
    "slideshow": {
     "slide_type": "slide"
    }
   },
   "outputs": [],
   "source": [
    "% lsmagic"
   ]
  },
  {
   "cell_type": "markdown",
   "metadata": {
    "slideshow": {
     "slide_type": "slide"
    }
   },
   "source": [
    "## Widgets\n",
    "\n",
    "The Jupyter Notebook also is capable is utilizing user interface widgets to enhance the interactivity of teh notebook. Wigets include text input, button click, sliders, toggle boxes and checkboxes, and progress bars.\n",
    "\n",
    "You can find details in the help and in the Learning Jupyter nook is the resources."
   ]
  },
  {
   "cell_type": "code",
   "execution_count": null,
   "metadata": {
    "slideshow": {
     "slide_type": "slide"
    }
   },
   "outputs": [],
   "source": [
    "from ipywidgets import interact\n",
    "# define a function to work with (cubes the number)\n",
    "\n",
    "def myfunction(arg):\n",
    "    return arg+1\n",
    "\n",
    "interact(myfunction, arg=9);"
   ]
  },
  {
   "cell_type": "code",
   "execution_count": null,
   "metadata": {
    "slideshow": {
     "slide_type": "slide"
    }
   },
   "outputs": [],
   "source": [
    "from ipywidgets import widgets\n",
    "from IPython.display import display\n",
    "button = widgets.Button(description=\"Submit\");\n",
    "display(button)\n",
    "\n",
    "def on_button_clicked(widget):\n",
    "    print(\"Clicked Button:\" + widget.description);\n",
    "\n",
    "button.on_click(on_button_clicked);"
   ]
  },
  {
   "cell_type": "markdown",
   "metadata": {
    "slideshow": {
     "slide_type": "slide"
    }
   },
   "source": [
    "## Version control\n",
    "\n",
    "A limited version control is available in the _checkpoint_."
   ]
  },
  {
   "cell_type": "markdown",
   "metadata": {
    "slideshow": {
     "slide_type": "slide"
    }
   },
   "source": [
    "## Parallel"
   ]
  },
  {
   "cell_type": "markdown",
   "metadata": {
    "slideshow": {
     "slide_type": "fragment"
    }
   },
   "source": [
    "The Jupyter Notebook can also serve as the front end to parallel computing execution. See the details [here](https://ipyparallel.readthedocs.io/en/latest/)."
   ]
  },
  {
   "cell_type": "markdown",
   "metadata": {
    "slideshow": {
     "slide_type": "slide"
    }
   },
   "source": [
    "## Sharing"
   ]
  },
  {
   "cell_type": "markdown",
   "metadata": {
    "slideshow": {
     "slide_type": "fragment"
    }
   },
   "source": [
    "Notebooks can be exported and shared in the following formats:\n",
    "\n",
    "- Notebook .ipynb\n",
    "- JavaScript .js\n",
    "- HTML .html\n",
    "- Markdown .md\n",
    "- Restructured text .rst\n",
    "- PDF .pdf"
   ]
  },
  {
   "cell_type": "markdown",
   "metadata": {
    "slideshow": {
     "slide_type": "slide"
    }
   },
   "source": [
    "## JupterHub"
   ]
  },
  {
   "cell_type": "markdown",
   "metadata": {
    "slideshow": {
     "slide_type": "fragment"
    }
   },
   "source": [
    "JupyterHub is a multiuser jupyter notebook system"
   ]
  },
  {
   "cell_type": "markdown",
   "metadata": {
    "slideshow": {
     "slide_type": "slide"
    }
   },
   "source": [
    "# Learning Objectives\n",
    "\n",
    "- Describe the Jupyter Notebook\n",
    "- Execute the Jupyter notebook\n",
    "- Discuss the benefits of using a Jupyter notebook\n",
    "- Explain some challenges of using the Jupyter notebook\n",
    "- Discuss programming language support in the Jupyter notebook"
   ]
  },
  {
   "cell_type": "markdown",
   "metadata": {
    "slideshow": {
     "slide_type": "slide"
    }
   },
   "source": [
    "## Resources"
   ]
  },
  {
   "cell_type": "markdown",
   "metadata": {
    "slideshow": {
     "slide_type": "fragment"
    }
   },
   "source": [
    "- Preview a huge number of notebooks: http://nbviewer.jupyter.org\n",
    "- [IPython Github examples](https://github.com/ipython/ipython/blob/master/examples/Index.ipynb)\n",
    "- Learning Jupyter book (https://www.packtpub.com/big-data-and-business-intelligence/learning-jupyter)\n",
    "- Another [Python course for biologists](http://py4life.yoavram.com)"
   ]
  },
  {
   "cell_type": "code",
   "execution_count": null,
   "metadata": {},
   "outputs": [],
   "source": []
  }
 ],
 "metadata": {
  "kernelspec": {
   "display_name": "Python 3",
   "language": "python",
   "name": "python3"
  },
  "language_info": {
   "codemirror_mode": {
    "name": "ipython",
    "version": 3
   },
   "file_extension": ".py",
   "mimetype": "text/x-python",
   "name": "python",
   "nbconvert_exporter": "python",
   "pygments_lexer": "ipython3",
   "version": "3.6.6"
  }
 },
 "nbformat": 4,
 "nbformat_minor": 2
}
