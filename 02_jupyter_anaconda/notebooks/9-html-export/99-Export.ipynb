{
 "cells": [
  {
   "cell_type": "markdown",
   "metadata": {},
   "source": [
    "# Jupyter Training HTML export"
   ]
  },
  {
   "cell_type": "markdown",
   "metadata": {},
   "source": [
    "R. Burke Squires\n",
    "\n",
    "https://github.com/burkesquires"
   ]
  },
  {
   "cell_type": "markdown",
   "metadata": {},
   "source": [
    "I will use this notebook to export each notebook to a HTML for review and ultimately to include as previews for people to look at if they do not want to install the Anaconda distribution.\n",
    "\n",
    "PDFs are giving me a problem as I do not have latex installed; defaulting to html"
   ]
  },
  {
   "cell_type": "code",
   "execution_count": null,
   "metadata": {},
   "outputs": [],
   "source": [
    "ls ../"
   ]
  },
  {
   "cell_type": "code",
   "execution_count": null,
   "metadata": {},
   "outputs": [],
   "source": [
    "ls ./"
   ]
  },
  {
   "cell_type": "code",
   "execution_count": null,
   "metadata": {},
   "outputs": [],
   "source": [
    "# Introduction\n",
    "\n",
    "!jupyter nbconvert --to html ../0-Intro/0_Jupyter_training.ipynb --output-dir=./"
   ]
  },
  {
   "cell_type": "code",
   "execution_count": null,
   "metadata": {},
   "outputs": [],
   "source": [
    "# Anaconda folder\n",
    "!jupyter nbconvert --to html ../1-Anaconda/1-1-Anaconda-Overview.ipynb --output-dir=./\n",
    "!jupyter nbconvert --to html ../1-Anaconda/1-2-Anaconda-Installation.ipynb --output-dir=./"
   ]
  },
  {
   "cell_type": "code",
   "execution_count": null,
   "metadata": {},
   "outputs": [],
   "source": [
    "# Jupyter\n",
    "!jupyter nbconvert --to html ../2-Jupyter/2-1-Jupyter-ecosystem.ipynb --output-dir=./\n",
    "!jupyter nbconvert --to html ../2-Jupyter/2-2-Jupyter-architecture.ipynb --output-dir=./\n",
    "!jupyter nbconvert --to html ../2-Jupyter/2-3-Jupyter-notebook-basics.ipynb --output-dir=./\n",
    "!jupyter nbconvert --to html ../2-Jupyter/2-4-Jupyter-markdown.ipynb --output-dir=./\n",
    "!jupyter nbconvert --to html ../2-Jupyter/2-5-Jupyter-code-python.ipynb --output-dir=./\n",
    "!jupyter nbconvert --to html ../2-Jupyter/2-6-Jupyter-code-r.ipynb --output-dir=./\n",
    "!jupyter nbconvert --to html ../2-Jupyter/2-7-Jupyter-command-line.ipynb --output-dir=./\n",
    "!jupyter nbconvert --to html ../2-Jupyter/2-8-Jupyter-magics.ipynb --output-dir=./\n",
    "!jupyter nbconvert --to html ../2-Jupyter/2-9-jupyter-sharing/2-9-1-Jupyter-sharing.ipynb --output-dir=./\n",
    "!jupyter nbconvert --to html ../2-Jupyter/2-9-jupyter-sharing/2-9-2-Jupyter-sharing-github.ipynb --output-dir=./\n",
    "!jupyter nbconvert --to html ../2-Jupyter/2-9-jupyter-sharing/2-9-3-Intro_to_binder.ipynb --output-dir=./"
   ]
  },
  {
   "cell_type": "code",
   "execution_count": null,
   "metadata": {},
   "outputs": [],
   "source": [
    "# Bioconda workflow example\n",
    "!jupyter nbconvert --to html ../3-Build-Bioinfo-Workflow/3-1-install-bioconda.ipynb --output-dir=./\n",
    "!jupyter nbconvert --to html ../3-Build-Bioinfo-Workflow/3-2-variant-calling-workflow.ipynb --output-dir=./"
   ]
  },
  {
   "cell_type": "code",
   "execution_count": null,
   "metadata": {},
   "outputs": [],
   "source": [
    "# Last things\n",
    "!jupyter nbconvert --to html ../4-Last-things/4-1-Demos.ipynb  --output-dir=./\n",
    "!jupyter nbconvert --to html ../4-Last-things/4-2-Additional-resources.ipynb  --output-dir=./"
   ]
  },
  {
   "cell_type": "code",
   "execution_count": null,
   "metadata": {},
   "outputs": [],
   "source": []
  }
 ],
 "metadata": {
  "kernelspec": {
   "display_name": "Python 3",
   "language": "python",
   "name": "python3"
  },
  "language_info": {
   "codemirror_mode": {
    "name": "ipython",
    "version": 3
   },
   "file_extension": ".py",
   "mimetype": "text/x-python",
   "name": "python",
   "nbconvert_exporter": "python",
   "pygments_lexer": "ipython3",
   "version": "3.6.5"
  }
 },
 "nbformat": 4,
 "nbformat_minor": 2
}
