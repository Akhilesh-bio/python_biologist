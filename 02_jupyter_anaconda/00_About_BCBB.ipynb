{
 "cells": [
  {
   "cell_type": "markdown",
   "metadata": {},
   "source": [
    "# About the BCBB..."
   ]
  },
  {
   "cell_type": "markdown",
   "metadata": {},
   "source": [
    "---"
   ]
  },
  {
   "cell_type": "markdown",
   "metadata": {},
   "source": [
    "## National Institute of Allergy and Infectious Diseases (NIAID)"
   ]
  },
  {
   "cell_type": "markdown",
   "metadata": {},
   "source": [
    "---"
   ]
  },
  {
   "cell_type": "markdown",
   "metadata": {},
   "source": [
    "## Bioinformatics and Computatioanl Biosciences Branch (BCBB)\n",
    "---\n",
    "\n",
    "<img src='images/BCBB_AllStaff.png'>\n",
    "---\n",
    "\n",
    "Group of ~40\n",
    "\n",
    "- Compuatational Biologists\n",
    "- Bioinformaitcs Software Developers\n",
    "- Project Management & Analysis Professionals"
   ]
  },
  {
   "cell_type": "markdown",
   "metadata": {},
   "source": [
    "## BCBB Services\n",
    "\n",
    "- Develop Computational Biology related tools and services\n",
    "- Provide collaborative consulting with NIAID intramural researchers (and on occasiono others)\n",
    "- Offer training on hte NIH campus\n",
    "\n",
    "## NIH Users\n",
    "\n",
    "- Access a menu of BCBB services on the NIAID Intranet:\n",
    "        \n",
    "http://bioinformatics.niaid.nih.gov/\n",
    "\n",
    "## Outside of NIH\n",
    "\n",
    "Search “BCBB” on the NIAID Public Internet Page: \n",
    "\n",
    "    http://www.niaid.nih.gov\n",
    "\n",
    "\n",
    "## Email us at:\n",
    "    \n",
    "ScienceApps at niaid.nih.gov\n"
   ]
  },
  {
   "cell_type": "code",
   "execution_count": null,
   "metadata": {
    "collapsed": true
   },
   "outputs": [],
   "source": []
  }
 ],
 "metadata": {
  "kernelspec": {
   "display_name": "Python 3",
   "language": "python",
   "name": "python3"
  },
  "language_info": {
   "codemirror_mode": {
    "name": "ipython",
    "version": 3
   },
   "file_extension": ".py",
   "mimetype": "text/x-python",
   "name": "python",
   "nbconvert_exporter": "python",
   "pygments_lexer": "ipython3",
   "version": "3.6.2"
  }
 },
 "nbformat": 4,
 "nbformat_minor": 2
}
