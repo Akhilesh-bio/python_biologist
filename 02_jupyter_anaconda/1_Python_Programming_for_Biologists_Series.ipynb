{
 "cells": [
  {
   "cell_type": "markdown",
   "metadata": {},
   "source": [
    "## NIAID / OCICB / BCBB\n",
    "\n",
    "# __Python Programming for Biologist__\n",
    "\n",
    "## Seminar Series\n",
    "\n",
    "---\n",
    "\n",
    "### Instructor: R. Burke Squires\n",
    "- https://bioinformatics.niaid.nih.gov\n",
    "- https://github.com/burkesquires\n",
    " "
   ]
  },
  {
   "cell_type": "markdown",
   "metadata": {},
   "source": [
    "---"
   ]
  },
  {
   "cell_type": "markdown",
   "metadata": {},
   "source": [
    "## Topics / Seminars\n",
    "\n",
    "- Introduction to the Command Line\n",
    "- Introduction to Jupyter and Anaconda\n",
    "- Introduction to Programming (for non-programmers)\n",
    "- The Python Programming Language (for experienced programmers)\n",
    "- Data Analysis with Python and pandas\n",
    "- Python Data Visualization\n",
    "- Intermediate Python Programming and Best Practices\n",
    "- Bioinformatics Programming with Python\n",
    "- Building Workflows with Python\n",
    "\n",
    "Additional\n",
    "- Biomedical Data\n",
    "- Reproducible Science With Python\n"
   ]
  },
  {
   "cell_type": "markdown",
   "metadata": {},
   "source": [
    "---\n",
    "\n",
    "- [Installation and Maintenance](01_installation_python_anaconda.ipynb)\n",
    "- [Introduction to Jupyter](02_intro_jupyter_notebooks.ipynb)\n",
    "- [Working with Markdown](03_Working With Markdown Cells.ipynb)\n",
    "- [Cell Magics](04_Cell Magics.ipynb)"
   ]
  },
  {
   "cell_type": "code",
   "execution_count": null,
   "metadata": {},
   "outputs": [],
   "source": []
  }
 ],
 "metadata": {
  "kernelspec": {
   "display_name": "Python 3",
   "language": "python",
   "name": "python3"
  },
  "language_info": {
   "codemirror_mode": {
    "name": "ipython",
    "version": 3
   },
   "file_extension": ".py",
   "mimetype": "text/x-python",
   "name": "python",
   "nbconvert_exporter": "python",
   "pygments_lexer": "ipython3",
   "version": "3.6.6"
  }
 },
 "nbformat": 4,
 "nbformat_minor": 2
}
