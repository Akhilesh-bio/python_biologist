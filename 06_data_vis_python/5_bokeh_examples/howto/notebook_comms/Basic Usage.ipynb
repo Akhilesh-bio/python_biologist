{
 "cells": [
  {
   "cell_type": "code",
   "execution_count": 1,
   "metadata": {},
   "outputs": [
    {
     "data": {
      "text/html": [
       "\n",
       "    <div class=\"bk-root\">\n",
       "        <a href=\"https://bokeh.pydata.org\" target=\"_blank\" class=\"bk-logo bk-logo-small bk-logo-notebook\"></a>\n",
       "        <span id=\"24bc86a0-d977-481d-b7ca-0392912042e8\">Loading BokehJS ...</span>\n",
       "    </div>"
      ]
     },
     "metadata": {},
     "output_type": "display_data"
    },
    {
     "data": {
      "application/javascript": [
       "\n",
       "(function(root) {\n",
       "  function now() {\n",
       "    return new Date();\n",
       "  }\n",
       "\n",
       "  var force = true;\n",
       "\n",
       "  if (typeof (root._bokeh_onload_callbacks) === \"undefined\" || force === true) {\n",
       "    root._bokeh_onload_callbacks = [];\n",
       "    root._bokeh_is_loading = undefined;\n",
       "  }\n",
       "\n",
       "  var JS_MIME_TYPE = 'application/javascript';\n",
       "  var HTML_MIME_TYPE = 'text/html';\n",
       "  var EXEC_MIME_TYPE = 'application/vnd.bokehjs_exec.v0+json';\n",
       "  var CLASS_NAME = 'output_bokeh rendered_html';\n",
       "\n",
       "  /**\n",
       "   * Render data to the DOM node\n",
       "   */\n",
       "  function render(props, node) {\n",
       "    var script = document.createElement(\"script\");\n",
       "    node.appendChild(script);\n",
       "  }\n",
       "\n",
       "  /**\n",
       "   * Handle when an output is cleared or removed\n",
       "   */\n",
       "  function handleClearOutput(event, handle) {\n",
       "    var cell = handle.cell;\n",
       "\n",
       "    var id = cell.output_area._bokeh_element_id;\n",
       "    var server_id = cell.output_area._bokeh_server_id;\n",
       "    // Clean up Bokeh references\n",
       "    if (id !== undefined) {\n",
       "      Bokeh.index[id].model.document.clear();\n",
       "      delete Bokeh.index[id];\n",
       "    }\n",
       "\n",
       "    if (server_id !== undefined) {\n",
       "      // Clean up Bokeh references\n",
       "      var cmd = \"from bokeh.io.state import curstate; print(curstate().uuid_to_server['\" + server_id + \"'].get_sessions()[0].document.roots[0]._id)\";\n",
       "      cell.notebook.kernel.execute(cmd, {\n",
       "        iopub: {\n",
       "          output: function(msg) {\n",
       "            var element_id = msg.content.text.trim();\n",
       "            Bokeh.index[element_id].model.document.clear();\n",
       "            delete Bokeh.index[element_id];\n",
       "          }\n",
       "        }\n",
       "      });\n",
       "      // Destroy server and session\n",
       "      var cmd = \"import bokeh.io.notebook as ion; ion.destroy_server('\" + server_id + \"')\";\n",
       "      cell.notebook.kernel.execute(cmd);\n",
       "    }\n",
       "  }\n",
       "\n",
       "  /**\n",
       "   * Handle when a new output is added\n",
       "   */\n",
       "  function handleAddOutput(event, handle) {\n",
       "    var output_area = handle.output_area;\n",
       "    var output = handle.output;\n",
       "\n",
       "    // limit handleAddOutput to display_data with EXEC_MIME_TYPE content only\n",
       "    if ((output.output_type != \"display_data\") || (!output.data.hasOwnProperty(EXEC_MIME_TYPE))) {\n",
       "      return\n",
       "    }\n",
       "\n",
       "    var toinsert = output_area.element.find(`.${CLASS_NAME.split(' ')[0]}`);\n",
       "\n",
       "    if (output.metadata[EXEC_MIME_TYPE][\"id\"] !== undefined) {\n",
       "      toinsert[0].firstChild.textContent = output.data[JS_MIME_TYPE];\n",
       "      // store reference to embed id on output_area\n",
       "      output_area._bokeh_element_id = output.metadata[EXEC_MIME_TYPE][\"id\"];\n",
       "    }\n",
       "    if (output.metadata[EXEC_MIME_TYPE][\"server_id\"] !== undefined) {\n",
       "      var bk_div = document.createElement(\"div\");\n",
       "      bk_div.innerHTML = output.data[HTML_MIME_TYPE];\n",
       "      var script_attrs = bk_div.children[0].attributes;\n",
       "      for (var i = 0; i < script_attrs.length; i++) {\n",
       "        toinsert[0].firstChild.setAttribute(script_attrs[i].name, script_attrs[i].value);\n",
       "      }\n",
       "      // store reference to server id on output_area\n",
       "      output_area._bokeh_server_id = output.metadata[EXEC_MIME_TYPE][\"server_id\"];\n",
       "    }\n",
       "  }\n",
       "\n",
       "  function register_renderer(events, OutputArea) {\n",
       "\n",
       "    function append_mime(data, metadata, element) {\n",
       "      // create a DOM node to render to\n",
       "      var toinsert = this.create_output_subarea(\n",
       "        metadata,\n",
       "        CLASS_NAME,\n",
       "        EXEC_MIME_TYPE\n",
       "      );\n",
       "      this.keyboard_manager.register_events(toinsert);\n",
       "      // Render to node\n",
       "      var props = {data: data, metadata: metadata[EXEC_MIME_TYPE]};\n",
       "      render(props, toinsert[0]);\n",
       "      element.append(toinsert);\n",
       "      return toinsert\n",
       "    }\n",
       "\n",
       "    /* Handle when an output is cleared or removed */\n",
       "    events.on('clear_output.CodeCell', handleClearOutput);\n",
       "    events.on('delete.Cell', handleClearOutput);\n",
       "\n",
       "    /* Handle when a new output is added */\n",
       "    events.on('output_added.OutputArea', handleAddOutput);\n",
       "\n",
       "    /**\n",
       "     * Register the mime type and append_mime function with output_area\n",
       "     */\n",
       "    OutputArea.prototype.register_mime_type(EXEC_MIME_TYPE, append_mime, {\n",
       "      /* Is output safe? */\n",
       "      safe: true,\n",
       "      /* Index of renderer in `output_area.display_order` */\n",
       "      index: 0\n",
       "    });\n",
       "  }\n",
       "\n",
       "  // register the mime type if in Jupyter Notebook environment and previously unregistered\n",
       "  if (root.Jupyter !== undefined) {\n",
       "    var events = require('base/js/events');\n",
       "    var OutputArea = require('notebook/js/outputarea').OutputArea;\n",
       "\n",
       "    if (OutputArea.prototype.mime_types().indexOf(EXEC_MIME_TYPE) == -1) {\n",
       "      register_renderer(events, OutputArea);\n",
       "    }\n",
       "  }\n",
       "\n",
       "  \n",
       "  if (typeof (root._bokeh_timeout) === \"undefined\" || force === true) {\n",
       "    root._bokeh_timeout = Date.now() + 5000;\n",
       "    root._bokeh_failed_load = false;\n",
       "  }\n",
       "\n",
       "  var NB_LOAD_WARNING = {'data': {'text/html':\n",
       "     \"<div style='background-color: #fdd'>\\n\"+\n",
       "     \"<p>\\n\"+\n",
       "     \"BokehJS does not appear to have successfully loaded. If loading BokehJS from CDN, this \\n\"+\n",
       "     \"may be due to a slow or bad network connection. Possible fixes:\\n\"+\n",
       "     \"</p>\\n\"+\n",
       "     \"<ul>\\n\"+\n",
       "     \"<li>re-rerun `output_notebook()` to attempt to load from CDN again, or</li>\\n\"+\n",
       "     \"<li>use INLINE resources instead, as so:</li>\\n\"+\n",
       "     \"</ul>\\n\"+\n",
       "     \"<code>\\n\"+\n",
       "     \"from bokeh.resources import INLINE\\n\"+\n",
       "     \"output_notebook(resources=INLINE)\\n\"+\n",
       "     \"</code>\\n\"+\n",
       "     \"</div>\"}};\n",
       "\n",
       "  function display_loaded() {\n",
       "    var el = document.getElementById(\"24bc86a0-d977-481d-b7ca-0392912042e8\");\n",
       "    if (el != null) {\n",
       "      el.textContent = \"BokehJS is loading...\";\n",
       "    }\n",
       "    if (root.Bokeh !== undefined) {\n",
       "      if (el != null) {\n",
       "        el.textContent = \"BokehJS \" + root.Bokeh.version + \" successfully loaded.\";\n",
       "      }\n",
       "    } else if (Date.now() < root._bokeh_timeout) {\n",
       "      setTimeout(display_loaded, 100)\n",
       "    }\n",
       "  }\n",
       "\n",
       "\n",
       "  function run_callbacks() {\n",
       "    try {\n",
       "      root._bokeh_onload_callbacks.forEach(function(callback) { callback() });\n",
       "    }\n",
       "    finally {\n",
       "      delete root._bokeh_onload_callbacks\n",
       "    }\n",
       "    console.info(\"Bokeh: all callbacks have finished\");\n",
       "  }\n",
       "\n",
       "  function load_libs(js_urls, callback) {\n",
       "    root._bokeh_onload_callbacks.push(callback);\n",
       "    if (root._bokeh_is_loading > 0) {\n",
       "      console.log(\"Bokeh: BokehJS is being loaded, scheduling callback at\", now());\n",
       "      return null;\n",
       "    }\n",
       "    if (js_urls == null || js_urls.length === 0) {\n",
       "      run_callbacks();\n",
       "      return null;\n",
       "    }\n",
       "    console.log(\"Bokeh: BokehJS not loaded, scheduling load and callback at\", now());\n",
       "    root._bokeh_is_loading = js_urls.length;\n",
       "    for (var i = 0; i < js_urls.length; i++) {\n",
       "      var url = js_urls[i];\n",
       "      var s = document.createElement('script');\n",
       "      s.src = url;\n",
       "      s.async = false;\n",
       "      s.onreadystatechange = s.onload = function() {\n",
       "        root._bokeh_is_loading--;\n",
       "        if (root._bokeh_is_loading === 0) {\n",
       "          console.log(\"Bokeh: all BokehJS libraries loaded\");\n",
       "          run_callbacks()\n",
       "        }\n",
       "      };\n",
       "      s.onerror = function() {\n",
       "        console.warn(\"failed to load library \" + url);\n",
       "      };\n",
       "      console.log(\"Bokeh: injecting script tag for BokehJS library: \", url);\n",
       "      document.getElementsByTagName(\"head\")[0].appendChild(s);\n",
       "    }\n",
       "  };var element = document.getElementById(\"24bc86a0-d977-481d-b7ca-0392912042e8\");\n",
       "  if (element == null) {\n",
       "    console.log(\"Bokeh: ERROR: autoload.js configured with elementid '24bc86a0-d977-481d-b7ca-0392912042e8' but no matching script tag was found. \")\n",
       "    return false;\n",
       "  }\n",
       "\n",
       "  var js_urls = [\"https://cdn.pydata.org/bokeh/release/bokeh-0.12.10.min.js\", \"https://cdn.pydata.org/bokeh/release/bokeh-widgets-0.12.10.min.js\", \"https://cdn.pydata.org/bokeh/release/bokeh-tables-0.12.10.min.js\", \"https://cdn.pydata.org/bokeh/release/bokeh-gl-0.12.10.min.js\"];\n",
       "\n",
       "  var inline_js = [\n",
       "    function(Bokeh) {\n",
       "      Bokeh.set_log_level(\"info\");\n",
       "    },\n",
       "    \n",
       "    function(Bokeh) {\n",
       "      \n",
       "    },\n",
       "    function(Bokeh) {\n",
       "      console.log(\"Bokeh: injecting CSS: https://cdn.pydata.org/bokeh/release/bokeh-0.12.10.min.css\");\n",
       "      Bokeh.embed.inject_css(\"https://cdn.pydata.org/bokeh/release/bokeh-0.12.10.min.css\");\n",
       "      console.log(\"Bokeh: injecting CSS: https://cdn.pydata.org/bokeh/release/bokeh-widgets-0.12.10.min.css\");\n",
       "      Bokeh.embed.inject_css(\"https://cdn.pydata.org/bokeh/release/bokeh-widgets-0.12.10.min.css\");\n",
       "      console.log(\"Bokeh: injecting CSS: https://cdn.pydata.org/bokeh/release/bokeh-tables-0.12.10.min.css\");\n",
       "      Bokeh.embed.inject_css(\"https://cdn.pydata.org/bokeh/release/bokeh-tables-0.12.10.min.css\");\n",
       "    }\n",
       "  ];\n",
       "\n",
       "  function run_inline_js() {\n",
       "    \n",
       "    if ((root.Bokeh !== undefined) || (force === true)) {\n",
       "      for (var i = 0; i < inline_js.length; i++) {\n",
       "        inline_js[i].call(root, root.Bokeh);\n",
       "      }if (force === true) {\n",
       "        display_loaded();\n",
       "      }} else if (Date.now() < root._bokeh_timeout) {\n",
       "      setTimeout(run_inline_js, 100);\n",
       "    } else if (!root._bokeh_failed_load) {\n",
       "      console.log(\"Bokeh: BokehJS failed to load within specified timeout.\");\n",
       "      root._bokeh_failed_load = true;\n",
       "    } else if (force !== true) {\n",
       "      var cell = $(document.getElementById(\"24bc86a0-d977-481d-b7ca-0392912042e8\")).parents('.cell').data().cell;\n",
       "      cell.output_area.append_execute_result(NB_LOAD_WARNING)\n",
       "    }\n",
       "\n",
       "  }\n",
       "\n",
       "  if (root._bokeh_is_loading === 0) {\n",
       "    console.log(\"Bokeh: BokehJS loaded, going straight to plotting\");\n",
       "    run_inline_js();\n",
       "  } else {\n",
       "    load_libs(js_urls, function() {\n",
       "      console.log(\"Bokeh: BokehJS plotting callback run at\", now());\n",
       "      run_inline_js();\n",
       "    });\n",
       "  }\n",
       "}(window));"
      ],
      "application/vnd.bokehjs_load.v0+json": "\n(function(root) {\n  function now() {\n    return new Date();\n  }\n\n  var force = true;\n\n  if (typeof (root._bokeh_onload_callbacks) === \"undefined\" || force === true) {\n    root._bokeh_onload_callbacks = [];\n    root._bokeh_is_loading = undefined;\n  }\n\n  \n\n  \n  if (typeof (root._bokeh_timeout) === \"undefined\" || force === true) {\n    root._bokeh_timeout = Date.now() + 5000;\n    root._bokeh_failed_load = false;\n  }\n\n  var NB_LOAD_WARNING = {'data': {'text/html':\n     \"<div style='background-color: #fdd'>\\n\"+\n     \"<p>\\n\"+\n     \"BokehJS does not appear to have successfully loaded. If loading BokehJS from CDN, this \\n\"+\n     \"may be due to a slow or bad network connection. Possible fixes:\\n\"+\n     \"</p>\\n\"+\n     \"<ul>\\n\"+\n     \"<li>re-rerun `output_notebook()` to attempt to load from CDN again, or</li>\\n\"+\n     \"<li>use INLINE resources instead, as so:</li>\\n\"+\n     \"</ul>\\n\"+\n     \"<code>\\n\"+\n     \"from bokeh.resources import INLINE\\n\"+\n     \"output_notebook(resources=INLINE)\\n\"+\n     \"</code>\\n\"+\n     \"</div>\"}};\n\n  function display_loaded() {\n    var el = document.getElementById(\"24bc86a0-d977-481d-b7ca-0392912042e8\");\n    if (el != null) {\n      el.textContent = \"BokehJS is loading...\";\n    }\n    if (root.Bokeh !== undefined) {\n      if (el != null) {\n        el.textContent = \"BokehJS \" + root.Bokeh.version + \" successfully loaded.\";\n      }\n    } else if (Date.now() < root._bokeh_timeout) {\n      setTimeout(display_loaded, 100)\n    }\n  }\n\n\n  function run_callbacks() {\n    try {\n      root._bokeh_onload_callbacks.forEach(function(callback) { callback() });\n    }\n    finally {\n      delete root._bokeh_onload_callbacks\n    }\n    console.info(\"Bokeh: all callbacks have finished\");\n  }\n\n  function load_libs(js_urls, callback) {\n    root._bokeh_onload_callbacks.push(callback);\n    if (root._bokeh_is_loading > 0) {\n      console.log(\"Bokeh: BokehJS is being loaded, scheduling callback at\", now());\n      return null;\n    }\n    if (js_urls == null || js_urls.length === 0) {\n      run_callbacks();\n      return null;\n    }\n    console.log(\"Bokeh: BokehJS not loaded, scheduling load and callback at\", now());\n    root._bokeh_is_loading = js_urls.length;\n    for (var i = 0; i < js_urls.length; i++) {\n      var url = js_urls[i];\n      var s = document.createElement('script');\n      s.src = url;\n      s.async = false;\n      s.onreadystatechange = s.onload = function() {\n        root._bokeh_is_loading--;\n        if (root._bokeh_is_loading === 0) {\n          console.log(\"Bokeh: all BokehJS libraries loaded\");\n          run_callbacks()\n        }\n      };\n      s.onerror = function() {\n        console.warn(\"failed to load library \" + url);\n      };\n      console.log(\"Bokeh: injecting script tag for BokehJS library: \", url);\n      document.getElementsByTagName(\"head\")[0].appendChild(s);\n    }\n  };var element = document.getElementById(\"24bc86a0-d977-481d-b7ca-0392912042e8\");\n  if (element == null) {\n    console.log(\"Bokeh: ERROR: autoload.js configured with elementid '24bc86a0-d977-481d-b7ca-0392912042e8' but no matching script tag was found. \")\n    return false;\n  }\n\n  var js_urls = [\"https://cdn.pydata.org/bokeh/release/bokeh-0.12.10.min.js\", \"https://cdn.pydata.org/bokeh/release/bokeh-widgets-0.12.10.min.js\", \"https://cdn.pydata.org/bokeh/release/bokeh-tables-0.12.10.min.js\", \"https://cdn.pydata.org/bokeh/release/bokeh-gl-0.12.10.min.js\"];\n\n  var inline_js = [\n    function(Bokeh) {\n      Bokeh.set_log_level(\"info\");\n    },\n    \n    function(Bokeh) {\n      \n    },\n    function(Bokeh) {\n      console.log(\"Bokeh: injecting CSS: https://cdn.pydata.org/bokeh/release/bokeh-0.12.10.min.css\");\n      Bokeh.embed.inject_css(\"https://cdn.pydata.org/bokeh/release/bokeh-0.12.10.min.css\");\n      console.log(\"Bokeh: injecting CSS: https://cdn.pydata.org/bokeh/release/bokeh-widgets-0.12.10.min.css\");\n      Bokeh.embed.inject_css(\"https://cdn.pydata.org/bokeh/release/bokeh-widgets-0.12.10.min.css\");\n      console.log(\"Bokeh: injecting CSS: https://cdn.pydata.org/bokeh/release/bokeh-tables-0.12.10.min.css\");\n      Bokeh.embed.inject_css(\"https://cdn.pydata.org/bokeh/release/bokeh-tables-0.12.10.min.css\");\n    }\n  ];\n\n  function run_inline_js() {\n    \n    if ((root.Bokeh !== undefined) || (force === true)) {\n      for (var i = 0; i < inline_js.length; i++) {\n        inline_js[i].call(root, root.Bokeh);\n      }if (force === true) {\n        display_loaded();\n      }} else if (Date.now() < root._bokeh_timeout) {\n      setTimeout(run_inline_js, 100);\n    } else if (!root._bokeh_failed_load) {\n      console.log(\"Bokeh: BokehJS failed to load within specified timeout.\");\n      root._bokeh_failed_load = true;\n    } else if (force !== true) {\n      var cell = $(document.getElementById(\"24bc86a0-d977-481d-b7ca-0392912042e8\")).parents('.cell').data().cell;\n      cell.output_area.append_execute_result(NB_LOAD_WARNING)\n    }\n\n  }\n\n  if (root._bokeh_is_loading === 0) {\n    console.log(\"Bokeh: BokehJS loaded, going straight to plotting\");\n    run_inline_js();\n  } else {\n    load_libs(js_urls, function() {\n      console.log(\"Bokeh: BokehJS plotting callback run at\", now());\n      run_inline_js();\n    });\n  }\n}(window));"
     },
     "metadata": {},
     "output_type": "display_data"
    }
   ],
   "source": [
    "from bokeh.io import push_notebook, show, output_notebook\n",
    "from bokeh.layouts import row\n",
    "from bokeh.plotting import figure\n",
    "output_notebook()"
   ]
  },
  {
   "cell_type": "code",
   "execution_count": 2,
   "metadata": {},
   "outputs": [],
   "source": [
    "opts = dict(plot_width=250, plot_height=250, min_border=0)"
   ]
  },
  {
   "cell_type": "code",
   "execution_count": 3,
   "metadata": {},
   "outputs": [
    {
     "data": {
      "text/html": [
       "\n",
       "<div class=\"bk-root\">\n",
       "    <div class=\"bk-plotdiv\" id=\"40cf7d73-2f4f-47c3-81e6-6492d6283189\"></div>\n",
       "</div>"
      ]
     },
     "metadata": {},
     "output_type": "display_data"
    },
    {
     "data": {
      "application/javascript": [
       "(function(root) {\n",
       "  function embed_document(root) {\n",
       "    var docs_json = {\"85229345-cc03-4115-8b64-01a19f7fc3b0\":{\"roots\":{\"references\":[{\"attributes\":{\"formatter\":{\"id\":\"dd61cb89-4be3-4a0b-94dd-39d6c977896e\",\"type\":\"BasicTickFormatter\"},\"plot\":{\"id\":\"58d554d4-75fc-44e3-8777-5b6352304d4a\",\"subtype\":\"Figure\",\"type\":\"Plot\"},\"ticker\":{\"id\":\"fc26ef60-8b1d-4318-ac7c-d510ffed952b\",\"type\":\"BasicTicker\"}},\"id\":\"db373849-9fbd-4129-a1e5-ec571945c121\",\"type\":\"LinearAxis\"},{\"attributes\":{\"bottom_units\":\"screen\",\"fill_alpha\":{\"value\":0.5},\"fill_color\":{\"value\":\"lightgrey\"},\"left_units\":\"screen\",\"level\":\"overlay\",\"line_alpha\":{\"value\":1.0},\"line_color\":{\"value\":\"black\"},\"line_dash\":[4,4],\"line_width\":{\"value\":2},\"plot\":null,\"render_mode\":\"css\",\"right_units\":\"screen\",\"top_units\":\"screen\"},\"id\":\"67199aed-4309-4e9a-a391-5858f4a0b4c3\",\"type\":\"BoxAnnotation\"},{\"attributes\":{},\"id\":\"fc26ef60-8b1d-4318-ac7c-d510ffed952b\",\"type\":\"BasicTicker\"},{\"attributes\":{},\"id\":\"ec9c34ff-3668-4203-9017-31e586707f6f\",\"type\":\"SaveTool\"},{\"attributes\":{\"dimension\":1,\"plot\":{\"id\":\"58d554d4-75fc-44e3-8777-5b6352304d4a\",\"subtype\":\"Figure\",\"type\":\"Plot\"},\"ticker\":{\"id\":\"fc26ef60-8b1d-4318-ac7c-d510ffed952b\",\"type\":\"BasicTicker\"}},\"id\":\"5beec23e-31ce-43e4-a4de-04d30d85604f\",\"type\":\"Grid\"},{\"attributes\":{},\"id\":\"84662ecc-402b-4f04-934c-3e66ae155e16\",\"type\":\"ResetTool\"},{\"attributes\":{\"bottom_units\":\"screen\",\"fill_alpha\":{\"value\":0.5},\"fill_color\":{\"value\":\"lightgrey\"},\"left_units\":\"screen\",\"level\":\"overlay\",\"line_alpha\":{\"value\":1.0},\"line_color\":{\"value\":\"black\"},\"line_dash\":[4,4],\"line_width\":{\"value\":2},\"plot\":null,\"render_mode\":\"css\",\"right_units\":\"screen\",\"top_units\":\"screen\"},\"id\":\"4bf55736-1ff8-4fc2-98e4-41b7a23a0acc\",\"type\":\"BoxAnnotation\"},{\"attributes\":{},\"id\":\"f0fd7ac4-09b9-4e06-8639-9e23b4c32760\",\"type\":\"HelpTool\"},{\"attributes\":{\"below\":[{\"id\":\"49f8eaa2-a543-4f09-9d6d-56c7fa438d06\",\"type\":\"LinearAxis\"}],\"left\":[{\"id\":\"247a211c-94fe-4be1-b2c1-f6f06403a581\",\"type\":\"LinearAxis\"}],\"min_border\":0,\"plot_height\":250,\"plot_width\":250,\"renderers\":[{\"id\":\"49f8eaa2-a543-4f09-9d6d-56c7fa438d06\",\"type\":\"LinearAxis\"},{\"id\":\"a45ef34d-02a9-4db9-bc1a-2d9aa8a568b4\",\"type\":\"Grid\"},{\"id\":\"247a211c-94fe-4be1-b2c1-f6f06403a581\",\"type\":\"LinearAxis\"},{\"id\":\"8bb0dda4-cd1a-43e1-bd51-16b0561bad96\",\"type\":\"Grid\"},{\"id\":\"67199aed-4309-4e9a-a391-5858f4a0b4c3\",\"type\":\"BoxAnnotation\"},{\"id\":\"48cfd513-c3f1-430e-9e4b-99057fbfedaf\",\"type\":\"GlyphRenderer\"}],\"title\":{\"id\":\"370b4301-3595-4ca7-90b9-3c606157d9e1\",\"type\":\"Title\"},\"toolbar\":{\"id\":\"55b1474a-d01e-4042-ae1e-493ab6c3517f\",\"type\":\"Toolbar\"},\"x_range\":{\"id\":\"d20f55bc-7343-4393-8c14-daedc4d14ce7\",\"type\":\"DataRange1d\"},\"x_scale\":{\"id\":\"1034437d-6917-4030-a37a-a95cf8088dda\",\"type\":\"LinearScale\"},\"y_range\":{\"id\":\"000a0d0a-5312-4fea-9cb1-a733ea858c31\",\"type\":\"DataRange1d\"},\"y_scale\":{\"id\":\"4d34004c-4d93-4af7-bdc1-331373f95a39\",\"type\":\"LinearScale\"}},\"id\":\"48e1fafe-12ac-434e-95e7-8416200c3af0\",\"subtype\":\"Figure\",\"type\":\"Plot\"},{\"attributes\":{},\"id\":\"6391d3d8-0080-4d1b-b5c1-a82dfc54bf1e\",\"type\":\"BasicTickFormatter\"},{\"attributes\":{},\"id\":\"62b45627-7ede-4043-84de-54be5d2fa49a\",\"type\":\"PanTool\"},{\"attributes\":{},\"id\":\"9cc4f530-8ceb-4590-a2fe-65eb2a612a47\",\"type\":\"BasicTickFormatter\"},{\"attributes\":{},\"id\":\"94fb49ab-1d8a-4b59-81c2-7f4b294ccec0\",\"type\":\"WheelZoomTool\"},{\"attributes\":{},\"id\":\"e78d7a9e-af14-4948-8601-706c25424f2c\",\"type\":\"BasicTickFormatter\"},{\"attributes\":{\"overlay\":{\"id\":\"4bf55736-1ff8-4fc2-98e4-41b7a23a0acc\",\"type\":\"BoxAnnotation\"}},\"id\":\"a2a56105-3d78-4bdf-915b-95aa9ce460df\",\"type\":\"BoxZoomTool\"},{\"attributes\":{\"data_source\":{\"id\":\"99b8b5a7-226f-439a-910b-6f84f9a15615\",\"type\":\"ColumnDataSource\"},\"glyph\":{\"id\":\"759e79eb-5007-441c-82bd-86e175ce607b\",\"type\":\"Circle\"},\"hover_glyph\":null,\"muted_glyph\":null,\"nonselection_glyph\":{\"id\":\"2f4fab40-dcb4-4f6b-8c79-8d50532e4eef\",\"type\":\"Circle\"},\"selection_glyph\":null,\"view\":{\"id\":\"7b98dd44-4759-4059-a9f1-2709da976006\",\"type\":\"CDSView\"}},\"id\":\"f8219957-84c1-42af-83e3-d36e184a2e9c\",\"type\":\"GlyphRenderer\"},{\"attributes\":{},\"id\":\"a3f3cfdb-482a-4965-992a-d034ac484a16\",\"type\":\"SaveTool\"},{\"attributes\":{},\"id\":\"d92944c7-78cd-478b-8b22-a3a6f4513a7f\",\"type\":\"ResetTool\"},{\"attributes\":{},\"id\":\"aa6e1954-79bf-4e82-bae9-6717a4b7ff7d\",\"type\":\"HelpTool\"},{\"attributes\":{\"data_source\":{\"id\":\"820fcaf6-4467-46e6-b477-7c40f0c96964\",\"type\":\"ColumnDataSource\"},\"glyph\":{\"id\":\"f2efdb35-1df2-481a-9698-b19a2b23e80c\",\"type\":\"Circle\"},\"hover_glyph\":null,\"muted_glyph\":null,\"nonselection_glyph\":{\"id\":\"792a7b65-a522-4d46-94a7-c9f37be04878\",\"type\":\"Circle\"},\"selection_glyph\":null,\"view\":{\"id\":\"bbca5e98-f6ab-4492-9c41-4e0c7d372111\",\"type\":\"CDSView\"}},\"id\":\"48cfd513-c3f1-430e-9e4b-99057fbfedaf\",\"type\":\"GlyphRenderer\"},{\"attributes\":{},\"id\":\"4d34004c-4d93-4af7-bdc1-331373f95a39\",\"type\":\"LinearScale\"},{\"attributes\":{\"callback\":null},\"id\":\"d20f55bc-7343-4393-8c14-daedc4d14ce7\",\"type\":\"DataRange1d\"},{\"attributes\":{\"fill_alpha\":{\"value\":0.1},\"fill_color\":{\"value\":\"#1f77b4\"},\"line_alpha\":{\"value\":0.1},\"line_color\":{\"value\":\"#1f77b4\"},\"size\":{\"units\":\"screen\",\"value\":20},\"x\":{\"field\":\"x\"},\"y\":{\"field\":\"y\"}},\"id\":\"2f4fab40-dcb4-4f6b-8c79-8d50532e4eef\",\"type\":\"Circle\"},{\"attributes\":{\"fill_color\":{\"value\":\"#1f77b4\"},\"line_color\":{\"value\":\"#1f77b4\"},\"size\":{\"units\":\"screen\",\"value\":20},\"x\":{\"field\":\"x\"},\"y\":{\"field\":\"y\"}},\"id\":\"f2efdb35-1df2-481a-9698-b19a2b23e80c\",\"type\":\"Circle\"},{\"attributes\":{\"active_drag\":\"auto\",\"active_inspect\":\"auto\",\"active_scroll\":\"auto\",\"active_tap\":\"auto\",\"tools\":[{\"id\":\"d73995bf-a193-4ddf-a931-addf24c56201\",\"type\":\"PanTool\"},{\"id\":\"930bb973-e348-4aa6-a0c0-7d9c4aec3817\",\"type\":\"WheelZoomTool\"},{\"id\":\"0c8f2abd-ef36-405b-aa8f-a89626df16d7\",\"type\":\"BoxZoomTool\"},{\"id\":\"ec9c34ff-3668-4203-9017-31e586707f6f\",\"type\":\"SaveTool\"},{\"id\":\"84662ecc-402b-4f04-934c-3e66ae155e16\",\"type\":\"ResetTool\"},{\"id\":\"f0fd7ac4-09b9-4e06-8639-9e23b4c32760\",\"type\":\"HelpTool\"}]},\"id\":\"55b1474a-d01e-4042-ae1e-493ab6c3517f\",\"type\":\"Toolbar\"},{\"attributes\":{\"callback\":null,\"column_names\":[\"x\",\"y\"],\"data\":{\"x\":[1,2,3],\"y\":[4,5,6]}},\"id\":\"820fcaf6-4467-46e6-b477-7c40f0c96964\",\"type\":\"ColumnDataSource\"},{\"attributes\":{\"plot\":{\"id\":\"48e1fafe-12ac-434e-95e7-8416200c3af0\",\"subtype\":\"Figure\",\"type\":\"Plot\"},\"ticker\":{\"id\":\"acb94a06-c382-418c-b10a-c929f7bb4450\",\"type\":\"BasicTicker\"}},\"id\":\"a45ef34d-02a9-4db9-bc1a-2d9aa8a568b4\",\"type\":\"Grid\"},{\"attributes\":{\"callback\":null,\"column_names\":[\"x\",\"y\"],\"data\":{\"x\":[1,2,3],\"y\":[4,5,6]}},\"id\":\"99b8b5a7-226f-439a-910b-6f84f9a15615\",\"type\":\"ColumnDataSource\"},{\"attributes\":{\"callback\":null},\"id\":\"000a0d0a-5312-4fea-9cb1-a733ea858c31\",\"type\":\"DataRange1d\"},{\"attributes\":{\"below\":[{\"id\":\"af733718-1786-462b-9878-f7b0f32a717c\",\"type\":\"LinearAxis\"}],\"left\":[{\"id\":\"db373849-9fbd-4129-a1e5-ec571945c121\",\"type\":\"LinearAxis\"}],\"min_border\":0,\"plot_height\":250,\"plot_width\":250,\"renderers\":[{\"id\":\"af733718-1786-462b-9878-f7b0f32a717c\",\"type\":\"LinearAxis\"},{\"id\":\"d14c163a-5754-482c-be5f-519ab36aaa1c\",\"type\":\"Grid\"},{\"id\":\"db373849-9fbd-4129-a1e5-ec571945c121\",\"type\":\"LinearAxis\"},{\"id\":\"5beec23e-31ce-43e4-a4de-04d30d85604f\",\"type\":\"Grid\"},{\"id\":\"4bf55736-1ff8-4fc2-98e4-41b7a23a0acc\",\"type\":\"BoxAnnotation\"},{\"id\":\"f8219957-84c1-42af-83e3-d36e184a2e9c\",\"type\":\"GlyphRenderer\"}],\"title\":{\"id\":\"8740fed9-ae0f-4f88-b054-9a736a8ae8e2\",\"type\":\"Title\"},\"toolbar\":{\"id\":\"0cad50f0-db79-4bdc-a7b3-17894e5287cf\",\"type\":\"Toolbar\"},\"x_range\":{\"id\":\"b10b2cba-4404-468a-8e43-0f8d32f567d3\",\"type\":\"DataRange1d\"},\"x_scale\":{\"id\":\"fa46cdd7-8fa9-43a7-8033-6dd4eb5637ab\",\"type\":\"LinearScale\"},\"y_range\":{\"id\":\"bc1c626c-68a8-485d-a958-dba8613767d7\",\"type\":\"DataRange1d\"},\"y_scale\":{\"id\":\"9ae706e5-6b85-44ff-bfa7-7c187b4225b7\",\"type\":\"LinearScale\"}},\"id\":\"58d554d4-75fc-44e3-8777-5b6352304d4a\",\"subtype\":\"Figure\",\"type\":\"Plot\"},{\"attributes\":{\"fill_color\":{\"value\":\"#1f77b4\"},\"line_color\":{\"value\":\"#1f77b4\"},\"size\":{\"units\":\"screen\",\"value\":20},\"x\":{\"field\":\"x\"},\"y\":{\"field\":\"y\"}},\"id\":\"759e79eb-5007-441c-82bd-86e175ce607b\",\"type\":\"Circle\"},{\"attributes\":{},\"id\":\"1034437d-6917-4030-a37a-a95cf8088dda\",\"type\":\"LinearScale\"},{\"attributes\":{\"formatter\":{\"id\":\"6391d3d8-0080-4d1b-b5c1-a82dfc54bf1e\",\"type\":\"BasicTickFormatter\"},\"plot\":{\"id\":\"48e1fafe-12ac-434e-95e7-8416200c3af0\",\"subtype\":\"Figure\",\"type\":\"Plot\"},\"ticker\":{\"id\":\"acb94a06-c382-418c-b10a-c929f7bb4450\",\"type\":\"BasicTicker\"}},\"id\":\"49f8eaa2-a543-4f09-9d6d-56c7fa438d06\",\"type\":\"LinearAxis\"},{\"attributes\":{\"active_drag\":\"auto\",\"active_inspect\":\"auto\",\"active_scroll\":\"auto\",\"active_tap\":\"auto\",\"tools\":[{\"id\":\"62b45627-7ede-4043-84de-54be5d2fa49a\",\"type\":\"PanTool\"},{\"id\":\"94fb49ab-1d8a-4b59-81c2-7f4b294ccec0\",\"type\":\"WheelZoomTool\"},{\"id\":\"a2a56105-3d78-4bdf-915b-95aa9ce460df\",\"type\":\"BoxZoomTool\"},{\"id\":\"a3f3cfdb-482a-4965-992a-d034ac484a16\",\"type\":\"SaveTool\"},{\"id\":\"d92944c7-78cd-478b-8b22-a3a6f4513a7f\",\"type\":\"ResetTool\"},{\"id\":\"aa6e1954-79bf-4e82-bae9-6717a4b7ff7d\",\"type\":\"HelpTool\"}]},\"id\":\"0cad50f0-db79-4bdc-a7b3-17894e5287cf\",\"type\":\"Toolbar\"},{\"attributes\":{\"plot\":null,\"text\":\"\"},\"id\":\"8740fed9-ae0f-4f88-b054-9a736a8ae8e2\",\"type\":\"Title\"},{\"attributes\":{},\"id\":\"acb94a06-c382-418c-b10a-c929f7bb4450\",\"type\":\"BasicTicker\"},{\"attributes\":{\"source\":{\"id\":\"99b8b5a7-226f-439a-910b-6f84f9a15615\",\"type\":\"ColumnDataSource\"}},\"id\":\"7b98dd44-4759-4059-a9f1-2709da976006\",\"type\":\"CDSView\"},{\"attributes\":{\"formatter\":{\"id\":\"9cc4f530-8ceb-4590-a2fe-65eb2a612a47\",\"type\":\"BasicTickFormatter\"},\"plot\":{\"id\":\"48e1fafe-12ac-434e-95e7-8416200c3af0\",\"subtype\":\"Figure\",\"type\":\"Plot\"},\"ticker\":{\"id\":\"e89bcd8a-c146-4f4f-8ba8-cf8efc83b879\",\"type\":\"BasicTicker\"}},\"id\":\"247a211c-94fe-4be1-b2c1-f6f06403a581\",\"type\":\"LinearAxis\"},{\"attributes\":{},\"id\":\"dd61cb89-4be3-4a0b-94dd-39d6c977896e\",\"type\":\"BasicTickFormatter\"},{\"attributes\":{},\"id\":\"e89bcd8a-c146-4f4f-8ba8-cf8efc83b879\",\"type\":\"BasicTicker\"},{\"attributes\":{\"dimension\":1,\"plot\":{\"id\":\"48e1fafe-12ac-434e-95e7-8416200c3af0\",\"subtype\":\"Figure\",\"type\":\"Plot\"},\"ticker\":{\"id\":\"e89bcd8a-c146-4f4f-8ba8-cf8efc83b879\",\"type\":\"BasicTicker\"}},\"id\":\"8bb0dda4-cd1a-43e1-bd51-16b0561bad96\",\"type\":\"Grid\"},{\"attributes\":{\"callback\":null},\"id\":\"b10b2cba-4404-468a-8e43-0f8d32f567d3\",\"type\":\"DataRange1d\"},{\"attributes\":{\"fill_alpha\":{\"value\":0.1},\"fill_color\":{\"value\":\"#1f77b4\"},\"line_alpha\":{\"value\":0.1},\"line_color\":{\"value\":\"#1f77b4\"},\"size\":{\"units\":\"screen\",\"value\":20},\"x\":{\"field\":\"x\"},\"y\":{\"field\":\"y\"}},\"id\":\"792a7b65-a522-4d46-94a7-c9f37be04878\",\"type\":\"Circle\"},{\"attributes\":{\"callback\":null},\"id\":\"bc1c626c-68a8-485d-a958-dba8613767d7\",\"type\":\"DataRange1d\"},{\"attributes\":{\"plot\":null,\"text\":\"\"},\"id\":\"370b4301-3595-4ca7-90b9-3c606157d9e1\",\"type\":\"Title\"},{\"attributes\":{},\"id\":\"fa46cdd7-8fa9-43a7-8033-6dd4eb5637ab\",\"type\":\"LinearScale\"},{\"attributes\":{\"children\":[{\"id\":\"58d554d4-75fc-44e3-8777-5b6352304d4a\",\"subtype\":\"Figure\",\"type\":\"Plot\"},{\"id\":\"48e1fafe-12ac-434e-95e7-8416200c3af0\",\"subtype\":\"Figure\",\"type\":\"Plot\"}]},\"id\":\"6e267eac-9a19-4ca7-9f53-5f2c29bd8c22\",\"type\":\"Row\"},{\"attributes\":{},\"id\":\"9ae706e5-6b85-44ff-bfa7-7c187b4225b7\",\"type\":\"LinearScale\"},{\"attributes\":{\"source\":{\"id\":\"820fcaf6-4467-46e6-b477-7c40f0c96964\",\"type\":\"ColumnDataSource\"}},\"id\":\"bbca5e98-f6ab-4492-9c41-4e0c7d372111\",\"type\":\"CDSView\"},{\"attributes\":{},\"id\":\"d73995bf-a193-4ddf-a931-addf24c56201\",\"type\":\"PanTool\"},{\"attributes\":{\"formatter\":{\"id\":\"e78d7a9e-af14-4948-8601-706c25424f2c\",\"type\":\"BasicTickFormatter\"},\"plot\":{\"id\":\"58d554d4-75fc-44e3-8777-5b6352304d4a\",\"subtype\":\"Figure\",\"type\":\"Plot\"},\"ticker\":{\"id\":\"963baca8-4fd2-448e-bbdc-556960ec93f3\",\"type\":\"BasicTicker\"}},\"id\":\"af733718-1786-462b-9878-f7b0f32a717c\",\"type\":\"LinearAxis\"},{\"attributes\":{\"overlay\":{\"id\":\"67199aed-4309-4e9a-a391-5858f4a0b4c3\",\"type\":\"BoxAnnotation\"}},\"id\":\"0c8f2abd-ef36-405b-aa8f-a89626df16d7\",\"type\":\"BoxZoomTool\"},{\"attributes\":{},\"id\":\"963baca8-4fd2-448e-bbdc-556960ec93f3\",\"type\":\"BasicTicker\"},{\"attributes\":{},\"id\":\"930bb973-e348-4aa6-a0c0-7d9c4aec3817\",\"type\":\"WheelZoomTool\"},{\"attributes\":{\"plot\":{\"id\":\"58d554d4-75fc-44e3-8777-5b6352304d4a\",\"subtype\":\"Figure\",\"type\":\"Plot\"},\"ticker\":{\"id\":\"963baca8-4fd2-448e-bbdc-556960ec93f3\",\"type\":\"BasicTicker\"}},\"id\":\"d14c163a-5754-482c-be5f-519ab36aaa1c\",\"type\":\"Grid\"}],\"root_ids\":[\"6e267eac-9a19-4ca7-9f53-5f2c29bd8c22\"]},\"title\":\"Bokeh Application\",\"version\":\"0.12.10\"}};\n",
       "    var render_items = [{\"docid\":\"85229345-cc03-4115-8b64-01a19f7fc3b0\",\"elementid\":\"40cf7d73-2f4f-47c3-81e6-6492d6283189\",\"modelid\":\"6e267eac-9a19-4ca7-9f53-5f2c29bd8c22\",\"notebook_comms_target\":\"dfdb614d-e0eb-4f6b-95a6-70b5c25a5cad\"}];\n",
       "\n",
       "    root.Bokeh.embed.embed_items(docs_json, render_items);\n",
       "  }\n",
       "\n",
       "  if (root.Bokeh !== undefined) {\n",
       "    embed_document(root);\n",
       "  } else {\n",
       "    var attempts = 0;\n",
       "    var timer = setInterval(function(root) {\n",
       "      if (root.Bokeh !== undefined) {\n",
       "        embed_document(root);\n",
       "        clearInterval(timer);\n",
       "      }\n",
       "      attempts++;\n",
       "      if (attempts > 100) {\n",
       "        console.log(\"Bokeh: ERROR: Unable to embed document because BokehJS library is missing\")\n",
       "        clearInterval(timer);\n",
       "      }\n",
       "    }, 10, root)\n",
       "  }\n",
       "})(window);"
      ],
      "application/vnd.bokehjs_exec.v0+json": ""
     },
     "metadata": {
      "application/vnd.bokehjs_exec.v0+json": {
       "id": "6e267eac-9a19-4ca7-9f53-5f2c29bd8c22"
      }
     },
     "output_type": "display_data"
    }
   ],
   "source": [
    "p1 = figure(**opts)\n",
    "r1 = p1.circle([1,2,3], [4,5,6], size=20)\n",
    "\n",
    "p2 = figure(**opts)\n",
    "r2 = p2.circle([1,2,3], [4,5,6], size=20)\n",
    "\n",
    "# get a handle to update the shown cell with\n",
    "t = show(row(p1, p2), notebook_handle=True)"
   ]
  },
  {
   "cell_type": "code",
   "execution_count": 4,
   "metadata": {},
   "outputs": [
    {
     "data": {
      "text/html": [
       "<p><code>&lt;Bokeh Notebook handle for <strong>In[3]</strong>&gt;</code></p>"
      ],
      "text/plain": [
       "<bokeh.io.notebook.CommsHandle at 0x112b407b8>"
      ]
     },
     "execution_count": 4,
     "metadata": {},
     "output_type": "execute_result"
    }
   ],
   "source": [
    "# the comms handle repr show what cell it can be used to update\n",
    "t"
   ]
  },
  {
   "cell_type": "code",
   "execution_count": 5,
   "metadata": {},
   "outputs": [],
   "source": [
    "# this will update the left plot circle color with an explicit handle\n",
    "r1.glyph.fill_color = \"white\"\n",
    "push_notebook(handle=t)"
   ]
  },
  {
   "cell_type": "code",
   "execution_count": 6,
   "metadata": {},
   "outputs": [],
   "source": [
    "# and this will update the right plot circle color because it was in the last shown cell\n",
    "r2.glyph.fill_color = \"pink\"\n",
    "push_notebook()"
   ]
  },
  {
   "cell_type": "code",
   "execution_count": 7,
   "metadata": {},
   "outputs": [
    {
     "data": {
      "text/html": [
       "\n",
       "<div class=\"bk-root\">\n",
       "    <div class=\"bk-plotdiv\" id=\"23a3de6f-2707-4105-ab2f-aeb9f130fb70\"></div>\n",
       "</div>"
      ]
     },
     "metadata": {},
     "output_type": "display_data"
    },
    {
     "data": {
      "application/javascript": [
       "(function(root) {\n",
       "  function embed_document(root) {\n",
       "    var docs_json = {\"1d445c9a-a2b6-4bd2-b92c-2b32e8897419\":{\"roots\":{\"references\":[{\"attributes\":{\"bottom_units\":\"screen\",\"fill_alpha\":{\"value\":0.5},\"fill_color\":{\"value\":\"lightgrey\"},\"left_units\":\"screen\",\"level\":\"overlay\",\"line_alpha\":{\"value\":1.0},\"line_color\":{\"value\":\"black\"},\"line_dash\":[4,4],\"line_width\":{\"value\":2},\"plot\":null,\"render_mode\":\"css\",\"right_units\":\"screen\",\"top_units\":\"screen\"},\"id\":\"58507e82-f93b-467d-9203-9e98568a6fdd\",\"type\":\"BoxAnnotation\"},{\"attributes\":{},\"id\":\"d923a4df-0cc3-442a-bf45-cbc01a2a7938\",\"type\":\"PanTool\"},{\"attributes\":{\"source\":{\"id\":\"3a141844-6314-4877-91ac-2f41bd531f01\",\"type\":\"ColumnDataSource\"}},\"id\":\"8d2c4a20-58aa-467e-a186-52b692b4f1e5\",\"type\":\"CDSView\"},{\"attributes\":{},\"id\":\"3b39bad7-d6e7-40ce-90ae-17dd2dc9b86d\",\"type\":\"WheelZoomTool\"},{\"attributes\":{\"fill_alpha\":{\"value\":0.1},\"fill_color\":{\"value\":\"#1f77b4\"},\"line_alpha\":{\"value\":0.1},\"line_color\":{\"value\":\"#1f77b4\"},\"size\":{\"units\":\"screen\",\"value\":20},\"x\":{\"field\":\"x\"},\"y\":{\"field\":\"y\"}},\"id\":\"a8b2395b-6cb9-46de-9502-2591f303e16b\",\"type\":\"Circle\"},{\"attributes\":{\"overlay\":{\"id\":\"58507e82-f93b-467d-9203-9e98568a6fdd\",\"type\":\"BoxAnnotation\"}},\"id\":\"b5fc885c-b633-4665-84fe-55c888101508\",\"type\":\"BoxZoomTool\"},{\"attributes\":{\"callback\":null},\"id\":\"c55b504a-68ad-4c48-af35-ba0ddde379f5\",\"type\":\"DataRange1d\"},{\"attributes\":{},\"id\":\"c2addb2b-ee59-4887-a039-f2f837d81eb2\",\"type\":\"SaveTool\"},{\"attributes\":{},\"id\":\"fbd99b19-73e4-48ce-afe4-a692d1c0bc4c\",\"type\":\"LinearScale\"},{\"attributes\":{\"callback\":null,\"column_names\":[\"x\",\"y\"],\"data\":{\"x\":[1,2,3],\"y\":[4,5,6]}},\"id\":\"3a141844-6314-4877-91ac-2f41bd531f01\",\"type\":\"ColumnDataSource\"},{\"attributes\":{\"below\":[{\"id\":\"fd70118c-e5d8-4481-8c0f-4ca847d2399c\",\"type\":\"LinearAxis\"}],\"left\":[{\"id\":\"56966642-8ad3-447f-afde-f237c6a69ab5\",\"type\":\"LinearAxis\"}],\"min_border\":0,\"plot_height\":250,\"plot_width\":250,\"renderers\":[{\"id\":\"fd70118c-e5d8-4481-8c0f-4ca847d2399c\",\"type\":\"LinearAxis\"},{\"id\":\"93efd298-67e6-43c2-b5ec-417c1563baa3\",\"type\":\"Grid\"},{\"id\":\"56966642-8ad3-447f-afde-f237c6a69ab5\",\"type\":\"LinearAxis\"},{\"id\":\"15b335a4-658d-4e78-a435-62d8202bc9f6\",\"type\":\"Grid\"},{\"id\":\"58507e82-f93b-467d-9203-9e98568a6fdd\",\"type\":\"BoxAnnotation\"},{\"id\":\"cf0d0e95-a989-4f3c-b258-7a26826ce0f9\",\"type\":\"GlyphRenderer\"}],\"title\":{\"id\":\"b2749d0f-49e7-4b7c-9aad-1cfd43c2f730\",\"type\":\"Title\"},\"toolbar\":{\"id\":\"fe499581-886a-4237-ac81-673e818c3c60\",\"type\":\"Toolbar\"},\"x_range\":{\"id\":\"963a0e1b-d202-413d-a281-a01e632bafa1\",\"type\":\"DataRange1d\"},\"x_scale\":{\"id\":\"fbd99b19-73e4-48ce-afe4-a692d1c0bc4c\",\"type\":\"LinearScale\"},\"y_range\":{\"id\":\"c55b504a-68ad-4c48-af35-ba0ddde379f5\",\"type\":\"DataRange1d\"},\"y_scale\":{\"id\":\"90f4ee8b-d9cd-4a9d-8d06-9c138b2267dc\",\"type\":\"LinearScale\"}},\"id\":\"5b6eefbf-fc9a-4fb0-95cf-b356b0dde7e8\",\"subtype\":\"Figure\",\"type\":\"Plot\"},{\"attributes\":{},\"id\":\"a46e2c34-2d11-452e-854b-26799d9e9ff8\",\"type\":\"ResetTool\"},{\"attributes\":{},\"id\":\"90f4ee8b-d9cd-4a9d-8d06-9c138b2267dc\",\"type\":\"LinearScale\"},{\"attributes\":{},\"id\":\"04a3351f-6ba2-4eca-8a14-5158bae98829\",\"type\":\"HelpTool\"},{\"attributes\":{\"plot\":{\"id\":\"5b6eefbf-fc9a-4fb0-95cf-b356b0dde7e8\",\"subtype\":\"Figure\",\"type\":\"Plot\"},\"ticker\":{\"id\":\"adfd3b81-f4b3-4199-9cbc-801fce48b510\",\"type\":\"BasicTicker\"}},\"id\":\"93efd298-67e6-43c2-b5ec-417c1563baa3\",\"type\":\"Grid\"},{\"attributes\":{\"formatter\":{\"id\":\"56a0151f-b7ba-40f0-bc06-c005eaf67b90\",\"type\":\"BasicTickFormatter\"},\"plot\":{\"id\":\"5b6eefbf-fc9a-4fb0-95cf-b356b0dde7e8\",\"subtype\":\"Figure\",\"type\":\"Plot\"},\"ticker\":{\"id\":\"adfd3b81-f4b3-4199-9cbc-801fce48b510\",\"type\":\"BasicTicker\"}},\"id\":\"fd70118c-e5d8-4481-8c0f-4ca847d2399c\",\"type\":\"LinearAxis\"},{\"attributes\":{},\"id\":\"56a0151f-b7ba-40f0-bc06-c005eaf67b90\",\"type\":\"BasicTickFormatter\"},{\"attributes\":{\"plot\":null,\"text\":\"\"},\"id\":\"b2749d0f-49e7-4b7c-9aad-1cfd43c2f730\",\"type\":\"Title\"},{\"attributes\":{},\"id\":\"adfd3b81-f4b3-4199-9cbc-801fce48b510\",\"type\":\"BasicTicker\"},{\"attributes\":{\"formatter\":{\"id\":\"07c421b6-a00a-4c3d-9098-615867be6742\",\"type\":\"BasicTickFormatter\"},\"plot\":{\"id\":\"5b6eefbf-fc9a-4fb0-95cf-b356b0dde7e8\",\"subtype\":\"Figure\",\"type\":\"Plot\"},\"ticker\":{\"id\":\"d7af33f6-389f-40b4-878c-38fa94415947\",\"type\":\"BasicTicker\"}},\"id\":\"56966642-8ad3-447f-afde-f237c6a69ab5\",\"type\":\"LinearAxis\"},{\"attributes\":{\"active_drag\":\"auto\",\"active_inspect\":\"auto\",\"active_scroll\":\"auto\",\"active_tap\":\"auto\",\"tools\":[{\"id\":\"d923a4df-0cc3-442a-bf45-cbc01a2a7938\",\"type\":\"PanTool\"},{\"id\":\"3b39bad7-d6e7-40ce-90ae-17dd2dc9b86d\",\"type\":\"WheelZoomTool\"},{\"id\":\"b5fc885c-b633-4665-84fe-55c888101508\",\"type\":\"BoxZoomTool\"},{\"id\":\"c2addb2b-ee59-4887-a039-f2f837d81eb2\",\"type\":\"SaveTool\"},{\"id\":\"a46e2c34-2d11-452e-854b-26799d9e9ff8\",\"type\":\"ResetTool\"},{\"id\":\"04a3351f-6ba2-4eca-8a14-5158bae98829\",\"type\":\"HelpTool\"}]},\"id\":\"fe499581-886a-4237-ac81-673e818c3c60\",\"type\":\"Toolbar\"},{\"attributes\":{},\"id\":\"d7af33f6-389f-40b4-878c-38fa94415947\",\"type\":\"BasicTicker\"},{\"attributes\":{\"dimension\":1,\"plot\":{\"id\":\"5b6eefbf-fc9a-4fb0-95cf-b356b0dde7e8\",\"subtype\":\"Figure\",\"type\":\"Plot\"},\"ticker\":{\"id\":\"d7af33f6-389f-40b4-878c-38fa94415947\",\"type\":\"BasicTicker\"}},\"id\":\"15b335a4-658d-4e78-a435-62d8202bc9f6\",\"type\":\"Grid\"},{\"attributes\":{\"data_source\":{\"id\":\"3a141844-6314-4877-91ac-2f41bd531f01\",\"type\":\"ColumnDataSource\"},\"glyph\":{\"id\":\"bc70618f-fe84-455c-a8fc-30e9049533e6\",\"type\":\"Circle\"},\"hover_glyph\":null,\"muted_glyph\":null,\"nonselection_glyph\":{\"id\":\"a8b2395b-6cb9-46de-9502-2591f303e16b\",\"type\":\"Circle\"},\"selection_glyph\":null,\"view\":{\"id\":\"8d2c4a20-58aa-467e-a186-52b692b4f1e5\",\"type\":\"CDSView\"}},\"id\":\"cf0d0e95-a989-4f3c-b258-7a26826ce0f9\",\"type\":\"GlyphRenderer\"},{\"attributes\":{\"fill_color\":{\"value\":\"#1f77b4\"},\"line_color\":{\"value\":\"#1f77b4\"},\"size\":{\"units\":\"screen\",\"value\":20},\"x\":{\"field\":\"x\"},\"y\":{\"field\":\"y\"}},\"id\":\"bc70618f-fe84-455c-a8fc-30e9049533e6\",\"type\":\"Circle\"},{\"attributes\":{},\"id\":\"07c421b6-a00a-4c3d-9098-615867be6742\",\"type\":\"BasicTickFormatter\"},{\"attributes\":{\"callback\":null},\"id\":\"963a0e1b-d202-413d-a281-a01e632bafa1\",\"type\":\"DataRange1d\"}],\"root_ids\":[\"5b6eefbf-fc9a-4fb0-95cf-b356b0dde7e8\"]},\"title\":\"Bokeh Application\",\"version\":\"0.12.10\"}};\n",
       "    var render_items = [{\"docid\":\"1d445c9a-a2b6-4bd2-b92c-2b32e8897419\",\"elementid\":\"23a3de6f-2707-4105-ab2f-aeb9f130fb70\",\"modelid\":\"5b6eefbf-fc9a-4fb0-95cf-b356b0dde7e8\",\"notebook_comms_target\":\"ede81c2b-7a87-4e61-b401-d80f32e33f40\"}];\n",
       "\n",
       "    root.Bokeh.embed.embed_items(docs_json, render_items);\n",
       "  }\n",
       "\n",
       "  if (root.Bokeh !== undefined) {\n",
       "    embed_document(root);\n",
       "  } else {\n",
       "    var attempts = 0;\n",
       "    var timer = setInterval(function(root) {\n",
       "      if (root.Bokeh !== undefined) {\n",
       "        embed_document(root);\n",
       "        clearInterval(timer);\n",
       "      }\n",
       "      attempts++;\n",
       "      if (attempts > 100) {\n",
       "        console.log(\"Bokeh: ERROR: Unable to embed document because BokehJS library is missing\")\n",
       "        clearInterval(timer);\n",
       "      }\n",
       "    }, 10, root)\n",
       "  }\n",
       "})(window);"
      ],
      "application/vnd.bokehjs_exec.v0+json": ""
     },
     "metadata": {
      "application/vnd.bokehjs_exec.v0+json": {
       "id": "5b6eefbf-fc9a-4fb0-95cf-b356b0dde7e8"
      }
     },
     "output_type": "display_data"
    }
   ],
   "source": [
    "p3 = figure(**opts)\n",
    "r3 = p3.circle([1,2,3], [4,5,6], size=20)\n",
    "\n",
    "# get a handle to update the shown cell with\n",
    "t2 = show(p3, notebook_handle=True) "
   ]
  },
  {
   "cell_type": "code",
   "execution_count": 8,
   "metadata": {},
   "outputs": [
    {
     "data": {
      "text/html": [
       "<p><code>&lt;Bokeh Notebook handle for <strong>In[7]</strong>&gt;</code></p>"
      ],
      "text/plain": [
       "<bokeh.io.notebook.CommsHandle at 0x112b8d7f0>"
      ]
     },
     "execution_count": 8,
     "metadata": {},
     "output_type": "execute_result"
    }
   ],
   "source": [
    "# show which cell t2 handles\n",
    "t2"
   ]
  },
  {
   "cell_type": "code",
   "execution_count": 9,
   "metadata": {},
   "outputs": [],
   "source": [
    "# this updates the immediately previous cell with an explicit handle\n",
    "r3.glyph.fill_color = \"orange\"\n",
    "push_notebook(handle=t2)"
   ]
  },
  {
   "cell_type": "code",
   "execution_count": 10,
   "metadata": {},
   "outputs": [],
   "source": [
    "# this updates the left plot at the top with an explicit handle\n",
    "r1.glyph.fill_color = \"orange\"\n",
    "push_notebook(handle=t)"
   ]
  },
  {
   "cell_type": "code",
   "execution_count": 11,
   "metadata": {},
   "outputs": [
    {
     "data": {
      "text/html": [
       "\n",
       "<div class=\"bk-root\">\n",
       "    <div class=\"bk-plotdiv\" id=\"f5900a82-c807-4a2a-b057-d7646fabb4cc\"></div>\n",
       "</div>"
      ]
     },
     "metadata": {},
     "output_type": "display_data"
    },
    {
     "data": {
      "application/javascript": [
       "(function(root) {\n",
       "  function embed_document(root) {\n",
       "    var docs_json = {\"c0871a7b-96ff-41bb-b56a-1072e90b1d49\":{\"roots\":{\"references\":[{\"attributes\":{\"fill_color\":{\"value\":\"pink\"},\"line_color\":{\"value\":\"#1f77b4\"},\"size\":{\"units\":\"screen\",\"value\":20},\"x\":{\"field\":\"x\"},\"y\":{\"field\":\"y\"}},\"id\":\"f2efdb35-1df2-481a-9698-b19a2b23e80c\",\"type\":\"Circle\"},{\"attributes\":{\"bottom_units\":\"screen\",\"fill_alpha\":{\"value\":0.5},\"fill_color\":{\"value\":\"lightgrey\"},\"left_units\":\"screen\",\"level\":\"overlay\",\"line_alpha\":{\"value\":1.0},\"line_color\":{\"value\":\"black\"},\"line_dash\":[4,4],\"line_width\":{\"value\":2},\"plot\":null,\"render_mode\":\"css\",\"right_units\":\"screen\",\"top_units\":\"screen\"},\"id\":\"67199aed-4309-4e9a-a391-5858f4a0b4c3\",\"type\":\"BoxAnnotation\"},{\"attributes\":{\"active_drag\":\"auto\",\"active_inspect\":\"auto\",\"active_scroll\":\"auto\",\"active_tap\":\"auto\",\"tools\":[{\"id\":\"d73995bf-a193-4ddf-a931-addf24c56201\",\"type\":\"PanTool\"},{\"id\":\"930bb973-e348-4aa6-a0c0-7d9c4aec3817\",\"type\":\"WheelZoomTool\"},{\"id\":\"0c8f2abd-ef36-405b-aa8f-a89626df16d7\",\"type\":\"BoxZoomTool\"},{\"id\":\"ec9c34ff-3668-4203-9017-31e586707f6f\",\"type\":\"SaveTool\"},{\"id\":\"84662ecc-402b-4f04-934c-3e66ae155e16\",\"type\":\"ResetTool\"},{\"id\":\"f0fd7ac4-09b9-4e06-8639-9e23b4c32760\",\"type\":\"HelpTool\"}]},\"id\":\"55b1474a-d01e-4042-ae1e-493ab6c3517f\",\"type\":\"Toolbar\"},{\"attributes\":{},\"id\":\"ec9c34ff-3668-4203-9017-31e586707f6f\",\"type\":\"SaveTool\"},{\"attributes\":{\"callback\":null,\"column_names\":[\"x\",\"y\"],\"data\":{\"x\":[1,2,3],\"y\":[4,5,6]}},\"id\":\"820fcaf6-4467-46e6-b477-7c40f0c96964\",\"type\":\"ColumnDataSource\"},{\"attributes\":{},\"id\":\"84662ecc-402b-4f04-934c-3e66ae155e16\",\"type\":\"ResetTool\"},{\"attributes\":{\"plot\":{\"id\":\"48e1fafe-12ac-434e-95e7-8416200c3af0\",\"subtype\":\"Figure\",\"type\":\"Plot\"},\"ticker\":{\"id\":\"acb94a06-c382-418c-b10a-c929f7bb4450\",\"type\":\"BasicTicker\"}},\"id\":\"a45ef34d-02a9-4db9-bc1a-2d9aa8a568b4\",\"type\":\"Grid\"},{\"attributes\":{},\"id\":\"f0fd7ac4-09b9-4e06-8639-9e23b4c32760\",\"type\":\"HelpTool\"},{\"attributes\":{\"below\":[{\"id\":\"49f8eaa2-a543-4f09-9d6d-56c7fa438d06\",\"type\":\"LinearAxis\"}],\"left\":[{\"id\":\"247a211c-94fe-4be1-b2c1-f6f06403a581\",\"type\":\"LinearAxis\"}],\"min_border\":0,\"plot_height\":250,\"plot_width\":250,\"renderers\":[{\"id\":\"49f8eaa2-a543-4f09-9d6d-56c7fa438d06\",\"type\":\"LinearAxis\"},{\"id\":\"a45ef34d-02a9-4db9-bc1a-2d9aa8a568b4\",\"type\":\"Grid\"},{\"id\":\"247a211c-94fe-4be1-b2c1-f6f06403a581\",\"type\":\"LinearAxis\"},{\"id\":\"8bb0dda4-cd1a-43e1-bd51-16b0561bad96\",\"type\":\"Grid\"},{\"id\":\"67199aed-4309-4e9a-a391-5858f4a0b4c3\",\"type\":\"BoxAnnotation\"},{\"id\":\"48cfd513-c3f1-430e-9e4b-99057fbfedaf\",\"type\":\"GlyphRenderer\"}],\"title\":{\"id\":\"370b4301-3595-4ca7-90b9-3c606157d9e1\",\"type\":\"Title\"},\"toolbar\":{\"id\":\"55b1474a-d01e-4042-ae1e-493ab6c3517f\",\"type\":\"Toolbar\"},\"x_range\":{\"id\":\"d20f55bc-7343-4393-8c14-daedc4d14ce7\",\"type\":\"DataRange1d\"},\"x_scale\":{\"id\":\"1034437d-6917-4030-a37a-a95cf8088dda\",\"type\":\"LinearScale\"},\"y_range\":{\"id\":\"000a0d0a-5312-4fea-9cb1-a733ea858c31\",\"type\":\"DataRange1d\"},\"y_scale\":{\"id\":\"4d34004c-4d93-4af7-bdc1-331373f95a39\",\"type\":\"LinearScale\"}},\"id\":\"48e1fafe-12ac-434e-95e7-8416200c3af0\",\"subtype\":\"Figure\",\"type\":\"Plot\"},{\"attributes\":{\"callback\":null},\"id\":\"000a0d0a-5312-4fea-9cb1-a733ea858c31\",\"type\":\"DataRange1d\"},{\"attributes\":{},\"id\":\"6391d3d8-0080-4d1b-b5c1-a82dfc54bf1e\",\"type\":\"BasicTickFormatter\"},{\"attributes\":{},\"id\":\"1034437d-6917-4030-a37a-a95cf8088dda\",\"type\":\"LinearScale\"},{\"attributes\":{\"formatter\":{\"id\":\"6391d3d8-0080-4d1b-b5c1-a82dfc54bf1e\",\"type\":\"BasicTickFormatter\"},\"plot\":{\"id\":\"48e1fafe-12ac-434e-95e7-8416200c3af0\",\"subtype\":\"Figure\",\"type\":\"Plot\"},\"ticker\":{\"id\":\"acb94a06-c382-418c-b10a-c929f7bb4450\",\"type\":\"BasicTicker\"}},\"id\":\"49f8eaa2-a543-4f09-9d6d-56c7fa438d06\",\"type\":\"LinearAxis\"},{\"attributes\":{},\"id\":\"9cc4f530-8ceb-4590-a2fe-65eb2a612a47\",\"type\":\"BasicTickFormatter\"},{\"attributes\":{},\"id\":\"acb94a06-c382-418c-b10a-c929f7bb4450\",\"type\":\"BasicTicker\"},{\"attributes\":{\"formatter\":{\"id\":\"9cc4f530-8ceb-4590-a2fe-65eb2a612a47\",\"type\":\"BasicTickFormatter\"},\"plot\":{\"id\":\"48e1fafe-12ac-434e-95e7-8416200c3af0\",\"subtype\":\"Figure\",\"type\":\"Plot\"},\"ticker\":{\"id\":\"e89bcd8a-c146-4f4f-8ba8-cf8efc83b879\",\"type\":\"BasicTicker\"}},\"id\":\"247a211c-94fe-4be1-b2c1-f6f06403a581\",\"type\":\"LinearAxis\"},{\"attributes\":{},\"id\":\"e89bcd8a-c146-4f4f-8ba8-cf8efc83b879\",\"type\":\"BasicTicker\"},{\"attributes\":{\"dimension\":1,\"plot\":{\"id\":\"48e1fafe-12ac-434e-95e7-8416200c3af0\",\"subtype\":\"Figure\",\"type\":\"Plot\"},\"ticker\":{\"id\":\"e89bcd8a-c146-4f4f-8ba8-cf8efc83b879\",\"type\":\"BasicTicker\"}},\"id\":\"8bb0dda4-cd1a-43e1-bd51-16b0561bad96\",\"type\":\"Grid\"},{\"attributes\":{\"fill_alpha\":{\"value\":0.1},\"fill_color\":{\"value\":\"#1f77b4\"},\"line_alpha\":{\"value\":0.1},\"line_color\":{\"value\":\"#1f77b4\"},\"size\":{\"units\":\"screen\",\"value\":20},\"x\":{\"field\":\"x\"},\"y\":{\"field\":\"y\"}},\"id\":\"792a7b65-a522-4d46-94a7-c9f37be04878\",\"type\":\"Circle\"},{\"attributes\":{\"plot\":null,\"text\":\"\"},\"id\":\"370b4301-3595-4ca7-90b9-3c606157d9e1\",\"type\":\"Title\"},{\"attributes\":{\"source\":{\"id\":\"820fcaf6-4467-46e6-b477-7c40f0c96964\",\"type\":\"ColumnDataSource\"}},\"id\":\"bbca5e98-f6ab-4492-9c41-4e0c7d372111\",\"type\":\"CDSView\"},{\"attributes\":{},\"id\":\"d73995bf-a193-4ddf-a931-addf24c56201\",\"type\":\"PanTool\"},{\"attributes\":{\"data_source\":{\"id\":\"820fcaf6-4467-46e6-b477-7c40f0c96964\",\"type\":\"ColumnDataSource\"},\"glyph\":{\"id\":\"f2efdb35-1df2-481a-9698-b19a2b23e80c\",\"type\":\"Circle\"},\"hover_glyph\":null,\"muted_glyph\":null,\"nonselection_glyph\":{\"id\":\"792a7b65-a522-4d46-94a7-c9f37be04878\",\"type\":\"Circle\"},\"selection_glyph\":null,\"view\":{\"id\":\"bbca5e98-f6ab-4492-9c41-4e0c7d372111\",\"type\":\"CDSView\"}},\"id\":\"48cfd513-c3f1-430e-9e4b-99057fbfedaf\",\"type\":\"GlyphRenderer\"},{\"attributes\":{\"overlay\":{\"id\":\"67199aed-4309-4e9a-a391-5858f4a0b4c3\",\"type\":\"BoxAnnotation\"}},\"id\":\"0c8f2abd-ef36-405b-aa8f-a89626df16d7\",\"type\":\"BoxZoomTool\"},{\"attributes\":{},\"id\":\"4d34004c-4d93-4af7-bdc1-331373f95a39\",\"type\":\"LinearScale\"},{\"attributes\":{},\"id\":\"930bb973-e348-4aa6-a0c0-7d9c4aec3817\",\"type\":\"WheelZoomTool\"},{\"attributes\":{\"callback\":null},\"id\":\"d20f55bc-7343-4393-8c14-daedc4d14ce7\",\"type\":\"DataRange1d\"}],\"root_ids\":[\"48e1fafe-12ac-434e-95e7-8416200c3af0\"]},\"title\":\"Bokeh Application\",\"version\":\"0.12.10\"}};\n",
       "    var render_items = [{\"docid\":\"c0871a7b-96ff-41bb-b56a-1072e90b1d49\",\"elementid\":\"f5900a82-c807-4a2a-b057-d7646fabb4cc\",\"modelid\":\"48e1fafe-12ac-434e-95e7-8416200c3af0\",\"notebook_comms_target\":\"63d0fc52-3056-45de-a9f9-e5250de69efa\"}];\n",
       "\n",
       "    root.Bokeh.embed.embed_items(docs_json, render_items);\n",
       "  }\n",
       "\n",
       "  if (root.Bokeh !== undefined) {\n",
       "    embed_document(root);\n",
       "  } else {\n",
       "    var attempts = 0;\n",
       "    var timer = setInterval(function(root) {\n",
       "      if (root.Bokeh !== undefined) {\n",
       "        embed_document(root);\n",
       "        clearInterval(timer);\n",
       "      }\n",
       "      attempts++;\n",
       "      if (attempts > 100) {\n",
       "        console.log(\"Bokeh: ERROR: Unable to embed document because BokehJS library is missing\")\n",
       "        clearInterval(timer);\n",
       "      }\n",
       "    }, 10, root)\n",
       "  }\n",
       "})(window);"
      ],
      "application/vnd.bokehjs_exec.v0+json": ""
     },
     "metadata": {
      "application/vnd.bokehjs_exec.v0+json": {
       "id": "48e1fafe-12ac-434e-95e7-8416200c3af0"
      }
     },
     "output_type": "display_data"
    }
   ],
   "source": [
    "# get a handle to update the shown cell with\n",
    "t3 = show(p2, notebook_handle=True)"
   ]
  },
  {
   "cell_type": "code",
   "execution_count": 12,
   "metadata": {},
   "outputs": [],
   "source": [
    "# this will update the immediately previous plot circle color because it was in the last shown cell\n",
    "r2.glyph.fill_color = \"red\"\n",
    "push_notebook()"
   ]
  },
  {
   "cell_type": "code",
   "execution_count": 13,
   "metadata": {},
   "outputs": [],
   "source": [
    "# this will update the immediately previous plot circle color with an explicit handle\n",
    "r2.glyph.fill_color = \"blue\"\n",
    "push_notebook(handle=t3)"
   ]
  },
  {
   "cell_type": "code",
   "execution_count": null,
   "metadata": {},
   "outputs": [],
   "source": []
  },
  {
   "cell_type": "code",
   "execution_count": null,
   "metadata": {},
   "outputs": [],
   "source": []
  }
 ],
 "metadata": {
  "kernelspec": {
   "display_name": "Python 3",
   "language": "python",
   "name": "python3"
  },
  "language_info": {
   "codemirror_mode": {
    "name": "ipython",
    "version": 3
   },
   "file_extension": ".py",
   "mimetype": "text/x-python",
   "name": "python",
   "nbconvert_exporter": "python",
   "pygments_lexer": "ipython3",
   "version": "3.6.3"
  }
 },
 "nbformat": 4,
 "nbformat_minor": 1
}
