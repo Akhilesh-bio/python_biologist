{
 "cells": [
  {
   "cell_type": "markdown",
   "metadata": {},
   "source": [
    "# Visualizing with the `ggplot`\n",
    "***"
   ]
  },
  {
   "cell_type": "code",
   "execution_count": null,
   "metadata": {},
   "outputs": [],
   "source": [
    "# %pip install -U ggplot\n",
    "# or \n",
    "## !conda install -y -c conda-forge ggplot\n",
    "# or\n",
    "%pip install git+https://github.com/yhat/ggplot.git"
   ]
  },
  {
   "cell_type": "code",
   "execution_count": null,
   "metadata": {},
   "outputs": [],
   "source": [
    "%matplotlib inline\n",
    "\n",
    "# standard\n",
    "import matplotlib.pyplot as plt\n",
    "import pandas as pd\n",
    "import numpy as np\n",
    "\n",
    "# I've got style,\n",
    "# miles and miles\n",
    "import seaborn as sns\n",
    "sns.set()\n",
    "sns.set_context('notebook', font_scale=1.0)\n",
    "cp = sns.color_palette()"
   ]
  },
  {
   "cell_type": "code",
   "execution_count": null,
   "metadata": {},
   "outputs": [],
   "source": [
    "#Please go to .../site-packages/ggplot/stats/smoothers.py and change\n",
    "\n",
    "# from pandas.lib import Timestamp\n",
    "# to\n",
    "\n",
    "from pandas import Timestamp\n",
    "from ggplot import *"
   ]
  },
  {
   "cell_type": "markdown",
   "metadata": {},
   "source": [
    "<br/>\n",
    "\n",
    "### Thing 1: Line Chart (with many lines)\n",
    "***"
   ]
  },
  {
   "cell_type": "code",
   "execution_count": null,
   "metadata": {},
   "outputs": [],
   "source": [
    "ts = pd.read_csv('data/ts.csv')\n",
    "\n",
    "# casting to datetime is important for\n",
    "# ensuring plots \"just work\"\n",
    "ts = ts.assign(dt = pd.to_datetime(ts.dt))\n",
    "ts.head()"
   ]
  },
  {
   "cell_type": "code",
   "execution_count": null,
   "metadata": {},
   "outputs": [],
   "source": [
    "# in matplotlib-land, the notion of a \"tidy\"\n",
    "# dataframe matters not\n",
    "dfp = ts.pivot(index='dt', columns='kind', values='value')\n",
    "dfp.head()"
   ]
  },
  {
   "cell_type": "code",
   "execution_count": null,
   "metadata": {},
   "outputs": [],
   "source": [
    "fig, ax = plt.subplots(1, 1, figsize=(7.5, 5))\n",
    "\n",
    "g = ggplot(ts, aes(x='dt', y='value', color='kind')) + \\\n",
    "        geom_line(size=2.0) + \\\n",
    "        xlab('Date') + \\\n",
    "        ylab('Value') + \\\n",
    "        ggtitle('Random Timeseries')\n",
    "g"
   ]
  },
  {
   "cell_type": "markdown",
   "metadata": {},
   "source": [
    "<br/>\n",
    "\n",
    "### Thing 2: Scatter\n",
    "***"
   ]
  },
  {
   "cell_type": "code",
   "execution_count": null,
   "metadata": {},
   "outputs": [],
   "source": [
    "df = pd.read_csv('data/iris.csv')\n",
    "df.head()"
   ]
  },
  {
   "cell_type": "code",
   "execution_count": null,
   "metadata": {},
   "outputs": [],
   "source": [
    "g = ggplot(df, aes(x='petalLength',\n",
    "                   y='petalWidth',\n",
    "                   color='species')) + \\\n",
    "        geom_point(size=40.0) + \\\n",
    "        ggtitle('Petal Width v. Length -- by Species')\n",
    "g"
   ]
  },
  {
   "cell_type": "markdown",
   "metadata": {},
   "source": [
    "<br/>\n",
    "\n",
    "### Thing 3: Trellising the Above\n",
    "***"
   ]
  },
  {
   "cell_type": "code",
   "execution_count": null,
   "metadata": {},
   "outputs": [],
   "source": [
    "fig, ax = plt.subplots(2, 2, figsize=(10, 10))\n",
    "\n",
    "g = ggplot(ts, aes(x='dt', y='value', color='kind')) + \\\n",
    "        geom_line(size=2.0) + \\\n",
    "        facet_wrap(x='kind', ncol=2) + \\\n",
    "        ggtitle('Random Timeseries')\n",
    "g"
   ]
  },
  {
   "cell_type": "code",
   "execution_count": null,
   "metadata": {},
   "outputs": [],
   "source": [
    "g = ggplot(df, aes(x='petalLength',\n",
    "                   y='petalWidth',\n",
    "                   color='species')) + \\\n",
    "        facet_grid(y='species') + \\\n",
    "        geom_point(size=40.0)\n",
    "g"
   ]
  },
  {
   "cell_type": "markdown",
   "metadata": {},
   "source": [
    "tmp_n = df.shape[0] - df.shape[0]/2\n",
    "\n",
    "df['random_factor'] = np.random.permutation(['A'] * tmp_n + ['B'] * (df.shape[0] - tmp_n))\n",
    "df.head()"
   ]
  },
  {
   "cell_type": "markdown",
   "metadata": {},
   "source": [
    "g = ggplot(df, aes(x='petalLength',\n",
    "                   y='petalWidth',\n",
    "                   color='species')) + \\\n",
    "        facet_grid(x='random_factor', y='species') + \\\n",
    "        geom_point(size=40.0)\n",
    "g"
   ]
  },
  {
   "cell_type": "markdown",
   "metadata": {},
   "source": [
    "<br/>\n",
    "\n",
    "### Thing 4: Visualizing Distributions (Boxplot and Histogram)\n",
    "***"
   ]
  },
  {
   "cell_type": "code",
   "execution_count": null,
   "metadata": {},
   "outputs": [],
   "source": [
    "g = ggplot(df, aes(x='species',\n",
    "                   y='petalWidth',\n",
    "                   fill='species')) + \\\n",
    "        geom_boxplot() + \\\n",
    "        ggtitle('Distribution of Petal Width by Species')\n",
    "g"
   ]
  },
  {
   "cell_type": "code",
   "execution_count": null,
   "metadata": {},
   "outputs": [],
   "source": [
    "g = ggplot(df, aes(x='petalWidth',\n",
    "                   fill='species')) + \\\n",
    "        geom_histogram() + \\\n",
    "        ylab('Frequency') + \\\n",
    "        ggtitle('Distribution of Petal Width by Species')\n",
    "g"
   ]
  },
  {
   "cell_type": "markdown",
   "metadata": {},
   "source": [
    "<br/>\n",
    "\n",
    "### Thing 5: Bar Chart\n",
    "***"
   ]
  },
  {
   "cell_type": "code",
   "execution_count": null,
   "metadata": {},
   "outputs": [],
   "source": [
    "df = pd.read_csv('data/titanic.csv')\n",
    "df.head()"
   ]
  },
  {
   "cell_type": "code",
   "execution_count": null,
   "metadata": {},
   "outputs": [],
   "source": [
    "dfg = df.groupby(['survived', 'pclass']).agg({'fare': 'mean'})\n",
    "dfg"
   ]
  },
  {
   "cell_type": "code",
   "execution_count": null,
   "metadata": {},
   "outputs": [],
   "source": [
    "g = ggplot(df, aes(x='class', y='fare')) + \\\n",
    "        geom_bar()\n",
    "g"
   ]
  },
  {
   "cell_type": "code",
   "execution_count": null,
   "metadata": {},
   "outputs": [],
   "source": [
    "g = ggplot(df, aes(x='class', weight='fare')) + \\\n",
    "        geom_bar()\n",
    "g"
   ]
  },
  {
   "cell_type": "code",
   "execution_count": null,
   "metadata": {},
   "outputs": [],
   "source": [
    "df.groupby(['class', 'survived']).\\\n",
    "               agg({'fare': 'mean'}).\\\n",
    "               reset_index()"
   ]
  },
  {
   "cell_type": "code",
   "execution_count": null,
   "metadata": {},
   "outputs": [],
   "source": [
    "g = ggplot(df.groupby(['class', 'survived']).\\\n",
    "               agg({'fare': 'mean'}).\\\n",
    "               reset_index(), aes(x='class',\n",
    "                                  fill='factor(survived)',\n",
    "                                  weight='fare',\n",
    "                                  y='fare')) + \\\n",
    "        geom_bar() + \\\n",
    "        ylab('Avg. Fare') + \\\n",
    "        xlab('Class') + \\\n",
    "        ggtitle('Fare by survival and class') \n",
    "g"
   ]
  },
  {
   "cell_type": "code",
   "execution_count": null,
   "metadata": {},
   "outputs": [],
   "source": [
    "g = ggplot(df.groupby(['class', 'survived']).\\\n",
    "               agg({'fare': 'mean'}).\\\n",
    "               reset_index(), aes(x='class',\n",
    "                                  fill='factor(survived)',\n",
    "                                  y='fare')) + \\\n",
    "        geom_bar() + \\\n",
    "        ylab('Avg. Fare') + \\\n",
    "        xlab('Class') + \\\n",
    "        ggtitle('Fare by survival and class') \n",
    "g"
   ]
  },
  {
   "cell_type": "code",
   "execution_count": null,
   "metadata": {},
   "outputs": [],
   "source": [
    "# # in R, I believe you'd do something like this:\n",
    "\n",
    "ggplot(df, aes(x=factor(survived), y=fare) + stat_summary_bin(aes(fill=factor(survived)),\n",
    "                     fun.y=\"mean\",\n",
    "                     geom=\"bar\") + facet_wrap(~class)\n",
    "    \n",
    "# # damn ggplot2 is awesome..."
   ]
  },
  {
   "cell_type": "code",
   "execution_count": null,
   "metadata": {},
   "outputs": [],
   "source": []
  }
 ],
 "metadata": {
  "anaconda-cloud": {},
  "kernelspec": {
   "display_name": "Python 3",
   "language": "python",
   "name": "python3"
  },
  "language_info": {
   "codemirror_mode": {
    "name": "ipython",
    "version": 3
   },
   "file_extension": ".py",
   "mimetype": "text/x-python",
   "name": "python",
   "nbconvert_exporter": "python",
   "pygments_lexer": "ipython3",
   "version": "3.7.4"
  }
 },
 "nbformat": 4,
 "nbformat_minor": 4
}
