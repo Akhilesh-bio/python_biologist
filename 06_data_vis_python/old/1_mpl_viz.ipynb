{
 "cells": [
  {
   "cell_type": "markdown",
   "metadata": {},
   "source": [
    "# Visualizing with the `matplotlib`\n"
   ]
  },
  {
   "cell_type": "code",
   "execution_count": null,
   "metadata": {},
   "outputs": [],
   "source": [
    "%matplotlib inline\n",
    "\n",
    "# standard\n",
    "import matplotlib.pyplot as plt\n",
    "import pandas as pd\n",
    "import numpy as np\n",
    "\n",
    "# I've got style,\n",
    "# miles and miles\n",
    "import seaborn as sns\n",
    "sns.set()\n",
    "sns.set_context('notebook', font_scale=1.5)\n",
    "cp = sns.color_palette()"
   ]
  },
  {
   "cell_type": "markdown",
   "metadata": {},
   "source": [
    "<br/>\n",
    "\n",
    "### Thing 1: Line Chart (with many lines)\n",
    "***"
   ]
  },
  {
   "cell_type": "markdown",
   "metadata": {},
   "source": [
    "We will first look at a generic time series of data"
   ]
  },
  {
   "cell_type": "code",
   "execution_count": null,
   "metadata": {},
   "outputs": [],
   "source": [
    "ts = pd.read_csv('data/ts.csv')"
   ]
  },
  {
   "cell_type": "code",
   "execution_count": null,
   "metadata": {},
   "outputs": [],
   "source": []
  },
  {
   "cell_type": "code",
   "execution_count": null,
   "metadata": {},
   "outputs": [],
   "source": [
    "# casting to datetime is important for ensuring plots \"just work\"\n",
    "\n",
    "ts = ts.assign(dt = pd.to_datetime(ts.dt))\n",
    "ts.head()"
   ]
  },
  {
   "cell_type": "code",
   "execution_count": null,
   "metadata": {},
   "outputs": [],
   "source": []
  },
  {
   "cell_type": "code",
   "execution_count": null,
   "metadata": {},
   "outputs": [],
   "source": [
    "# in matplotlib-land, the notion of a \"tidy\" dataframe does not matter\n",
    "\n",
    "dfp = ts.pivot(index='dt', columns='kind', values='value')\n",
    "dfp.head()"
   ]
  },
  {
   "cell_type": "code",
   "execution_count": null,
   "metadata": {},
   "outputs": [],
   "source": []
  },
  {
   "cell_type": "code",
   "execution_count": null,
   "metadata": {},
   "outputs": [],
   "source": [
    "fig, ax = plt.subplots(1, 1,\n",
    "                       figsize=(7.5, 5))\n",
    "\n",
    "# Loop through each column\n",
    "\n",
    "for k in ts.kind.unique():\n",
    "    tmp = ts[ts.kind == k]\n",
    "    ax.plot(tmp.dt, tmp.value, label=k)\n",
    "\n",
    "ax.set(xlabel='Date',\n",
    "       ylabel='Value',\n",
    "       title='Random Timeseries')    \n",
    "    \n",
    "ax.legend(loc=2)\n",
    "fig.autofmt_xdate()"
   ]
  },
  {
   "cell_type": "code",
   "execution_count": null,
   "metadata": {},
   "outputs": [],
   "source": []
  },
  {
   "cell_type": "code",
   "execution_count": null,
   "metadata": {},
   "outputs": [],
   "source": [
    "fig, ax = plt.subplots(1, 1,\n",
    "                       figsize=(7.5, 5))\n",
    "\n",
    "# pandas enables us to automatically plot all the data at once!\n",
    "\n",
    "ax.plot(dfp)\n",
    "\n",
    "ax.set(xlabel='Date',\n",
    "       ylabel='Value',\n",
    "       title='Random Timeseries')\n",
    "\n",
    "ax.legend(dfp.columns, loc=2)\n",
    "fig.autofmt_xdate()"
   ]
  },
  {
   "cell_type": "code",
   "execution_count": null,
   "metadata": {},
   "outputs": [],
   "source": []
  },
  {
   "cell_type": "code",
   "execution_count": null,
   "metadata": {},
   "outputs": [],
   "source": [
    "fig, ax = plt.subplots(1, 1, figsize=(7.5, 7.5))\n",
    "\n",
    "# Here we create a plot function and \"apply\" it to our grouping!\n",
    "\n",
    "def scatter(group):\n",
    "    plt.plot(group['dt'],\n",
    "             group['value'],\n",
    "             label=group.name)\n",
    "\n",
    "ts.groupby('kind').apply(scatter)\n",
    "\n",
    "ax.set(xlabel='Petal Length',\n",
    "       ylabel='Petal Width',\n",
    "       title='Petal Width v. Length -- by Species')\n",
    "\n",
    "ax.legend(loc=2)"
   ]
  },
  {
   "cell_type": "code",
   "execution_count": null,
   "metadata": {},
   "outputs": [],
   "source": []
  },
  {
   "cell_type": "markdown",
   "metadata": {},
   "source": [
    "<br/>\n",
    "\n",
    "### Thing 2: Scatter\n",
    "***"
   ]
  },
  {
   "cell_type": "markdown",
   "metadata": {},
   "source": [
    "Now lets look at a built-in iris flower dataset"
   ]
  },
  {
   "cell_type": "code",
   "execution_count": null,
   "metadata": {},
   "outputs": [],
   "source": [
    "df = pd.read_csv('data/iris.csv')\n",
    "df.head()"
   ]
  },
  {
   "cell_type": "code",
   "execution_count": null,
   "metadata": {},
   "outputs": [],
   "source": []
  },
  {
   "cell_type": "code",
   "execution_count": null,
   "metadata": {},
   "outputs": [],
   "source": [
    "fig, ax = plt.subplots(1, 1, figsize=(7.5, 7.5))\n",
    "\n",
    "for i, s in enumerate(df.species.unique()):\n",
    "    tmp = df[df.species == s]\n",
    "    ax.scatter(tmp.petalLength, tmp.petalWidth,\n",
    "               label=s)\n",
    "\n",
    "ax.set(xlabel='Petal Length',\n",
    "       ylabel='Petal Width',\n",
    "       title='Petal Width v. Length -- by Species')\n",
    "\n",
    "ax.legend(loc=2)"
   ]
  },
  {
   "cell_type": "markdown",
   "metadata": {},
   "source": [
    "---"
   ]
  },
  {
   "cell_type": "code",
   "execution_count": null,
   "metadata": {},
   "outputs": [],
   "source": [
    "fig, ax = plt.subplots(1, 1, figsize=(7.5, 7.5))\n",
    "\n",
    "for i, s in enumerate(df.species.unique()):\n",
    "    tmp = df[df.species == s]\n",
    "    ax.scatter(tmp.petalLength, tmp.petalWidth,\n",
    "               label=s, color=cp[i])\n",
    "\n",
    "ax.set(xlabel='Petal Length',\n",
    "       ylabel='Petal Width',\n",
    "       title='Petal Width v. Length -- by Species')\n",
    "\n",
    "ax.legend(loc=2)"
   ]
  },
  {
   "cell_type": "code",
   "execution_count": null,
   "metadata": {},
   "outputs": [],
   "source": [
    "fig, ax = plt.subplots(1, 1, figsize=(7.5, 7.5))\n",
    "\n",
    "def scatter(group):\n",
    "    plt.plot(group['petalLength'],\n",
    "             group['petalWidth'],\n",
    "             'o', label=group.name)\n",
    "\n",
    "df.groupby('species').apply(scatter)\n",
    "\n",
    "ax.set(xlabel='Petal Length',\n",
    "       ylabel='Petal Width',\n",
    "       title='Petal Width v. Length -- by Species')\n",
    "\n",
    "ax.legend(loc=2)"
   ]
  },
  {
   "cell_type": "markdown",
   "metadata": {},
   "source": [
    "<br/>\n",
    "\n",
    "### Thing 3: Trellising the Above\n",
    "***"
   ]
  },
  {
   "cell_type": "code",
   "execution_count": null,
   "metadata": {},
   "outputs": [],
   "source": [
    "fig, ax = plt.subplots(2, 2, figsize=(10, 10))\n",
    "\n",
    "for i, k in enumerate(ts.kind.unique()):\n",
    "    ax = plt.subplot(int('22' + str(i + 1)))\n",
    "    tmp = ts[ts.kind == k]\n",
    "    ax.plot(tmp.dt, tmp.value, label=k, c=cp[i])\n",
    "\n",
    "    ax.set(xlabel='Date',\n",
    "           ylabel='Value',\n",
    "           title=k)    \n",
    "    \n",
    "fig.autofmt_xdate()\n",
    "fig.tight_layout()"
   ]
  },
  {
   "cell_type": "code",
   "execution_count": null,
   "metadata": {},
   "outputs": [],
   "source": [
    "fig, ax = plt.subplots(1, 3, figsize=(15, 5))\n",
    "\n",
    "for i, s in enumerate(df.species.unique()):\n",
    "    tmp = df[df.species == s]\n",
    "\n",
    "    ax[i].scatter(tmp.petalLength, tmp.petalWidth, c=cp[i])\n",
    "\n",
    "    ax[i].set(xlabel='Petal Length',\n",
    "              ylabel='Petal Width',\n",
    "              title=s)\n",
    "\n",
    "fig.tight_layout()"
   ]
  },
  {
   "cell_type": "code",
   "execution_count": null,
   "metadata": {},
   "outputs": [],
   "source": [
    "fig, ax = plt.subplots(1, 3, figsize=(15, 5))\n",
    "\n",
    "for i, s in enumerate(df.species.unique()):\n",
    "    tmp = df[df.species == s]\n",
    "\n",
    "    ax[i].scatter(tmp.petalLength,\n",
    "                  tmp.petalWidth,\n",
    "                  c=cp[i])\n",
    "\n",
    "    ax[i].set(xlabel='Petal Length',\n",
    "              ylabel='Petal Width',\n",
    "              title=s)\n",
    "\n",
    "    ax[i].set_ylim(bottom=0, top=1.05*np.max(df.petalWidth))\n",
    "    ax[i].set_xlim(left=0, right=1.05*np.max(df.petalLength))\n",
    "    \n",
    "fig.tight_layout()"
   ]
  },
  {
   "cell_type": "markdown",
   "metadata": {},
   "source": [
    "<br/>\n",
    "\n",
    "### Thing 4: Visualizing Distributions (Boxplot and Histogram)\n",
    "***"
   ]
  },
  {
   "cell_type": "code",
   "execution_count": null,
   "metadata": {},
   "outputs": [],
   "source": [
    "fig, ax = plt.subplots(1, 1, figsize=(10, 10))\n",
    "\n",
    "ax.boxplot([df[df.species == s]['petalWidth'].values\n",
    "                for s in df.species.unique()])\n",
    "\n",
    "ax.set(xticklabels=df.species.unique(),\n",
    "       xlabel='Species',\n",
    "       ylabel='Petal Width',\n",
    "       title='Distribution of Petal Width by Species')"
   ]
  },
  {
   "cell_type": "code",
   "execution_count": null,
   "metadata": {},
   "outputs": [],
   "source": [
    "fig, ax = plt.subplots(1, 1, figsize=(10, 10))\n",
    "\n",
    "for i, s in enumerate(df.species.unique()):\n",
    "    tmp = df[df.species == s]\n",
    "    ax.hist(tmp.petalWidth, label=s, alpha=.8)\n",
    "\n",
    "ax.set(xlabel='Petal Width',\n",
    "       ylabel='Frequency',\n",
    "       title='Distribution of Petal Width by Species')    \n",
    "\n",
    "ax.legend(loc=1)"
   ]
  },
  {
   "cell_type": "markdown",
   "metadata": {},
   "source": [
    "<br/>\n",
    "\n",
    "### Thing 5: Bar Chart\n",
    "***"
   ]
  },
  {
   "cell_type": "code",
   "execution_count": null,
   "metadata": {},
   "outputs": [],
   "source": [
    "df = pd.read_csv('data/titanic.csv')\n",
    "df.head()"
   ]
  },
  {
   "cell_type": "code",
   "execution_count": null,
   "metadata": {},
   "outputs": [],
   "source": [
    "dfg = df.groupby(['survived', 'pclass']).agg({'fare': 'mean'})\n",
    "dfg"
   ]
  },
  {
   "cell_type": "code",
   "execution_count": null,
   "metadata": {},
   "outputs": [],
   "source": [
    "died = dfg.loc[0, :]\n",
    "survived = dfg.loc[1, :]"
   ]
  },
  {
   "cell_type": "code",
   "execution_count": null,
   "metadata": {},
   "outputs": [],
   "source": [
    "# more or less copied from matplotlib's own\n",
    "# api example\n",
    "fig, ax = plt.subplots(1, 1, figsize=(12.5, 7))\n",
    "\n",
    "N = 3\n",
    "\n",
    "ind = np.arange(N)  # the x locations for the groups\n",
    "width = 0.35        # the width of the bars\n",
    "\n",
    "rects1 = ax.bar(ind, died.fare, width, color='r')\n",
    "rects2 = ax.bar(ind + width, survived.fare, width, color='y')\n",
    "\n",
    "# add some text for labels, title and axes ticks\n",
    "ax.set_ylabel('Fare')\n",
    "ax.set_title('Fare by survival and class')\n",
    "ax.set_xticks(ind + width)\n",
    "ax.set_xticklabels(('First', 'Second', 'Third'))\n",
    "\n",
    "ax.legend((rects1[0], rects2[0]), ('Died', 'Survived'))\n",
    "\n",
    "\n",
    "def autolabel(rects):\n",
    "    # attach some text labels\n",
    "    for rect in rects:\n",
    "        height = rect.get_height()\n",
    "        ax.text(rect.get_x() + rect.get_width()/2., 1.05*height,\n",
    "                '%d' % int(height),\n",
    "                ha='center', va='bottom')\n",
    "\n",
    "ax.set_ylim(0, 110)        \n",
    "\n",
    "autolabel(rects1)\n",
    "autolabel(rects2)\n",
    "\n",
    "plt.show()"
   ]
  },
  {
   "cell_type": "code",
   "execution_count": null,
   "metadata": {},
   "outputs": [],
   "source": []
  }
 ],
 "metadata": {
  "anaconda-cloud": {},
  "kernelspec": {
   "display_name": "Python 3",
   "language": "python",
   "name": "python3"
  },
  "language_info": {
   "codemirror_mode": {
    "name": "ipython",
    "version": 3
   },
   "file_extension": ".py",
   "mimetype": "text/x-python",
   "name": "python",
   "nbconvert_exporter": "python",
   "pygments_lexer": "ipython3",
   "version": "3.7.4"
  }
 },
 "nbformat": 4,
 "nbformat_minor": 4
}
