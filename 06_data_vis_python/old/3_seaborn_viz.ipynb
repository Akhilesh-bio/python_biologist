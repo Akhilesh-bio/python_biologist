{
 "cells": [
  {
   "cell_type": "markdown",
   "metadata": {},
   "source": [
    "# Visualizing with the `seaborn`\n",
    "***"
   ]
  },
  {
   "cell_type": "code",
   "execution_count": null,
   "metadata": {},
   "outputs": [],
   "source": [
    "%matplotlib inline\n",
    "\n",
    "# standard\n",
    "import matplotlib.pyplot as plt\n",
    "import pandas as pd\n",
    "import numpy as np\n",
    "\n",
    "# I've got style,\n",
    "# miles and miles\n",
    "import seaborn as sns\n",
    "sns.set()\n",
    "sns.set_context('notebook', font_scale=1.5)\n",
    "cp = sns.color_palette()"
   ]
  },
  {
   "cell_type": "markdown",
   "metadata": {},
   "source": [
    "<br/>\n",
    "\n",
    "### Thing 1: Line Chart (with many lines)\n",
    "***"
   ]
  },
  {
   "cell_type": "code",
   "execution_count": null,
   "metadata": {},
   "outputs": [],
   "source": [
    "ts = pd.read_csv('data/ts.csv')\n",
    "\n",
    "# casting to datetime is important for\n",
    "# ensuring plots \"just work\"\n",
    "ts = ts.assign(dt = pd.to_datetime(ts.dt))\n",
    "ts.head()"
   ]
  },
  {
   "cell_type": "code",
   "execution_count": null,
   "metadata": {},
   "outputs": [],
   "source": [
    "# in matplotlib-land, the notion of a \"tidy\"\n",
    "# dataframe matters not\n",
    "dfp = ts.pivot(index='dt', columns='kind', values='value')\n",
    "dfp.head()"
   ]
  },
  {
   "cell_type": "code",
   "execution_count": null,
   "metadata": {},
   "outputs": [],
   "source": [
    "g = sns.FacetGrid(ts, hue='kind', size=5, aspect=1.5)\n",
    "g.map(plt.plot, 'dt', 'value').add_legend()\n",
    "g.ax.set(xlabel='Date',\n",
    "         ylabel='Value',\n",
    "         title='Random Timeseries')\n",
    "g.fig.autofmt_xdate()"
   ]
  },
  {
   "cell_type": "code",
   "execution_count": null,
   "metadata": {},
   "outputs": [],
   "source": [
    "g = sns.FacetGrid(ts, row='kind', hue='kind', size=5, aspect=1.5)\n",
    "g.map(plt.plot, 'dt', 'value').add_legend()\n",
    "\n",
    "g.fig.autofmt_xdate()"
   ]
  },
  {
   "cell_type": "markdown",
   "metadata": {},
   "source": [
    "<br/>\n",
    "\n",
    "### Thing 2: Scatter\n",
    "***"
   ]
  },
  {
   "cell_type": "code",
   "execution_count": null,
   "metadata": {},
   "outputs": [],
   "source": [
    "df = pd.read_csv('data/iris.csv')\n",
    "df.head()"
   ]
  },
  {
   "cell_type": "code",
   "execution_count": null,
   "metadata": {},
   "outputs": [],
   "source": [
    "g = sns.FacetGrid(df, hue='species', size=7.5)\n",
    "g.map(plt.scatter, 'petalLength', 'petalWidth').add_legend()\n",
    "g.ax.set_title('Petal Width v. Length -- by Species')"
   ]
  },
  {
   "cell_type": "markdown",
   "metadata": {},
   "source": [
    "<br/>\n",
    "\n",
    "### Thing 3: Trellising the Above\n",
    "***"
   ]
  },
  {
   "cell_type": "code",
   "execution_count": null,
   "metadata": {},
   "outputs": [],
   "source": [
    "g = sns.FacetGrid(ts, hue='kind',\n",
    "                  col='kind', col_wrap=2, size=5)\n",
    "\n",
    "g.map(plt.plot, 'dt', 'value')\n",
    "g.fig.autofmt_xdate()\n",
    "g.fig.suptitle('Random Timeseries', y=1.01)"
   ]
  },
  {
   "cell_type": "code",
   "execution_count": null,
   "metadata": {},
   "outputs": [],
   "source": [
    "g = sns.FacetGrid(df, col='species', hue='species', size=5)\n",
    "g.map(plt.scatter, 'petalLength', 'petalWidth')"
   ]
  },
  {
   "cell_type": "markdown",
   "metadata": {},
   "source": [
    "tmp_n = df.shape[0] - df.shape[0]/2\n",
    "\n",
    "df['random_factor'] = np.random.permutation(['A'] * tmp_n + ['B'] * (df.shape[0] - tmp_n))\n",
    "df.head()"
   ]
  },
  {
   "cell_type": "markdown",
   "metadata": {},
   "source": [
    "g = sns.FacetGrid(df.assign(tmp=df.species + df.random_factor).\\\n",
    "                      sort_values(['species', 'random_factor']),\n",
    "                  col='species', row='random_factor', hue='tmp', size=5)\n",
    "g.map(plt.scatter, 'petalLength', 'petalWidth')"
   ]
  },
  {
   "cell_type": "markdown",
   "metadata": {},
   "source": [
    "<br/>\n",
    "\n",
    "### Thing 4: Visualizing Distributions (Boxplot and Histogram)\n",
    "***"
   ]
  },
  {
   "cell_type": "code",
   "execution_count": null,
   "metadata": {},
   "outputs": [],
   "source": [
    "fig, ax = plt.subplots(1, 1, figsize=(10, 10))\n",
    "\n",
    "g = sns.boxplot('species', 'petalWidth', data=df, ax=ax)\n",
    "g.set(title='Distribution of Petal Width by Species')"
   ]
  },
  {
   "cell_type": "code",
   "execution_count": null,
   "metadata": {},
   "outputs": [],
   "source": [
    "g = sns.FacetGrid(df, hue='species', size=7.5)\n",
    "\n",
    "g.map(sns.distplot, 'petalWidth', bins=10,\n",
    "      kde=False, rug=True).add_legend()\n",
    "\n",
    "g.set(xlabel='Petal Width',\n",
    "      ylabel='Frequency',\n",
    "      title='Distribution of Petal Width by Species')"
   ]
  },
  {
   "cell_type": "markdown",
   "metadata": {},
   "source": [
    "<br/>\n",
    "\n",
    "### Thing 5: Bar Chart\n",
    "***"
   ]
  },
  {
   "cell_type": "code",
   "execution_count": null,
   "metadata": {},
   "outputs": [],
   "source": [
    "df = pd.read_csv('data/titanic.csv')\n",
    "df.head()"
   ]
  },
  {
   "cell_type": "code",
   "execution_count": null,
   "metadata": {},
   "outputs": [],
   "source": [
    "dfg = df.groupby(['survived', 'pclass']).agg({'fare': 'mean'})\n",
    "dfg"
   ]
  },
  {
   "cell_type": "code",
   "execution_count": null,
   "metadata": {},
   "outputs": [],
   "source": [
    "died = dfg.loc[0, :]\n",
    "survived = dfg.loc[1, :]"
   ]
  },
  {
   "cell_type": "code",
   "execution_count": null,
   "metadata": {},
   "outputs": [],
   "source": [
    "g = sns.factorplot(x='class', y='fare', hue='survived',\n",
    "                   data=df, kind='bar',\n",
    "                   order=['First', 'Second', 'Third'],\n",
    "                   size=7.5, aspect=1.5, ci=None)\n",
    "g.ax.set_title('Fare by survival and class')"
   ]
  },
  {
   "cell_type": "code",
   "execution_count": null,
   "metadata": {},
   "outputs": [],
   "source": [
    "g = sns.factorplot(x='class', y='fare', hue='survived',\n",
    "                   data=df, kind='bar',\n",
    "                   order=['First', 'Second', 'Third'],\n",
    "                   size=7.5, aspect=1.5)\n",
    "g.ax.set_title('Fare by survival and class')"
   ]
  }
 ],
 "metadata": {
  "anaconda-cloud": {},
  "kernelspec": {
   "display_name": "Python 3",
   "language": "python",
   "name": "python3"
  },
  "language_info": {
   "codemirror_mode": {
    "name": "ipython",
    "version": 3
   },
   "file_extension": ".py",
   "mimetype": "text/x-python",
   "name": "python",
   "nbconvert_exporter": "python",
   "pygments_lexer": "ipython3",
   "version": "3.7.4"
  }
 },
 "nbformat": 4,
 "nbformat_minor": 4
}
