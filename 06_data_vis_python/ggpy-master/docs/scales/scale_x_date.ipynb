{
 "cells": [
  {
   "cell_type": "code",
   "execution_count": null,
   "metadata": {},
   "outputs": [],
   "source": [
    "%matplotlib inline\n",
    "from ggplot import *"
   ]
  },
  {
   "cell_type": "markdown",
   "metadata": {},
   "source": [
    "### `scale_x_date`\n",
    "`scale_x_date` scale a continuous x-axis. Its parameters are:\n",
    "\n",
    "- `name` - axis label\n",
    "- `breaks` - x tick breaks\n",
    "- `labels` - x tick labels\n",
    "\n",
    "- `date_format` - date string formatter"
   ]
  },
  {
   "cell_type": "code",
   "execution_count": null,
   "metadata": {},
   "outputs": [],
   "source": [
    "ggplot(meat, aes('date','beef')) + \\\n",
    "    geom_line() + \\\n",
    "    scale_x_date(breaks=date_breaks('10 years'),\n",
    "                 labels=date_format('%B %-d, %Y'))"
   ]
  },
  {
   "cell_type": "code",
   "execution_count": null,
   "metadata": {},
   "outputs": [],
   "source": [
    "ggplot(meat, aes(x='date', y='beef')) + \\\n",
    "    stat_smooth(method='loewss', span=0.2, se=False) + \\\n",
    "    scale_x_date(\"Date\", breaks=date_breaks('10 years'), labels=date_format('%B %-d, %Y'))"
   ]
  },
  {
   "cell_type": "code",
   "execution_count": null,
   "metadata": {},
   "outputs": [],
   "source": [
    "ggplot(meat, aes(x='date', ymin='beef - 1000', ymax='beef + 1000')) + \\\n",
    "    geom_area() + \\\n",
    "    scale_x_date(labels=date_format(\"%m/%Y\"))"
   ]
  },
  {
   "cell_type": "code",
   "execution_count": null,
   "metadata": {},
   "outputs": [],
   "source": [
    "ggplot(pageviews, aes(x='date_hour', y='pageviews')) + \\\n",
    "    geom_point() + \\\n",
    "    scale_x_date(breaks='1 month')"
   ]
  },
  {
   "cell_type": "code",
   "execution_count": null,
   "metadata": {},
   "outputs": [],
   "source": []
  }
 ],
 "metadata": {
  "kernelspec": {
   "display_name": "Python 2",
   "language": "python",
   "name": "python2"
  },
  "language_info": {
   "codemirror_mode": {
    "name": "ipython",
    "version": 2
   },
   "file_extension": ".py",
   "mimetype": "text/x-python",
   "name": "python",
   "nbconvert_exporter": "python",
   "pygments_lexer": "ipython2",
   "version": "2.7.11"
  }
 },
 "nbformat": 4,
 "nbformat_minor": 0
}
