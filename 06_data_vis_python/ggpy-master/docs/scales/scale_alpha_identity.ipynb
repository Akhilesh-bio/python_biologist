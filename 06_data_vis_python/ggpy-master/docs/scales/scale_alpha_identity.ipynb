{
 "cells": [
  {
   "cell_type": "code",
   "execution_count": null,
   "metadata": {},
   "outputs": [],
   "source": [
    "%matplotlib inline\n",
    "from ggplot import *\n",
    "import pandas as pd"
   ]
  },
  {
   "cell_type": "markdown",
   "metadata": {},
   "source": [
    "### `scale_alpha_identity`\n",
    "`scale_alpha_identity` applies the alpha values in your data to your ggplots."
   ]
  },
  {
   "cell_type": "code",
   "execution_count": null,
   "metadata": {},
   "outputs": [],
   "source": [
    "ze_alpha = [\n",
    "    0.2,\n",
    "    0.3,\n",
    "    0.4,\n",
    "    0.9,\n",
    "    0.8,\n",
    "    0.65,\n",
    "    0.43,\n",
    "    0.55,\n",
    "    0.34,\n",
    "    0.65\n",
    "]\n",
    "df = pd.DataFrame({\n",
    "        \"x\": range(10),\n",
    "        \"y\": range(10),\n",
    "        \"ze-alpha\": ze_alpha\n",
    "    })\n",
    "df"
   ]
  },
  {
   "cell_type": "code",
   "execution_count": null,
   "metadata": {},
   "outputs": [],
   "source": [
    "ggplot(df, aes(x='x', y='y', alpha='ze-alpha')) + \\\n",
    "    geom_point(size=7500) + \\\n",
    "    scale_alpha_identity()"
   ]
  },
  {
   "cell_type": "code",
   "execution_count": null,
   "metadata": {},
   "outputs": [],
   "source": []
  }
 ],
 "metadata": {
  "kernelspec": {
   "display_name": "Python 2",
   "language": "python",
   "name": "python2"
  },
  "language_info": {
   "codemirror_mode": {
    "name": "ipython",
    "version": 2
   },
   "file_extension": ".py",
   "mimetype": "text/x-python",
   "name": "python",
   "nbconvert_exporter": "python",
   "pygments_lexer": "ipython2",
   "version": "2.7.11"
  }
 },
 "nbformat": 4,
 "nbformat_minor": 0
}
