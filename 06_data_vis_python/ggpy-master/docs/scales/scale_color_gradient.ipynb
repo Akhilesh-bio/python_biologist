{
 "cells": [
  {
   "cell_type": "code",
   "execution_count": null,
   "metadata": {},
   "outputs": [],
   "source": [
    "%matplotlib inline\n",
    "from ggplot import *"
   ]
  },
  {
   "cell_type": "markdown",
   "metadata": {},
   "source": [
    "### `scale_color_gradient`\n",
    "`scale_color_gradient` applies a color gradient to continuous color variables in your ggplots. Its parameters are:\n",
    "\n",
    "- `low` - low end of the gradient\n",
    "- `high` - high end of the gradient"
   ]
  },
  {
   "cell_type": "code",
   "execution_count": null,
   "metadata": {},
   "outputs": [],
   "source": [
    "pigeons.head()"
   ]
  },
  {
   "cell_type": "code",
   "execution_count": null,
   "metadata": {},
   "outputs": [],
   "source": [
    "ggplot(pigeons, aes(x='speed', y='pos', color='speed')) + \\\n",
    "    geom_point() + \\\n",
    "    scale_color_gradient()"
   ]
  },
  {
   "cell_type": "code",
   "execution_count": null,
   "metadata": {},
   "outputs": [],
   "source": [
    "ggplot(pigeons, aes(x='speed', y='pos', color='speed')) + \\\n",
    "    geom_point() + \\\n",
    "    scale_color_gradient(low='blue', high='red')"
   ]
  },
  {
   "cell_type": "code",
   "execution_count": null,
   "metadata": {},
   "outputs": [],
   "source": [
    "ggplot(pigeons, aes(x='speed', y='pos', color='speed')) + \\\n",
    "    geom_point() + \\\n",
    "    scale_color_gradient(low='FloralWhite', high='LemonChiffon')"
   ]
  },
  {
   "cell_type": "code",
   "execution_count": null,
   "metadata": {},
   "outputs": [],
   "source": [
    "ggplot(pigeons, aes(x='speed', y='pos', color='speed')) + \\\n",
    "    geom_point() + \\\n",
    "    scale_color_gradient(low='LawnGreen', high='DarkSalmon')"
   ]
  },
  {
   "cell_type": "code",
   "execution_count": null,
   "metadata": {},
   "outputs": [],
   "source": []
  }
 ],
 "metadata": {
  "kernelspec": {
   "display_name": "Python 2",
   "language": "python",
   "name": "python2"
  },
  "language_info": {
   "codemirror_mode": {
    "name": "ipython",
    "version": 2
   },
   "file_extension": ".py",
   "mimetype": "text/x-python",
   "name": "python",
   "nbconvert_exporter": "python",
   "pygments_lexer": "ipython2",
   "version": "2.7.11"
  }
 },
 "nbformat": 4,
 "nbformat_minor": 0
}
