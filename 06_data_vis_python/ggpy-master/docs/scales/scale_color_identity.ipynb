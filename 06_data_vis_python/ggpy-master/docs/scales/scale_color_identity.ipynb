{
 "cells": [
  {
   "cell_type": "code",
   "execution_count": null,
   "metadata": {},
   "outputs": [],
   "source": [
    "%matplotlib inline\n",
    "from ggplot import *\n",
    "import pandas as pd"
   ]
  },
  {
   "cell_type": "markdown",
   "metadata": {},
   "source": [
    "### `scale_color_identity`\n",
    "`scale_color_identity` applies the color values in your data to your ggplots."
   ]
  },
  {
   "cell_type": "code",
   "execution_count": null,
   "metadata": {},
   "outputs": [],
   "source": [
    "ze_colors = [\n",
    "    \"blue\",\n",
    "    \"red\",\n",
    "    \"green\",\n",
    "    \"MediumAquaMarine\",\n",
    "    \"Peru\",\n",
    "    \"Tomato\",\n",
    "    \"#f8b195\",\n",
    "    \"#ffb6c1\",\n",
    "    \"#933835\",\n",
    "    \"Bisque\"\n",
    "]\n",
    "df = pd.DataFrame({\n",
    "        \"x\": range(10),\n",
    "        \"y\": range(10),\n",
    "        \"ze-color\": ze_colors\n",
    "    })\n",
    "df"
   ]
  },
  {
   "cell_type": "code",
   "execution_count": null,
   "metadata": {},
   "outputs": [],
   "source": [
    "ggplot(df, aes(x='x', y='y', color='ze-color')) + \\\n",
    "    geom_point(size=7500) + \\\n",
    "    scale_color_identity()"
   ]
  },
  {
   "cell_type": "code",
   "execution_count": null,
   "metadata": {},
   "outputs": [],
   "source": []
  }
 ],
 "metadata": {
  "kernelspec": {
   "display_name": "Python 2",
   "language": "python",
   "name": "python2"
  },
  "language_info": {
   "codemirror_mode": {
    "name": "ipython",
    "version": 2
   },
   "file_extension": ".py",
   "mimetype": "text/x-python",
   "name": "python",
   "nbconvert_exporter": "python",
   "pygments_lexer": "ipython2",
   "version": "2.7.11"
  }
 },
 "nbformat": 4,
 "nbformat_minor": 0
}
