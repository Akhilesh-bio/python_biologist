{
 "cells": [
  {
   "cell_type": "code",
   "execution_count": null,
   "metadata": {},
   "outputs": [],
   "source": [
    "%matplotlib inline\n",
    "from ggplot import *"
   ]
  },
  {
   "cell_type": "markdown",
   "metadata": {},
   "source": [
    "### `scale_color_funfetti`\n",
    "`scale_color_funfetti` applies color palettes to discrete color variables in your ggplots. It has 1 parameter:\n",
    "\n",
    "- `type` - type of palette to use ('sprinkles', 'confetti')"
   ]
  },
  {
   "cell_type": "code",
   "execution_count": null,
   "metadata": {},
   "outputs": [],
   "source": [
    "ggplot(mtcars, aes(x='wt', y='mpg', color='factor(cyl)')) + \\\n",
    "    geom_point(size=100)"
   ]
  },
  {
   "cell_type": "code",
   "execution_count": null,
   "metadata": {},
   "outputs": [],
   "source": [
    "ggplot(mtcars, aes(x='wt', y='mpg', color='factor(cyl)')) + \\\n",
    "    geom_point(size=100) + \\\n",
    "    scale_color_funfetti()"
   ]
  },
  {
   "cell_type": "code",
   "execution_count": null,
   "metadata": {},
   "outputs": [],
   "source": [
    "ggplot(mtcars, aes(x='wt', y='mpg', color='factor(cyl)')) + \\\n",
    "    geom_point(size=100) + \\\n",
    "    scale_color_funfetti(type='confetti')"
   ]
  },
  {
   "cell_type": "code",
   "execution_count": null,
   "metadata": {},
   "outputs": [],
   "source": [
    "ggplot(mtcars, aes(x='wt', y='mpg', color='factor(cyl)')) + \\\n",
    "    geom_point(size=100) + \\\n",
    "    scale_color_funfetti(type='sprinkles')"
   ]
  },
  {
   "cell_type": "code",
   "execution_count": null,
   "metadata": {},
   "outputs": [],
   "source": [
    "ggplot(pigeons, aes(x='pos', y='speed', color='breeder')) + \\\n",
    "    geom_point(size=100) + \\\n",
    "    scale_color_funfetti(type='sprinkles')"
   ]
  },
  {
   "cell_type": "code",
   "execution_count": null,
   "metadata": {},
   "outputs": [],
   "source": []
  }
 ],
 "metadata": {
  "kernelspec": {
   "display_name": "Python 2",
   "language": "python",
   "name": "python2"
  },
  "language_info": {
   "codemirror_mode": {
    "name": "ipython",
    "version": 2
   },
   "file_extension": ".py",
   "mimetype": "text/x-python",
   "name": "python",
   "nbconvert_exporter": "python",
   "pygments_lexer": "ipython2",
   "version": "2.7.11"
  }
 },
 "nbformat": 4,
 "nbformat_minor": 0
}
