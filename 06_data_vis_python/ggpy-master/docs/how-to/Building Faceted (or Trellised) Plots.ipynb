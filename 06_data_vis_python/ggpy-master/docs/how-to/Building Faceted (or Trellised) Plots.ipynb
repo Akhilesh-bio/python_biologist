{
 "cells": [
  {
   "cell_type": "code",
   "execution_count": null,
   "metadata": {},
   "outputs": [],
   "source": [
    "%matplotlib inline\n",
    "from ggplot import *"
   ]
  },
  {
   "cell_type": "markdown",
   "metadata": {},
   "source": [
    "### Building Faceted Plots\n",
    "Facets allow you to visualize high-dimensional data quickly and (most of the time) easily. Faceting splits your data up into differnet subgroups based upon different variables.\n",
    "\n",
    "We're going to be using the `diamonds` dataset in these examples. It might be helpful to refresh yourself with the dataset before jumping into the samples."
   ]
  },
  {
   "cell_type": "code",
   "execution_count": null,
   "metadata": {},
   "outputs": [],
   "source": [
    "diamonds.head()"
   ]
  },
  {
   "cell_type": "code",
   "execution_count": null,
   "metadata": {},
   "outputs": [],
   "source": [
    "ggplot(diamonds, aes(x='carat', y='price')) + geom_point() + facet_grid('clarity')"
   ]
  },
  {
   "cell_type": "code",
   "execution_count": null,
   "metadata": {},
   "outputs": [],
   "source": [
    "ggplot(diamonds, aes(x='carat', y='price')) + geom_point() + facet_grid(None, 'clarity')"
   ]
  },
  {
   "cell_type": "code",
   "execution_count": null,
   "metadata": {},
   "outputs": [],
   "source": [
    "ggplot(diamonds, aes(x='carat', y='price')) + geom_point() + facet_wrap('clarity')"
   ]
  },
  {
   "cell_type": "code",
   "execution_count": null,
   "metadata": {},
   "outputs": [],
   "source": [
    "ggplot(diamonds, aes(x='carat', y='price')) + geom_point() + facet_wrap('clarity', ncol=4)"
   ]
  },
  {
   "cell_type": "code",
   "execution_count": null,
   "metadata": {},
   "outputs": [],
   "source": [
    "ggplot(diamonds, aes(x='carat', y='price')) + geom_point() + facet_wrap('clarity', 'cut')"
   ]
  },
  {
   "cell_type": "code",
   "execution_count": null,
   "metadata": {},
   "outputs": [],
   "source": [
    "ggplot(diamonds, aes(x='carat', y='price', shape='cut', color='clarity')) + \\\n",
    "    geom_point() + \\\n",
    "    scale_color_brewer(type='qual') + \\\n",
    "    facet_grid('color')"
   ]
  },
  {
   "cell_type": "code",
   "execution_count": null,
   "metadata": {},
   "outputs": [],
   "source": [
    "ggplot(diamonds, aes(x='carat', y='price', color='depth')) + \\\n",
    "    geom_point() + \\\n",
    "    scale_color_gradient(low='white', high='black') + \\\n",
    "    facet_grid('color', 'clarity')"
   ]
  },
  {
   "cell_type": "code",
   "execution_count": null,
   "metadata": {},
   "outputs": [],
   "source": []
  }
 ],
 "metadata": {
  "kernelspec": {
   "display_name": "Python 2",
   "language": "python",
   "name": "python2"
  },
  "language_info": {
   "codemirror_mode": {
    "name": "ipython",
    "version": 2
   },
   "file_extension": ".py",
   "mimetype": "text/x-python",
   "name": "python",
   "nbconvert_exporter": "python",
   "pygments_lexer": "ipython2",
   "version": "2.7.11"
  }
 },
 "nbformat": 4,
 "nbformat_minor": 0
}
