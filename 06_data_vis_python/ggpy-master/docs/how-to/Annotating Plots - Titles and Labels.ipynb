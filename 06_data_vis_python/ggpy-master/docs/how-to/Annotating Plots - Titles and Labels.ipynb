{
 "cells": [
  {
   "cell_type": "code",
   "execution_count": null,
   "metadata": {},
   "outputs": [],
   "source": [
    "%matplotlib inline\n",
    "from ggplot import *"
   ]
  },
  {
   "cell_type": "markdown",
   "metadata": {},
   "source": [
    "### Annotating Plots\n",
    "As good as the ggplot defaults are, at some point you're going to want to customize and add information to your charts. Below you'll find some references for how to add labels, titles, and other info to your plots."
   ]
  },
  {
   "cell_type": "markdown",
   "metadata": {},
   "source": [
    "#### Axis Labels"
   ]
  },
  {
   "cell_type": "code",
   "execution_count": null,
   "metadata": {},
   "outputs": [],
   "source": [
    "ggplot(mtcars, aes(x='mpg')) + geom_histogram() + xlab(\"This is my X Label\")"
   ]
  },
  {
   "cell_type": "code",
   "execution_count": null,
   "metadata": {},
   "outputs": [],
   "source": [
    "ggplot(mtcars, aes(x='mpg')) + geom_histogram() + xlab(\"This is my X\\nIs on Multiple Lines\")"
   ]
  },
  {
   "cell_type": "code",
   "execution_count": null,
   "metadata": {},
   "outputs": [],
   "source": [
    "ggplot(mtcars, aes(x='mpg')) + geom_histogram() + xlab(\"Miles per Gallon\") + ylab(\"# of Cars\")"
   ]
  },
  {
   "cell_type": "markdown",
   "metadata": {},
   "source": [
    "#### Titles"
   ]
  },
  {
   "cell_type": "code",
   "execution_count": null,
   "metadata": {},
   "outputs": [],
   "source": [
    "ggplot(mtcars, aes(x='mpg')) + geom_histogram() + ggtitle(\"This is my Title\")"
   ]
  },
  {
   "cell_type": "code",
   "execution_count": null,
   "metadata": {},
   "outputs": [],
   "source": [
    "ggplot(mtcars, aes(x='mpg')) + geom_histogram() + ggtitle(\"This is my Title\\nOn Two Lines\")"
   ]
  },
  {
   "cell_type": "markdown",
   "metadata": {},
   "source": [
    "#### Custom Axis Values"
   ]
  },
  {
   "cell_type": "code",
   "execution_count": null,
   "metadata": {},
   "outputs": [],
   "source": [
    "ggplot(diamonds, aes(x='carat', y='price')) + geom_point() + xlim(0, 4)"
   ]
  },
  {
   "cell_type": "code",
   "execution_count": null,
   "metadata": {},
   "outputs": [],
   "source": [
    "ggplot(diamonds, aes(x='carat', y='price')) + geom_point() + xlim(0, 4) + ylim(0, 20000)"
   ]
  },
  {
   "cell_type": "code",
   "execution_count": null,
   "metadata": {},
   "outputs": [],
   "source": [
    "ggplot(diamonds, aes(x='carat', y='price')) + \\\n",
    "    geom_point() + \\\n",
    "    xlim(0, 4) + \\\n",
    "    ylim(0, 20000) + \\\n",
    "    scale_x_continuous(\"Carat\", breaks=[0, 2, 4])"
   ]
  },
  {
   "cell_type": "code",
   "execution_count": null,
   "metadata": {},
   "outputs": [],
   "source": [
    "ggplot(diamonds, aes(x='carat', y='price')) + \\\n",
    "    geom_point() + \\\n",
    "    xlim(0, 4) + \\\n",
    "    ylim(0, 20000) + \\\n",
    "    scale_x_continuous(\"Carat\", breaks=[0, 2, 4], labels=[\"Small\", \"Medium\", \"Large\"])"
   ]
  },
  {
   "cell_type": "code",
   "execution_count": null,
   "metadata": {},
   "outputs": [],
   "source": [
    "ggplot(diamonds, aes(x='carat', y='price')) + \\\n",
    "    geom_point() + \\\n",
    "    xlim(0, 4) + \\\n",
    "    ylim(0, 20000) + \\\n",
    "    scale_x_continuous(\"Carat (200mg)\", breaks=[0, 2, 4], labels=[\"Small\", \"Medium\", \"Large\"]) + \\\n",
    "    scale_y_continuous(\"Price ($)\", breaks=[0, 10000, 20000], labels=[\"\\$\", \"\\$$\", \"\\$\\$$\"])"
   ]
  },
  {
   "cell_type": "code",
   "execution_count": null,
   "metadata": {},
   "outputs": [],
   "source": [
    "ggplot(diamonds, aes(x='carat', y='price')) + \\\n",
    "    geom_point() + \\\n",
    "    geom_hline(y=2500, color='red') + \\\n",
    "    xlim(0, 4) + \\\n",
    "    ylim(0, 20000) + \\\n",
    "    scale_x_continuous(\"Carat (200mg)\", breaks=[0, 2, 4], labels=[\"Small\", \"Medium\", \"Large\"]) + \\\n",
    "    scale_y_continuous(\"Price\", breaks=[0, 2500, 10000, 20000], labels=[\"\", \"You better be above here\", \"\\$$\", \"\\$\\$$\"])"
   ]
  },
  {
   "cell_type": "code",
   "execution_count": null,
   "metadata": {},
   "outputs": [],
   "source": [
    "ggplot(diamonds, aes(x='cut')) + \\\n",
    "    geom_bar()"
   ]
  },
  {
   "cell_type": "code",
   "execution_count": null,
   "metadata": {},
   "outputs": [],
   "source": [
    "ggplot(diamonds, aes(x='cut')) + \\\n",
    "    geom_bar() + \\\n",
    "    scale_x_discrete(\"Diamond Cut\")"
   ]
  },
  {
   "cell_type": "code",
   "execution_count": null,
   "metadata": {},
   "outputs": [],
   "source": [
    "ggplot(diamonds, aes(x='cut')) + \\\n",
    "    geom_bar() + \\\n",
    "    scale_x_discrete(\"Diamond Cut\", labels=[\"i\", \"p\", \"vg\", \"g\", \"f\"])"
   ]
  },
  {
   "cell_type": "code",
   "execution_count": null,
   "metadata": {},
   "outputs": [],
   "source": [
    "ggplot(diamonds, aes(x='cut')) + \\\n",
    "    geom_bar() + \\\n",
    "    scale_x_discrete(\"Diamond Cut\", labels=[\"*\", \"**\", \"***\", \"****\", \"*****\"])"
   ]
  },
  {
   "cell_type": "code",
   "execution_count": null,
   "metadata": {},
   "outputs": [],
   "source": []
  }
 ],
 "metadata": {
  "kernelspec": {
   "display_name": "Python 2",
   "language": "python",
   "name": "python2"
  },
  "language_info": {
   "codemirror_mode": {
    "name": "ipython",
    "version": 2
   },
   "file_extension": ".py",
   "mimetype": "text/x-python",
   "name": "python",
   "nbconvert_exporter": "python",
   "pygments_lexer": "ipython2",
   "version": "2.7.11"
  }
 },
 "nbformat": 4,
 "nbformat_minor": 0
}
