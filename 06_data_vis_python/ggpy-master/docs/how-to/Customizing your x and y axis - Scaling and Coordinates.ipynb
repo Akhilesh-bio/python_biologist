{
 "cells": [
  {
   "cell_type": "code",
   "execution_count": null,
   "metadata": {},
   "outputs": [],
   "source": [
    "%matplotlib inline\n",
    "from ggplot import *\n",
    "import pandas as pd\n",
    "import numpy as np"
   ]
  },
  {
   "cell_type": "markdown",
   "metadata": {},
   "source": [
    "### Logarithmic Scales\n",
    "ggplot allows you to adjust both the x and y axis to use a logarithmic scale. The `scale_x_log` or `scale_y_log` can be added to any plot. You can also adjust the type of logarithm that is used by providing a `base` parameter (`i.e. scale_x_log(base=2) for natural log`) to the function. If not specified log base 10 will be used."
   ]
  },
  {
   "cell_type": "code",
   "execution_count": null,
   "metadata": {},
   "outputs": [],
   "source": [
    "diamonds.head()"
   ]
  },
  {
   "cell_type": "code",
   "execution_count": null,
   "metadata": {},
   "outputs": [],
   "source": [
    "ggplot(diamonds, aes(x='carat', y='price')) + geom_point()"
   ]
  },
  {
   "cell_type": "code",
   "execution_count": null,
   "metadata": {},
   "outputs": [],
   "source": [
    "ggplot(diamonds, aes(x='carat', y='price')) + \\\n",
    "    geom_point() + \\\n",
    "    scale_y_log()"
   ]
  },
  {
   "cell_type": "code",
   "execution_count": null,
   "metadata": {},
   "outputs": [],
   "source": []
  },
  {
   "cell_type": "code",
   "execution_count": null,
   "metadata": {},
   "outputs": [],
   "source": [
    "df = pd.DataFrame(dict(\n",
    "        x=np.arange(1, 1000)\n",
    "    ))\n",
    "df['y'] = np.log(df.x)\n",
    "df.head()"
   ]
  },
  {
   "cell_type": "code",
   "execution_count": null,
   "metadata": {},
   "outputs": [],
   "source": [
    "ggplot(df, aes(x='x', y='y')) + geom_point()"
   ]
  },
  {
   "cell_type": "code",
   "execution_count": null,
   "metadata": {},
   "outputs": [],
   "source": [
    "ggplot(df, aes(x='x', y='y')) + geom_point() + scale_x_log()"
   ]
  },
  {
   "cell_type": "markdown",
   "metadata": {},
   "source": [
    "### Reversing Axes\n",
    "If you find yourself in the position where you need to reverse an axis, you can do so using `scale_x_reverse` or `scale_y_reverse`."
   ]
  },
  {
   "cell_type": "code",
   "execution_count": null,
   "metadata": {},
   "outputs": [],
   "source": [
    "ggplot(mtcars, aes(x='mpg')) + geom_histogram() + scale_x_reverse()"
   ]
  },
  {
   "cell_type": "code",
   "execution_count": null,
   "metadata": {},
   "outputs": [],
   "source": [
    "ggplot(mtcars, aes(x='mpg')) + geom_histogram() + scale_y_reverse()"
   ]
  },
  {
   "cell_type": "markdown",
   "metadata": {},
   "source": [
    "### Changing Coordinate Systems\n",
    "You can switch between different coordinate systems using the `coord_*` family of layers. Just be careful that you're using the correct aesthetics! The available coordinate systems are:\n",
    "\n",
    "- `coord_equal`\n",
    "- `coord_flip`\n",
    "- `coord_polar`\n",
    "- `coord_cartesian` (this is the default, so you never explicitly invoke it)"
   ]
  },
  {
   "cell_type": "markdown",
   "metadata": {},
   "source": [
    "#### `coord_equal`\n",
    "`coord_equal` will make the x and y axes use the same scale. This is handy if you're comparing 2 variables together, or want a square-looking plot."
   ]
  },
  {
   "cell_type": "code",
   "execution_count": null,
   "metadata": {},
   "outputs": [],
   "source": [
    "ggplot(aes(x='beef', y='pork'), data=meat) + \\\n",
    "    geom_point() + \\\n",
    "    coord_equal()"
   ]
  },
  {
   "cell_type": "code",
   "execution_count": null,
   "metadata": {},
   "outputs": [],
   "source": [
    "ggplot(aes(x='beef', y='pork'), data=meat) + \\\n",
    "    geom_point() + \\\n",
    "    geom_abline(slope=1, intercept=0, color='teal') + \\\n",
    "    coord_equal()"
   ]
  },
  {
   "cell_type": "markdown",
   "metadata": {},
   "source": [
    "#### `coord_flip`\n",
    "`coord_flip` will make the x axis the y axis and vice-versa. So taking the plot we just made and flipping it would look like this."
   ]
  },
  {
   "cell_type": "code",
   "execution_count": null,
   "metadata": {},
   "outputs": [],
   "source": [
    "# sadly, this doesn't appear to work\n",
    "ggplot(aes(x='beef', y='pork'), data=meat) + \\\n",
    "    geom_point() + \\\n",
    "    coord_flip()"
   ]
  },
  {
   "cell_type": "markdown",
   "metadata": {},
   "source": [
    "#### `coord_polar`\n",
    "`coord_polar` uses a polar coordinate system instead of cartesian."
   ]
  },
  {
   "cell_type": "code",
   "execution_count": null,
   "metadata": {},
   "outputs": [],
   "source": [
    "df = pd.DataFrame({\"x\": np.arange(100)})\n",
    "df['y'] = df.x * 10\n",
    "df['z'] = [\"a\" if x%2==0 else \"b\" for x in df.x]\n",
    "\n",
    "# polar coords\n",
    "p = ggplot(df, aes(x='x', y='y')) + geom_point() + coord_polar()\n",
    "print p"
   ]
  },
  {
   "cell_type": "code",
   "execution_count": null,
   "metadata": {},
   "outputs": [],
   "source": [
    "ggplot(df, aes(x='x', y='y')) + geom_point() + geom_line() + coord_polar()"
   ]
  },
  {
   "cell_type": "code",
   "execution_count": null,
   "metadata": {},
   "outputs": [],
   "source": []
  }
 ],
 "metadata": {
  "kernelspec": {
   "display_name": "Python 2",
   "language": "python",
   "name": "python2"
  },
  "language_info": {
   "codemirror_mode": {
    "name": "ipython",
    "version": 2
   },
   "file_extension": ".py",
   "mimetype": "text/x-python",
   "name": "python",
   "nbconvert_exporter": "python",
   "pygments_lexer": "ipython2",
   "version": "2.7.11"
  }
 },
 "nbformat": 4,
 "nbformat_minor": 0
}
