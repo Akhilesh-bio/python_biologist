{
 "cells": [
  {
   "cell_type": "code",
   "execution_count": null,
   "metadata": {},
   "outputs": [],
   "source": [
    "%matplotlib inline\n",
    "from ggplot import *"
   ]
  },
  {
   "cell_type": "markdown",
   "metadata": {},
   "source": [
    "### Basics\n",
    "To make a scatter plot in ggplot, the first thing you'll need is a dataset. ggplot likes pandas DataFrames the best, so it is highly recommended that you load your data into pandas before starting to use ggplot.\n",
    "\n",
    "We'll use ggplot's built-in `mtcars` dataset for this set of examples."
   ]
  },
  {
   "cell_type": "code",
   "execution_count": null,
   "metadata": {},
   "outputs": [],
   "source": [
    "mtcars.head()"
   ]
  },
  {
   "cell_type": "markdown",
   "metadata": {},
   "source": [
    "#### Simple X/Y Plot\n",
    "The simplest plot you can make is an x/y plot. To do this in ggplot, first create a base layer using the `ggplot` function. Pass in your data and aesthetics that map columns in your DataFrame to `x` and `y`. In this case, we're going to look at the relationship between car weight (`wt`) and miles per gallon (`mpg`), so we'll set the x value of our aesthetics to `wt` and the y value to `mpg`.\n",
    "\n",
    "Once the aesthetics are defined, we just need to add a `geom_point` layer to our plot."
   ]
  },
  {
   "cell_type": "code",
   "execution_count": null,
   "metadata": {},
   "outputs": [],
   "source": [
    "p = ggplot(mtcars, aes(x='wt', y='mpg'))\n",
    "p + geom_point()"
   ]
  },
  {
   "cell_type": "markdown",
   "metadata": {},
   "source": [
    "#### Controlling other aesthetics\n",
    "In addition to the x and y variables, you can also control the shape, size, color, alpha (see throughness), and other \"aesthetics\" of your scatterplot. To do this, just include definitions for the aesthetic you'd like to control. For instance, let's set the color of each point in our graph to the acceleration (`qsec`) of each car."
   ]
  },
  {
   "cell_type": "code",
   "execution_count": null,
   "metadata": {},
   "outputs": [],
   "source": [
    "p = ggplot(mtcars, aes(x='wt', y='mpg', color='qsec')) + geom_point()\n",
    "print(p)"
   ]
  },
  {
   "cell_type": "markdown",
   "metadata": {},
   "source": [
    "#### Discrete Color\n",
    "Since `qsec` is a continuous variable you probably noticed that you got that nice, graduated legend on the right side of the last plot that indicated the value of each color. If you were to use a discrete variable such as `name` for the color, watch what happens.\n",
    "\n",
    "As you can see, each name is assigned its own color and displayed in the legend. This can get a bit unruly (especially if you're plotting a discrete value with hundreds of possible values) so be careful."
   ]
  },
  {
   "cell_type": "code",
   "execution_count": null,
   "metadata": {},
   "outputs": [],
   "source": [
    "p = ggplot(mtcars, aes(x='wt', y='mpg', color='name')) + geom_point()\n",
    "p"
   ]
  },
  {
   "cell_type": "markdown",
   "metadata": {},
   "source": [
    "You can also use the ggplot shorthand `factor` to discretize continuous variables. For example, let's change `cyl` from a numerical to a categorical variable."
   ]
  },
  {
   "cell_type": "code",
   "execution_count": null,
   "metadata": {},
   "outputs": [],
   "source": [
    "ggplot(mtcars, aes(x='wt', y='mpg', color='factor(cyl)')) + geom_point()"
   ]
  },
  {
   "cell_type": "markdown",
   "metadata": {},
   "source": [
    "#### Pro Tip\n",
    "Keep in mind that some aesthetics only work for continuous data, some only work for discrete data, and some work for both.\n",
    "\n",
    "For more on which aesthetics are best in certain situations, read the aesthetics API documentation."
   ]
  },
  {
   "cell_type": "code",
   "execution_count": null,
   "metadata": {},
   "outputs": [],
   "source": []
  }
 ],
 "metadata": {
  "kernelspec": {
   "display_name": "Python 2",
   "language": "python",
   "name": "python2"
  },
  "language_info": {
   "codemirror_mode": {
    "name": "ipython",
    "version": 2
   },
   "file_extension": ".py",
   "mimetype": "text/x-python",
   "name": "python",
   "nbconvert_exporter": "python",
   "pygments_lexer": "ipython2",
   "version": "2.7.11"
  }
 },
 "nbformat": 4,
 "nbformat_minor": 0
}
