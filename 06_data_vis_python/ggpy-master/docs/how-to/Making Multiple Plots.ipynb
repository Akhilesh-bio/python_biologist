{
 "cells": [
  {
   "cell_type": "code",
   "execution_count": null,
   "metadata": {},
   "outputs": [],
   "source": [
    "%matplotlib inline\n",
    "from ggplot import *"
   ]
  },
  {
   "cell_type": "markdown",
   "metadata": {},
   "source": [
    "### Making Multiple Plots\n",
    "Making multiple plots at the same time is easy in ggplot. Plots can either be show inline using the `print` function, the `__repr__` (what python prints out by default for something), or ggplot's `save` function.\n",
    "\n",
    "Since we're trying to make multiple plots, the `__repr__` example doesn't really appy here, so we'll be focusing on using `print` and `save` to make multiple plots."
   ]
  },
  {
   "cell_type": "markdown",
   "metadata": {},
   "source": [
    "Let's say you want to generate a histogram of price data for each type of diamond cut in the `diamonds` dataset. First thing you need to do is split your dataset up into groups. You can do this using the `groupby` function in `pandas`."
   ]
  },
  {
   "cell_type": "code",
   "execution_count": null,
   "metadata": {},
   "outputs": [],
   "source": [
    "for i, group in diamonds.groupby(\"cut\"):\n",
    "    print group.head()"
   ]
  },
  {
   "cell_type": "markdown",
   "metadata": {},
   "source": [
    "Now to create and render a plot for each one of these subgroups, just make a ggplot object add a `geom_histogram` layer, and then print the plot."
   ]
  },
  {
   "cell_type": "code",
   "execution_count": null,
   "metadata": {},
   "outputs": [],
   "source": [
    "for name, group in diamonds.groupby(\"cut\"):\n",
    "    p = ggplot(group, aes(x='price')) + geom_histogram() + ggtitle(name)\n",
    "    print(p)"
   ]
  },
  {
   "cell_type": "markdown",
   "metadata": {},
   "source": [
    "If you want to save the plots to a file instead, just use `save` instead of print."
   ]
  },
  {
   "cell_type": "code",
   "execution_count": null,
   "metadata": {},
   "outputs": [],
   "source": [
    "for name, group in diamonds.groupby(\"cut\"):\n",
    "    p = ggplot(group, aes(x='price')) + geom_histogram() + ggtitle(name)\n",
    "    filename = \"price-distribution-\" + name + \".png\"\n",
    "    p.save(filename)"
   ]
  },
  {
   "cell_type": "code",
   "execution_count": null,
   "metadata": {},
   "outputs": [],
   "source": []
  }
 ],
 "metadata": {
  "kernelspec": {
   "display_name": "Python 2",
   "language": "python",
   "name": "python2"
  },
  "language_info": {
   "codemirror_mode": {
    "name": "ipython",
    "version": 2
   },
   "file_extension": ".py",
   "mimetype": "text/x-python",
   "name": "python",
   "nbconvert_exporter": "python",
   "pygments_lexer": "ipython2",
   "version": "2.7.11"
  }
 },
 "nbformat": 4,
 "nbformat_minor": 0
}
