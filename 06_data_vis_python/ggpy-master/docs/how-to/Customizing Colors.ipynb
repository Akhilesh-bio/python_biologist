{
 "cells": [
  {
   "cell_type": "code",
   "execution_count": null,
   "metadata": {},
   "outputs": [],
   "source": [
    "%matplotlib inline\n",
    "from ggplot import *"
   ]
  },
  {
   "cell_type": "markdown",
   "metadata": {},
   "source": [
    "### Colors\n",
    "ggplot comes with a variety of \"scales\" that allow you to theme your plots and make them easier to interpret. In addition to the deafult color schemes that ggplot provides, there are also several color `scales` which allow you to specify more targeted \"palettes\" of colors to use in your plots."
   ]
  },
  {
   "cell_type": "markdown",
   "metadata": {},
   "source": [
    "#### `scale_color_brewer`\n",
    "`scale_color_brewer` provides sets of colors that are optimized for displaying data on maps. It comes from Cynthia Brewer's aptly named [Color Brewer](http://colorbrewer2.org/). Lucky for us, these palettes also look great on plots that aren't maps."
   ]
  },
  {
   "cell_type": "code",
   "execution_count": null,
   "metadata": {},
   "outputs": [],
   "source": [
    "ggplot(aes(x='carat', y='price', color='clarity'), data=diamonds) +\\\n",
    "    geom_point() +\\\n",
    "    scale_color_brewer(type='qual')"
   ]
  },
  {
   "cell_type": "code",
   "execution_count": null,
   "metadata": {},
   "outputs": [],
   "source": [
    "ggplot(aes(x='carat', y='price', color='clarity'), data=diamonds) + \\\n",
    "    geom_point() + \\\n",
    "    scale_color_brewer(type='seq')"
   ]
  },
  {
   "cell_type": "code",
   "execution_count": null,
   "metadata": {},
   "outputs": [],
   "source": [
    "ggplot(aes(x='carat', y='price', color='clarity'), data=diamonds) + \\\n",
    "    geom_point() + \\\n",
    "    scale_color_brewer(type='seq', palette=4)"
   ]
  },
  {
   "cell_type": "code",
   "execution_count": null,
   "metadata": {},
   "outputs": [],
   "source": [
    "ggplot(aes(x='carat', y='price', color='clarity'), data=diamonds) + \\\n",
    "    geom_point() + \\\n",
    "    scale_color_brewer(type='div', palette=5)"
   ]
  },
  {
   "cell_type": "markdown",
   "metadata": {},
   "source": [
    "#### `scale_color_gradient`\n",
    "`scale_color_gradient` allows you to create gradients of colors that can represent a spectrum of values. For instance, if you're displaying temperature data, you might want to have lower values be blue, hotter values be red, and middle values be somewhere in between. `scale_color_gradient` will calculate the colors each point should be--even those in between colors."
   ]
  },
  {
   "cell_type": "code",
   "execution_count": null,
   "metadata": {},
   "outputs": [],
   "source": [
    "import pandas as pd\n",
    "temperature = pd.DataFrame({\"celsius\": range(-88, 58)})\n",
    "temperature['farenheit'] = temperature.celsius*1.8 + 32\n",
    "temperature['kelvin'] = temperature.celsius + 273.15\n",
    "\n",
    "ggplot(temperature, aes(x='celsius', y='farenheit', color='kelvin')) + \\\n",
    "    geom_point() + \\\n",
    "    scale_color_gradient(low='blue', high='red')"
   ]
  },
  {
   "cell_type": "code",
   "execution_count": null,
   "metadata": {},
   "outputs": [],
   "source": [
    "ggplot(aes(x='x', y='y', color='z'), data=diamonds.head(1000)) +\\\n",
    "    geom_point() +\\\n",
    "    scale_color_gradient(low='red', high='white')"
   ]
  },
  {
   "cell_type": "code",
   "execution_count": null,
   "metadata": {},
   "outputs": [],
   "source": [
    "ggplot(aes(x='x', y='y', color='z'), data=diamonds.head(1000)) +\\\n",
    "    geom_point() +\\\n",
    "    scale_color_gradient(low='#05D9F6', high='#5011D1')"
   ]
  },
  {
   "cell_type": "code",
   "execution_count": null,
   "metadata": {},
   "outputs": [],
   "source": [
    "ggplot(aes(x='x', y='y', color='z'), data=diamonds.head(1000)) +\\\n",
    "    geom_point() +\\\n",
    "    scale_color_gradient(low='#E1FA72', high='#F46FEE')"
   ]
  },
  {
   "cell_type": "markdown",
   "metadata": {},
   "source": [
    "#### `scale_color_manual`\n",
    "Want to just specify the colors yourself? No problem, just use `scale_color_manual`. Add it to your plot as a layer and specify the colors you'd like using a list."
   ]
  },
  {
   "cell_type": "code",
   "execution_count": null,
   "metadata": {},
   "outputs": [],
   "source": [
    "my_colors = [\n",
    "    \"#ff7f50\",\n",
    "    \"#ff8b61\",\n",
    "    \"#ff9872\",\n",
    "    \"#ffa584\",\n",
    "    \"#ffb296\",\n",
    "    \"#ffbfa7\",\n",
    "    \"#ffcbb9\",\n",
    "    \"#ffd8ca\",\n",
    "    \"#ffe5dc\",\n",
    "    \"#fff2ed\"\n",
    "]\n",
    "ggplot(aes(x='carat', y='price', color='clarity'), data=diamonds) + \\\n",
    "    geom_point() + \\\n",
    "    scale_color_manual(values=my_colors)"
   ]
  },
  {
   "cell_type": "code",
   "execution_count": null,
   "metadata": {},
   "outputs": [],
   "source": [
    "# https://coolors.co/app/69a2b0-659157-a1c084-edb999-e05263\n",
    "ggplot(aes(x='carat', y='price', color='cut'), data=diamonds) + \\\n",
    "    geom_point() + \\\n",
    "    scale_color_manual(values=['#69A2B0', '#659157', '#A1C084', '#EDB999', '#E05263'])"
   ]
  },
  {
   "cell_type": "code",
   "execution_count": null,
   "metadata": {},
   "outputs": [],
   "source": []
  }
 ],
 "metadata": {
  "kernelspec": {
   "display_name": "Python 2",
   "language": "python",
   "name": "python2"
  },
  "language_info": {
   "codemirror_mode": {
    "name": "ipython",
    "version": 2
   },
   "file_extension": ".py",
   "mimetype": "text/x-python",
   "name": "python",
   "nbconvert_exporter": "python",
   "pygments_lexer": "ipython2",
   "version": "2.7.11"
  }
 },
 "nbformat": 4,
 "nbformat_minor": 0
}
