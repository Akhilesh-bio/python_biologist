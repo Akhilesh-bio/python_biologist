{
 "cells": [
  {
   "cell_type": "code",
   "execution_count": null,
   "metadata": {},
   "outputs": [],
   "source": [
    "%matplotlib inline\n",
    "from ggplot import *\n",
    "import pandas as pd"
   ]
  },
  {
   "cell_type": "code",
   "execution_count": null,
   "metadata": {},
   "outputs": [],
   "source": [
    "def get_color_swatch():\n",
    "    class gg_stub:\n",
    "        pass\n",
    "    return (gg_stub() + scale_color_brewer()).manual_color_list\n",
    "\n",
    "swatch = get_color_swatch()\n",
    "df = pd.DataFrame({\"x\": range(len(swatch)), \"y\": 1, \"swatch\": swatch })\n",
    "ggplot(df, aes(x='x', y='y', color='swatch')) + \\\n",
    "    geom_point(size=20000) + \\\n",
    "    scale_color_identity() + \\\n",
    "    xlim(-0.4, 2.4) + \\\n",
    "    ylim(0.98, 1.02)\n"
   ]
  },
  {
   "cell_type": "code",
   "execution_count": null,
   "metadata": {},
   "outputs": [],
   "source": []
  }
 ],
 "metadata": {
  "kernelspec": {
   "display_name": "Python 2",
   "language": "python",
   "name": "python2"
  },
  "language_info": {
   "codemirror_mode": {
    "name": "ipython",
    "version": 2
   },
   "file_extension": ".py",
   "mimetype": "text/x-python",
   "name": "python",
   "nbconvert_exporter": "python",
   "pygments_lexer": "ipython2",
   "version": "2.7.11"
  }
 },
 "nbformat": 4,
 "nbformat_minor": 0
}
