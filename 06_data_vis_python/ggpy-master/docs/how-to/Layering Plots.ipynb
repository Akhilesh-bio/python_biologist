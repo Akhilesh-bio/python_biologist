{
 "cells": [
  {
   "cell_type": "code",
   "execution_count": null,
   "metadata": {},
   "outputs": [],
   "source": [
    "%matplotlib inline\n",
    "from ggplot import *"
   ]
  },
  {
   "cell_type": "markdown",
   "metadata": {},
   "source": [
    "### Layers\n",
    "Layers are one of the most powerful aspects of ggplot. The idea is to think of your plot as containing different components, or layers, which when combined together make up the entire visual.\n",
    "\n",
    "Take the following example."
   ]
  },
  {
   "cell_type": "code",
   "execution_count": null,
   "metadata": {},
   "outputs": [],
   "source": [
    "ggplot(diamonds, aes(x='carat', y='price')) + geom_point() + ggtitle(\"Carat vs. Price\")"
   ]
  },
  {
   "cell_type": "markdown",
   "metadata": {},
   "source": [
    "The plot above shows a scatterplot comparing a diamon's carat and the price of the diamond. The plot is composed of 3 layers:\n",
    "\n",
    "- Base layer `ggplot(diamonds, aes(x='carat', y='price'))` -- This defines the dataset that's going to be plotted and the aesthetics (or instructions) to be used for defining the x and y axes.\n",
    "- Geom layer `geom_point()` -- This layer tells ggplot to render a scatter plot using the aesthetics and data defined in the base layer.\n",
    "- Labels layer `ggtitle(\"Carat vs. Price\")` -- This layer applies a title to the plot. There are lots of other labels and customizations you can do to your plots (`xlab`, `ylab`, etc.).\n",
    "\n",
    "You can continue to add more layers to your plot as there are more things you'd like to see. For instance, if I wanted to customize the x and y axis labels, I could do so by add 2 addition layers using `xlab` and `ylab`."
   ]
  },
  {
   "cell_type": "code",
   "execution_count": null,
   "metadata": {},
   "outputs": [],
   "source": [
    "ggplot(diamonds, aes(x='carat', y='price')) + \\\n",
    "    geom_point() + \\\n",
    "    ggtitle(\"Carat vs. Price\") + \\\n",
    "    xlab(\"         Carat\\n(1 carat = 200 mg)\") + \\\n",
    "    ylab(\"     Price\\n(2008 USD)\")"
   ]
  },
  {
   "cell_type": "markdown",
   "metadata": {},
   "source": [
    "In addition to adding labels you can also add additional \"geoms\", or plot types. For instance, let's add a linear trend-line to our plot using `stat_smooth`."
   ]
  },
  {
   "cell_type": "code",
   "execution_count": null,
   "metadata": {},
   "outputs": [],
   "source": [
    "ggplot(diamonds, aes(x='carat', y='price')) + \\\n",
    "    geom_point() + \\\n",
    "    stat_smooth(method='lm') + \\\n",
    "    ggtitle(\"Carat vs. Price\") + \\\n",
    "    xlab(\"         Carat\\n(1 carat = 200 mg)\") + \\\n",
    "    ylab(\"     Price\\n(2008 USD)\")"
   ]
  },
  {
   "cell_type": "markdown",
   "metadata": {},
   "source": [
    "It looks like there are some outlying points in our plot. Let's filter out some of those rows in our dataset by using `xlim` and `ylim`. By adding these layers, it'll cap the x and y axes with whatever values we tell it to."
   ]
  },
  {
   "cell_type": "code",
   "execution_count": null,
   "metadata": {},
   "outputs": [],
   "source": [
    "ggplot(diamonds, aes(x='carat', y='price')) + \\\n",
    "    geom_point() + \\\n",
    "    stat_smooth(method='lm') + \\\n",
    "    ggtitle(\"Carat vs. Price\") + \\\n",
    "    xlab(\"         Carat\\n(1 carat = 200 mg)\") + \\\n",
    "    ylab(\"     Price\\n(2008 USD)\") + \\\n",
    "    xlim(0, 3) + \\\n",
    "    ylim(0, 20000)"
   ]
  },
  {
   "cell_type": "markdown",
   "metadata": {},
   "source": [
    "Instead of building your ggplots with one big line of code, you can break them up into individual lines of code. To do this, use the `+` or `+=` operators to gradually tack on layers to your plot."
   ]
  },
  {
   "cell_type": "code",
   "execution_count": null,
   "metadata": {},
   "outputs": [],
   "source": [
    "p = ggplot(aes(x='mpg'), data=mtcars)\n",
    "p += geom_histogram()\n",
    "p += xlab(\"Miles per Gallon\")\n",
    "p += ylab(\"# of Cars\")\n",
    "p"
   ]
  },
  {
   "cell_type": "code",
   "execution_count": null,
   "metadata": {},
   "outputs": [],
   "source": []
  }
 ],
 "metadata": {
  "kernelspec": {
   "display_name": "Python 2",
   "language": "python",
   "name": "python2"
  },
  "language_info": {
   "codemirror_mode": {
    "name": "ipython",
    "version": 2
   },
   "file_extension": ".py",
   "mimetype": "text/x-python",
   "name": "python",
   "nbconvert_exporter": "python",
   "pygments_lexer": "ipython2",
   "version": "2.7.11"
  }
 },
 "nbformat": 4,
 "nbformat_minor": 0
}
