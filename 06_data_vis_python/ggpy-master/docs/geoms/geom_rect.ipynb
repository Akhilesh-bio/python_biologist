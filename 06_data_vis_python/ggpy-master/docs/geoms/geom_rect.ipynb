{
 "cells": [
  {
   "cell_type": "code",
   "execution_count": null,
   "metadata": {},
   "outputs": [],
   "source": [
    "%matplotlib inline\n",
    "from ggplot import *\n",
    "\n",
    "import pandas as pd\n",
    "import numpy as np"
   ]
  },
  {
   "cell_type": "code",
   "execution_count": null,
   "metadata": {},
   "outputs": [],
   "source": [
    "df = pd.DataFrame([{\"x\":2,\"y\":1,\"z\":\"1\",\"w\":4},{\"x\":5,\"y\":1,\"z\":\"1\",\"w\":2},{\"x\":7,\"y\":1,\"z\":\"2\",\"w\":2},{\"x\":9,\"y\":1,\"z\":\"2\",\"w\":2},{\"x\":12,\"y\":1,\"z\":\"3\",\"w\":4},{\"x\":2,\"y\":2,\"z\":\"3\",\"w\":4},{\"x\":5,\"y\":2,\"z\":\"4\",\"w\":2},{\"x\":7,\"y\":2,\"z\":\"4\",\"w\":2},{\"x\":9,\"y\":2,\"z\":\"5\",\"w\":2},{\"x\":12,\"y\":2,\"z\":\"5\",\"w\":4}])\n",
    "df.head()"
   ]
  },
  {
   "cell_type": "code",
   "execution_count": null,
   "metadata": {},
   "outputs": [],
   "source": [
    "p = ggplot(df, aes(xmin='x - w / 2', xmax='x + w / 2', ymin='y', ymax='y + 1', fill='z')) + geom_rect()\n",
    "print p"
   ]
  },
  {
   "cell_type": "code",
   "execution_count": null,
   "metadata": {},
   "outputs": [],
   "source": [
    "p = ggplot(df, aes(xmin='x - w / 2', xmax='x + w / 2', ymin='y', ymax='y + 1', fill='z')) + geom_rect(color='black')\n",
    "print(p)"
   ]
  },
  {
   "cell_type": "code",
   "execution_count": null,
   "metadata": {},
   "outputs": [],
   "source": [
    "p = ggplot(df, aes(xmin='x - w / 2', xmax='x + w / 2', ymin='y', ymax='y + 1', fill='z')) + \\\n",
    "    geom_rect(color='black') + \\\n",
    "    facet_wrap('w')\n",
    "print(p)"
   ]
  },
  {
   "cell_type": "code",
   "execution_count": null,
   "metadata": {},
   "outputs": [],
   "source": []
  }
 ],
 "metadata": {
  "kernelspec": {
   "display_name": "Python 2",
   "language": "python",
   "name": "python2"
  },
  "language_info": {
   "codemirror_mode": {
    "name": "ipython",
    "version": 2
   },
   "file_extension": ".py",
   "mimetype": "text/x-python",
   "name": "python",
   "nbconvert_exporter": "python",
   "pygments_lexer": "ipython2",
   "version": "2.7.11"
  }
 },
 "nbformat": 4,
 "nbformat_minor": 0
}
