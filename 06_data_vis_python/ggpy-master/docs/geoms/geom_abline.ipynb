{
 "cells": [
  {
   "cell_type": "code",
   "execution_count": null,
   "metadata": {},
   "outputs": [],
   "source": [
    "from ggplot import *\n",
    "%matplotlib inline"
   ]
  },
  {
   "cell_type": "code",
   "execution_count": null,
   "metadata": {},
   "outputs": [],
   "source": [
    "pigeons.head()"
   ]
  },
  {
   "cell_type": "code",
   "execution_count": null,
   "metadata": {},
   "outputs": [],
   "source": [
    "ggplot(pigeons, aes(x='pos', y='speed')) + \\\n",
    "    geom_point() + \\\n",
    "    geom_abline()"
   ]
  },
  {
   "cell_type": "code",
   "execution_count": null,
   "metadata": {},
   "outputs": [],
   "source": [
    "ggplot(pigeons, aes(x='pos', y='speed')) + \\\n",
    "    geom_point() + \\\n",
    "    geom_abline(slope=-1)"
   ]
  },
  {
   "cell_type": "code",
   "execution_count": null,
   "metadata": {},
   "outputs": [],
   "source": [
    "ggplot(pigeons, aes(x='pos', y='speed')) + \\\n",
    "    geom_point() + \\\n",
    "    geom_abline(slope=(180.-80.)/(-100-400), color='DodgerBlue')"
   ]
  },
  {
   "cell_type": "code",
   "execution_count": null,
   "metadata": {},
   "outputs": [],
   "source": [
    "ggplot(pigeons, aes(x='pos', y='speed')) + \\\n",
    "    geom_point() + \\\n",
    "    geom_abline(slope=(180.-80.)/(-100-400), intercept=170, color='DodgerBlue')"
   ]
  },
  {
   "cell_type": "code",
   "execution_count": null,
   "metadata": {},
   "outputs": [],
   "source": [
    "ggplot(mtcars, aes(x='wt', y='mpg', color='factor(cyl)')) + \\\n",
    "    geom_point() + \\\n",
    "    geom_abline(slope=-8, intercept=45)"
   ]
  },
  {
   "cell_type": "code",
   "execution_count": null,
   "metadata": {},
   "outputs": [],
   "source": [
    "ggplot(diamonds, aes(x='carat', y='price')) + geom_point()"
   ]
  },
  {
   "cell_type": "code",
   "execution_count": null,
   "metadata": {},
   "outputs": [],
   "source": [
    "ggplot(diamonds, aes(x='carat', y='price')) + \\\n",
    "    geom_point(color='PapayaWhip') + \\\n",
    "    geom_abline(slope=5000)"
   ]
  },
  {
   "cell_type": "code",
   "execution_count": null,
   "metadata": {},
   "outputs": [],
   "source": [
    "ggplot(diamonds, aes(x='carat', y='price')) + \\\n",
    "    geom_point(color='PeachPuff') + \\\n",
    "    geom_abline(slope=5000, color='OliveDrab') + \\\n",
    "    geom_abline(slope=6000, color='Tomato') + \\\n",
    "    geom_abline(slope=7000, color='SaddleBrown')"
   ]
  },
  {
   "cell_type": "code",
   "execution_count": null,
   "metadata": {},
   "outputs": [],
   "source": []
  }
 ],
 "metadata": {
  "kernelspec": {
   "display_name": "Python 2",
   "language": "python",
   "name": "python2"
  },
  "language_info": {
   "codemirror_mode": {
    "name": "ipython",
    "version": 2
   },
   "file_extension": ".py",
   "mimetype": "text/x-python",
   "name": "python",
   "nbconvert_exporter": "python",
   "pygments_lexer": "ipython2",
   "version": "2.7.11"
  }
 },
 "nbformat": 4,
 "nbformat_minor": 0
}
