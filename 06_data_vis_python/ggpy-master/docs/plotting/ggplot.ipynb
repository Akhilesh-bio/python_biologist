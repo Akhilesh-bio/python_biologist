{
 "cells": [
  {
   "cell_type": "code",
   "execution_count": null,
   "metadata": {},
   "outputs": [],
   "source": [
    "%matplotlib inline\n",
    "from ggplot import *"
   ]
  },
  {
   "cell_type": "markdown",
   "metadata": {},
   "source": [
    "### `ggplot`\n",
    "`ggplot` is the base layer or object that you use to define\n",
    "the components of your chart (x and y axis, shapes, colors, etc.).\n",
    "You can combine it with layers (or geoms) to make complex graphics\n",
    "with minimal effort. `ggplot` has 2 parameters:\n",
    "\n",
    "- (1) What data is going to be used for your plot _(the data frame being used)_\n",
    "- (2) How that data is going to be displayed _(the aesthetics)_\n",
    "\n",
    "You can add layers to `ggplot` to build up your plot. For the example below we'll start with a `ggplot` that has the `x` aesthetic defined as the `price` column from the `diamonds` dataset. We'll then add a `geom_histogram` to it and then finally add `scale_x_continuous` to customize the x-axis."
   ]
  },
  {
   "cell_type": "code",
   "execution_count": null,
   "metadata": {},
   "outputs": [],
   "source": [
    "p = ggplot(aes(x='price'), data=diamonds)"
   ]
  },
  {
   "cell_type": "code",
   "execution_count": null,
   "metadata": {},
   "outputs": [],
   "source": [
    "p + geom_histogram()"
   ]
  },
  {
   "cell_type": "code",
   "execution_count": null,
   "metadata": {},
   "outputs": [],
   "source": [
    "p + geom_histogram() + scale_x_continuous(\"Price ($)\", breaks=[0, 10000, 20000])"
   ]
  },
  {
   "cell_type": "code",
   "execution_count": null,
   "metadata": {},
   "outputs": [],
   "source": []
  }
 ],
 "metadata": {
  "kernelspec": {
   "display_name": "Python 2",
   "language": "python",
   "name": "python2"
  },
  "language_info": {
   "codemirror_mode": {
    "name": "ipython",
    "version": 2
   },
   "file_extension": ".py",
   "mimetype": "text/x-python",
   "name": "python",
   "nbconvert_exporter": "python",
   "pygments_lexer": "ipython2",
   "version": "2.7.11"
  }
 },
 "nbformat": 4,
 "nbformat_minor": 0
}
