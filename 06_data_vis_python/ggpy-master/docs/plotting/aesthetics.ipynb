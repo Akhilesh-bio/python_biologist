{
 "cells": [
  {
   "cell_type": "code",
   "execution_count": null,
   "metadata": {},
   "outputs": [],
   "source": [
    "from ggplot import *\n",
    "%matplotlib inline"
   ]
  },
  {
   "cell_type": "markdown",
   "metadata": {},
   "source": [
    "### Aesthetics\n",
    "Aesthetics describe how your data will relate to your plots. Some common aesthetics are: `x`, `y`, and `color`. Aesthetics are specific to the type of plot (or layer) you're adding to your visual. For example, a scatterplot (`geom_point`) and a line (`geom_line`) will share `x` and `y`, but only a line chart has a `linetype` aesthetic.\n",
    "\n",
    "Aesthetics are specific to geoms, but here is a list of all of them:\n",
    "\n",
    "- `x` : x-axis value. Can be used for continuous (point, line) charts and for discrete (bar, histogram) charts.\n",
    "- `y` : y-axis value. Can be used for continuous charts only\n",
    "- `color` : color of a layer. Can be continuous or discrete. If continuous, this will be given a color gradient between 2 colors.\n",
    "- `shape` : shape of a point. Can be used only with geom_point\n",
    "- `size` : size of a point or line. Used to give a relative size for a continuous value\n",
    "- `alpha` : transparency level of a point. Number between 0 and 1. Only supported for hard coded values.\n",
    "- `ymin` : min value for a vertical line or a range of points. See geom_area, geom_ribbon, geom_vline\n",
    "- `ymax` : max value for a vertical line or a range of points. See geom_area, geom_ribbon, geom_vline\n",
    "- `xmin` : min value for a horizonal line. Specific to geom_hline\n",
    "- `xmax` : max value for a horizonal line. Specific to geom_hline\n",
    "- `slope` : slope of an abline. Specific to geom_abline\n",
    "- `intercept` : intercept of an abline. Specific to geom_abline\n"
   ]
  },
  {
   "cell_type": "code",
   "execution_count": null,
   "metadata": {},
   "outputs": [],
   "source": [
    "# set the x-axis equal to the `date` column and the y-axis equal to the `beef` column\n",
    "my_aes = aes(x='date', y='beef')\n",
    "my_aes"
   ]
  },
  {
   "cell_type": "code",
   "execution_count": null,
   "metadata": {},
   "outputs": [],
   "source": [
    "ggplot(meat, my_aes) + geom_line()"
   ]
  },
  {
   "cell_type": "code",
   "execution_count": null,
   "metadata": {},
   "outputs": [],
   "source": [
    "# normally, aes are defined within the `ggplot` constructor\n",
    "ggplot(aes(x='carat', y='price'), diamonds) + geom_point()"
   ]
  },
  {
   "cell_type": "code",
   "execution_count": null,
   "metadata": {},
   "outputs": [],
   "source": [
    "# adding in another aesthetic into the mix...\n",
    "ggplot(aes(x='carat', y='price', color='clarity'), diamonds) + geom_point()"
   ]
  },
  {
   "cell_type": "code",
   "execution_count": null,
   "metadata": {},
   "outputs": [],
   "source": []
  }
 ],
 "metadata": {
  "kernelspec": {
   "display_name": "Python 2",
   "language": "python",
   "name": "python2"
  },
  "language_info": {
   "codemirror_mode": {
    "name": "ipython",
    "version": 2
   },
   "file_extension": ".py",
   "mimetype": "text/x-python",
   "name": "python",
   "nbconvert_exporter": "python",
   "pygments_lexer": "ipython2",
   "version": "2.7.11"
  }
 },
 "nbformat": 4,
 "nbformat_minor": 0
}
