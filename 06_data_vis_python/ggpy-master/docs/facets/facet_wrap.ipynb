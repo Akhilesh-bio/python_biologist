{
 "cells": [
  {
   "cell_type": "code",
   "execution_count": null,
   "metadata": {},
   "outputs": [],
   "source": [
    "%matplotlib inline\n",
    "from ggplot import *"
   ]
  },
  {
   "cell_type": "markdown",
   "metadata": {},
   "source": [
    "### `facet_wrap`\n",
    "Parameters\n",
    "- `first facet`\n",
    "- `second facet` (optional)\n",
    "- `nrow`- number of rows\n",
    "- `ncol`- number of columns\n",
    "- `scales` (\"fixed\" (default), \"free\", \"free_x\", \"free_y\")"
   ]
  },
  {
   "cell_type": "code",
   "execution_count": null,
   "metadata": {},
   "outputs": [],
   "source": [
    "ggplot(diamonds, aes(x='price')) + \\\n",
    "    geom_histogram() + \\\n",
    "    facet_wrap(\"cut\")"
   ]
  },
  {
   "cell_type": "code",
   "execution_count": null,
   "metadata": {},
   "outputs": [],
   "source": [
    "ggplot(diamonds, aes(x='price')) + \\\n",
    "    geom_histogram() + \\\n",
    "    facet_wrap(\"cut\", \"clarity\")"
   ]
  },
  {
   "cell_type": "code",
   "execution_count": null,
   "metadata": {},
   "outputs": [],
   "source": [
    "chopsticks.head()"
   ]
  },
  {
   "cell_type": "code",
   "execution_count": null,
   "metadata": {},
   "outputs": [],
   "source": [
    "ggplot(chopsticks, aes(x='chopstick_length', y='food_pinching_effeciency')) + \\\n",
    "    geom_point() + \\\n",
    "    facet_wrap(\"individual\")"
   ]
  },
  {
   "cell_type": "code",
   "execution_count": null,
   "metadata": {},
   "outputs": [],
   "source": [
    "ggplot(chopsticks, aes(x='chopstick_length', y='food_pinching_effeciency')) + \\\n",
    "    geom_point() + \\\n",
    "    facet_wrap(\"individual\", nrow=10)"
   ]
  },
  {
   "cell_type": "code",
   "execution_count": null,
   "metadata": {},
   "outputs": [],
   "source": [
    "ggplot(chopsticks, aes(x='chopstick_length', y='food_pinching_effeciency')) + \\\n",
    "    geom_point() + \\\n",
    "    facet_wrap(\"individual\", ncol=10)"
   ]
  },
  {
   "cell_type": "code",
   "execution_count": null,
   "metadata": {},
   "outputs": [],
   "source": [
    "ggplot(chopsticks, aes(x='chopstick_length', y='food_pinching_effeciency')) + \\\n",
    "    geom_point() + \\\n",
    "    geom_line() + \\\n",
    "    facet_wrap(\"individual\")"
   ]
  },
  {
   "cell_type": "code",
   "execution_count": null,
   "metadata": {},
   "outputs": [],
   "source": [
    "ggplot(chopsticks, aes(x='chopstick_length', y='food_pinching_effeciency')) + \\\n",
    "    geom_point() + \\\n",
    "    geom_line() + \\\n",
    "    scale_x_continuous(breaks=[150, 250, 350]) + \\\n",
    "    facet_wrap(\"individual\")"
   ]
  },
  {
   "cell_type": "code",
   "execution_count": null,
   "metadata": {},
   "outputs": [],
   "source": []
  }
 ],
 "metadata": {
  "kernelspec": {
   "display_name": "Python 2",
   "language": "python",
   "name": "python2"
  },
  "language_info": {
   "codemirror_mode": {
    "name": "ipython",
    "version": 2
   },
   "file_extension": ".py",
   "mimetype": "text/x-python",
   "name": "python",
   "nbconvert_exporter": "python",
   "pygments_lexer": "ipython2",
   "version": "2.7.11"
  }
 },
 "nbformat": 4,
 "nbformat_minor": 0
}
