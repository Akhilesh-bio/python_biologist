{
 "cells": [
  {
   "cell_type": "code",
   "execution_count": null,
   "metadata": {},
   "outputs": [],
   "source": [
    "%matplotlib inline\n",
    "from ggplot import *\n",
    "import pandas as pd"
   ]
  },
  {
   "cell_type": "markdown",
   "metadata": {},
   "source": [
    "### `facet_grid`\n",
    "Parameters\n",
    "- `first facet`\n",
    "- `second facet` (optional)\n",
    "- `scales` (\"fixed\" (default), \"free\", \"free_x\", \"free_y\")"
   ]
  },
  {
   "cell_type": "code",
   "execution_count": null,
   "metadata": {},
   "outputs": [],
   "source": [
    "ggplot(diamonds, aes(x='price')) + \\\n",
    "    geom_histogram() + \\\n",
    "    facet_grid(\"cut\")"
   ]
  },
  {
   "cell_type": "code",
   "execution_count": null,
   "metadata": {},
   "outputs": [],
   "source": [
    "ggplot(diamonds, aes(x='price')) + \\\n",
    "    geom_histogram() + \\\n",
    "    facet_grid(\"cut\", \"clarity\")"
   ]
  },
  {
   "cell_type": "code",
   "execution_count": null,
   "metadata": {},
   "outputs": [],
   "source": [
    "chopsticks.head()"
   ]
  },
  {
   "cell_type": "code",
   "execution_count": null,
   "metadata": {},
   "outputs": [],
   "source": [
    "ggplot(chopsticks, aes(x='chopstick_length', y='food_pinching_effeciency')) + \\\n",
    "    geom_point() + \\\n",
    "    facet_grid(\"individual\")"
   ]
  },
  {
   "cell_type": "code",
   "execution_count": null,
   "metadata": {},
   "outputs": [],
   "source": [
    "meat_lng = pd.melt(meat[['date', 'beef', 'pork', 'veal']], id_vars=['date'])\n",
    "\n",
    "ggplot(meat_lng, aes(x='value')) + \\\n",
    "    geom_histogram() + \\\n",
    "    facet_grid(\"variable\")"
   ]
  },
  {
   "cell_type": "code",
   "execution_count": null,
   "metadata": {},
   "outputs": [],
   "source": [
    "ggplot(meat_lng, aes(x='value')) + \\\n",
    "    geom_histogram() + \\\n",
    "    facet_grid(None, \"variable\")"
   ]
  },
  {
   "cell_type": "code",
   "execution_count": null,
   "metadata": {},
   "outputs": [],
   "source": [
    "ggplot(meat_lng, aes(x='value')) + \\\n",
    "    geom_density() + \\\n",
    "    facet_grid(None, \"variable\")"
   ]
  },
  {
   "cell_type": "code",
   "execution_count": null,
   "metadata": {},
   "outputs": [],
   "source": [
    "ggplot(meat_lng, aes(x='value')) + \\\n",
    "    geom_density() + \\\n",
    "    facet_grid(\"variable\")"
   ]
  },
  {
   "cell_type": "code",
   "execution_count": null,
   "metadata": {},
   "outputs": [],
   "source": []
  }
 ],
 "metadata": {
  "kernelspec": {
   "display_name": "Python 2",
   "language": "python",
   "name": "python2"
  },
  "language_info": {
   "codemirror_mode": {
    "name": "ipython",
    "version": 2
   },
   "file_extension": ".py",
   "mimetype": "text/x-python",
   "name": "python",
   "nbconvert_exporter": "python",
   "pygments_lexer": "ipython2",
   "version": "2.7.11"
  }
 },
 "nbformat": 4,
 "nbformat_minor": 0
}
