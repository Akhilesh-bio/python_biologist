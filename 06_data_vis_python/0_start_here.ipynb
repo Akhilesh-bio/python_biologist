{
 "cells": [
  {
   "cell_type": "markdown",
   "metadata": {},
   "source": [
    "# Python Data Visualization"
   ]
  },
  {
   "cell_type": "markdown",
   "metadata": {},
   "source": [
    "---"
   ]
  },
  {
   "cell_type": "markdown",
   "metadata": {},
   "source": [
    "## Python Graph Gallery\n",
    "\n",
    "[Python Graph Gallery](https://python-graph-gallery.com)"
   ]
  },
  {
   "cell_type": "markdown",
   "metadata": {},
   "source": [
    "---"
   ]
  },
  {
   "cell_type": "markdown",
   "metadata": {},
   "source": [
    "### Type of visualization\n",
    "\n",
    "- Static\n",
    "    - [matplotlib](1_mpl_viz.ipynb)\n",
    "    - [pandas](2_pandas_viz.ipynb)\n",
    "    - [seaborn](3_seaborn_viz.ipynb)\n",
    "    - ggplot (Grammer of Graphics)\n",
    "\n",
    "\n",
    "- Dynamic\n",
    "    - [bokeh](https://bokeh.pydata.org/)\n",
    "        - [bokeh Gallery](https://bokeh.pydata.org/en/latest/docs/gallery.html)\n",
    "        - [bokeh Gapminder Example](https://demo.bokehplots.com/apps/gapminder)\n",
    "\n",
    "\n",
    "\n",
    "- Declarative Visualization\n",
    "    - [Altair]()\n",
    "        - [Altair Gallery](https://altair-viz.github.io/gallery/index.html) "
   ]
  },
  {
   "cell_type": "code",
   "execution_count": null,
   "metadata": {},
   "outputs": [],
   "source": []
  }
 ],
 "metadata": {
  "kernelspec": {
   "display_name": "Python 3",
   "language": "python",
   "name": "python3"
  },
  "language_info": {
   "codemirror_mode": {
    "name": "ipython",
    "version": 3
   },
   "file_extension": ".py",
   "mimetype": "text/x-python",
   "name": "python",
   "nbconvert_exporter": "python",
   "pygments_lexer": "ipython3",
   "version": "3.6.3"
  }
 },
 "nbformat": 4,
 "nbformat_minor": 2
}
